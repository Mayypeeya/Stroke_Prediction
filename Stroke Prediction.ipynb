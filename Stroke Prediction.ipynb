{
 "cells": [
  {
   "cell_type": "markdown",
   "metadata": {
    "id": "sjt-UcUnYK9I"
   },
   "source": [
    "# <span style='background :#D6DBDF ' > **Topic: Stroke Prediction**"
   ]
  },
  {
   "cell_type": "markdown",
   "metadata": {
    "id": "mfL13G1074-H"
   },
   "source": [
    "#### Overview\n",
    "1. Purpose\n",
    "2. Data and python packages importing\n",
    "3. Data cleaning process\n",
    "4. Exploratory Data Analysis (EDA)<br>\n",
    "    4.1 Categories Data<br>\n",
    "    4.2 Continuous data\n",
    "5. Data Preprocessing (Encoding)<br>\n",
    "    5.1 Binary Categories<br>\n",
    "    5.2 Multicategory:  One-Hot encoding<br>\n",
    "    5.3 Assign binany category and multi-category to new dataframe \"df_preProcess\"\n",
    "6. Feature selection<br>\n",
    "    6.1 Pearson Correlation<br>\n",
    "    6.2 Final Dateset<br>\n",
    "7. Splitting the dataset into the Training set (80%) and Test set (20%)\n",
    "8. Feature Scaling with StandardScaler\n",
    "9. Handling Imbalance data using SMOTE\n",
    "10. Model Selection<br>\n",
    "    10.1 K-Fold Cross Validation<br>\n",
    "    10.2 Confusion matrix<br>\n",
    "    10.3 Sammary Model Selection\n",
    "11. Tuning the Models\n",
    "    "
   ]
  },
  {
   "cell_type": "markdown",
   "metadata": {
    "id": "qPRkghsv74-I"
   },
   "source": [
    "# <font color=\"MidnightBlue\">1. Purpose"
   ]
  },
  {
   "cell_type": "markdown",
   "metadata": {
    "id": "0_49quvZ74-J"
   },
   "source": [
    "To predict the "
   ]
  },
  {
   "cell_type": "markdown",
   "metadata": {
    "id": "O7a1jTgR74-K"
   },
   "source": [
    "# <font color=\"MidnightBlue\">2. Data and Python packages importing"
   ]
  },
  {
   "cell_type": "code",
   "execution_count": 115,
   "metadata": {
    "executionInfo": {
     "elapsed": 613,
     "status": "ok",
     "timestamp": 1662223462164,
     "user": {
      "displayName": "Anyamanee",
      "userId": "12687195745778250975"
     },
     "user_tz": -420
    },
    "id": "sSlc8QvveCPE"
   },
   "outputs": [],
   "source": [
    "import pandas as pd\n",
    "import numpy as np\n",
    "import seaborn as sns\n",
    "import matplotlib.pyplot as plt\n",
    "from sklearn.metrics import confusion_matrix,plot_confusion_matrix\n",
    "from sklearn.model_selection import train_test_split\n",
    "from sklearn.compose import ColumnTransformer\n",
    "from sklearn.datasets import fetch_openml\n",
    "from sklearn.pipeline import Pipeline\n",
    "from sklearn.preprocessing import StandardScaler, OneHotEncoder, OrdinalEncoder\n",
    "from imblearn.over_sampling import SMOTE\n",
    "from numpy import mean\n",
    "from numpy import isnan\n",
    "from numpy import asarray\n",
    "from numpy import polyfit\n",
    "from scipy.stats import pearsonr\n",
    "from matplotlib import pyplot\n",
    "from sklearn.datasets import make_classification\n",
    "from sklearn.model_selection import KFold\n",
    "from sklearn.model_selection import LeaveOneOut\n",
    "from sklearn.model_selection import cross_val_score\n",
    "#Model\n",
    "from sklearn.linear_model import LogisticRegression\n",
    "from sklearn.linear_model import RidgeClassifier\n",
    "from sklearn.linear_model import SGDClassifier\n",
    "from sklearn.neighbors import KNeighborsClassifier\n",
    "from sklearn.tree import DecisionTreeClassifier\n",
    "from sklearn.tree import ExtraTreeClassifier\n",
    "from sklearn.svm import LinearSVC\n",
    "from sklearn.svm import SVC\n",
    "from sklearn.naive_bayes import GaussianNB\n",
    "from sklearn.ensemble import RandomForestClassifier\n",
    "from sklearn.ensemble import ExtraTreesClassifier\n",
    "from xgboost import XGBClassifier\n",
    "from sklearn.model_selection import GridSearchCV\n",
    "from sklearn.linear_model import LogisticRegression\n",
    "from sklearn.model_selection import cross_val_score\n",
    "from sklearn.metrics import classification_report"
   ]
  },
  {
   "cell_type": "code",
   "execution_count": 4,
   "metadata": {
    "colab": {
     "base_uri": "https://localhost:8080/",
     "height": 206
    },
    "executionInfo": {
     "elapsed": 30,
     "status": "ok",
     "timestamp": 1662223462737,
     "user": {
      "displayName": "Anyamanee",
      "userId": "12687195745778250975"
     },
     "user_tz": -420
    },
    "id": "IVoZHlwycjVx",
    "outputId": "1078ca4b-5689-4d04-c0c6-a25fb0a78a10"
   },
   "outputs": [
    {
     "data": {
      "text/html": [
       "<div>\n",
       "<style scoped>\n",
       "    .dataframe tbody tr th:only-of-type {\n",
       "        vertical-align: middle;\n",
       "    }\n",
       "\n",
       "    .dataframe tbody tr th {\n",
       "        vertical-align: top;\n",
       "    }\n",
       "\n",
       "    .dataframe thead th {\n",
       "        text-align: right;\n",
       "    }\n",
       "</style>\n",
       "<table border=\"1\" class=\"dataframe\">\n",
       "  <thead>\n",
       "    <tr style=\"text-align: right;\">\n",
       "      <th></th>\n",
       "      <th>id</th>\n",
       "      <th>gender</th>\n",
       "      <th>age</th>\n",
       "      <th>hypertension</th>\n",
       "      <th>heart_disease</th>\n",
       "      <th>ever_married</th>\n",
       "      <th>work_type</th>\n",
       "      <th>Residence_type</th>\n",
       "      <th>avg_glucose_level</th>\n",
       "      <th>bm</th>\n",
       "      <th>smoking_status</th>\n",
       "      <th>stroke</th>\n",
       "    </tr>\n",
       "  </thead>\n",
       "  <tbody>\n",
       "    <tr>\n",
       "      <th>0</th>\n",
       "      <td>9046</td>\n",
       "      <td>Male</td>\n",
       "      <td>67.0</td>\n",
       "      <td>0</td>\n",
       "      <td>1</td>\n",
       "      <td>Yes</td>\n",
       "      <td>Private</td>\n",
       "      <td>Urban</td>\n",
       "      <td>228.69</td>\n",
       "      <td>36.6</td>\n",
       "      <td>formerly smoked</td>\n",
       "      <td>1</td>\n",
       "    </tr>\n",
       "    <tr>\n",
       "      <th>1</th>\n",
       "      <td>51676</td>\n",
       "      <td>Female</td>\n",
       "      <td>61.0</td>\n",
       "      <td>0</td>\n",
       "      <td>0</td>\n",
       "      <td>Yes</td>\n",
       "      <td>Self-employed</td>\n",
       "      <td>Rural</td>\n",
       "      <td>202.21</td>\n",
       "      <td>NaN</td>\n",
       "      <td>never smoked</td>\n",
       "      <td>1</td>\n",
       "    </tr>\n",
       "    <tr>\n",
       "      <th>2</th>\n",
       "      <td>31112</td>\n",
       "      <td>Male</td>\n",
       "      <td>80.0</td>\n",
       "      <td>0</td>\n",
       "      <td>1</td>\n",
       "      <td>Yes</td>\n",
       "      <td>Private</td>\n",
       "      <td>Rural</td>\n",
       "      <td>105.92</td>\n",
       "      <td>32.5</td>\n",
       "      <td>never smoked</td>\n",
       "      <td>1</td>\n",
       "    </tr>\n",
       "    <tr>\n",
       "      <th>3</th>\n",
       "      <td>60182</td>\n",
       "      <td>Female</td>\n",
       "      <td>49.0</td>\n",
       "      <td>0</td>\n",
       "      <td>0</td>\n",
       "      <td>Yes</td>\n",
       "      <td>Private</td>\n",
       "      <td>Urban</td>\n",
       "      <td>171.23</td>\n",
       "      <td>34.4</td>\n",
       "      <td>smokes</td>\n",
       "      <td>1</td>\n",
       "    </tr>\n",
       "    <tr>\n",
       "      <th>4</th>\n",
       "      <td>1665</td>\n",
       "      <td>Female</td>\n",
       "      <td>79.0</td>\n",
       "      <td>1</td>\n",
       "      <td>0</td>\n",
       "      <td>Yes</td>\n",
       "      <td>Self-employed</td>\n",
       "      <td>Rural</td>\n",
       "      <td>174.12</td>\n",
       "      <td>24.0</td>\n",
       "      <td>never smoked</td>\n",
       "      <td>1</td>\n",
       "    </tr>\n",
       "  </tbody>\n",
       "</table>\n",
       "</div>"
      ],
      "text/plain": [
       "      id  gender   age  hypertension  heart_disease ever_married  \\\n",
       "0   9046    Male  67.0             0              1          Yes   \n",
       "1  51676  Female  61.0             0              0          Yes   \n",
       "2  31112    Male  80.0             0              1          Yes   \n",
       "3  60182  Female  49.0             0              0          Yes   \n",
       "4   1665  Female  79.0             1              0          Yes   \n",
       "\n",
       "       work_type Residence_type  avg_glucose_level    bm   smoking_status  \\\n",
       "0        Private          Urban             228.69  36.6  formerly smoked   \n",
       "1  Self-employed          Rural             202.21   NaN     never smoked   \n",
       "2        Private          Rural             105.92  32.5     never smoked   \n",
       "3        Private          Urban             171.23  34.4           smokes   \n",
       "4  Self-employed          Rural             174.12  24.0     never smoked   \n",
       "\n",
       "   stroke  \n",
       "0       1  \n",
       "1       1  \n",
       "2       1  \n",
       "3       1  \n",
       "4       1  "
      ]
     },
     "execution_count": 4,
     "metadata": {},
     "output_type": "execute_result"
    }
   ],
   "source": [
    "df = pd.read_csv(\"https://raw.githubusercontent.com/anyamanee/stroke_prediction/main/healthcare-dataset-stroke-data.csv\")\n",
    "df.head()"
   ]
  },
  {
   "cell_type": "markdown",
   "metadata": {
    "id": "XHxJqr4P74-Q"
   },
   "source": [
    "# <font color=\"MidnightBlue\">3. Data cleaning process"
   ]
  },
  {
   "cell_type": "code",
   "execution_count": 5,
   "metadata": {
    "colab": {
     "base_uri": "https://localhost:8080/"
    },
    "executionInfo": {
     "elapsed": 28,
     "status": "ok",
     "timestamp": 1662223462738,
     "user": {
      "displayName": "Anyamanee",
      "userId": "12687195745778250975"
     },
     "user_tz": -420
    },
    "id": "h5--HAvfeUas",
    "outputId": "c485ad9e-9d76-44b2-a76d-6b05a5805119"
   },
   "outputs": [
    {
     "name": "stdout",
     "output_type": "stream",
     "text": [
      "<class 'pandas.core.frame.DataFrame'>\n",
      "RangeIndex: 5110 entries, 0 to 5109\n",
      "Data columns (total 12 columns):\n",
      " #   Column             Non-Null Count  Dtype  \n",
      "---  ------             --------------  -----  \n",
      " 0   id                 5110 non-null   int64  \n",
      " 1   gender             5110 non-null   object \n",
      " 2   age                5110 non-null   float64\n",
      " 3   hypertension       5110 non-null   int64  \n",
      " 4   heart_disease      5110 non-null   int64  \n",
      " 5   ever_married       5110 non-null   object \n",
      " 6   work_type          5110 non-null   object \n",
      " 7   Residence_type     5110 non-null   object \n",
      " 8   avg_glucose_level  5110 non-null   float64\n",
      " 9   bm                 4909 non-null   float64\n",
      " 10  smoking_status     5110 non-null   object \n",
      " 11  stroke             5110 non-null   int64  \n",
      "dtypes: float64(3), int64(4), object(5)\n",
      "memory usage: 479.2+ KB\n"
     ]
    }
   ],
   "source": [
    "df.info()"
   ]
  },
  {
   "cell_type": "code",
   "execution_count": 6,
   "metadata": {
    "colab": {
     "base_uri": "https://localhost:8080/"
    },
    "executionInfo": {
     "elapsed": 23,
     "status": "ok",
     "timestamp": 1662223462740,
     "user": {
      "displayName": "Anyamanee",
      "userId": "12687195745778250975"
     },
     "user_tz": -420
    },
    "id": "ZwD_8ehC74-T",
    "outputId": "d96de9be-4d76-44c0-b5bd-cf179bee6964"
   },
   "outputs": [
    {
     "data": {
      "text/plain": [
       "id                     0\n",
       "gender                 0\n",
       "age                    0\n",
       "hypertension           0\n",
       "heart_disease          0\n",
       "ever_married           0\n",
       "work_type              0\n",
       "Residence_type         0\n",
       "avg_glucose_level      0\n",
       "bm                   201\n",
       "smoking_status         0\n",
       "stroke                 0\n",
       "dtype: int64"
      ]
     },
     "execution_count": 6,
     "metadata": {},
     "output_type": "execute_result"
    }
   ],
   "source": [
    "df.isnull().sum()"
   ]
  },
  {
   "cell_type": "markdown",
   "metadata": {
    "id": "KKe0CkbB74-U"
   },
   "source": [
    "   > จากข้อมูลทั้งหมดพบ 201 missing values ในคอลัมน์ 'bm'<br>\n",
    "   > เราจึงดูรายละเอียดค่าทางสถิติของข้อมูลในคอลัมน์ 'bm' เพื่อเลือกวิธีจัดการกับ missing value"
   ]
  },
  {
   "cell_type": "code",
   "execution_count": 7,
   "metadata": {
    "colab": {
     "base_uri": "https://localhost:8080/",
     "height": 300
    },
    "executionInfo": {
     "elapsed": 746,
     "status": "ok",
     "timestamp": 1662223463470,
     "user": {
      "displayName": "Anyamanee",
      "userId": "12687195745778250975"
     },
     "user_tz": -420
    },
    "id": "hmS-UnTD74-V",
    "outputId": "c31d9164-fac3-43ac-ff41-4ffd7ebea266"
   },
   "outputs": [
    {
     "data": {
      "text/html": [
       "<div>\n",
       "<style scoped>\n",
       "    .dataframe tbody tr th:only-of-type {\n",
       "        vertical-align: middle;\n",
       "    }\n",
       "\n",
       "    .dataframe tbody tr th {\n",
       "        vertical-align: top;\n",
       "    }\n",
       "\n",
       "    .dataframe thead th {\n",
       "        text-align: right;\n",
       "    }\n",
       "</style>\n",
       "<table border=\"1\" class=\"dataframe\">\n",
       "  <thead>\n",
       "    <tr style=\"text-align: right;\">\n",
       "      <th></th>\n",
       "      <th>id</th>\n",
       "      <th>age</th>\n",
       "      <th>hypertension</th>\n",
       "      <th>heart_disease</th>\n",
       "      <th>avg_glucose_level</th>\n",
       "      <th>bm</th>\n",
       "      <th>stroke</th>\n",
       "    </tr>\n",
       "  </thead>\n",
       "  <tbody>\n",
       "    <tr>\n",
       "      <th>count</th>\n",
       "      <td>5110.000000</td>\n",
       "      <td>5110.000000</td>\n",
       "      <td>5110.000000</td>\n",
       "      <td>5110.000000</td>\n",
       "      <td>5110.000000</td>\n",
       "      <td>4909.000000</td>\n",
       "      <td>5110.000000</td>\n",
       "    </tr>\n",
       "    <tr>\n",
       "      <th>mean</th>\n",
       "      <td>36517.829354</td>\n",
       "      <td>43.226614</td>\n",
       "      <td>0.097456</td>\n",
       "      <td>0.054012</td>\n",
       "      <td>106.147677</td>\n",
       "      <td>28.893237</td>\n",
       "      <td>0.048728</td>\n",
       "    </tr>\n",
       "    <tr>\n",
       "      <th>std</th>\n",
       "      <td>21161.721625</td>\n",
       "      <td>22.612647</td>\n",
       "      <td>0.296607</td>\n",
       "      <td>0.226063</td>\n",
       "      <td>45.283560</td>\n",
       "      <td>7.854067</td>\n",
       "      <td>0.215320</td>\n",
       "    </tr>\n",
       "    <tr>\n",
       "      <th>min</th>\n",
       "      <td>67.000000</td>\n",
       "      <td>0.080000</td>\n",
       "      <td>0.000000</td>\n",
       "      <td>0.000000</td>\n",
       "      <td>55.120000</td>\n",
       "      <td>10.300000</td>\n",
       "      <td>0.000000</td>\n",
       "    </tr>\n",
       "    <tr>\n",
       "      <th>25%</th>\n",
       "      <td>17741.250000</td>\n",
       "      <td>25.000000</td>\n",
       "      <td>0.000000</td>\n",
       "      <td>0.000000</td>\n",
       "      <td>77.245000</td>\n",
       "      <td>23.500000</td>\n",
       "      <td>0.000000</td>\n",
       "    </tr>\n",
       "    <tr>\n",
       "      <th>50%</th>\n",
       "      <td>36932.000000</td>\n",
       "      <td>45.000000</td>\n",
       "      <td>0.000000</td>\n",
       "      <td>0.000000</td>\n",
       "      <td>91.885000</td>\n",
       "      <td>28.100000</td>\n",
       "      <td>0.000000</td>\n",
       "    </tr>\n",
       "    <tr>\n",
       "      <th>75%</th>\n",
       "      <td>54682.000000</td>\n",
       "      <td>61.000000</td>\n",
       "      <td>0.000000</td>\n",
       "      <td>0.000000</td>\n",
       "      <td>114.090000</td>\n",
       "      <td>33.100000</td>\n",
       "      <td>0.000000</td>\n",
       "    </tr>\n",
       "    <tr>\n",
       "      <th>max</th>\n",
       "      <td>72940.000000</td>\n",
       "      <td>82.000000</td>\n",
       "      <td>1.000000</td>\n",
       "      <td>1.000000</td>\n",
       "      <td>271.740000</td>\n",
       "      <td>97.600000</td>\n",
       "      <td>1.000000</td>\n",
       "    </tr>\n",
       "  </tbody>\n",
       "</table>\n",
       "</div>"
      ],
      "text/plain": [
       "                 id          age  hypertension  heart_disease  \\\n",
       "count   5110.000000  5110.000000   5110.000000    5110.000000   \n",
       "mean   36517.829354    43.226614      0.097456       0.054012   \n",
       "std    21161.721625    22.612647      0.296607       0.226063   \n",
       "min       67.000000     0.080000      0.000000       0.000000   \n",
       "25%    17741.250000    25.000000      0.000000       0.000000   \n",
       "50%    36932.000000    45.000000      0.000000       0.000000   \n",
       "75%    54682.000000    61.000000      0.000000       0.000000   \n",
       "max    72940.000000    82.000000      1.000000       1.000000   \n",
       "\n",
       "       avg_glucose_level           bm       stroke  \n",
       "count        5110.000000  4909.000000  5110.000000  \n",
       "mean          106.147677    28.893237     0.048728  \n",
       "std            45.283560     7.854067     0.215320  \n",
       "min            55.120000    10.300000     0.000000  \n",
       "25%            77.245000    23.500000     0.000000  \n",
       "50%            91.885000    28.100000     0.000000  \n",
       "75%           114.090000    33.100000     0.000000  \n",
       "max           271.740000    97.600000     1.000000  "
      ]
     },
     "execution_count": 7,
     "metadata": {},
     "output_type": "execute_result"
    }
   ],
   "source": [
    "df.describe()"
   ]
  },
  {
   "cell_type": "markdown",
   "metadata": {
    "id": "clYdOulL74-W"
   },
   "source": [
    "> จากตารางข้อมูลทางสถิติด้านบน ค่าเฉลี่ยน และค่ากลางของคอลัมน์ 'bm' มีค่าใกล้เคียงกันที่ 28.89 และ 28.01 ตามลำดับดังนั้น จึงอ้างอิงได้ข้อมูลในคอลัมน์ 'bm' มีการแจกแจงแบบปกติ เราจึงเลือกจัดการกับ missing value ด้วยค่าเฉลี่ย"
   ]
  },
  {
   "cell_type": "code",
   "execution_count": 8,
   "metadata": {
    "colab": {
     "base_uri": "https://localhost:8080/"
    },
    "executionInfo": {
     "elapsed": 27,
     "status": "ok",
     "timestamp": 1662223463471,
     "user": {
      "displayName": "Anyamanee",
      "userId": "12687195745778250975"
     },
     "user_tz": -420
    },
    "id": "De-ZQxGQ74-X",
    "outputId": "28a36ae3-5916-4429-e9fc-63d9bab8dcfd"
   },
   "outputs": [
    {
     "data": {
      "text/plain": [
       "28.893236911794666"
      ]
     },
     "execution_count": 8,
     "metadata": {},
     "output_type": "execute_result"
    }
   ],
   "source": [
    "df.bm.mean()"
   ]
  },
  {
   "cell_type": "code",
   "execution_count": 9,
   "metadata": {
    "colab": {
     "base_uri": "https://localhost:8080/"
    },
    "executionInfo": {
     "elapsed": 23,
     "status": "ok",
     "timestamp": 1662223463471,
     "user": {
      "displayName": "Anyamanee",
      "userId": "12687195745778250975"
     },
     "user_tz": -420
    },
    "id": "djgu79YL74-Y",
    "outputId": "a443b86c-a0ec-4b41-a964-a46b3714b568"
   },
   "outputs": [
    {
     "data": {
      "text/plain": [
       "id                   0\n",
       "gender               0\n",
       "age                  0\n",
       "hypertension         0\n",
       "heart_disease        0\n",
       "ever_married         0\n",
       "work_type            0\n",
       "Residence_type       0\n",
       "avg_glucose_level    0\n",
       "bm                   0\n",
       "smoking_status       0\n",
       "stroke               0\n",
       "dtype: int64"
      ]
     },
     "execution_count": 9,
     "metadata": {},
     "output_type": "execute_result"
    }
   ],
   "source": [
    "df_mod = df\n",
    "df_mod['bm'] = df_mod['bm'].fillna(df.bm.mean())\n",
    "df_mod.isnull().sum()"
   ]
  },
  {
   "cell_type": "markdown",
   "metadata": {
    "id": "sygAl8bA74-Y"
   },
   "source": [
    "> จากรายละเอียดด้านบนไม่พบ missing value แล้ว<br>\n",
    "> หากอ้างอิงจากตารางสถิติด้านบนในคอลัมน์ 'Age' พบว่าค่าน้อยที่สุดในคอลัมน์นั้นมีค่าน้อยกว่า 1"
   ]
  },
  {
   "cell_type": "code",
   "execution_count": 10,
   "metadata": {
    "colab": {
     "base_uri": "https://localhost:8080/"
    },
    "executionInfo": {
     "elapsed": 20,
     "status": "ok",
     "timestamp": 1662223463472,
     "user": {
      "displayName": "Anyamanee",
      "userId": "12687195745778250975"
     },
     "user_tz": -420
    },
    "id": "j6Iql7IM74-Z",
    "outputId": "86ccc9f1-acf1-4bcd-cf75-76c97e8afe68",
    "scrolled": true
   },
   "outputs": [
    {
     "name": "stdout",
     "output_type": "stream",
     "text": [
      "number of rows where the age is less than one: 43\n",
      "% of rows where the age is less than one: 0.84%\n"
     ]
    }
   ],
   "source": [
    "df_check = df_mod.age[df_mod.age <1]\n",
    "print(f'number of rows where the age is less than one: {len(df_check)}')\n",
    "print(f'% of rows where the age is less than one: {( len(df_check)/df_mod.shape[0] )*100:.2f}%')"
   ]
  },
  {
   "cell_type": "markdown",
   "metadata": {
    "id": "QwJBZW5774-a"
   },
   "source": [
    "> พบข้อมูล 43 แถวที่มีค่าในคอลัมน์ 'Age' น้อยกว่า 1 หรือคิดเป็นเพียง 0.84% จากข้อมูลทั้งหมดเท่านั้น ดังนั้นเราจึงเปลี่ยนค่าที่น้อยกว่า 1 ในคอลัมน์ 'Age' ให้มีค่าเป็น 1 ทั้งหมด"
   ]
  },
  {
   "cell_type": "code",
   "execution_count": 11,
   "metadata": {
    "colab": {
     "base_uri": "https://localhost:8080/",
     "height": 300
    },
    "executionInfo": {
     "elapsed": 17,
     "status": "ok",
     "timestamp": 1662223463473,
     "user": {
      "displayName": "Anyamanee",
      "userId": "12687195745778250975"
     },
     "user_tz": -420
    },
    "id": "SX5RtAYhgagR",
    "outputId": "0f9d2dea-d678-4da0-e9a0-adae06f01d85",
    "scrolled": false
   },
   "outputs": [
    {
     "data": {
      "text/html": [
       "<div>\n",
       "<style scoped>\n",
       "    .dataframe tbody tr th:only-of-type {\n",
       "        vertical-align: middle;\n",
       "    }\n",
       "\n",
       "    .dataframe tbody tr th {\n",
       "        vertical-align: top;\n",
       "    }\n",
       "\n",
       "    .dataframe thead th {\n",
       "        text-align: right;\n",
       "    }\n",
       "</style>\n",
       "<table border=\"1\" class=\"dataframe\">\n",
       "  <thead>\n",
       "    <tr style=\"text-align: right;\">\n",
       "      <th></th>\n",
       "      <th>id</th>\n",
       "      <th>age</th>\n",
       "      <th>hypertension</th>\n",
       "      <th>heart_disease</th>\n",
       "      <th>avg_glucose_level</th>\n",
       "      <th>bm</th>\n",
       "      <th>stroke</th>\n",
       "    </tr>\n",
       "  </thead>\n",
       "  <tbody>\n",
       "    <tr>\n",
       "      <th>count</th>\n",
       "      <td>5110.000000</td>\n",
       "      <td>5110.000000</td>\n",
       "      <td>5110.000000</td>\n",
       "      <td>5110.000000</td>\n",
       "      <td>5110.000000</td>\n",
       "      <td>5110.000000</td>\n",
       "      <td>5110.000000</td>\n",
       "    </tr>\n",
       "    <tr>\n",
       "      <th>mean</th>\n",
       "      <td>36517.829354</td>\n",
       "      <td>43.230677</td>\n",
       "      <td>0.097456</td>\n",
       "      <td>0.054012</td>\n",
       "      <td>106.147677</td>\n",
       "      <td>28.893237</td>\n",
       "      <td>0.048728</td>\n",
       "    </tr>\n",
       "    <tr>\n",
       "      <th>std</th>\n",
       "      <td>21161.721625</td>\n",
       "      <td>22.605002</td>\n",
       "      <td>0.296607</td>\n",
       "      <td>0.226063</td>\n",
       "      <td>45.283560</td>\n",
       "      <td>7.698018</td>\n",
       "      <td>0.215320</td>\n",
       "    </tr>\n",
       "    <tr>\n",
       "      <th>min</th>\n",
       "      <td>67.000000</td>\n",
       "      <td>1.000000</td>\n",
       "      <td>0.000000</td>\n",
       "      <td>0.000000</td>\n",
       "      <td>55.120000</td>\n",
       "      <td>10.300000</td>\n",
       "      <td>0.000000</td>\n",
       "    </tr>\n",
       "    <tr>\n",
       "      <th>25%</th>\n",
       "      <td>17741.250000</td>\n",
       "      <td>25.000000</td>\n",
       "      <td>0.000000</td>\n",
       "      <td>0.000000</td>\n",
       "      <td>77.245000</td>\n",
       "      <td>23.800000</td>\n",
       "      <td>0.000000</td>\n",
       "    </tr>\n",
       "    <tr>\n",
       "      <th>50%</th>\n",
       "      <td>36932.000000</td>\n",
       "      <td>45.000000</td>\n",
       "      <td>0.000000</td>\n",
       "      <td>0.000000</td>\n",
       "      <td>91.885000</td>\n",
       "      <td>28.400000</td>\n",
       "      <td>0.000000</td>\n",
       "    </tr>\n",
       "    <tr>\n",
       "      <th>75%</th>\n",
       "      <td>54682.000000</td>\n",
       "      <td>61.000000</td>\n",
       "      <td>0.000000</td>\n",
       "      <td>0.000000</td>\n",
       "      <td>114.090000</td>\n",
       "      <td>32.800000</td>\n",
       "      <td>0.000000</td>\n",
       "    </tr>\n",
       "    <tr>\n",
       "      <th>max</th>\n",
       "      <td>72940.000000</td>\n",
       "      <td>82.000000</td>\n",
       "      <td>1.000000</td>\n",
       "      <td>1.000000</td>\n",
       "      <td>271.740000</td>\n",
       "      <td>97.600000</td>\n",
       "      <td>1.000000</td>\n",
       "    </tr>\n",
       "  </tbody>\n",
       "</table>\n",
       "</div>"
      ],
      "text/plain": [
       "                 id          age  hypertension  heart_disease  \\\n",
       "count   5110.000000  5110.000000   5110.000000    5110.000000   \n",
       "mean   36517.829354    43.230677      0.097456       0.054012   \n",
       "std    21161.721625    22.605002      0.296607       0.226063   \n",
       "min       67.000000     1.000000      0.000000       0.000000   \n",
       "25%    17741.250000    25.000000      0.000000       0.000000   \n",
       "50%    36932.000000    45.000000      0.000000       0.000000   \n",
       "75%    54682.000000    61.000000      0.000000       0.000000   \n",
       "max    72940.000000    82.000000      1.000000       1.000000   \n",
       "\n",
       "       avg_glucose_level           bm       stroke  \n",
       "count        5110.000000  5110.000000  5110.000000  \n",
       "mean          106.147677    28.893237     0.048728  \n",
       "std            45.283560     7.698018     0.215320  \n",
       "min            55.120000    10.300000     0.000000  \n",
       "25%            77.245000    23.800000     0.000000  \n",
       "50%            91.885000    28.400000     0.000000  \n",
       "75%           114.090000    32.800000     0.000000  \n",
       "max           271.740000    97.600000     1.000000  "
      ]
     },
     "execution_count": 11,
     "metadata": {},
     "output_type": "execute_result"
    }
   ],
   "source": [
    "df_mod.loc[df_mod['age'] < 1,\"age\"] = 1\n",
    "df_mod.describe()"
   ]
  },
  {
   "cell_type": "markdown",
   "metadata": {
    "id": "JaMvNmUt74-f"
   },
   "source": [
    "# <font color=\"MidnightBlue\">4. Exploratory Data Analysis (EDA)"
   ]
  },
  {
   "cell_type": "markdown",
   "metadata": {
    "id": "BAQnTGAL74-f"
   },
   "source": [
    "## <font color=\"MidnightBlue\">4.1 Categories Data"
   ]
  },
  {
   "cell_type": "code",
   "execution_count": 12,
   "metadata": {
    "executionInfo": {
     "elapsed": 16,
     "status": "ok",
     "timestamp": 1662223463473,
     "user": {
      "displayName": "Anyamanee",
      "userId": "12687195745778250975"
     },
     "user_tz": -420
    },
    "id": "gaPvRWA274-g"
   },
   "outputs": [],
   "source": [
    "header = df_mod.columns\n",
    "\n",
    "sns.set_theme(style=\"darkgrid\")\n",
    "\n",
    "def plot_detail(ax1, records):\n",
    "    total = len(records)\n",
    "    for p in ax1.patches:\n",
    "        value = '({:.0f})'.format(p.get_height())\n",
    "        percentage = '{:.1f}%'.format(100 * p.get_height()/total)\n",
    "        x = p.get_x() + 0.05 + p.get_width() / 2 - 0.05\n",
    "        y = p.get_y() + p.get_height() + 40\n",
    "        ax1.annotate(percentage, (x, y), size = 12, ha = 'right')\n",
    "        ax1.annotate(value, (x,y), size = 12)\n",
    "        \n",
    "\n",
    "def plot_category(col_name):\n",
    "    fig, (ax1,ax2) = plt.subplots(1, 2, figsize=(15, 5))\n",
    "\n",
    "    ax1 = sns.countplot(x=col_name, data = df_mod, ax=ax1)\n",
    "    ax2 = sns.countplot(x=col_name, hue =\"stroke\", data = df_mod, ax=ax2)\n",
    "\n",
    "    plot_detail(ax1, df_mod[col_name])\n",
    "    ax1.set_title(col_name, size = 20)\n",
    "    ax1.set_xlabel(col_name, size = 15)\n",
    "    ax1.set_ylabel(\"Number of Patient\", size = 15)\n",
    "\n",
    "    plot_detail(ax2, df_mod[col_name])\n",
    "    ax2.set_title(f\"{col_name} with stroke\", size = 20)\n",
    "    ax2.set_xlabel(col_name, size = 15)\n",
    "    ax2.set_ylabel(\"Number of Patient\", size = 15)\n",
    "\n",
    "    plt.show()"
   ]
  },
  {
   "cell_type": "markdown",
   "metadata": {
    "id": "-jbdVxk074-h"
   },
   "source": [
    "### <font color=\"MidnightBlue\"> Gender"
   ]
  },
  {
   "cell_type": "code",
   "execution_count": 13,
   "metadata": {
    "colab": {
     "base_uri": "https://localhost:8080/",
     "height": 362
    },
    "executionInfo": {
     "elapsed": 713,
     "status": "ok",
     "timestamp": 1662223464170,
     "user": {
      "displayName": "Anyamanee",
      "userId": "12687195745778250975"
     },
     "user_tz": -420
    },
    "id": "UPPr6pGm74-h",
    "outputId": "9cb0e176-f7b6-4eef-9451-b0a758835b14",
    "scrolled": false
   },
   "outputs": [
    {
     "data": {
      "image/png": "[encoded data removed]",
      "text/plain": [
       "<Figure size 1080x360 with 2 Axes>"
      ]
     },
     "metadata": {
      "needs_background": "light"
     },
     "output_type": "display_data"
    }
   ],
   "source": [
    "plot_category(\"gender\")"
   ]
  },
  {
   "cell_type": "markdown",
   "metadata": {
    "id": "9xostwf474-i"
   },
   "source": [
    "จากข้อมูลทางการแพทย์ทั้งหมด 5,110 ราย \n",
    "- พบว่ามีผู้หญิง 2,979 (58%) และผู้ชาย 2,087 (41%) โดยมีผู้หญิงมากกว่าผู้ชาย 892 คน\n",
    "- จำนวผู้ป่วยโรคหลอดเลือดสมองในผู้หญิง และผู้ชายมีจำนวนใกล้เคียงคือ 141 และ 108 คนตามลำดับโดยคิดเป็น 2.8% และ 2.1% จากทั้งหมด"
   ]
  },
  {
   "cell_type": "markdown",
   "metadata": {
    "id": "gYUm4kaD74-l"
   },
   "source": [
    "### <font color=\"MidnightBlue\"> Hypertension"
   ]
  },
  {
   "cell_type": "code",
   "execution_count": 14,
   "metadata": {
    "colab": {
     "base_uri": "https://localhost:8080/",
     "height": 362
    },
    "executionInfo": {
     "elapsed": 14,
     "status": "ok",
     "timestamp": 1662223464171,
     "user": {
      "displayName": "Anyamanee",
      "userId": "12687195745778250975"
     },
     "user_tz": -420
    },
    "id": "yysnXKbU74-l",
    "outputId": "300867af-d70b-4e69-97d1-fef4179b7b0b"
   },
   "outputs": [
    {
     "data": {
      "image/png": "[encoded data removed]",
      "text/plain": [
       "<Figure size 1080x360 with 2 Axes>"
      ]
     },
     "metadata": {
      "needs_background": "light"
     },
     "output_type": "display_data"
    }
   ],
   "source": [
    "plot_category(\"hypertension\")"
   ]
  },
  {
   "cell_type": "markdown",
   "metadata": {
    "id": "EnQZPsOa74-m"
   },
   "source": [
    "- จำนวนคนที่เป็น Hypertension คิดเป็น 9.7% จากจำนวนคนทั้งหมด\n",
    "- 3.6% เป็นคนที่มีอาการ stroke เพียงอย่างเดียว ในขณะที่ 1.3% เป็นคนที่มมีอาการ stroke ร่วมกับ Hypertension"
   ]
  },
  {
   "cell_type": "markdown",
   "metadata": {
    "id": "p2MlpVxF74-m"
   },
   "source": [
    "### <font color=\"MidnightBlue\"> Heart Disease"
   ]
  },
  {
   "cell_type": "code",
   "execution_count": 15,
   "metadata": {
    "colab": {
     "base_uri": "https://localhost:8080/",
     "height": 363
    },
    "executionInfo": {
     "elapsed": 995,
     "status": "ok",
     "timestamp": 1662223465154,
     "user": {
      "displayName": "Anyamanee",
      "userId": "12687195745778250975"
     },
     "user_tz": -420
    },
    "id": "UqBc0KTR74-n",
    "outputId": "0dc738a6-b5ec-4709-f5f4-bcd8428abe60",
    "scrolled": true
   },
   "outputs": [
    {
     "data": {
      "image/png": "[encoded data removed]",
      "text/plain": [
       "<Figure size 1080x360 with 2 Axes>"
      ]
     },
     "metadata": {
      "needs_background": "light"
     },
     "output_type": "display_data"
    }
   ],
   "source": [
    "plot_category(\"heart_disease\")"
   ]
  },
  {
   "cell_type": "markdown",
   "metadata": {
    "id": "BITNSUgo74-n"
   },
   "source": [
    "- จำนวนคนที่เป็น heart disease คิดเป็น 5.4% จากจำนวนคนทั้งหมด\n",
    "- 4.0% เป็นคนที่มีอาการ stroke เพียงอย่างเดียว ในขณะที่ 0.9% เป็นคนที่มีอาการ stroke ร่วมกับ heart disease"
   ]
  },
  {
   "cell_type": "markdown",
   "metadata": {
    "id": "xsuRxrjR74-n"
   },
   "source": [
    "### <font color=\"MidnightBlue\"> Work Type"
   ]
  },
  {
   "cell_type": "code",
   "execution_count": 16,
   "metadata": {
    "colab": {
     "base_uri": "https://localhost:8080/",
     "height": 364
    },
    "executionInfo": {
     "elapsed": 13,
     "status": "ok",
     "timestamp": 1662223465155,
     "user": {
      "displayName": "Anyamanee",
      "userId": "12687195745778250975"
     },
     "user_tz": -420
    },
    "id": "gIMdGZWb74-o",
    "outputId": "bea77e85-4e70-4cc9-e788-c5e4c8ae2cc8"
   },
   "outputs": [
    {
     "data": {
      "image/png": "[encoded data removed]",
      "text/plain": [
       "<Figure size 1080x360 with 2 Axes>"
      ]
     },
     "metadata": {
      "needs_background": "light"
     },
     "output_type": "display_data"
    }
   ],
   "source": [
    "plot_category(\"work_type\")"
   ]
  },
  {
   "cell_type": "markdown",
   "metadata": {
    "id": "sX9JoDlG74-o"
   },
   "source": [
    "- ผู้ป่วยส่วนใหญ่กว่า 57.2% มี working type เป็น Private\n",
    "- รองลงมาคือ Self-employed 16%, Government job 12.9% และ เป็นเด็ก 12.6%\n",
    "- ในส่วนของผู้ป่วยที่ไม่ได้ทำงาน และ อื่นๆ มีจำนวนเพียงแค่ประมาณ 65คน"
   ]
  },
  {
   "cell_type": "markdown",
   "metadata": {
    "id": "WMlG1-C674-p"
   },
   "source": [
    "### <font color=\"MidnightBlue\"> Ever Married"
   ]
  },
  {
   "cell_type": "code",
   "execution_count": 17,
   "metadata": {
    "colab": {
     "base_uri": "https://localhost:8080/",
     "height": 363
    },
    "executionInfo": {
     "elapsed": 1171,
     "status": "ok",
     "timestamp": 1662223466315,
     "user": {
      "displayName": "Anyamanee",
      "userId": "12687195745778250975"
     },
     "user_tz": -420
    },
    "id": "sGx5GnrD74-p",
    "outputId": "4cfb82b2-826d-4724-dd9a-58367dfb07d7"
   },
   "outputs": [
    {
     "data": {
      "image/png": "[encoded data removed]",
      "text/plain": [
       "<Figure size 1080x360 with 2 Axes>"
      ]
     },
     "metadata": {
      "needs_background": "light"
     },
     "output_type": "display_data"
    }
   ],
   "source": [
    "plot_category(\"ever_married\")"
   ]
  },
  {
   "cell_type": "markdown",
   "metadata": {
    "id": "7Xwf4cbL74-q"
   },
   "source": [
    "- จำนวนคนที่แต่งงานแล้วคิดเป็น 65.6% จากจำนวนคนทั้งหมด"
   ]
  },
  {
   "cell_type": "markdown",
   "metadata": {
    "id": "1miij_qC74-q"
   },
   "source": [
    "### <font color=\"MidnightBlue\"> Residence Type"
   ]
  },
  {
   "cell_type": "code",
   "execution_count": 18,
   "metadata": {
    "colab": {
     "base_uri": "https://localhost:8080/",
     "height": 363
    },
    "executionInfo": {
     "elapsed": 37,
     "status": "ok",
     "timestamp": 1662223466316,
     "user": {
      "displayName": "Anyamanee",
      "userId": "12687195745778250975"
     },
     "user_tz": -420
    },
    "id": "a1dr9g-S74-q",
    "outputId": "8cd7d418-7241-47e6-9ccb-847e6c425278"
   },
   "outputs": [
    {
     "data": {
      "image/png": "[encoded data removed]",
      "text/plain": [
       "<Figure size 1080x360 with 2 Axes>"
      ]
     },
     "metadata": {
      "needs_background": "light"
     },
     "output_type": "display_data"
    }
   ],
   "source": [
    "plot_category(\"Residence_type\")"
   ]
  },
  {
   "cell_type": "markdown",
   "metadata": {
    "id": "PPUGs4fu74-r"
   },
   "source": [
    "- ในส่วนของประเภทที่อยู่อาศัยของผู้ป่วย หรือ Residence type นั้น แบ่งออกเป็น Urban และ Rural ในปริมาณค่อนข้างใกล้เคียงกัน"
   ]
  },
  {
   "cell_type": "markdown",
   "metadata": {
    "id": "JWJnqdiZ74-r"
   },
   "source": [
    "### <font color=\"MidnightBlue\"> Smoking Satus"
   ]
  },
  {
   "cell_type": "code",
   "execution_count": 19,
   "metadata": {
    "colab": {
     "base_uri": "https://localhost:8080/",
     "height": 363
    },
    "executionInfo": {
     "elapsed": 33,
     "status": "ok",
     "timestamp": 1662223466317,
     "user": {
      "displayName": "Anyamanee",
      "userId": "12687195745778250975"
     },
     "user_tz": -420
    },
    "id": "ddRzU8TC74-s",
    "outputId": "c984011f-f5e8-4516-e877-094c8b171a5b"
   },
   "outputs": [
    {
     "data": {
      "image/png": "[encoded data removed]",
      "text/plain": [
       "<Figure size 1080x360 with 2 Axes>"
      ]
     },
     "metadata": {
      "needs_background": "light"
     },
     "output_type": "display_data"
    }
   ],
   "source": [
    "plot_category(\"smoking_status\")"
   ]
  },
  {
   "cell_type": "markdown",
   "metadata": {
    "id": "_NQxztpi74-s"
   },
   "source": [
    "- มีจำนวนผู้ป่วยที่เป็น stroke ในปริมาณที่ใก้ลเคียงกันในทุกประเภทของประวัติการสูบบุหรี่"
   ]
  },
  {
   "cell_type": "markdown",
   "metadata": {
    "id": "xF2Rr6hQ74-s"
   },
   "source": [
    "## <font color=\"MidnightBlue\">4.2 Continuous data"
   ]
  },
  {
   "cell_type": "code",
   "execution_count": 20,
   "metadata": {
    "executionInfo": {
     "elapsed": 32,
     "status": "ok",
     "timestamp": 1662223466319,
     "user": {
      "displayName": "Anyamanee",
      "userId": "12687195745778250975"
     },
     "user_tz": -420
    },
    "id": "GsLi1tSg74-t"
   },
   "outputs": [],
   "source": [
    "def plot_continuous(col_name):\n",
    "    fig, (ax1,ax2) = plt.subplots(2, figsize=(12, 10))\n",
    "    sns.histplot(df_mod[df_mod['stroke'] == 0][col_name],bins=20, ax=ax1) # No Stroke - green\n",
    "    sns.histplot(df_mod[df_mod['stroke'] == 1][col_name], color='chocolate',bins=20, ax=ax1) # Stroke - Red\n",
    "    sns.boxplot(x=col_name, y = 'stroke', data = df_mod, hue_order=[0,1] , ax=ax2, orient='h')\n",
    "\n",
    "    plt.title(f'No Stroke vs Stroke by {col_name}', fontsize=15)\n",
    "    plt.show()"
   ]
  },
  {
   "cell_type": "markdown",
   "metadata": {
    "id": "gf64XiiZ74-t"
   },
   "source": [
    "### <font color=\"MidnightBlue\"> Avg Glucose Level"
   ]
  },
  {
   "cell_type": "code",
   "execution_count": 21,
   "metadata": {
    "colab": {
     "base_uri": "https://localhost:8080/",
     "height": 143
    },
    "executionInfo": {
     "elapsed": 33,
     "status": "ok",
     "timestamp": 1662223466320,
     "user": {
      "displayName": "Anyamanee",
      "userId": "12687195745778250975"
     },
     "user_tz": -420
    },
    "id": "5ah8tMAf74-t",
    "outputId": "c575c9b8-0cbe-4097-d624-df116dec0ee4",
    "scrolled": true
   },
   "outputs": [
    {
     "data": {
      "text/html": [
       "<div>\n",
       "<style scoped>\n",
       "    .dataframe tbody tr th:only-of-type {\n",
       "        vertical-align: middle;\n",
       "    }\n",
       "\n",
       "    .dataframe tbody tr th {\n",
       "        vertical-align: top;\n",
       "    }\n",
       "\n",
       "    .dataframe thead th {\n",
       "        text-align: right;\n",
       "    }\n",
       "</style>\n",
       "<table border=\"1\" class=\"dataframe\">\n",
       "  <thead>\n",
       "    <tr style=\"text-align: right;\">\n",
       "      <th></th>\n",
       "      <th>count</th>\n",
       "      <th>mean</th>\n",
       "      <th>std</th>\n",
       "      <th>min</th>\n",
       "      <th>25%</th>\n",
       "      <th>50%</th>\n",
       "      <th>75%</th>\n",
       "      <th>max</th>\n",
       "    </tr>\n",
       "    <tr>\n",
       "      <th>stroke</th>\n",
       "      <th></th>\n",
       "      <th></th>\n",
       "      <th></th>\n",
       "      <th></th>\n",
       "      <th></th>\n",
       "      <th></th>\n",
       "      <th></th>\n",
       "      <th></th>\n",
       "    </tr>\n",
       "  </thead>\n",
       "  <tbody>\n",
       "    <tr>\n",
       "      <th>0</th>\n",
       "      <td>4861.0</td>\n",
       "      <td>104.795513</td>\n",
       "      <td>43.846069</td>\n",
       "      <td>55.12</td>\n",
       "      <td>77.12</td>\n",
       "      <td>91.47</td>\n",
       "      <td>112.83</td>\n",
       "      <td>267.76</td>\n",
       "    </tr>\n",
       "    <tr>\n",
       "      <th>1</th>\n",
       "      <td>249.0</td>\n",
       "      <td>132.544739</td>\n",
       "      <td>61.921056</td>\n",
       "      <td>56.11</td>\n",
       "      <td>79.79</td>\n",
       "      <td>105.22</td>\n",
       "      <td>196.71</td>\n",
       "      <td>271.74</td>\n",
       "    </tr>\n",
       "  </tbody>\n",
       "</table>\n",
       "</div>"
      ],
      "text/plain": [
       "         count        mean        std    min    25%     50%     75%     max\n",
       "stroke                                                                     \n",
       "0       4861.0  104.795513  43.846069  55.12  77.12   91.47  112.83  267.76\n",
       "1        249.0  132.544739  61.921056  56.11  79.79  105.22  196.71  271.74"
      ]
     },
     "execution_count": 21,
     "metadata": {},
     "output_type": "execute_result"
    }
   ],
   "source": [
    "df_mod.groupby(\"stroke\")[\"avg_glucose_level\"].describe()"
   ]
  },
  {
   "cell_type": "code",
   "execution_count": 22,
   "metadata": {
    "colab": {
     "base_uri": "https://localhost:8080/",
     "height": 611
    },
    "executionInfo": {
     "elapsed": 681,
     "status": "ok",
     "timestamp": 1662223466970,
     "user": {
      "displayName": "Anyamanee",
      "userId": "12687195745778250975"
     },
     "user_tz": -420
    },
    "id": "msMtkB0x74-u",
    "outputId": "ed3ede17-1fd4-4f0a-b2be-1653c57bb150"
   },
   "outputs": [
    {
     "data": {
      "image/png": "[encoded data removed]",
      "text/plain": [
       "<Figure size 864x720 with 2 Axes>"
      ]
     },
     "metadata": {
      "needs_background": "light"
     },
     "output_type": "display_data"
    }
   ],
   "source": [
    "plot_continuous(header[8]) #Glucose"
   ]
  },
  {
   "cell_type": "markdown",
   "metadata": {
    "id": "yk70RIP774-u"
   },
   "source": [
    "- Median ของปริมาณ glucose ในคนที่เป็น และ ไม่เป็น มีปริมาณใกล้เคียงกันที่ 91.47 และ 105.22 ตามลำดับ\n",
    "- แต่ส่วนของคนที่มีอาการเป็น stroke มีการกระจายตัวมากกว่าคนที่ไม่เป็น โดยมีค่าระดับน้ำตาลในเลือดเฉลี่ยอยู่ในช่วงประมาณ 55 ถึง 130 ซึ่งเป็นการกระจายตัวจะมีลักษณะเป็น right skewed"
   ]
  },
  {
   "cell_type": "markdown",
   "metadata": {
    "id": "mj-M1SD874-u"
   },
   "source": [
    "### <font color=\"MidnightBlue\"> BMI"
   ]
  },
  {
   "cell_type": "code",
   "execution_count": 23,
   "metadata": {
    "colab": {
     "base_uri": "https://localhost:8080/",
     "height": 143
    },
    "executionInfo": {
     "elapsed": 24,
     "status": "ok",
     "timestamp": 1662223466972,
     "user": {
      "displayName": "Anyamanee",
      "userId": "12687195745778250975"
     },
     "user_tz": -420
    },
    "id": "CJ4cBMyj74-v",
    "outputId": "08f45993-8e23-44b3-82a4-c84cce13abec"
   },
   "outputs": [
    {
     "data": {
      "text/html": [
       "<div>\n",
       "<style scoped>\n",
       "    .dataframe tbody tr th:only-of-type {\n",
       "        vertical-align: middle;\n",
       "    }\n",
       "\n",
       "    .dataframe tbody tr th {\n",
       "        vertical-align: top;\n",
       "    }\n",
       "\n",
       "    .dataframe thead th {\n",
       "        text-align: right;\n",
       "    }\n",
       "</style>\n",
       "<table border=\"1\" class=\"dataframe\">\n",
       "  <thead>\n",
       "    <tr style=\"text-align: right;\">\n",
       "      <th></th>\n",
       "      <th>count</th>\n",
       "      <th>mean</th>\n",
       "      <th>std</th>\n",
       "      <th>min</th>\n",
       "      <th>25%</th>\n",
       "      <th>50%</th>\n",
       "      <th>75%</th>\n",
       "      <th>max</th>\n",
       "    </tr>\n",
       "    <tr>\n",
       "      <th>stroke</th>\n",
       "      <th></th>\n",
       "      <th></th>\n",
       "      <th></th>\n",
       "      <th></th>\n",
       "      <th></th>\n",
       "      <th></th>\n",
       "      <th></th>\n",
       "      <th></th>\n",
       "    </tr>\n",
       "  </thead>\n",
       "  <tbody>\n",
       "    <tr>\n",
       "      <th>0</th>\n",
       "      <td>4861.0</td>\n",
       "      <td>28.825388</td>\n",
       "      <td>7.776203</td>\n",
       "      <td>10.3</td>\n",
       "      <td>23.6</td>\n",
       "      <td>28.300000</td>\n",
       "      <td>32.8</td>\n",
       "      <td>97.6</td>\n",
       "    </tr>\n",
       "    <tr>\n",
       "      <th>1</th>\n",
       "      <td>249.0</td>\n",
       "      <td>30.217789</td>\n",
       "      <td>5.825589</td>\n",
       "      <td>16.9</td>\n",
       "      <td>27.0</td>\n",
       "      <td>28.893237</td>\n",
       "      <td>32.5</td>\n",
       "      <td>56.6</td>\n",
       "    </tr>\n",
       "  </tbody>\n",
       "</table>\n",
       "</div>"
      ],
      "text/plain": [
       "         count       mean       std   min   25%        50%   75%   max\n",
       "stroke                                                                \n",
       "0       4861.0  28.825388  7.776203  10.3  23.6  28.300000  32.8  97.6\n",
       "1        249.0  30.217789  5.825589  16.9  27.0  28.893237  32.5  56.6"
      ]
     },
     "execution_count": 23,
     "metadata": {},
     "output_type": "execute_result"
    }
   ],
   "source": [
    "df_mod.groupby(\"stroke\")[\"bm\"].describe()"
   ]
  },
  {
   "cell_type": "code",
   "execution_count": 24,
   "metadata": {
    "colab": {
     "base_uri": "https://localhost:8080/",
     "height": 611
    },
    "executionInfo": {
     "elapsed": 616,
     "status": "ok",
     "timestamp": 1662223467567,
     "user": {
      "displayName": "Anyamanee",
      "userId": "12687195745778250975"
     },
     "user_tz": -420
    },
    "id": "Wxgi3ejB74-v",
    "outputId": "4e3e5b7b-62f5-4e22-86f8-391ce85d70b1"
   },
   "outputs": [
    {
     "data": {
      "image/png": "[encoded data removed]",
      "text/plain": [
       "<Figure size 864x720 with 2 Axes>"
      ]
     },
     "metadata": {
      "needs_background": "light"
     },
     "output_type": "display_data"
    }
   ],
   "source": [
    "plot_continuous(header[9]) #BMI"
   ]
  },
  {
   "cell_type": "markdown",
   "metadata": {
    "id": "yq5eDt0j74-v"
   },
   "source": [
    "- ค่า BMI ของคนที่เป็น และ ไม่เป็น มีแนวโน้มไปในทางเดียวกัน"
   ]
  },
  {
   "cell_type": "markdown",
   "metadata": {
    "id": "WVTdsCKO74-w"
   },
   "source": [
    "### <font color=\"MidnightBlue\"> Age"
   ]
  },
  {
   "cell_type": "code",
   "execution_count": 25,
   "metadata": {
    "colab": {
     "base_uri": "https://localhost:8080/",
     "height": 143
    },
    "executionInfo": {
     "elapsed": 18,
     "status": "ok",
     "timestamp": 1662223467568,
     "user": {
      "displayName": "Anyamanee",
      "userId": "12687195745778250975"
     },
     "user_tz": -420
    },
    "id": "bUxDZ5gK74-w",
    "outputId": "03d1e783-735d-4d7c-f983-2427ad9570e9"
   },
   "outputs": [
    {
     "data": {
      "text/html": [
       "<div>\n",
       "<style scoped>\n",
       "    .dataframe tbody tr th:only-of-type {\n",
       "        vertical-align: middle;\n",
       "    }\n",
       "\n",
       "    .dataframe tbody tr th {\n",
       "        vertical-align: top;\n",
       "    }\n",
       "\n",
       "    .dataframe thead th {\n",
       "        text-align: right;\n",
       "    }\n",
       "</style>\n",
       "<table border=\"1\" class=\"dataframe\">\n",
       "  <thead>\n",
       "    <tr style=\"text-align: right;\">\n",
       "      <th></th>\n",
       "      <th>count</th>\n",
       "      <th>mean</th>\n",
       "      <th>std</th>\n",
       "      <th>min</th>\n",
       "      <th>25%</th>\n",
       "      <th>50%</th>\n",
       "      <th>75%</th>\n",
       "      <th>max</th>\n",
       "    </tr>\n",
       "    <tr>\n",
       "      <th>stroke</th>\n",
       "      <th></th>\n",
       "      <th></th>\n",
       "      <th></th>\n",
       "      <th></th>\n",
       "      <th></th>\n",
       "      <th></th>\n",
       "      <th></th>\n",
       "      <th></th>\n",
       "    </tr>\n",
       "  </thead>\n",
       "  <tbody>\n",
       "    <tr>\n",
       "      <th>0</th>\n",
       "      <td>4861.0</td>\n",
       "      <td>41.975816</td>\n",
       "      <td>22.284029</td>\n",
       "      <td>1.00</td>\n",
       "      <td>24.0</td>\n",
       "      <td>43.0</td>\n",
       "      <td>59.0</td>\n",
       "      <td>82.0</td>\n",
       "    </tr>\n",
       "    <tr>\n",
       "      <th>1</th>\n",
       "      <td>249.0</td>\n",
       "      <td>67.728193</td>\n",
       "      <td>12.727419</td>\n",
       "      <td>1.32</td>\n",
       "      <td>59.0</td>\n",
       "      <td>71.0</td>\n",
       "      <td>78.0</td>\n",
       "      <td>82.0</td>\n",
       "    </tr>\n",
       "  </tbody>\n",
       "</table>\n",
       "</div>"
      ],
      "text/plain": [
       "         count       mean        std   min   25%   50%   75%   max\n",
       "stroke                                                            \n",
       "0       4861.0  41.975816  22.284029  1.00  24.0  43.0  59.0  82.0\n",
       "1        249.0  67.728193  12.727419  1.32  59.0  71.0  78.0  82.0"
      ]
     },
     "execution_count": 25,
     "metadata": {},
     "output_type": "execute_result"
    }
   ],
   "source": [
    "df_mod.groupby(\"stroke\")[\"age\"].describe()"
   ]
  },
  {
   "cell_type": "code",
   "execution_count": 26,
   "metadata": {
    "colab": {
     "base_uri": "https://localhost:8080/",
     "height": 611
    },
    "executionInfo": {
     "elapsed": 1084,
     "status": "ok",
     "timestamp": 1662223468636,
     "user": {
      "displayName": "Anyamanee",
      "userId": "12687195745778250975"
     },
     "user_tz": -420
    },
    "id": "xC0OVEod74-w",
    "outputId": "4815eb75-52a4-46e3-b400-1bd2f1dd4ea1",
    "scrolled": false
   },
   "outputs": [
    {
     "data": {
      "image/png": "[encoded data removed]",
      "text/plain": [
       "<Figure size 864x720 with 2 Axes>"
      ]
     },
     "metadata": {
      "needs_background": "light"
     },
     "output_type": "display_data"
    }
   ],
   "source": [
    "plot_continuous(header[2]) #Age"
   ]
  },
  {
   "cell_type": "markdown",
   "metadata": {
    "id": "F_lKfnDc74-x"
   },
   "source": [
    "- ผู้ป่วยโรคหลอดเลือดสมองส่วนใหญ่จะเป็นผู้สูงอายุ หรือหากสังเกตุจากกราฟจะเริ่มพบผู้ป่วยโรคนี้ตั้งแต่อายุ 40 ปีขึ้นไป\n",
    "- จาก boxplot การกระจายตัวของผู้ป่วยที่เป็น stroke อยู่ในช่วงอายุ มากกว่า 60 ปีขึ้นไป"
   ]
  },
  {
   "cell_type": "markdown",
   "metadata": {
    "id": "kV2Immtv74-x"
   },
   "source": [
    "# <font color=\"MidnightBlue\">5. Data Preprocessing (Encoding)"
   ]
  },
  {
   "cell_type": "code",
   "execution_count": 27,
   "metadata": {
    "executionInfo": {
     "elapsed": 42,
     "status": "ok",
     "timestamp": 1662223468637,
     "user": {
      "displayName": "Anyamanee",
      "userId": "12687195745778250975"
     },
     "user_tz": -420
    },
    "id": "Kq2h4BCb74-y"
   },
   "outputs": [],
   "source": [
    "df_preProcess = df_mod"
   ]
  },
  {
   "cell_type": "code",
   "execution_count": 28,
   "metadata": {
    "colab": {
     "base_uri": "https://localhost:8080/"
    },
    "executionInfo": {
     "elapsed": 42,
     "status": "ok",
     "timestamp": 1662223468637,
     "user": {
      "displayName": "Anyamanee",
      "userId": "12687195745778250975"
     },
     "user_tz": -420
    },
    "id": "D_aZ_b1Y74-y",
    "outputId": "b083861c-aaf9-4bf7-e832-345c8b3c8252",
    "scrolled": true
   },
   "outputs": [
    {
     "name": "stdout",
     "output_type": "stream",
     "text": [
      "number of rows where the age is less than one: 1\n",
      "% of rows where the age is less than one: 0.02%\n"
     ]
    }
   ],
   "source": [
    "df_check = df_preProcess.gender[df_preProcess.gender =='Other']\n",
    "print(f'number of rows where the age is less than one: {len(df_check)}')\n",
    "print(f'% of rows where the age is less than one: {( len(df_check)/df_preProcess.shape[0] )*100:.2f}%')\n",
    "\n",
    "df_preProcess = df_preProcess.loc[df_mod.gender !='Other'] # drop 1 row of gender \"Other\""
   ]
  },
  {
   "cell_type": "markdown",
   "metadata": {
    "id": "ptzIWX2u74-z"
   },
   "source": [
    "## <font color=\"MidnightBlue\">5.1 Binary Categories"
   ]
  },
  {
   "cell_type": "code",
   "execution_count": 29,
   "metadata": {
    "colab": {
     "base_uri": "https://localhost:8080/"
    },
    "executionInfo": {
     "elapsed": 41,
     "status": "ok",
     "timestamp": 1662223468638,
     "user": {
      "displayName": "Anyamanee",
      "userId": "12687195745778250975"
     },
     "user_tz": -420
    },
    "id": "nGAvMw1J74-z",
    "outputId": "31a4881e-812c-4425-8740-3f68ea3ca2f4",
    "scrolled": true
   },
   "outputs": [
    {
     "name": "stderr",
     "output_type": "stream",
     "text": [
      "C:\\Users\\Mayypeeya\\AppData\\Local\\Temp\\ipykernel_23872\\2590536051.py:2: SettingWithCopyWarning: \n",
      "A value is trying to be set on a copy of a slice from a DataFrame.\n",
      "Try using .loc[row_indexer,col_indexer] = value instead\n",
      "\n",
      "See the caveats in the documentation: https://pandas.pydata.org/pandas-docs/stable/user_guide/indexing.html#returning-a-view-versus-a-copy\n",
      "  df_preProcess.gender = df_preProcess.gender.apply(lambda x:idx_gender[x])\n"
     ]
    }
   ],
   "source": [
    "idx_gender={\"Female\":0,\"Male\":1} \n",
    "df_preProcess.gender = df_preProcess.gender.apply(lambda x:idx_gender[x])"
   ]
  },
  {
   "cell_type": "code",
   "execution_count": 30,
   "metadata": {
    "executionInfo": {
     "elapsed": 35,
     "status": "ok",
     "timestamp": 1662223468638,
     "user": {
      "displayName": "Anyamanee",
      "userId": "12687195745778250975"
     },
     "user_tz": -420
    },
    "id": "ObMbsVjX74-z"
   },
   "outputs": [
    {
     "name": "stderr",
     "output_type": "stream",
     "text": [
      "C:\\Users\\Mayypeeya\\AppData\\Local\\Temp\\ipykernel_23872\\435846457.py:2: SettingWithCopyWarning: \n",
      "A value is trying to be set on a copy of a slice from a DataFrame.\n",
      "Try using .loc[row_indexer,col_indexer] = value instead\n",
      "\n",
      "See the caveats in the documentation: https://pandas.pydata.org/pandas-docs/stable/user_guide/indexing.html#returning-a-view-versus-a-copy\n",
      "  df_preProcess.ever_married = df_preProcess.ever_married.apply(lambda x:idx_married[x])\n"
     ]
    }
   ],
   "source": [
    "idx_married={\"No\":0,\"Yes\":1}\n",
    "df_preProcess.ever_married = df_preProcess.ever_married.apply(lambda x:idx_married[x])"
   ]
  },
  {
   "cell_type": "code",
   "execution_count": 31,
   "metadata": {
    "colab": {
     "base_uri": "https://localhost:8080/"
    },
    "executionInfo": {
     "elapsed": 35,
     "status": "ok",
     "timestamp": 1662223468638,
     "user": {
      "displayName": "Anyamanee",
      "userId": "12687195745778250975"
     },
     "user_tz": -420
    },
    "id": "cpUW-IMwT_tg",
    "outputId": "b60aa834-0d1f-45ce-acc8-edd3d49e89c7"
   },
   "outputs": [
    {
     "data": {
      "text/plain": [
       "{0, 1}"
      ]
     },
     "execution_count": 31,
     "metadata": {},
     "output_type": "execute_result"
    }
   ],
   "source": [
    "set(df_preProcess.gender)"
   ]
  },
  {
   "cell_type": "code",
   "execution_count": 32,
   "metadata": {
    "colab": {
     "base_uri": "https://localhost:8080/"
    },
    "executionInfo": {
     "elapsed": 39,
     "status": "ok",
     "timestamp": 1662223468648,
     "user": {
      "displayName": "Anyamanee",
      "userId": "12687195745778250975"
     },
     "user_tz": -420
    },
    "id": "WfFGKWzi74-0",
    "outputId": "167898ab-904a-4cd6-98ad-f6ecb4991901",
    "scrolled": false
   },
   "outputs": [
    {
     "data": {
      "text/plain": [
       "{0, 1}"
      ]
     },
     "execution_count": 32,
     "metadata": {},
     "output_type": "execute_result"
    }
   ],
   "source": [
    "set(df_preProcess.ever_married)"
   ]
  },
  {
   "cell_type": "code",
   "execution_count": 33,
   "metadata": {
    "colab": {
     "base_uri": "https://localhost:8080/"
    },
    "executionInfo": {
     "elapsed": 35,
     "status": "ok",
     "timestamp": 1662223468649,
     "user": {
      "displayName": "Anyamanee",
      "userId": "12687195745778250975"
     },
     "user_tz": -420
    },
    "id": "IXAwZmju74-0",
    "outputId": "3c56be28-ac3b-4b18-c3c4-54947eb476e6",
    "scrolled": true
   },
   "outputs": [
    {
     "name": "stdout",
     "output_type": "stream",
     "text": [
      "<class 'pandas.core.frame.DataFrame'>\n",
      "Int64Index: 5109 entries, 0 to 5109\n",
      "Data columns (total 12 columns):\n",
      " #   Column             Non-Null Count  Dtype  \n",
      "---  ------             --------------  -----  \n",
      " 0   id                 5109 non-null   int64  \n",
      " 1   gender             5109 non-null   int64  \n",
      " 2   age                5109 non-null   float64\n",
      " 3   hypertension       5109 non-null   int64  \n",
      " 4   heart_disease      5109 non-null   int64  \n",
      " 5   ever_married       5109 non-null   int64  \n",
      " 6   work_type          5109 non-null   object \n",
      " 7   Residence_type     5109 non-null   object \n",
      " 8   avg_glucose_level  5109 non-null   float64\n",
      " 9   bm                 5109 non-null   float64\n",
      " 10  smoking_status     5109 non-null   object \n",
      " 11  stroke             5109 non-null   int64  \n",
      "dtypes: float64(3), int64(6), object(3)\n",
      "memory usage: 518.9+ KB\n"
     ]
    }
   ],
   "source": [
    "df_preProcess.info()"
   ]
  },
  {
   "cell_type": "markdown",
   "metadata": {
    "id": "dK_db31e74-1"
   },
   "source": [
    "## <font color=\"MidnightBlue\">5.2 Multicategory"
   ]
  },
  {
   "cell_type": "code",
   "execution_count": 34,
   "metadata": {
    "colab": {
     "base_uri": "https://localhost:8080/"
    },
    "executionInfo": {
     "elapsed": 30,
     "status": "ok",
     "timestamp": 1662223468649,
     "user": {
      "displayName": "Anyamanee",
      "userId": "12687195745778250975"
     },
     "user_tz": -420
    },
    "id": "fS0_PMW-74-1",
    "outputId": "dcc663f2-44d9-4de1-d735-6368a0bc9053"
   },
   "outputs": [
    {
     "name": "stdout",
     "output_type": "stream",
     "text": [
      "   worktype_Govt_job  worktype_Never_worked  worktype_Private  \\\n",
      "0                  0                      0                 1   \n",
      "1                  0                      0                 0   \n",
      "2                  0                      0                 1   \n",
      "3                  0                      0                 1   \n",
      "4                  0                      0                 0   \n",
      "\n",
      "   worktype_Self-employed  worktype_children  Residencetype_Rural  \\\n",
      "0                       0                  0                    0   \n",
      "1                       1                  0                    1   \n",
      "2                       0                  0                    1   \n",
      "3                       0                  0                    0   \n",
      "4                       1                  0                    1   \n",
      "\n",
      "   Residencetype_Urban  smokingstatus_Unknown  smokingstatus_formerly smoked  \\\n",
      "0                    1                      0                              1   \n",
      "1                    0                      0                              0   \n",
      "2                    0                      0                              0   \n",
      "3                    1                      0                              0   \n",
      "4                    0                      0                              0   \n",
      "\n",
      "   smokingstatus_never smoked  smokingstatus_smokes  \n",
      "0                           0                     0  \n",
      "1                           1                     0  \n",
      "2                           1                     0  \n",
      "3                           0                     1  \n",
      "4                           1                     0  \n"
     ]
    }
   ],
   "source": [
    "idx_multiClassData = pd.get_dummies(df_preProcess[[\"work_type\",\"Residence_type\",'smoking_status']], prefix=['worktype','Residencetype','smokingstatus'])\n",
    "print(idx_multiClassData.head())"
   ]
  },
  {
   "cell_type": "markdown",
   "metadata": {
    "id": "mj2FRyaHT_th"
   },
   "source": [
    "## <font color=\"MidnightBlue\">5.3 Assign binany category and  multi-category to new dataframe \"df_preProcess\""
   ]
  },
  {
   "cell_type": "code",
   "execution_count": 35,
   "metadata": {
    "executionInfo": {
     "elapsed": 25,
     "status": "ok",
     "timestamp": 1662223468650,
     "user": {
      "displayName": "Anyamanee",
      "userId": "12687195745778250975"
     },
     "user_tz": -420
    },
    "id": "fDE9ua9p74-2"
   },
   "outputs": [],
   "source": [
    "df_preProcess= pd.concat([df_preProcess,idx_multiClassData], axis=1)"
   ]
  },
  {
   "cell_type": "code",
   "execution_count": 36,
   "metadata": {
    "colab": {
     "base_uri": "https://localhost:8080/",
     "height": 351
    },
    "executionInfo": {
     "elapsed": 404,
     "status": "ok",
     "timestamp": 1662223469030,
     "user": {
      "displayName": "Anyamanee",
      "userId": "12687195745778250975"
     },
     "user_tz": -420
    },
    "id": "stnMZQz474-2",
    "outputId": "1f001993-a11a-465d-99a9-f2d66393c5e5"
   },
   "outputs": [
    {
     "data": {
      "text/html": [
       "<div>\n",
       "<style scoped>\n",
       "    .dataframe tbody tr th:only-of-type {\n",
       "        vertical-align: middle;\n",
       "    }\n",
       "\n",
       "    .dataframe tbody tr th {\n",
       "        vertical-align: top;\n",
       "    }\n",
       "\n",
       "    .dataframe thead th {\n",
       "        text-align: right;\n",
       "    }\n",
       "</style>\n",
       "<table border=\"1\" class=\"dataframe\">\n",
       "  <thead>\n",
       "    <tr style=\"text-align: right;\">\n",
       "      <th></th>\n",
       "      <th>id</th>\n",
       "      <th>gender</th>\n",
       "      <th>age</th>\n",
       "      <th>hypertension</th>\n",
       "      <th>heart_disease</th>\n",
       "      <th>ever_married</th>\n",
       "      <th>work_type</th>\n",
       "      <th>Residence_type</th>\n",
       "      <th>avg_glucose_level</th>\n",
       "      <th>bm</th>\n",
       "      <th>...</th>\n",
       "      <th>worktype_Never_worked</th>\n",
       "      <th>worktype_Private</th>\n",
       "      <th>worktype_Self-employed</th>\n",
       "      <th>worktype_children</th>\n",
       "      <th>Residencetype_Rural</th>\n",
       "      <th>Residencetype_Urban</th>\n",
       "      <th>smokingstatus_Unknown</th>\n",
       "      <th>smokingstatus_formerly smoked</th>\n",
       "      <th>smokingstatus_never smoked</th>\n",
       "      <th>smokingstatus_smokes</th>\n",
       "    </tr>\n",
       "  </thead>\n",
       "  <tbody>\n",
       "    <tr>\n",
       "      <th>0</th>\n",
       "      <td>9046</td>\n",
       "      <td>1</td>\n",
       "      <td>67.0</td>\n",
       "      <td>0</td>\n",
       "      <td>1</td>\n",
       "      <td>1</td>\n",
       "      <td>Private</td>\n",
       "      <td>Urban</td>\n",
       "      <td>228.69</td>\n",
       "      <td>36.600000</td>\n",
       "      <td>...</td>\n",
       "      <td>0</td>\n",
       "      <td>1</td>\n",
       "      <td>0</td>\n",
       "      <td>0</td>\n",
       "      <td>0</td>\n",
       "      <td>1</td>\n",
       "      <td>0</td>\n",
       "      <td>1</td>\n",
       "      <td>0</td>\n",
       "      <td>0</td>\n",
       "    </tr>\n",
       "    <tr>\n",
       "      <th>1</th>\n",
       "      <td>51676</td>\n",
       "      <td>0</td>\n",
       "      <td>61.0</td>\n",
       "      <td>0</td>\n",
       "      <td>0</td>\n",
       "      <td>1</td>\n",
       "      <td>Self-employed</td>\n",
       "      <td>Rural</td>\n",
       "      <td>202.21</td>\n",
       "      <td>28.893237</td>\n",
       "      <td>...</td>\n",
       "      <td>0</td>\n",
       "      <td>0</td>\n",
       "      <td>1</td>\n",
       "      <td>0</td>\n",
       "      <td>1</td>\n",
       "      <td>0</td>\n",
       "      <td>0</td>\n",
       "      <td>0</td>\n",
       "      <td>1</td>\n",
       "      <td>0</td>\n",
       "    </tr>\n",
       "    <tr>\n",
       "      <th>2</th>\n",
       "      <td>31112</td>\n",
       "      <td>1</td>\n",
       "      <td>80.0</td>\n",
       "      <td>0</td>\n",
       "      <td>1</td>\n",
       "      <td>1</td>\n",
       "      <td>Private</td>\n",
       "      <td>Rural</td>\n",
       "      <td>105.92</td>\n",
       "      <td>32.500000</td>\n",
       "      <td>...</td>\n",
       "      <td>0</td>\n",
       "      <td>1</td>\n",
       "      <td>0</td>\n",
       "      <td>0</td>\n",
       "      <td>1</td>\n",
       "      <td>0</td>\n",
       "      <td>0</td>\n",
       "      <td>0</td>\n",
       "      <td>1</td>\n",
       "      <td>0</td>\n",
       "    </tr>\n",
       "    <tr>\n",
       "      <th>3</th>\n",
       "      <td>60182</td>\n",
       "      <td>0</td>\n",
       "      <td>49.0</td>\n",
       "      <td>0</td>\n",
       "      <td>0</td>\n",
       "      <td>1</td>\n",
       "      <td>Private</td>\n",
       "      <td>Urban</td>\n",
       "      <td>171.23</td>\n",
       "      <td>34.400000</td>\n",
       "      <td>...</td>\n",
       "      <td>0</td>\n",
       "      <td>1</td>\n",
       "      <td>0</td>\n",
       "      <td>0</td>\n",
       "      <td>0</td>\n",
       "      <td>1</td>\n",
       "      <td>0</td>\n",
       "      <td>0</td>\n",
       "      <td>0</td>\n",
       "      <td>1</td>\n",
       "    </tr>\n",
       "    <tr>\n",
       "      <th>4</th>\n",
       "      <td>1665</td>\n",
       "      <td>0</td>\n",
       "      <td>79.0</td>\n",
       "      <td>1</td>\n",
       "      <td>0</td>\n",
       "      <td>1</td>\n",
       "      <td>Self-employed</td>\n",
       "      <td>Rural</td>\n",
       "      <td>174.12</td>\n",
       "      <td>24.000000</td>\n",
       "      <td>...</td>\n",
       "      <td>0</td>\n",
       "      <td>0</td>\n",
       "      <td>1</td>\n",
       "      <td>0</td>\n",
       "      <td>1</td>\n",
       "      <td>0</td>\n",
       "      <td>0</td>\n",
       "      <td>0</td>\n",
       "      <td>1</td>\n",
       "      <td>0</td>\n",
       "    </tr>\n",
       "  </tbody>\n",
       "</table>\n",
       "<p>5 rows × 23 columns</p>\n",
       "</div>"
      ],
      "text/plain": [
       "      id  gender   age  hypertension  heart_disease  ever_married  \\\n",
       "0   9046       1  67.0             0              1             1   \n",
       "1  51676       0  61.0             0              0             1   \n",
       "2  31112       1  80.0             0              1             1   \n",
       "3  60182       0  49.0             0              0             1   \n",
       "4   1665       0  79.0             1              0             1   \n",
       "\n",
       "       work_type Residence_type  avg_glucose_level         bm  ...  \\\n",
       "0        Private          Urban             228.69  36.600000  ...   \n",
       "1  Self-employed          Rural             202.21  28.893237  ...   \n",
       "2        Private          Rural             105.92  32.500000  ...   \n",
       "3        Private          Urban             171.23  34.400000  ...   \n",
       "4  Self-employed          Rural             174.12  24.000000  ...   \n",
       "\n",
       "  worktype_Never_worked  worktype_Private  worktype_Self-employed  \\\n",
       "0                     0                 1                       0   \n",
       "1                     0                 0                       1   \n",
       "2                     0                 1                       0   \n",
       "3                     0                 1                       0   \n",
       "4                     0                 0                       1   \n",
       "\n",
       "   worktype_children  Residencetype_Rural  Residencetype_Urban  \\\n",
       "0                  0                    0                    1   \n",
       "1                  0                    1                    0   \n",
       "2                  0                    1                    0   \n",
       "3                  0                    0                    1   \n",
       "4                  0                    1                    0   \n",
       "\n",
       "   smokingstatus_Unknown  smokingstatus_formerly smoked  \\\n",
       "0                      0                              1   \n",
       "1                      0                              0   \n",
       "2                      0                              0   \n",
       "3                      0                              0   \n",
       "4                      0                              0   \n",
       "\n",
       "   smokingstatus_never smoked  smokingstatus_smokes  \n",
       "0                           0                     0  \n",
       "1                           1                     0  \n",
       "2                           1                     0  \n",
       "3                           0                     1  \n",
       "4                           1                     0  \n",
       "\n",
       "[5 rows x 23 columns]"
      ]
     },
     "execution_count": 36,
     "metadata": {},
     "output_type": "execute_result"
    }
   ],
   "source": [
    "df_preProcess.head()"
   ]
  },
  {
   "cell_type": "code",
   "execution_count": 37,
   "metadata": {
    "executionInfo": {
     "elapsed": 11,
     "status": "ok",
     "timestamp": 1662223469032,
     "user": {
      "displayName": "Anyamanee",
      "userId": "12687195745778250975"
     },
     "user_tz": -420
    },
    "id": "p43S47ZX74-2"
   },
   "outputs": [],
   "source": [
    "# Write Dataframe After pre process\n",
    "df_Final = df_preProcess.drop(columns=['work_type', 'Residence_type', 'smoking_status'])\n",
    "df_Final.head()\n",
    "\n",
    "df_Final.to_csv(\"StrokeData_Final.csv\", index=False)"
   ]
  },
  {
   "cell_type": "markdown",
   "metadata": {
    "id": "4LmV2b3jT_ti"
   },
   "source": [
    "# <font color=\"MidnightBlue\">6. Feature selection"
   ]
  },
  {
   "cell_type": "code",
   "execution_count": 38,
   "metadata": {
    "executionInfo": {
     "elapsed": 10,
     "status": "ok",
     "timestamp": 1662223469032,
     "user": {
      "displayName": "Anyamanee",
      "userId": "12687195745778250975"
     },
     "user_tz": -420
    },
    "id": "vdIB6HwL74-5"
   },
   "outputs": [],
   "source": [
    "# Change column position\n",
    "old_cols = df_Final.columns.values \n",
    "new_cols= ['id', 'gender', 'hypertension', 'heart_disease',\n",
    "       'ever_married', 'avg_glucose_level', 'bm', \n",
    "       'worktype_Govt_job', 'worktype_Never_worked', 'worktype_Private',\n",
    "       'worktype_Self-employed', 'worktype_children',\n",
    "       'Residencetype_Rural', 'Residencetype_Urban',\n",
    "       'smokingstatus_Unknown', 'smokingstatus_formerly smoked',\n",
    "       'smokingstatus_never smoked', 'smokingstatus_smokes', 'age', 'stroke']\n",
    "df_Final = df_Final.reindex(columns=new_cols)\n",
    "cols = df_Final.columns.values \n"
   ]
  },
  {
   "cell_type": "markdown",
   "metadata": {
    "id": "LC2WZMF3T_tj"
   },
   "source": [
    "## <font color=\"MidnightBlue\">6.1 Pearson Correlation"
   ]
  },
  {
   "cell_type": "code",
   "execution_count": 39,
   "metadata": {
    "colab": {
     "base_uri": "https://localhost:8080/",
     "height": 801
    },
    "executionInfo": {
     "elapsed": 3167,
     "status": "ok",
     "timestamp": 1662223472189,
     "user": {
      "displayName": "Anyamanee",
      "userId": "12687195745778250975"
     },
     "user_tz": -420
    },
    "id": "X-cw2V1Q74-5",
    "outputId": "4214e0bd-3816-42d5-ebc2-53a5502d279b",
    "scrolled": false
   },
   "outputs": [
    {
     "data": {
      "image/png": "[encoded data removed]",
      "text/plain": [
       "<Figure size 1080x576 with 2 Axes>"
      ]
     },
     "metadata": {
      "needs_background": "light"
     },
     "output_type": "display_data"
    },
    {
     "name": "stdout",
     "output_type": "stream",
     "text": [
      "correlated features > 0.1 :\n",
      "hypertension         0.127891\n",
      "heart_disease        0.134905\n",
      "ever_married         0.108299\n",
      "avg_glucose_level    0.131991\n",
      "age                  0.245281\n",
      "stroke               1.000000\n",
      "Name: stroke, dtype: float64\n"
     ]
    }
   ],
   "source": [
    "#Using Pearson Correlation\n",
    "# Compute the correlation matrix\n",
    "plt.figure(figsize=(15,8))\n",
    "cor = df_Final.corr()\n",
    "\n",
    "mask = np.zeros_like(cor)\n",
    "mask[np.triu_indices_from(mask)] = True\n",
    "\n",
    "sns.heatmap(cor,mask =mask, annot=True, cmap=plt.cm.Reds)\n",
    "plt.show()\n",
    "\n",
    "#Correlation with output variable\n",
    "cor_target = abs(cor[\"stroke\"])\n",
    "#Selecting highly correlated features\n",
    "relevant_features = cor_target[cor_target>0.1]\n",
    "print(f'correlated features > 0.1 :\\n{relevant_features}')"
   ]
  },
  {
   "cell_type": "markdown",
   "metadata": {
    "id": "RLjGCiCkT_tj"
   },
   "source": [
    "> เมื่อทำ Pearson correlated พบว่ามี 5 columns ที่มีค่า correlation กับการเป็น stroke มากกว่า 0.1 คือ age, heart_disease, avg_glucose_level, hypertension และ ever_married ตามลำดับ<br><br>\n",
    "> และ Feature ที่มีค่า correlation กับการเป็น stroke สูงที่สุดคือ 'age' ที่ 0.245 โดย Features อื่นๆทีมี่ค่า correlation กับการเป็น stroke น้อยกว่า 1 นั้นส่วนใหญ่จะมี correlated กับ age ด้วย"
   ]
  },
  {
   "cell_type": "code",
   "execution_count": 40,
   "metadata": {
    "colab": {
     "base_uri": "https://localhost:8080/",
     "height": 363
    },
    "executionInfo": {
     "elapsed": 74,
     "status": "ok",
     "timestamp": 1662223472190,
     "user": {
      "displayName": "Anyamanee",
      "userId": "12687195745778250975"
     },
     "user_tz": -420
    },
    "id": "zTchmFL-T_tk",
    "outputId": "4abeef33-1764-48f6-c349-ea1b3bf81ebe",
    "scrolled": true
   },
   "outputs": [
    {
     "data": {
      "text/html": [
       "<div>\n",
       "<style scoped>\n",
       "    .dataframe tbody tr th:only-of-type {\n",
       "        vertical-align: middle;\n",
       "    }\n",
       "\n",
       "    .dataframe tbody tr th {\n",
       "        vertical-align: top;\n",
       "    }\n",
       "\n",
       "    .dataframe thead th {\n",
       "        text-align: right;\n",
       "    }\n",
       "</style>\n",
       "<table border=\"1\" class=\"dataframe\">\n",
       "  <thead>\n",
       "    <tr style=\"text-align: right;\">\n",
       "      <th></th>\n",
       "      <th>stroke</th>\n",
       "    </tr>\n",
       "  </thead>\n",
       "  <tbody>\n",
       "    <tr>\n",
       "      <th>stroke</th>\n",
       "      <td>1.000000</td>\n",
       "    </tr>\n",
       "    <tr>\n",
       "      <th>age</th>\n",
       "      <td>0.245281</td>\n",
       "    </tr>\n",
       "    <tr>\n",
       "      <th>heart_disease</th>\n",
       "      <td>0.134905</td>\n",
       "    </tr>\n",
       "    <tr>\n",
       "      <th>avg_glucose_level</th>\n",
       "      <td>0.131991</td>\n",
       "    </tr>\n",
       "    <tr>\n",
       "      <th>hypertension</th>\n",
       "      <td>0.127891</td>\n",
       "    </tr>\n",
       "    <tr>\n",
       "      <th>ever_married</th>\n",
       "      <td>0.108299</td>\n",
       "    </tr>\n",
       "    <tr>\n",
       "      <th>worktype_children</th>\n",
       "      <td>0.083888</td>\n",
       "    </tr>\n",
       "    <tr>\n",
       "      <th>smokingstatus_formerly smoked</th>\n",
       "      <td>0.064683</td>\n",
       "    </tr>\n",
       "    <tr>\n",
       "      <th>worktype_Self-employed</th>\n",
       "      <td>0.062150</td>\n",
       "    </tr>\n",
       "    <tr>\n",
       "      <th>smokingstatus_Unknown</th>\n",
       "      <td>0.055924</td>\n",
       "    </tr>\n",
       "  </tbody>\n",
       "</table>\n",
       "</div>"
      ],
      "text/plain": [
       "                                 stroke\n",
       "stroke                         1.000000\n",
       "age                            0.245281\n",
       "heart_disease                  0.134905\n",
       "avg_glucose_level              0.131991\n",
       "hypertension                   0.127891\n",
       "ever_married                   0.108299\n",
       "worktype_children              0.083888\n",
       "smokingstatus_formerly smoked  0.064683\n",
       "worktype_Self-employed         0.062150\n",
       "smokingstatus_Unknown          0.055924"
      ]
     },
     "execution_count": 40,
     "metadata": {},
     "output_type": "execute_result"
    }
   ],
   "source": [
    "cols_Select = pd.DataFrame(cor_target)\n",
    "cols_SelectShow =  cols_Select.sort_values(by=['stroke'], ascending=False)\n",
    "cols_SelectShow.head(10)"
   ]
  },
  {
   "cell_type": "markdown",
   "metadata": {
    "id": "rvwwnib6T_tk"
   },
   "source": [
    "> จากตารางคือ Top 10 Featrures ที่มีค่า correlation กับหารเป็น stroke สูงที่สุด\n",
    "> ดังนั้นเราจึงเลือกใช้เฉพาะ Features ที่มีค่า correlation กับหารเป็น stroke มากกว่า 0.05 เพื่อใช้ในการทำ Model ต่อไป"
   ]
  },
  {
   "cell_type": "markdown",
   "metadata": {
    "id": "kDgK8tbnT_tl"
   },
   "source": [
    "## <font color=\"MidnightBlue\">6.2 Final Dateset"
   ]
  },
  {
   "cell_type": "code",
   "execution_count": 41,
   "metadata": {
    "executionInfo": {
     "elapsed": 71,
     "status": "ok",
     "timestamp": 1662223472191,
     "user": {
      "displayName": "Anyamanee",
      "userId": "12687195745778250975"
     },
     "user_tz": -420
    },
    "id": "HnQP_ZwBT_tl"
   },
   "outputs": [],
   "source": [
    "cols_Select = pd.DataFrame(cor_target)\n",
    "cols_Select = cols_Select[cols_Select.stroke > 0.1]"
   ]
  },
  {
   "cell_type": "code",
   "execution_count": 42,
   "metadata": {
    "colab": {
     "base_uri": "https://localhost:8080/",
     "height": 237
    },
    "executionInfo": {
     "elapsed": 71,
     "status": "ok",
     "timestamp": 1662223472193,
     "user": {
      "displayName": "Anyamanee",
      "userId": "12687195745778250975"
     },
     "user_tz": -420
    },
    "id": "GEezDbNbT_tl",
    "outputId": "3dcfc062-7a75-42c9-e047-06066838d9be"
   },
   "outputs": [
    {
     "data": {
      "text/html": [
       "<div>\n",
       "<style scoped>\n",
       "    .dataframe tbody tr th:only-of-type {\n",
       "        vertical-align: middle;\n",
       "    }\n",
       "\n",
       "    .dataframe tbody tr th {\n",
       "        vertical-align: top;\n",
       "    }\n",
       "\n",
       "    .dataframe thead th {\n",
       "        text-align: right;\n",
       "    }\n",
       "</style>\n",
       "<table border=\"1\" class=\"dataframe\">\n",
       "  <thead>\n",
       "    <tr style=\"text-align: right;\">\n",
       "      <th></th>\n",
       "      <th>stroke</th>\n",
       "    </tr>\n",
       "  </thead>\n",
       "  <tbody>\n",
       "    <tr>\n",
       "      <th>hypertension</th>\n",
       "      <td>0.127891</td>\n",
       "    </tr>\n",
       "    <tr>\n",
       "      <th>heart_disease</th>\n",
       "      <td>0.134905</td>\n",
       "    </tr>\n",
       "    <tr>\n",
       "      <th>ever_married</th>\n",
       "      <td>0.108299</td>\n",
       "    </tr>\n",
       "    <tr>\n",
       "      <th>avg_glucose_level</th>\n",
       "      <td>0.131991</td>\n",
       "    </tr>\n",
       "    <tr>\n",
       "      <th>age</th>\n",
       "      <td>0.245281</td>\n",
       "    </tr>\n",
       "    <tr>\n",
       "      <th>stroke</th>\n",
       "      <td>1.000000</td>\n",
       "    </tr>\n",
       "  </tbody>\n",
       "</table>\n",
       "</div>"
      ],
      "text/plain": [
       "                     stroke\n",
       "hypertension       0.127891\n",
       "heart_disease      0.134905\n",
       "ever_married       0.108299\n",
       "avg_glucose_level  0.131991\n",
       "age                0.245281\n",
       "stroke             1.000000"
      ]
     },
     "execution_count": 42,
     "metadata": {},
     "output_type": "execute_result"
    }
   ],
   "source": [
    "cols_Select"
   ]
  },
  {
   "cell_type": "code",
   "execution_count": 43,
   "metadata": {
    "executionInfo": {
     "elapsed": 70,
     "status": "ok",
     "timestamp": 1662223472194,
     "user": {
      "displayName": "Anyamanee",
      "userId": "12687195745778250975"
     },
     "user_tz": -420
    },
    "id": "XnUy1o1ST_tl",
    "scrolled": true
   },
   "outputs": [],
   "source": [
    "cols_Select = cols_Select.reset_index(col_fill= \"Parameters\")"
   ]
  },
  {
   "cell_type": "code",
   "execution_count": 44,
   "metadata": {
    "executionInfo": {
     "elapsed": 70,
     "status": "ok",
     "timestamp": 1662223472195,
     "user": {
      "displayName": "Anyamanee",
      "userId": "12687195745778250975"
     },
     "user_tz": -420
    },
    "id": "_9oBLcJj74-6",
    "scrolled": true
   },
   "outputs": [],
   "source": [
    "x = df_Final[list(cols_Select[\"index\"])[0:-1]]\n",
    "y = df_Final[list(cols_Select[\"index\"])[-1]]"
   ]
  },
  {
   "cell_type": "code",
   "execution_count": 45,
   "metadata": {
    "colab": {
     "base_uri": "https://localhost:8080/",
     "height": 206
    },
    "executionInfo": {
     "elapsed": 70,
     "status": "ok",
     "timestamp": 1662223472196,
     "user": {
      "displayName": "Anyamanee",
      "userId": "12687195745778250975"
     },
     "user_tz": -420
    },
    "id": "v0t7ThFs74-6",
    "outputId": "03dd534f-af1a-4fc7-8df9-c2f600f99265",
    "scrolled": false
   },
   "outputs": [
    {
     "data": {
      "text/html": [
       "<div>\n",
       "<style scoped>\n",
       "    .dataframe tbody tr th:only-of-type {\n",
       "        vertical-align: middle;\n",
       "    }\n",
       "\n",
       "    .dataframe tbody tr th {\n",
       "        vertical-align: top;\n",
       "    }\n",
       "\n",
       "    .dataframe thead th {\n",
       "        text-align: right;\n",
       "    }\n",
       "</style>\n",
       "<table border=\"1\" class=\"dataframe\">\n",
       "  <thead>\n",
       "    <tr style=\"text-align: right;\">\n",
       "      <th></th>\n",
       "      <th>hypertension</th>\n",
       "      <th>heart_disease</th>\n",
       "      <th>ever_married</th>\n",
       "      <th>avg_glucose_level</th>\n",
       "      <th>age</th>\n",
       "    </tr>\n",
       "  </thead>\n",
       "  <tbody>\n",
       "    <tr>\n",
       "      <th>0</th>\n",
       "      <td>0</td>\n",
       "      <td>1</td>\n",
       "      <td>1</td>\n",
       "      <td>228.69</td>\n",
       "      <td>67.0</td>\n",
       "    </tr>\n",
       "    <tr>\n",
       "      <th>1</th>\n",
       "      <td>0</td>\n",
       "      <td>0</td>\n",
       "      <td>1</td>\n",
       "      <td>202.21</td>\n",
       "      <td>61.0</td>\n",
       "    </tr>\n",
       "    <tr>\n",
       "      <th>2</th>\n",
       "      <td>0</td>\n",
       "      <td>1</td>\n",
       "      <td>1</td>\n",
       "      <td>105.92</td>\n",
       "      <td>80.0</td>\n",
       "    </tr>\n",
       "    <tr>\n",
       "      <th>3</th>\n",
       "      <td>0</td>\n",
       "      <td>0</td>\n",
       "      <td>1</td>\n",
       "      <td>171.23</td>\n",
       "      <td>49.0</td>\n",
       "    </tr>\n",
       "    <tr>\n",
       "      <th>4</th>\n",
       "      <td>1</td>\n",
       "      <td>0</td>\n",
       "      <td>1</td>\n",
       "      <td>174.12</td>\n",
       "      <td>79.0</td>\n",
       "    </tr>\n",
       "  </tbody>\n",
       "</table>\n",
       "</div>"
      ],
      "text/plain": [
       "   hypertension  heart_disease  ever_married  avg_glucose_level   age\n",
       "0             0              1             1             228.69  67.0\n",
       "1             0              0             1             202.21  61.0\n",
       "2             0              1             1             105.92  80.0\n",
       "3             0              0             1             171.23  49.0\n",
       "4             1              0             1             174.12  79.0"
      ]
     },
     "execution_count": 45,
     "metadata": {},
     "output_type": "execute_result"
    }
   ],
   "source": [
    "x.head()"
   ]
  },
  {
   "cell_type": "code",
   "execution_count": 46,
   "metadata": {
    "colab": {
     "base_uri": "https://localhost:8080/"
    },
    "executionInfo": {
     "elapsed": 67,
     "status": "ok",
     "timestamp": 1662223472197,
     "user": {
      "displayName": "Anyamanee",
      "userId": "12687195745778250975"
     },
     "user_tz": -420
    },
    "id": "GdSEpyw474-6",
    "outputId": "7700a480-ba44-413a-df93-087ab24f1578"
   },
   "outputs": [
    {
     "data": {
      "text/plain": [
       "0    1\n",
       "1    1\n",
       "2    1\n",
       "3    1\n",
       "4    1\n",
       "Name: stroke, dtype: int64"
      ]
     },
     "execution_count": 46,
     "metadata": {},
     "output_type": "execute_result"
    }
   ],
   "source": [
    "y.head()"
   ]
  },
  {
   "cell_type": "markdown",
   "metadata": {
    "id": "QKepKqBDT_tn"
   },
   "source": [
    "# <font color=\"MidnightBlue\">7. Splitting the dataset into the Training set (80%) and Test set (20%)"
   ]
  },
  {
   "cell_type": "code",
   "execution_count": 47,
   "metadata": {
    "colab": {
     "base_uri": "https://localhost:8080/"
    },
    "executionInfo": {
     "elapsed": 57,
     "status": "ok",
     "timestamp": 1662223472199,
     "user": {
      "displayName": "Anyamanee",
      "userId": "12687195745778250975"
     },
     "user_tz": -420
    },
    "id": "Ai-l_wYp74-7",
    "outputId": "88c8978d-85ee-426d-ce27-ea6067ad4b03",
    "scrolled": true
   },
   "outputs": [
    {
     "name": "stdout",
     "output_type": "stream",
     "text": [
      "Train Dataset:\n",
      "Number x_train dataset: (4087, 5)\n",
      "Number y_train dataset: (4087,)\n",
      "\n",
      "Test Dataset:\n",
      "Number x_test dataset: (1022, 5)\n",
      "Number y_test dataset: (1022,)\n"
     ]
    }
   ],
   "source": [
    "# Train 80: Test 20\n",
    "x_train, x_test, y_train, y_test = train_test_split(x, y, test_size= 0.2, random_state= 0)\n",
    "\n",
    "print(f'''Train Dataset:\n",
    "Number x_train dataset: {x_train.shape}\n",
    "Number y_train dataset: {y_train.shape}\n",
    "\n",
    "Test Dataset:\n",
    "Number x_test dataset: {x_test.shape}\n",
    "Number y_test dataset: {y_test.shape}''')"
   ]
  },
  {
   "cell_type": "markdown",
   "metadata": {
    "id": "ogVBLGBzT_tn"
   },
   "source": [
    "# <font color=\"MidnightBlue\">8. Feature Scaling with StandardScaler"
   ]
  },
  {
   "cell_type": "code",
   "execution_count": 48,
   "metadata": {
    "executionInfo": {
     "elapsed": 51,
     "status": "ok",
     "timestamp": 1662223472200,
     "user": {
      "displayName": "Anyamanee",
      "userId": "12687195745778250975"
     },
     "user_tz": -420
    },
    "id": "5W-lEmQgT_to"
   },
   "outputs": [],
   "source": [
    "numeric_features = list(x.select_dtypes('float64').columns)\n",
    "numeric_transformer = Pipeline(steps=[(\"scaler\", StandardScaler())])\n",
    "\n",
    "categorical_features = list(x.select_dtypes('int64').columns)\n",
    "categorical_transformer = OneHotEncoder(handle_unknown=\"ignore\")\n",
    "\n",
    "preprocessor = ColumnTransformer(\n",
    "    transformers=[\n",
    "        (\"num\", numeric_transformer, numeric_features),\n",
    "        (\"cat\", categorical_transformer, categorical_features),])"
   ]
  },
  {
   "cell_type": "code",
   "execution_count": 49,
   "metadata": {
    "executionInfo": {
     "elapsed": 606,
     "status": "ok",
     "timestamp": 1662223472756,
     "user": {
      "displayName": "Anyamanee",
      "userId": "12687195745778250975"
     },
     "user_tz": -420
    },
    "id": "1riuztM674-8"
   },
   "outputs": [],
   "source": [
    "x_train = preprocessor.fit_transform(x_train)\n",
    "x_test = preprocessor.transform(x_test)"
   ]
  },
  {
   "cell_type": "code",
   "execution_count": 50,
   "metadata": {
    "colab": {
     "base_uri": "https://localhost:8080/"
    },
    "executionInfo": {
     "elapsed": 44,
     "status": "ok",
     "timestamp": 1662223472756,
     "user": {
      "displayName": "Anyamanee",
      "userId": "12687195745778250975"
     },
     "user_tz": -420
    },
    "id": "pXds2lXsT_to",
    "outputId": "2ae46c18-3b2d-413d-d9a6-3846862c62a8",
    "scrolled": false
   },
   "outputs": [
    {
     "data": {
      "text/plain": [
       "array([[ 1.94917668,  0.68793278,  1.        , ...,  1.        ,\n",
       "         0.        ,  1.        ],\n",
       "       [-0.09498732, -1.12888266,  1.        , ...,  0.        ,\n",
       "         1.        ,  0.        ],\n",
       "       [-0.60366621,  1.39693393,  1.        , ...,  0.        ,\n",
       "         0.        ,  1.        ],\n",
       "       ...,\n",
       "       [-0.25407307,  0.0232442 ,  1.        , ...,  0.        ,\n",
       "         0.        ,  1.        ],\n",
       "       [ 0.32228318, -0.99594495,  1.        , ...,  0.        ,\n",
       "         1.        ,  0.        ],\n",
       "       [-1.02730892,  0.64362021,  0.        , ...,  0.        ,\n",
       "         0.        ,  1.        ]])"
      ]
     },
     "execution_count": 50,
     "metadata": {},
     "output_type": "execute_result"
    }
   ],
   "source": [
    "x_train"
   ]
  },
  {
   "cell_type": "code",
   "execution_count": 51,
   "metadata": {
    "colab": {
     "base_uri": "https://localhost:8080/"
    },
    "executionInfo": {
     "elapsed": 39,
     "status": "ok",
     "timestamp": 1662223472757,
     "user": {
      "displayName": "Anyamanee",
      "userId": "12687195745778250975"
     },
     "user_tz": -420
    },
    "id": "ag2iDQulT_tp",
    "outputId": "afa491aa-f637-429a-e1c0-441828e050aa",
    "scrolled": true
   },
   "outputs": [
    {
     "data": {
      "text/plain": [
       "array([[ 8.48760330e-01,  1.70712194e+00,  1.00000000e+00, ...,\n",
       "         1.00000000e+00,  0.00000000e+00,  1.00000000e+00],\n",
       "       [-1.16188445e-03, -1.74925867e+00,  1.00000000e+00, ...,\n",
       "         0.00000000e+00,  1.00000000e+00,  0.00000000e+00],\n",
       "       [-7.39240664e-01,  4.22057352e-01,  1.00000000e+00, ...,\n",
       "         0.00000000e+00,  0.00000000e+00,  1.00000000e+00],\n",
       "       ...,\n",
       "       [ 2.88896916e+00,  1.52987165e+00,  1.00000000e+00, ...,\n",
       "         0.00000000e+00,  0.00000000e+00,  1.00000000e+00],\n",
       "       [ 2.99431081e-01, -3.31256371e-01,  1.00000000e+00, ...,\n",
       "         0.00000000e+00,  0.00000000e+00,  1.00000000e+00],\n",
       "       [-5.82571962e-01, -1.79357124e+00,  1.00000000e+00, ...,\n",
       "         0.00000000e+00,  1.00000000e+00,  0.00000000e+00]])"
      ]
     },
     "execution_count": 51,
     "metadata": {},
     "output_type": "execute_result"
    }
   ],
   "source": [
    "x_test"
   ]
  },
  {
   "cell_type": "markdown",
   "metadata": {
    "id": "Q_XEZbF-T_tp"
   },
   "source": [
    "# <font color=\"MidnightBlue\">9. Handling Imbalance data using SMOTE"
   ]
  },
  {
   "cell_type": "code",
   "execution_count": 52,
   "metadata": {
    "colab": {
     "base_uri": "https://localhost:8080/"
    },
    "executionInfo": {
     "elapsed": 33,
     "status": "ok",
     "timestamp": 1662223472757,
     "user": {
      "displayName": "Anyamanee",
      "userId": "12687195745778250975"
     },
     "user_tz": -420
    },
    "id": "hYACF3dP74-8",
    "outputId": "5e06ac4a-92bc-426b-f9e1-f002467d54c9",
    "scrolled": false
   },
   "outputs": [
    {
     "name": "stdout",
     "output_type": "stream",
     "text": [
      "Before OverSampling, counts of label '1': 195\n",
      "Before OverSampling, counts of label '0': 3892 \n",
      "\n",
      "After OverSampling, the shape of train_X: (7784, 8)\n",
      "After OverSampling, the shape of train_y: (7784,) \n",
      "\n",
      "After OverSampling, counts of label '1': 3892\n",
      "After OverSampling, counts of label '0': 3892\n"
     ]
    }
   ],
   "source": [
    "from imblearn.over_sampling import SMOTE\n",
    "\n",
    "print(\"Before OverSampling, counts of label '1': {}\".format(sum(y_train==1)))\n",
    "print(\"Before OverSampling, counts of label '0': {} \\n\".format(sum(y_train==0)))\n",
    "\n",
    "sm = SMOTE(random_state=2)\n",
    "x_train_smote, y_train_smote = sm.fit_resample(x_train, y_train.ravel())\n",
    "\n",
    "print('After OverSampling, the shape of train_X: {}'.format(x_train_smote.shape))\n",
    "print('After OverSampling, the shape of train_y: {} \\n'.format(y_train_smote.shape))\n",
    "\n",
    "print(\"After OverSampling, counts of label '1': {}\".format(sum(y_train_smote==1)))\n",
    "print(\"After OverSampling, counts of label '0': {}\".format(sum(y_train_smote==0)))"
   ]
  },
  {
   "cell_type": "code",
   "execution_count": 53,
   "metadata": {
    "colab": {
     "base_uri": "https://localhost:8080/"
    },
    "executionInfo": {
     "elapsed": 25,
     "status": "ok",
     "timestamp": 1662223472757,
     "user": {
      "displayName": "Anyamanee",
      "userId": "12687195745778250975"
     },
     "user_tz": -420
    },
    "id": "U5_TwalUT_tq",
    "outputId": "ab6c8585-d3d0-41b1-ecc2-f2db6cceae3e",
    "scrolled": true
   },
   "outputs": [
    {
     "data": {
      "text/plain": [
       "array([[ 1.94917668,  0.68793278,  1.        , ...,  1.        ,\n",
       "         0.        ,  1.        ],\n",
       "       [-0.09498732, -1.12888266,  1.        , ...,  0.        ,\n",
       "         1.        ,  0.        ],\n",
       "       [-0.60366621,  1.39693393,  1.        , ...,  0.        ,\n",
       "         0.        ,  1.        ],\n",
       "       ...,\n",
       "       [-0.00510745,  0.76370402,  1.        , ...,  1.        ,\n",
       "         0.        ,  1.        ],\n",
       "       [ 1.90453383,  0.67702446,  1.        , ...,  0.        ,\n",
       "         0.        ,  1.        ],\n",
       "       [ 1.81289741,  0.62346461,  1.        , ...,  0.        ,\n",
       "         0.        ,  1.        ]])"
      ]
     },
     "execution_count": 53,
     "metadata": {},
     "output_type": "execute_result"
    }
   ],
   "source": [
    "x_train_smote"
   ]
  },
  {
   "cell_type": "code",
   "execution_count": 54,
   "metadata": {
    "colab": {
     "base_uri": "https://localhost:8080/"
    },
    "executionInfo": {
     "elapsed": 20,
     "status": "ok",
     "timestamp": 1662223472758,
     "user": {
      "displayName": "Anyamanee",
      "userId": "12687195745778250975"
     },
     "user_tz": -420
    },
    "id": "kd41Miq0T_tq",
    "outputId": "cd1ee49f-707f-4a03-d82b-1661c26033c2"
   },
   "outputs": [
    {
     "data": {
      "text/plain": [
       "array([0, 0, 1, ..., 1, 1, 1], dtype=int64)"
      ]
     },
     "execution_count": 54,
     "metadata": {},
     "output_type": "execute_result"
    }
   ],
   "source": [
    "y_train_smote"
   ]
  },
  {
   "cell_type": "markdown",
   "metadata": {
    "id": "0C9WImQXT_tr"
   },
   "source": [
    "# <font color=\"MidnightBlue\">10. Model Selection"
   ]
  },
  {
   "cell_type": "markdown",
   "metadata": {
    "id": "pqfYat1MT_tr"
   },
   "source": [
    "## <font color=\"MidnightBlue\">10.1 K-Fold Cross Validation"
   ]
  },
  {
   "cell_type": "code",
   "execution_count": 57,
   "metadata": {
    "executionInfo": {
     "elapsed": 15,
     "status": "ok",
     "timestamp": 1662223472759,
     "user": {
      "displayName": "Anyamanee",
      "userId": "12687195745778250975"
     },
     "user_tz": -420
    },
    "id": "8Zn2Elya74--"
   },
   "outputs": [],
   "source": [
    "# get a list of models to evaluate\n",
    "def get_models():\n",
    "    models = list()\n",
    "    models.append({'LogisticRegression':LogisticRegression()})\n",
    "    models.append({'RidgeClassifier':RidgeClassifier()})\n",
    "    models.append({'SGDClassifier':SGDClassifier()})\n",
    "    models.append({'KNeighborsClassifier':KNeighborsClassifier()})\n",
    "    models.append({'DecisionTreeClassifier':DecisionTreeClassifier()})\n",
    "    models.append({'ExtraTreeClassifier':ExtraTreeClassifier()})\n",
    "    models.append({'LinearSVC':LinearSVC()})\n",
    "    models.append({'SVC':SVC()})\n",
    "    models.append({'RandomForestClassifier':RandomForestClassifier()})\n",
    "    models.append({'XGBoost':XGBClassifier(eval_metric= 'error')})\n",
    "    return models\n",
    " \n",
    "# evaluate the model using a given test condition\n",
    "def evaluate_model(cv, model, x_data, y_data):\n",
    "    # evaluate the model\n",
    "    scores = cross_val_score(model, x_data, y_data, scoring='accuracy', cv=cv, n_jobs=-1)\n",
    "    # return scores\n",
    "    return mean(scores)\n",
    " "
   ]
  },
  {
   "cell_type": "code",
   "execution_count": 58,
   "metadata": {
    "colab": {
     "base_uri": "https://localhost:8080/",
     "height": 350
    },
    "executionInfo": {
     "elapsed": 30066,
     "status": "ok",
     "timestamp": 1662223502811,
     "user": {
      "displayName": "Anyamanee",
      "userId": "12687195745778250975"
     },
     "user_tz": -420
    },
    "id": "ENFN7h6z74-_",
    "outputId": "d6e21062-a51b-459b-ea2c-2040d6c3b5c4",
    "scrolled": false
   },
   "outputs": [
    {
     "name": "stdout",
     "output_type": "stream",
     "text": [
      "Done !!! \n"
     ]
    },
    {
     "data": {
      "text/html": [
       "<div>\n",
       "<style scoped>\n",
       "    .dataframe tbody tr th:only-of-type {\n",
       "        vertical-align: middle;\n",
       "    }\n",
       "\n",
       "    .dataframe tbody tr th {\n",
       "        vertical-align: top;\n",
       "    }\n",
       "\n",
       "    .dataframe thead th {\n",
       "        text-align: right;\n",
       "    }\n",
       "</style>\n",
       "<table border=\"1\" class=\"dataframe\">\n",
       "  <thead>\n",
       "    <tr style=\"text-align: right;\">\n",
       "      <th></th>\n",
       "      <th>Model</th>\n",
       "      <th>ACC_results</th>\n",
       "    </tr>\n",
       "  </thead>\n",
       "  <tbody>\n",
       "    <tr>\n",
       "      <th>9</th>\n",
       "      <td>XGBoost</td>\n",
       "      <td>0.947584</td>\n",
       "    </tr>\n",
       "    <tr>\n",
       "      <th>4</th>\n",
       "      <td>DecisionTreeClassifier</td>\n",
       "      <td>0.919062</td>\n",
       "    </tr>\n",
       "    <tr>\n",
       "      <th>8</th>\n",
       "      <td>RandomForestClassifier</td>\n",
       "      <td>0.902621</td>\n",
       "    </tr>\n",
       "    <tr>\n",
       "      <th>3</th>\n",
       "      <td>KNeighborsClassifier</td>\n",
       "      <td>0.855473</td>\n",
       "    </tr>\n",
       "    <tr>\n",
       "      <th>5</th>\n",
       "      <td>ExtraTreeClassifier</td>\n",
       "      <td>0.854061</td>\n",
       "    </tr>\n",
       "    <tr>\n",
       "      <th>7</th>\n",
       "      <td>SVC</td>\n",
       "      <td>0.787641</td>\n",
       "    </tr>\n",
       "    <tr>\n",
       "      <th>1</th>\n",
       "      <td>RidgeClassifier</td>\n",
       "      <td>0.778647</td>\n",
       "    </tr>\n",
       "    <tr>\n",
       "      <th>6</th>\n",
       "      <td>LinearSVC</td>\n",
       "      <td>0.776207</td>\n",
       "    </tr>\n",
       "    <tr>\n",
       "      <th>0</th>\n",
       "      <td>LogisticRegression</td>\n",
       "      <td>0.774923</td>\n",
       "    </tr>\n",
       "    <tr>\n",
       "      <th>2</th>\n",
       "      <td>SGDClassifier</td>\n",
       "      <td>0.772097</td>\n",
       "    </tr>\n",
       "  </tbody>\n",
       "</table>\n",
       "</div>"
      ],
      "text/plain": [
       "                    Model  ACC_results\n",
       "9                 XGBoost     0.947584\n",
       "4  DecisionTreeClassifier     0.919062\n",
       "8  RandomForestClassifier     0.902621\n",
       "3    KNeighborsClassifier     0.855473\n",
       "5     ExtraTreeClassifier     0.854061\n",
       "7                     SVC     0.787641\n",
       "1         RidgeClassifier     0.778647\n",
       "6               LinearSVC     0.776207\n",
       "0      LogisticRegression     0.774923\n",
       "2           SGDClassifier     0.772097"
      ]
     },
     "execution_count": 58,
     "metadata": {},
     "output_type": "execute_result"
    }
   ],
   "source": [
    "# define test conditions\n",
    "cv = KFold(n_splits=5, shuffle=True, random_state=17)\n",
    "\n",
    "# get the list of models to consider\n",
    "models = get_models()\n",
    "\n",
    "# collect results\n",
    "cv_results = list()\n",
    "model_results = list()\n",
    "\n",
    "# evaluate each model\n",
    "for idx, model in enumerate(models):\n",
    "    s_model =  list(model.values())\n",
    "    name_model = list(model.keys())\n",
    "    # evaluate model using each test condition\n",
    "    cv_mean = evaluate_model(cv, s_model[0], x_train_smote, y_train_smote)\n",
    "    # check for invalid results\n",
    "    if isnan(cv_mean):\n",
    "        continue\n",
    "    # store results\n",
    "    cv_results.append(cv_mean)\n",
    "    model_results.append(name_model[0])\n",
    "    # summarize progress\n",
    "    #print('>%s:, cv=%.3f' % (type(model).__name__, cv_mean))\n",
    "\n",
    "print(\"Done !!! \")\n",
    "\n",
    "CVresults_df = pd.DataFrame()\n",
    "CVresults_df['Model'] = model_results\n",
    "CVresults_df['ACC_results'] = cv_results\n",
    "CVresults_df = CVresults_df.sort_values(by=['ACC_results'], ascending=False)\n",
    "CVresults_df"
   ]
  },
  {
   "cell_type": "markdown",
   "metadata": {
    "id": "tAlnJKgLT_ts"
   },
   "source": [
    "> จากตารางคือค่า mean accuracy จากการทำ valuate model ด้วย K-Fold Cross Validation ที่จำนวน K-Fold = 5"
   ]
  },
  {
   "cell_type": "markdown",
   "metadata": {
    "id": "FxXZLQuIT_ts"
   },
   "source": [
    "## <font color=\"MidnightBlue\">10.2 Confusion matrix"
   ]
  },
  {
   "cell_type": "code",
   "execution_count": 59,
   "metadata": {
    "executionInfo": {
     "elapsed": 10270,
     "status": "ok",
     "timestamp": 1662223513061,
     "user": {
      "displayName": "Anyamanee",
      "userId": "12687195745778250975"
     },
     "user_tz": -420
    },
    "id": "bHJT4pF1LgxF"
   },
   "outputs": [],
   "source": [
    "from sklearn.metrics import accuracy_score, precision_score, recall_score, f1_score\n",
    "from sklearn.pipeline import Pipeline\n",
    "\n",
    "accuracy, precision, recall, f1 = {}, {}, {}, {}\n",
    "\n",
    "for idx, model in enumerate(models):\n",
    "    \n",
    "    s_model =  list(model.values())\n",
    "    name_model = list(model.keys())\n",
    "    \n",
    "    key = Pipeline([('clf',s_model[0])])\n",
    "    # Fit the classifier model\n",
    "    key.fit(x_train_smote, y_train_smote)\n",
    "\n",
    "    # Prediction \n",
    "    predictions = key.predict(x_test)\n",
    "\n",
    "    # Calculate Accuracy, Precision and Recall Metrics\n",
    "    accuracy[key] = accuracy_score(predictions,y_test)\n",
    "    precision[key] = precision_score(predictions,y_test)\n",
    "    recall[key] = recall_score(predictions, y_test)\n",
    "    f1[key] = f1_score(predictions, y_test)"
   ]
  },
  {
   "cell_type": "markdown",
   "metadata": {
    "id": "6yIU8OyHT_ts"
   },
   "source": [
    "## <font color=\"MidnightBlue\">10.3 Summary Model Selection"
   ]
  },
  {
   "cell_type": "code",
   "execution_count": 60,
   "metadata": {
    "colab": {
     "base_uri": "https://localhost:8080/",
     "height": 331
    },
    "executionInfo": {
     "elapsed": 57,
     "status": "ok",
     "timestamp": 1662223513072,
     "user": {
      "displayName": "Anyamanee",
      "userId": "12687195745778250975"
     },
     "user_tz": -420
    },
    "id": "iSi86vjTT_ts",
    "outputId": "bef713b3-9d6f-4bf7-9006-4932a9604438"
   },
   "outputs": [
    {
     "data": {
      "text/html": [
       "<div>\n",
       "<style scoped>\n",
       "    .dataframe tbody tr th:only-of-type {\n",
       "        vertical-align: middle;\n",
       "    }\n",
       "\n",
       "    .dataframe tbody tr th {\n",
       "        vertical-align: top;\n",
       "    }\n",
       "\n",
       "    .dataframe thead th {\n",
       "        text-align: right;\n",
       "    }\n",
       "</style>\n",
       "<table border=\"1\" class=\"dataframe\">\n",
       "  <thead>\n",
       "    <tr style=\"text-align: right;\">\n",
       "      <th></th>\n",
       "      <th>Accuracy</th>\n",
       "      <th>Precision</th>\n",
       "      <th>Recall</th>\n",
       "      <th>F1</th>\n",
       "    </tr>\n",
       "  </thead>\n",
       "  <tbody>\n",
       "    <tr>\n",
       "      <th>RidgeClassifier</th>\n",
       "      <td>0.737769</td>\n",
       "      <td>0.722222</td>\n",
       "      <td>0.133562</td>\n",
       "      <td>0.225434</td>\n",
       "    </tr>\n",
       "    <tr>\n",
       "      <th>LinearSVC</th>\n",
       "      <td>0.751468</td>\n",
       "      <td>0.722222</td>\n",
       "      <td>0.140288</td>\n",
       "      <td>0.234940</td>\n",
       "    </tr>\n",
       "    <tr>\n",
       "      <th>SVC</th>\n",
       "      <td>0.751468</td>\n",
       "      <td>0.722222</td>\n",
       "      <td>0.140288</td>\n",
       "      <td>0.234940</td>\n",
       "    </tr>\n",
       "    <tr>\n",
       "      <th>LogisticRegression</th>\n",
       "      <td>0.758317</td>\n",
       "      <td>0.703704</td>\n",
       "      <td>0.141264</td>\n",
       "      <td>0.235294</td>\n",
       "    </tr>\n",
       "    <tr>\n",
       "      <th>SGDClassifier</th>\n",
       "      <td>0.796477</td>\n",
       "      <td>0.592593</td>\n",
       "      <td>0.146789</td>\n",
       "      <td>0.235294</td>\n",
       "    </tr>\n",
       "    <tr>\n",
       "      <th>KNeighborsClassifier</th>\n",
       "      <td>0.808219</td>\n",
       "      <td>0.462963</td>\n",
       "      <td>0.130208</td>\n",
       "      <td>0.203252</td>\n",
       "    </tr>\n",
       "    <tr>\n",
       "      <th>ExtraTreeClassifier</th>\n",
       "      <td>0.828767</td>\n",
       "      <td>0.314815</td>\n",
       "      <td>0.109677</td>\n",
       "      <td>0.162679</td>\n",
       "    </tr>\n",
       "    <tr>\n",
       "      <th>RandomForestClassifier</th>\n",
       "      <td>0.874755</td>\n",
       "      <td>0.259259</td>\n",
       "      <td>0.137255</td>\n",
       "      <td>0.179487</td>\n",
       "    </tr>\n",
       "    <tr>\n",
       "      <th>DecisionTreeClassifier</th>\n",
       "      <td>0.895303</td>\n",
       "      <td>0.148148</td>\n",
       "      <td>0.115942</td>\n",
       "      <td>0.130081</td>\n",
       "    </tr>\n",
       "    <tr>\n",
       "      <th>XGBoost</th>\n",
       "      <td>0.928571</td>\n",
       "      <td>0.111111</td>\n",
       "      <td>0.193548</td>\n",
       "      <td>0.141176</td>\n",
       "    </tr>\n",
       "  </tbody>\n",
       "</table>\n",
       "</div>"
      ],
      "text/plain": [
       "                        Accuracy  Precision    Recall        F1\n",
       "RidgeClassifier         0.737769   0.722222  0.133562  0.225434\n",
       "LinearSVC               0.751468   0.722222  0.140288  0.234940\n",
       "SVC                     0.751468   0.722222  0.140288  0.234940\n",
       "LogisticRegression      0.758317   0.703704  0.141264  0.235294\n",
       "SGDClassifier           0.796477   0.592593  0.146789  0.235294\n",
       "KNeighborsClassifier    0.808219   0.462963  0.130208  0.203252\n",
       "ExtraTreeClassifier     0.828767   0.314815  0.109677  0.162679\n",
       "RandomForestClassifier  0.874755   0.259259  0.137255  0.179487\n",
       "DecisionTreeClassifier  0.895303   0.148148  0.115942  0.130081\n",
       "XGBoost                 0.928571   0.111111  0.193548  0.141176"
      ]
     },
     "execution_count": 60,
     "metadata": {},
     "output_type": "execute_result"
    }
   ],
   "source": [
    "name_model = [ list(x.keys())[0] for i, x in enumerate(models)]\n",
    "\n",
    "df_model = pd.DataFrame(index=name_model, columns=['Accuracy', 'Precision', 'Recall', 'F1'])\n",
    "df_model['Accuracy'] = accuracy.values()\n",
    "df_model['Precision'] = precision.values()\n",
    "df_model['Recall'] = recall.values()\n",
    "df_model['F1'] = f1.values()\n",
    "\n",
    "df_model = df_model.sort_values(by=['Precision'], ascending=False)\n",
    "df_model"
   ]
  },
  {
   "cell_type": "markdown",
   "metadata": {
    "id": "Q6hdwHsbT_tt"
   },
   "source": [
    "# <font color=\"MidnightBlue\">11. Tuning the Models"
   ]
  },
  {
   "cell_type": "markdown",
   "metadata": {
    "id": "cUavjil3SIU3"
   },
   "source": [
    "## <font color=\"MidnightBlue\">11.1 RidgeClassifier"
   ]
  },
  {
   "cell_type": "code",
   "execution_count": 132,
   "metadata": {
    "executionInfo": {
     "elapsed": 55,
     "status": "ok",
     "timestamp": 1662223513075,
     "user": {
      "displayName": "Anyamanee",
      "userId": "12687195745778250975"
     },
     "user_tz": -420
    },
    "id": "qZ1vTJltT_tt"
   },
   "outputs": [
    {
     "name": "stdout",
     "output_type": "stream",
     "text": [
      "best_accuracy: 0.7790331581562989\n",
      "best_param: {'alpha': 0.0001, 'fit_intercept': False, 'solver': 'lsqr'}\n"
     ]
    }
   ],
   "source": [
    "'''\n",
    "#Grid\n",
    "from sklearn.linear_model import RidgeClassifier\n",
    "parameter_grid = {'alpha': [0.0001, 0.001, 0.1, 1.0, 1.25, 1.5,],\n",
    "                  'fit_intercept': [True, False],\n",
    "                  'solver': ['auto', 'svd', 'cholesky', 'lsqr', 'sparse_cg', 'sag', 'saga']}\n",
    "\n",
    "RidgeClassifier = RidgeClassifier()\n",
    "\n",
    "RidgeClassifier_cv = GridSearchCV(estimator = RidgeClassifier,\n",
    "                                  param_grid = parameter_grid, scoring = 'accuracy', cv = 5, verbose=0)\n",
    "\n",
    "RidgeClassifier_cv.fit(x_train_smote, y_train_smote)\n",
    "\n",
    "best_accuracy = RidgeClassifier_cv.best_score_\n",
    "best_param = RidgeClassifier_cv.best_params_\n",
    "print(f'best_accuracy: {best_accuracy}')\n",
    "print(f'best_param: {best_param}')\n",
    "'''"
   ]
  },
  {
   "cell_type": "code",
   "execution_count": 141,
   "metadata": {},
   "outputs": [],
   "source": [
    "#Model All\n",
    "from sklearn.linear_model import RidgeClassifier\n",
    "models_select = {}\n",
    "# RidgeClassifier\n",
    "# Accuracy =0.\n",
    "models_select['RidgeClassifier_01'] = RidgeClassifier(alpha = 0.0001, solver = 'lbfgs', positive = True, fit_intercept = False)\n",
    "models_select['RidgeClassifier_02'] = RidgeClassifier(alpha = 0.0001, solver = 'lsqr', fit_intercept = False)"
   ]
  },
  {
   "cell_type": "code",
   "execution_count": 142,
   "metadata": {},
   "outputs": [
    {
     "name": "stdout",
     "output_type": "stream",
     "text": [
      "[0.74438022 0.74052665 0.75208735 0.73410405 0.73071979]\n",
      "0.7403636120480853\n",
      "Training:0.7410071942446043\n",
      "Test:0.5489236790606654\n",
      "\n",
      "Train Set:\n",
      "              precision    recall  f1-score   support\n",
      "\n",
      "           0       0.96      0.50      0.66      3892\n",
      "           1       0.66      0.98      0.79      3892\n",
      "\n",
      "    accuracy                           0.74      7784\n",
      "   macro avg       0.81      0.74      0.73      7784\n",
      "weighted avg       0.81      0.74      0.73      7784\n",
      "\n",
      "Test Set:\n",
      "              precision    recall  f1-score   support\n",
      "\n",
      "           0       0.99      0.53      0.69       968\n",
      "           1       0.10      0.93      0.18        54\n",
      "\n",
      "    accuracy                           0.55      1022\n",
      "   macro avg       0.55      0.73      0.43      1022\n",
      "weighted avg       0.95      0.55      0.66      1022\n",
      "\n"
     ]
    }
   ],
   "source": [
    "clf = models_select['RidgeClassifier_01']\n",
    "scores = cross_val_score(clf, x_train_smote, y_train_smote, cv=5, scoring='accuracy')\n",
    "\n",
    "print(scores)\n",
    "print(scores.mean())\n",
    "\n",
    "#Train set 80%\n",
    "clf = clf.fit(x_train_smote, y_train_smote)\n",
    "\n",
    "print(\"Training:\"+str(clf.score(x_train_smote, y_train_smote)))\n",
    "print(\"Test:\"+str(clf.score(x_test,y_test)))\n",
    "\n",
    "pred_train80 = clf.predict(x_train_smote)\n",
    "\n",
    "pred_test20 = clf.predict(x_test)\n",
    "\n",
    "print(f'\\nTrain Set:\\n{classification_report(y_train_smote, pred_train80)}')\n",
    "print(f'Test Set:\\n{classification_report(y_test, pred_test20)}')"
   ]
  },
  {
   "cell_type": "code",
   "execution_count": 140,
   "metadata": {},
   "outputs": [
    {
     "name": "stdout",
     "output_type": "stream",
     "text": [
      "[0.79447656 0.77263969 0.78355812 0.77135517 0.77313625]\n",
      "0.7790331581562989\n",
      "Training:0.7795477903391572\n",
      "Test:0.7377690802348337\n",
      "\n",
      "Train Set:\n",
      "              precision    recall  f1-score   support\n",
      "\n",
      "           0       0.82      0.72      0.77      3892\n",
      "           1       0.75      0.84      0.79      3892\n",
      "\n",
      "    accuracy                           0.78      7784\n",
      "   macro avg       0.78      0.78      0.78      7784\n",
      "weighted avg       0.78      0.78      0.78      7784\n",
      "\n",
      "Test Set:\n",
      "              precision    recall  f1-score   support\n",
      "\n",
      "           0       0.98      0.74      0.84       968\n",
      "           1       0.13      0.72      0.23        54\n",
      "\n",
      "    accuracy                           0.74      1022\n",
      "   macro avg       0.56      0.73      0.53      1022\n",
      "weighted avg       0.93      0.74      0.81      1022\n",
      "\n"
     ]
    }
   ],
   "source": [
    "clf = models_select['RidgeClassifier_02']\n",
    "scores = cross_val_score(clf, x_train_smote, y_train_smote, cv=5, scoring='accuracy')\n",
    "\n",
    "print(scores)\n",
    "print(scores.mean())\n",
    "\n",
    "#Train set 80%\n",
    "clf = clf.fit(x_train_smote, y_train_smote)\n",
    "\n",
    "print(\"Training:\"+str(clf.score(x_train_smote, y_train_smote)))\n",
    "print(\"Test:\"+str(clf.score(x_test,y_test)))\n",
    "\n",
    "pred_train80 = clf.predict(x_train_smote)\n",
    "\n",
    "pred_test20 = clf.predict(x_test)\n",
    "\n",
    "print(f'\\nTrain Set:\\n{classification_report(y_train_smote, pred_train80)}')\n",
    "print(f'Test Set:\\n{classification_report(y_test, pred_test20)}')"
   ]
  },
  {
   "cell_type": "markdown",
   "metadata": {
    "id": "aCNs06pET_tt"
   },
   "source": [
    "## <font color=\"MidnightBlue\">11.2 LinearSVC"
   ]
  },
  {
   "cell_type": "code",
   "execution_count": 98,
   "metadata": {
    "executionInfo": {
     "elapsed": 58,
     "status": "ok",
     "timestamp": 1662223513078,
     "user": {
      "displayName": "Anyamanee",
      "userId": "12687195745778250975"
     },
     "user_tz": -420
    },
    "id": "f_qRwHJ-T_tt"
   },
   "outputs": [
    {
     "name": "stdout",
     "output_type": "stream",
     "text": [
      "best_accuracy: 0.7818594357021033\n",
      "best_param: {'C': 0.001, 'loss': 'hinge', 'max_iter': 200000, 'multi_class': 'crammer_singer', 'penalty': 'l2'}\n"
     ]
    }
   ],
   "source": [
    "'''\n",
    "#Grid\n",
    "parameter_grid = {'penalty': ['l2'],\n",
    "                  'C': [0.0001, 0.001, 0.01, 0.1, 1, 1.25, 1.5],\n",
    "                  'loss': ['hinge', 'squared_hinge'],\n",
    "                  'multi_class': ['ovr', 'crammer_singer'],\n",
    "                  'max_iter': [200000, 100000]}\n",
    "\n",
    "linearsvc = LinearSVC()\n",
    "\n",
    "linearsvc_cv=GridSearchCV(estimator = linearsvc, param_grid = parameter_grid, scoring = 'accuracy', cv = 5, verbose=0)\n",
    "\n",
    "linearsvc_cv.fit(x_train_smote, y_train_smote)\n",
    "\n",
    "best_accuracy = linearsvc_cv.best_score_\n",
    "best_param = linearsvc_cv.best_params_\n",
    "print(f'best_accuracy: {best_accuracy}')\n",
    "print(f'best_param: {best_param}')\n",
    "\n",
    "'''"
   ]
  },
  {
   "cell_type": "code",
   "execution_count": 102,
   "metadata": {},
   "outputs": [],
   "source": [
    "#Model All\n",
    "models_select = {}\n",
    "# LinearSVC\n",
    "# Accuracy =0.781\n",
    "models_select['LinearSVC_01'] = LinearSVC(C= 0.001,multi_class = 'crammer_singer',penalty = 'l2',loss='hinge')"
   ]
  },
  {
   "cell_type": "code",
   "execution_count": 106,
   "metadata": {},
   "outputs": [
    {
     "name": "stdout",
     "output_type": "stream",
     "text": [
      "[0.79062299 0.77199743 0.78998073 0.78098908 0.77570694]\n",
      "0.7818594357021033\n",
      "Training:0.7818602261048304\n",
      "Test:0.723091976516634\n",
      "\n",
      "Train Set:\n",
      "              precision    recall  f1-score   support\n",
      "\n",
      "           0       0.84      0.70      0.76      3892\n",
      "           1       0.74      0.86      0.80      3892\n",
      "\n",
      "    accuracy                           0.78      7784\n",
      "   macro avg       0.79      0.78      0.78      7784\n",
      "weighted avg       0.79      0.78      0.78      7784\n",
      "\n",
      "Test Set:\n",
      "              precision    recall  f1-score   support\n",
      "\n",
      "           0       0.98      0.72      0.83       968\n",
      "           1       0.13      0.78      0.23        54\n",
      "\n",
      "    accuracy                           0.72      1022\n",
      "   macro avg       0.56      0.75      0.53      1022\n",
      "weighted avg       0.94      0.72      0.80      1022\n",
      "\n"
     ]
    }
   ],
   "source": [
    "clf = models_select['LinearSVC_01']\n",
    "scores = cross_val_score(clf, x_train_smote, y_train_smote, cv=5, scoring='accuracy')\n",
    "\n",
    "print(scores)\n",
    "print(scores.mean())\n",
    "\n",
    "#Train set 80%\n",
    "clf = clf.fit(x_train_smote, y_train_smote)\n",
    "\n",
    "print(\"Training:\"+str(clf.score(x_train_smote, y_train_smote)))\n",
    "print(\"Test:\"+str(clf.score(x_test,y_test)))\n",
    "\n",
    "pred_train80 = clf.predict(x_train_smote)\n",
    "\n",
    "pred_test20 = clf.predict(x_test)\n",
    "\n",
    "print(f'\\nTrain Set:\\n{classification_report(y_train_smote, pred_train80)}')\n",
    "print(f'Test Set:\\n{classification_report(y_test, pred_test20)}')"
   ]
  },
  {
   "cell_type": "markdown",
   "metadata": {
    "id": "xzBMRJyYSMeJ"
   },
   "source": [
    "## <font color=\"MidnightBlue\">11.3 SVC"
   ]
  },
  {
   "cell_type": "code",
   "execution_count": 107,
   "metadata": {},
   "outputs": [
    {
     "name": "stdout",
     "output_type": "stream",
     "text": [
      "best_accuracy: 0.7885401033230802\n",
      "best_param: {'C': 1.5, 'gamma': 'scale', 'kernel': 'rbf', 'random_state': 0}\n"
     ]
    }
   ],
   "source": [
    "'''\n",
    "#Grid\n",
    "parameter_grid = {'C': [0.25,0.5,0.75,1,1.25,1.5],\n",
    "                  'kernel': ['linear', 'rbf', 'sigmoid', 'poly'],\n",
    "                  'gamma': ['scale', 'auto'],'random_state':[0]}\n",
    "\n",
    "svm = SVC()\n",
    "\n",
    "svm_cv=GridSearchCV(estimator = svm, param_grid = parameter_grid, scoring = 'accuracy', cv = 5, verbose=0)\n",
    "\n",
    "svm_cv.fit(x_train_smote, y_train_smote)\n",
    "\n",
    "best_accuracy = svm_cv.best_score_\n",
    "best_param = svm_cv.best_params_\n",
    "print(f'best_accuracy: {best_accuracy}')\n",
    "print(f'best_param: {best_param}')\n",
    "\n",
    "'''"
   ]
  },
  {
   "cell_type": "code",
   "execution_count": 65,
   "metadata": {
    "executionInfo": {
     "elapsed": 59,
     "status": "ok",
     "timestamp": 1662223513080,
     "user": {
      "displayName": "Anyamanee",
      "userId": "12687195745778250975"
     },
     "user_tz": -420
    },
    "id": "7d7Hjs2hT_tu"
   },
   "outputs": [],
   "source": [
    "#Model All\n",
    "models_select = {}\n",
    "# SVC \n",
    "# Accuracy =0.7885\n",
    "models_select['SVC_01'] = SVC(C= 1.5, gamma = 'scale', kernel = 'rbf', random_state = 0)\n",
    "# Accuracy =0.7884\n",
    "models_select['SVC_02'] = SVC(C= 1.25, gamma = 'scale', kernel = 'rbf', random_state = 0)"
   ]
  },
  {
   "cell_type": "code",
   "execution_count": 85,
   "metadata": {},
   "outputs": [
    {
     "name": "stdout",
     "output_type": "stream",
     "text": [
      "[0.7970456  0.78098908 0.79511882 0.78484265 0.78470437]\n",
      "0.7885401033230802\n",
      "Training:0.7920092497430626\n",
      "Test:0.7524461839530333\n",
      "\n",
      "Train Set:\n",
      "              precision    recall  f1-score   support\n",
      "\n",
      "           0       0.83      0.74      0.78      3892\n",
      "           1       0.76      0.84      0.80      3892\n",
      "\n",
      "    accuracy                           0.79      7784\n",
      "   macro avg       0.80      0.79      0.79      7784\n",
      "weighted avg       0.80      0.79      0.79      7784\n",
      "\n",
      "Test Set:\n",
      "              precision    recall  f1-score   support\n",
      "\n",
      "           0       0.98      0.75      0.85       968\n",
      "           1       0.14      0.72      0.24        54\n",
      "\n",
      "    accuracy                           0.75      1022\n",
      "   macro avg       0.56      0.74      0.54      1022\n",
      "weighted avg       0.94      0.75      0.82      1022\n",
      "\n"
     ]
    }
   ],
   "source": [
    "clf = models_select['SVC_01']\n",
    "scores = cross_val_score(clf, x_train_smote, y_train_smote, cv=5, scoring='accuracy')\n",
    "\n",
    "print(scores)\n",
    "print(scores.mean())\n",
    "\n",
    "#Train set 80%\n",
    "clf = clf.fit(x_train_smote, y_train_smote)\n",
    "\n",
    "print(\"Training:\"+str(clf.score(x_train_smote, y_train_smote)))\n",
    "print(\"Test:\"+str(clf.score(x_test,y_test)))\n",
    "\n",
    "pred_train80 = clf.predict(x_train_smote)\n",
    "\n",
    "pred_test20 = clf.predict(x_test)\n",
    "\n",
    "print(f'\\nTrain Set:\\n{classification_report(y_train_smote, pred_train80)}')\n",
    "print(f'Test Set:\\n{classification_report(y_test, pred_test20)}')"
   ]
  },
  {
   "cell_type": "markdown",
   "metadata": {
    "id": "wRC1ZWNLT_tv"
   },
   "source": [
    "## <font color=\"MidnightBlue\">11.4 LogisticRegression"
   ]
  },
  {
   "cell_type": "code",
   "execution_count": null,
   "metadata": {
    "colab": {
     "base_uri": "https://localhost:8080/"
    },
    "executionInfo": {
     "elapsed": 235024,
     "status": "ok",
     "timestamp": 1662224328899,
     "user": {
      "displayName": "Anyamanee",
      "userId": "12687195745778250975"
     },
     "user_tz": -420
    },
    "id": "TZlHBQX3T_tv",
    "outputId": "665f25b5-2fb8-49af-ada6-68ab288b0b1d"
   },
   "outputs": [],
   "source": [
    "'''\n",
    "from sklearn.model_selection import GridSearchCV\n",
    "from sklearn.linear_model import LogisticRegression\n",
    "\n",
    "#Grid\n",
    "parameter_grid = {'solver': ['newton-cg', 'lbfgs', 'liblinear', 'sag', 'saga'],\n",
    "              'penalty':['l1','l2','elasticnet'],\n",
    "              'C':[0.0001, 0.001, 0.01, 0.1, 1, 10, 100],\n",
    "              'max_iter': list(range(10,200,10)),\n",
    "              }\n",
    "\n",
    "logreg=LogisticRegression()\n",
    "\n",
    "logreg_cv=GridSearchCV(estimator = logreg,  \n",
    "                           param_grid = parameter_grid,\n",
    "                           scoring = 'precision',\n",
    "                           cv = 5,\n",
    "                           verbose=0)\n",
    "\n",
    "logreg_cv.fit(x_train_smote, y_train_smote)\n",
    "\n",
    "print(\"tuned hpyerparameters :(best parameters) \",logreg_cv.best_params_)\n",
    "print(\"best score :\",logreg_cv.best_score_)\n",
    "\n",
    "'''"
   ]
  },
  {
   "cell_type": "code",
   "execution_count": null,
   "metadata": {
    "executionInfo": {
     "elapsed": 417,
     "status": "ok",
     "timestamp": 1662224637262,
     "user": {
      "displayName": "Anyamanee",
      "userId": "12687195745778250975"
     },
     "user_tz": -420
    },
    "id": "_pt5tO7bnVlJ"
   },
   "outputs": [],
   "source": [
    "#Model All\n",
    "models_select = {}\n",
    "# Logistic Regression \n",
    "# Accuracy =0.79\n",
    "models_select['LogisticRegression_01'] = LogisticRegression(C= 0.001, max_iter= 10,solver = 'saga', penalty = 'l1')\n",
    "# Preciion =0.76\n",
    "models_select['LogisticRegression_02'] = LogisticRegression(C= 1, max_iter= 10,solver = 'sag', penalty = 'l2')\n"
   ]
  },
  {
   "cell_type": "code",
   "execution_count": null,
   "metadata": {
    "colab": {
     "base_uri": "https://localhost:8080/"
    },
    "executionInfo": {
     "elapsed": 356,
     "status": "ok",
     "timestamp": 1662224640568,
     "user": {
      "displayName": "Anyamanee",
      "userId": "12687195745778250975"
     },
     "user_tz": -420
    },
    "id": "uSGJxh4gnDVJ",
    "outputId": "67b0ac09-4948-46df-ecf7-b11d0e188f7b"
   },
   "outputs": [],
   "source": [
    "clf = models_select['LogisticRegression_01']\n",
    "scores = cross_val_score(clf, x_train_smote, y_train_smote, cv=5, scoring='accuracy')\n",
    "\n",
    "print(scores)\n",
    "print(scores.mean())\n",
    "\n",
    "#Train set 80%\n",
    "clf = clf.fit(x_train_smote, y_train_smote)\n",
    "\n",
    "print(\"Training:\"+str(clf.score(x_train_smote, y_train_smote)))\n",
    "print(\"Test:\"+str(clf.score(x_test,y_test)))\n",
    "\n",
    "pred_train80 = clf.predict(x_train_smote)\n",
    "\n",
    "pred_test20 = clf.predict(x_test)\n",
    "clf.predict_proba(x_test[:1])\n",
    "\n",
    "print(f'\\nTrain Set:\\n{classification_report(y_train_smote, pred_train80)}')\n",
    "print(f'Test Set:\\n{classification_report(y_test, pred_test20)}')"
   ]
  },
  {
   "cell_type": "code",
   "execution_count": null,
   "metadata": {
    "colab": {
     "base_uri": "https://localhost:8080/"
    },
    "executionInfo": {
     "elapsed": 402,
     "status": "ok",
     "timestamp": 1662224645716,
     "user": {
      "displayName": "Anyamanee",
      "userId": "12687195745778250975"
     },
     "user_tz": -420
    },
    "id": "k9J3lEromiJ0",
    "outputId": "ee4b2bf4-f81d-4468-c7a8-1c7508dd1489"
   },
   "outputs": [],
   "source": [
    "clf = models_select['LogisticRegression_02']\n",
    "scores = cross_val_score(clf, x_train_smote, y_train_smote, cv=5, scoring='accuracy')\n",
    "\n",
    "print(scores)\n",
    "print(scores.mean())\n",
    "\n",
    "#Train set 80%\n",
    "clf = clf.fit(x_train_smote, y_train_smote)\n",
    "\n",
    "print(\"Training:\"+str(clf.score(x_train_smote, y_train_smote)))\n",
    "print(\"Test:\"+str(clf.score(x_test,y_test)))\n",
    "\n",
    "pred_train80 = clf.predict(x_train_smote)\n",
    "\n",
    "pred_test20 = clf.predict(x_test)\n",
    "clf.predict_proba(x_test[:1])\n",
    "\n",
    "print(f'\\nTrain Set:\\n{classification_report(y_train_smote, pred_train80)}')\n",
    "print(f'Test Set:\\n{classification_report(y_test, pred_test20)}')"
   ]
  },
  {
   "cell_type": "markdown",
   "metadata": {
    "id": "OSMPqmUnSHB8"
   },
   "source": [
    "## <font color=\"MidnightBlue\">11.6 KNN"
   ]
  },
  {
   "cell_type": "code",
   "execution_count": null,
   "metadata": {
    "colab": {
     "base_uri": "https://localhost:8080/"
    },
    "executionInfo": {
     "elapsed": 67424,
     "status": "ok",
     "timestamp": 1662225854808,
     "user": {
      "displayName": "Anyamanee",
      "userId": "12687195745778250975"
     },
     "user_tz": -420
    },
    "id": "HyfVJSdmSGHy",
    "outputId": "b8149957-2001-4728-cfcf-98e4b6ea534d"
   },
   "outputs": [],
   "source": [
    "'''\n",
    "from sklearn.neighbors import KNeighborsClassifier\n",
    "\n",
    "#Grid\n",
    "parameter_grid = {'weights': ['uniform', 'distance'],\n",
    "              'algorithm':['auto','ball_tree','kd_tree'],\n",
    "              'leaf_size':list(range(10,101,10)),\n",
    "              'n_neighbors': list(range(1,5,1)),\n",
    "              }\n",
    "\n",
    "knn = KNeighborsClassifier()\n",
    "\n",
    "knn_cv=GridSearchCV(estimator = knn,  \n",
    "                           param_grid = parameter_grid,\n",
    "                           scoring = 'precision',\n",
    "                           cv = 5,\n",
    "                           verbose=0)\n",
    "knn_cv.fit(x_train_smote, y_train_smote)\n",
    "\n",
    "#knn = KNeighborsClassifier)\n",
    "\n",
    "print(\"tuned hpyerparameters :(best parameters) \",knn_cv.best_params_)\n",
    "print(\"best score :\",knn_cv.best_score_)\n",
    "\n",
    "'''"
   ]
  },
  {
   "cell_type": "code",
   "execution_count": null,
   "metadata": {
    "executionInfo": {
     "elapsed": 4,
     "status": "ok",
     "timestamp": 1662225854809,
     "user": {
      "displayName": "Anyamanee",
      "userId": "12687195745778250975"
     },
     "user_tz": -420
    },
    "id": "iARSfZo9Ujd7"
   },
   "outputs": [],
   "source": [
    "models_select['KNN_01'] = KNeighborsClassifier(n_neighbors=5, leaf_size = 10, weights='distance')"
   ]
  },
  {
   "cell_type": "code",
   "execution_count": null,
   "metadata": {
    "colab": {
     "base_uri": "https://localhost:8080/"
    },
    "executionInfo": {
     "elapsed": 577,
     "status": "ok",
     "timestamp": 1662225855947,
     "user": {
      "displayName": "Anyamanee",
      "userId": "12687195745778250975"
     },
     "user_tz": -420
    },
    "id": "kltP3jVLVxHm",
    "outputId": "9c5ca920-67ac-4475-9298-896339584ac0"
   },
   "outputs": [],
   "source": [
    "clf = models_select['KNN_01']\n",
    "scores = cross_val_score(clf, x_train_smote, y_train_smote, cv=5, scoring='accuracy')\n",
    "\n",
    "print(scores)\n",
    "print(scores.mean())\n",
    "\n",
    "#Train set 80%\n",
    "clf = clf.fit(x_train_smote, y_train_smote)\n",
    "\n",
    "print(\"Training:\"+str(clf.score(x_train_smote, y_train_smote)))\n",
    "print(\"Test:\"+str(clf.score(x_test,y_test)))\n",
    "\n",
    "pred_train80 = clf.predict(x_train_smote)\n",
    "\n",
    "pred_test20 = clf.predict(x_test)\n",
    "clf.predict_proba(x_test[:1])\n",
    "\n",
    "print(f'\\nTrain Set:\\n{classification_report(y_train_smote, pred_train80)}')\n",
    "print(f'Test Set:\\n{classification_report(y_test, pred_test20)}')"
   ]
  },
  {
   "cell_type": "markdown",
   "metadata": {
    "colab": {
     "base_uri": "https://localhost:8080/"
    },
    "id": "1XXs7iIsYhTt",
    "outputId": "80129d69-9f24-404a-ed0f-3ce11ac8ec96"
   },
   "source": [
    "## Not finish\n",
    "from sklearn.neural_network import MLPClassifier\n",
    "\n",
    "#Grid\n",
    "parameter_grid = {'activation': ['identity', 'logistic', 'tanh', 'relu'],\n",
    "              'solver':['lbfgs','sgd', 'adam'],\n",
    "              'alpha': 10.0 ** -np.arange(1, 7),\n",
    "              'max_iter': list(range(500,1500,500)),\n",
    "              'hidden_layer_sizes':np.arange(5, 12),\n",
    "              'random_state':[0,1,2]\n",
    "              }\n",
    "\n",
    "NN = MLPClassifier()\n",
    "\n",
    "NN_cv=GridSearchCV(estimator = NN,  \n",
    "                           param_grid = parameter_grid,\n",
    "                           scoring = 'accuracy',\n",
    "                           cv = 5,\n",
    "                           verbose=0)\n",
    "NN_cv.fit(x_train_smote, y_train_smote)\n"
   ]
  },
  {
   "cell_type": "markdown",
   "metadata": {
    "id": "xv6A4hAGa3bl"
   },
   "source": [
    "print(\"tuned hpyerparameters :(best parameters) \",knn_cv.best_params_)\n",
    "print(\"best score :\",knn_cv.best_score_)"
   ]
  },
  {
   "cell_type": "markdown",
   "metadata": {
    "id": "GK1D8tL4a7YE"
   },
   "source": [
    "models_select['NN_01'] = MLPClassifier()\n"
   ]
  },
  {
   "cell_type": "markdown",
   "metadata": {
    "id": "7AATIY1kbF5C"
   },
   "source": [
    "clf = models_select['NN_01']\n",
    "scores = cross_val_score(clf, x_train_smote, y_train_smote, cv=5, scoring='accuracy')\n",
    "\n",
    "print(scores)\n",
    "print(scores.mean())\n",
    "\n",
    "#Train set 80%\n",
    "clf = clf.fit(x_train_smote, y_train_smote)\n",
    "\n",
    "print(\"Training:\"+str(clf.score(x_train_smote, y_train_smote)))\n",
    "print(\"Test:\"+str(clf.score(x_test,y_test)))\n",
    "\n",
    "pred_train80 = clf.predict(x_train_smote)\n",
    "\n",
    "pred_train20 = clf.predict(x_test)\n",
    "clf.predict_proba(x_test[:1])\n",
    "\n",
    "print(f'\\nTrain Set:\\n{classification_report(y_train_smote, pred_train80)}')\n",
    "print(f'Test Set:\\n{classification_report(y_test, pred_train20)}')"
   ]
  },
  {
   "cell_type": "markdown",
   "metadata": {
    "id": "AUbm09U3bgl1"
   },
   "source": [
    "for key in models_select.keys():\n",
    "    \n",
    "    # Fit the classifier model\n",
    "    models_select[key].fit(x_train_smote, y_train_smote)\n",
    "    \n",
    "    # Prediction \n",
    "    predictions = models_select[key].predict(x_test)\n",
    "    \n",
    "    # Calculate Accuracy, Precision and Recall Metrics\n",
    "    accuracy[key] = accuracy_score(predictions,y_test)\n",
    "    precision[key] = precision_score(predictions, y_test)\n",
    "    recall[key] = recall_score(predictions, y_test)\n",
    "    f1[key] = f1_score(predictions, y_test)\n",
    "\n",
    "import pandas as pd\n",
    "\n",
    "df_model = pd.DataFrame(index=models_select.keys(), columns=['Accuracy', 'Precision', 'Recall', 'F1'])\n",
    "df_model['Accuracy'] = accuracy.values()\n",
    "df_model['Precision'] = precision.values()\n",
    "df_model['Recall'] = recall.values()\n",
    "df_model['F1'] = f1.values()\n",
    "\n",
    "df_model"
   ]
  },
  {
   "cell_type": "markdown",
   "metadata": {
    "id": "IxwQaVPWSKCD"
   },
   "source": [
    "## <font color=\"MidnightBlue\">11.5 RandomForestClassifier"
   ]
  },
  {
   "cell_type": "code",
   "execution_count": null,
   "metadata": {
    "executionInfo": {
     "elapsed": 5,
     "status": "ok",
     "timestamp": 1662178084704,
     "user": {
      "displayName": "Anyamanee",
      "userId": "12687195745778250975"
     },
     "user_tz": -420
    },
    "id": "EpkWEURkemh8"
   },
   "outputs": [],
   "source": []
  },
  {
   "cell_type": "markdown",
   "metadata": {
    "id": "wqTK4AyKrR1m"
   },
   "source": [
    "# <font color=\"MidnightBlue\">12. Keras"
   ]
  },
  {
   "cell_type": "markdown",
   "metadata": {
    "id": "1ueNhBoRrKvv"
   },
   "source": [
    "[1] https://www.kaggle.com/code/siddheshera/stroke-eda-smote-9-models-90-accuracy\n",
    "[2] https://www.kaggle.com/code/joshuaswords/predicting-a-stroke-shap-lime-explainer-eli5\n",
    "[3]https://www.kaggle.com/code/bhuvanchennoju/data-storytelling-auc-focus-on-strokes"
   ]
  }
 ],
 "metadata": {
  "colab": {
   "collapsed_sections": [],
   "provenance": []
  },
  "kernelspec": {
   "display_name": "Python 3 (ipykernel)",
   "language": "python",
   "name": "python3"
  },
  "language_info": {
   "codemirror_mode": {
    "name": "ipython",
    "version": 3
   },
   "file_extension": ".py",
   "mimetype": "text/x-python",
   "name": "python",
   "nbconvert_exporter": "python",
   "pygments_lexer": "ipython3",
   "version": "3.8.13"
  },
  "vscode": {
   "interpreter": {
    "hash": "2043299c89c8cd0b4d1a6f5cf4529bd58e6a4e0fe3181a25e0d328c821cdc5c5"
   }
  }
 },
 "nbformat": 4,
 "nbformat_minor": 1
}
