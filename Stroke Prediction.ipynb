{
 "cells": [
  {
   "cell_type": "markdown",
   "metadata": {
    "id": "sjt-UcUnYK9I"
   },
   "source": [
    "# <span style='background :#D6DBDF ' > **Topic: Stroke Prediction**"
   ]
  },
  {
   "cell_type": "markdown",
   "metadata": {
    "id": "mfL13G1074-H"
   },
   "source": [
    "#### Overview\n",
    "1. [Purpose](#1) <a href= \"1\"></a>\n",
    "2. [Data and python packages importing](#2) <a href= \"2\"></a>\n",
    "3. [Data cleaning process](#3) <a href= \"3\"></a>\n",
    "4. [Exploratory Data Analysis (EDA)](#4) <a href= \"4\"></a><br>\n",
    "    4.1 [Categories Data](#4-1) <a href= \"4.1\"></a><br>\n",
    "    4.2 [Continuous data](#4-2) <a href= \"4.2\"></a>\n",
    "5. [Data Preprocessing (Encoding)](#5) <a href= \"5\"></a><br>\n",
    "    5.1 [Binary Categories](#5-1) <a href= \"5.1\"></a><br>\n",
    "    5.2 [Multicategory:  One-Hot encoding](#5-2) <a href= \"5.2\"></a><br>\n",
    "    5.3 [Assign binany category and multi-category to new dataframe \"df_preProcess\"](#5-3) <a href= \"5.3\"></a>\n",
    "6. [Feature selection](#6) <a href= \"6\"></a><br>\n",
    "    6.1 [Pearson Correlation](#6-1) <a href= \"6.1\"></a><br>\n",
    "    6.2 [Final Dateset](#6-2) <a href= \"6.2\"></a>\n",
    "7. [Splitting the dataset into the Training set (80%) and Test set (20%)](#7) <a href= \"7\"></a>\n",
    "8. [Feature Scaling with StandardScaler](#8) <a href= \"8\"></a>\n",
    "9. [Handling Imbalance data using SMOTE](#9) <a href= \"9\"></a>\n",
    "10. [Model Selection](#10) <a href= \"10\"></a><br>\n",
    "    10.1 [K-Fold Cross Validation](#10-1) <a href= \"10.1\"></a><br>\n",
    "    10.2 [Confusion matrix](#10-2) <a href= \"10.2\"></a><br>\n",
    "    10.3 [Sammary Model Selection](#10-3) <a href= \"10.3\"></a>\n",
    "11. [Tuning the Models](#11) <a href= \"11\"></a><br>\n",
    "    11.1 [RidgeClassifier](#11-1) <a href= \"11.1\"></a><br>\n",
    "    11.2 [LinearSVC](#11-2) <a href= \"11.2\"></a><br>\n",
    "    11.3 [SVC](#11-3) <a href= \"11.3\"></a><br>\n",
    "    11.4 [LogisticRegression](#11-4) <a href= \"11.4\"></a><br>\n",
    "    11.5 [KNeighborsClassifier](#11-5) <a href= \"11.5\"></a><br>\n",
    "    11.6 [RandomForestClassifier](#11-6) <a href= \"11.6\"></a><br>\n",
    "    11.7 [Summary Model Accuracy](#11-7) <a href= \"11.7\"></a>\n",
    "12. [Keras](#12) <a href= \"1\"></a><br>\n",
    "    12.1 [Prepare the environment](#12-1) <a href= \"12.1\"></a><br>\n",
    "    12.2 [Create the network architecture and tuning hyperparameter (KerasTuner)](#12-2) <a href= \"12.2\"></a><br>\n",
    "    12.3 [Compile the model](#12-3) <a href= \"12.3\"></a><br>\n",
    "    12.4 [Train the model on train set](#12-4) <a href= \"12.4\"></a><br>\n",
    "    12.5 [Evaluate Model](#12-5) <a href= \"12.5\"></a>"
   ]
  },
  {
   "cell_type": "markdown",
   "metadata": {
    "id": "qPRkghsv74-I"
   },
   "source": [
    "# <font color=\"MidnightBlue\">1. Purpose<a id=\"1\"></a>"
   ]
  },
  {
   "cell_type": "markdown",
   "metadata": {
    "id": "0_49quvZ74-J"
   },
   "source": [
    "To compared Traditional ML and MLP in classification problem"
   ]
  },
  {
   "cell_type": "markdown",
   "metadata": {
    "id": "O7a1jTgR74-K"
   },
   "source": [
    "# <font color=\"MidnightBlue\">2. Data and Python packages importing<a id=\"2\"></a>"
   ]
  },
  {
   "cell_type": "code",
   "execution_count": 1,
   "metadata": {
    "executionInfo": {
     "elapsed": 613,
     "status": "ok",
     "timestamp": 1662223462164,
     "user": {
      "displayName": "Anyamanee",
      "userId": "12687195745778250975"
     },
     "user_tz": -420
    },
    "id": "sSlc8QvveCPE"
   },
   "outputs": [
    {
     "ename": "KeyboardInterrupt",
     "evalue": "",
     "output_type": "error",
     "traceback": [
      "\u001b[1;31m---------------------------------------------------------------------------\u001b[0m",
      "\u001b[1;31mKeyboardInterrupt\u001b[0m                         Traceback (most recent call last)",
      "\u001b[1;32md:\\Nida\\22_semester1\\DADS7202_deeplearning\\Homework\\stroke_prediction\\stroke_prediction\\Stroke Prediction.ipynb Cell 6\u001b[0m in \u001b[0;36m<cell line: 3>\u001b[1;34m()\u001b[0m\n\u001b[0;32m      <a href='vscode-notebook-cell:/d%3A/Nida/22_semester1/DADS7202_deeplearning/Homework/stroke_prediction/stroke_prediction/Stroke%20Prediction.ipynb#W5sZmlsZQ%3D%3D?line=0'>1</a>\u001b[0m \u001b[39mimport\u001b[39;00m \u001b[39mpandas\u001b[39;00m \u001b[39mas\u001b[39;00m \u001b[39mpd\u001b[39;00m\n\u001b[0;32m      <a href='vscode-notebook-cell:/d%3A/Nida/22_semester1/DADS7202_deeplearning/Homework/stroke_prediction/stroke_prediction/Stroke%20Prediction.ipynb#W5sZmlsZQ%3D%3D?line=1'>2</a>\u001b[0m \u001b[39mimport\u001b[39;00m \u001b[39mnumpy\u001b[39;00m \u001b[39mas\u001b[39;00m \u001b[39mnp\u001b[39;00m\n\u001b[1;32m----> <a href='vscode-notebook-cell:/d%3A/Nida/22_semester1/DADS7202_deeplearning/Homework/stroke_prediction/stroke_prediction/Stroke%20Prediction.ipynb#W5sZmlsZQ%3D%3D?line=2'>3</a>\u001b[0m \u001b[39mimport\u001b[39;00m \u001b[39mseaborn\u001b[39;00m \u001b[39mas\u001b[39;00m \u001b[39msns\u001b[39;00m\n\u001b[0;32m      <a href='vscode-notebook-cell:/d%3A/Nida/22_semester1/DADS7202_deeplearning/Homework/stroke_prediction/stroke_prediction/Stroke%20Prediction.ipynb#W5sZmlsZQ%3D%3D?line=3'>4</a>\u001b[0m \u001b[39mimport\u001b[39;00m \u001b[39mmatplotlib\u001b[39;00m\u001b[39m.\u001b[39;00m\u001b[39mpyplot\u001b[39;00m \u001b[39mas\u001b[39;00m \u001b[39mplt\u001b[39;00m\n\u001b[0;32m      <a href='vscode-notebook-cell:/d%3A/Nida/22_semester1/DADS7202_deeplearning/Homework/stroke_prediction/stroke_prediction/Stroke%20Prediction.ipynb#W5sZmlsZQ%3D%3D?line=4'>5</a>\u001b[0m \u001b[39mfrom\u001b[39;00m \u001b[39msklearn\u001b[39;00m\u001b[39m.\u001b[39;00m\u001b[39mmetrics\u001b[39;00m \u001b[39mimport\u001b[39;00m confusion_matrix,plot_confusion_matrix\n",
      "File \u001b[1;32mc:\\Users\\Mayypeeya\\Anaconda3\\envs\\deeplearning\\lib\\site-packages\\seaborn\\__init__.py:2\u001b[0m, in \u001b[0;36m<module>\u001b[1;34m\u001b[0m\n\u001b[0;32m      1\u001b[0m \u001b[39m# Import seaborn objects\u001b[39;00m\n\u001b[1;32m----> 2\u001b[0m \u001b[39mfrom\u001b[39;00m \u001b[39m.\u001b[39;00m\u001b[39mrcmod\u001b[39;00m \u001b[39mimport\u001b[39;00m \u001b[39m*\u001b[39m  \u001b[39m# noqa: F401,F403\u001b[39;00m\n\u001b[0;32m      3\u001b[0m \u001b[39mfrom\u001b[39;00m \u001b[39m.\u001b[39;00m\u001b[39mutils\u001b[39;00m \u001b[39mimport\u001b[39;00m \u001b[39m*\u001b[39m  \u001b[39m# noqa: F401,F403\u001b[39;00m\n\u001b[0;32m      4\u001b[0m \u001b[39mfrom\u001b[39;00m \u001b[39m.\u001b[39;00m\u001b[39mpalettes\u001b[39;00m \u001b[39mimport\u001b[39;00m \u001b[39m*\u001b[39m  \u001b[39m# noqa: F401,F403\u001b[39;00m\n",
      "File \u001b[1;32mc:\\Users\\Mayypeeya\\Anaconda3\\envs\\deeplearning\\lib\\site-packages\\seaborn\\rcmod.py:7\u001b[0m, in \u001b[0;36m<module>\u001b[1;34m\u001b[0m\n\u001b[0;32m      5\u001b[0m \u001b[39mimport\u001b[39;00m \u001b[39mmatplotlib\u001b[39;00m \u001b[39mas\u001b[39;00m \u001b[39mmpl\u001b[39;00m\n\u001b[0;32m      6\u001b[0m \u001b[39mfrom\u001b[39;00m \u001b[39mcycler\u001b[39;00m \u001b[39mimport\u001b[39;00m cycler\n\u001b[1;32m----> 7\u001b[0m \u001b[39mfrom\u001b[39;00m \u001b[39m.\u001b[39;00m \u001b[39mimport\u001b[39;00m palettes\n\u001b[0;32m     10\u001b[0m __all__ \u001b[39m=\u001b[39m [\u001b[39m\"\u001b[39m\u001b[39mset_theme\u001b[39m\u001b[39m\"\u001b[39m, \u001b[39m\"\u001b[39m\u001b[39mset\u001b[39m\u001b[39m\"\u001b[39m, \u001b[39m\"\u001b[39m\u001b[39mreset_defaults\u001b[39m\u001b[39m\"\u001b[39m, \u001b[39m\"\u001b[39m\u001b[39mreset_orig\u001b[39m\u001b[39m\"\u001b[39m,\n\u001b[0;32m     11\u001b[0m            \u001b[39m\"\u001b[39m\u001b[39maxes_style\u001b[39m\u001b[39m\"\u001b[39m, \u001b[39m\"\u001b[39m\u001b[39mset_style\u001b[39m\u001b[39m\"\u001b[39m, \u001b[39m\"\u001b[39m\u001b[39mplotting_context\u001b[39m\u001b[39m\"\u001b[39m, \u001b[39m\"\u001b[39m\u001b[39mset_context\u001b[39m\u001b[39m\"\u001b[39m,\n\u001b[0;32m     12\u001b[0m            \u001b[39m\"\u001b[39m\u001b[39mset_palette\u001b[39m\u001b[39m\"\u001b[39m]\n\u001b[0;32m     15\u001b[0m _style_keys \u001b[39m=\u001b[39m [\n\u001b[0;32m     16\u001b[0m \n\u001b[0;32m     17\u001b[0m     \u001b[39m\"\u001b[39m\u001b[39maxes.facecolor\u001b[39m\u001b[39m\"\u001b[39m,\n\u001b[1;32m   (...)\u001b[0m\n\u001b[0;32m     52\u001b[0m \n\u001b[0;32m     53\u001b[0m ]\n",
      "File \u001b[1;32mc:\\Users\\Mayypeeya\\Anaconda3\\envs\\deeplearning\\lib\\site-packages\\seaborn\\palettes.py:9\u001b[0m, in \u001b[0;36m<module>\u001b[1;34m\u001b[0m\n\u001b[0;32m      5\u001b[0m \u001b[39mimport\u001b[39;00m \u001b[39mmatplotlib\u001b[39;00m \u001b[39mas\u001b[39;00m \u001b[39mmpl\u001b[39;00m\n\u001b[0;32m      7\u001b[0m \u001b[39mfrom\u001b[39;00m \u001b[39m.\u001b[39;00m\u001b[39mexternal\u001b[39;00m \u001b[39mimport\u001b[39;00m husl\n\u001b[1;32m----> 9\u001b[0m \u001b[39mfrom\u001b[39;00m \u001b[39m.\u001b[39;00m\u001b[39mutils\u001b[39;00m \u001b[39mimport\u001b[39;00m desaturate, get_color_cycle\n\u001b[0;32m     10\u001b[0m \u001b[39mfrom\u001b[39;00m \u001b[39m.\u001b[39;00m\u001b[39mcolors\u001b[39;00m \u001b[39mimport\u001b[39;00m xkcd_rgb, crayons\n\u001b[0;32m     13\u001b[0m __all__ \u001b[39m=\u001b[39m [\u001b[39m\"\u001b[39m\u001b[39mcolor_palette\u001b[39m\u001b[39m\"\u001b[39m, \u001b[39m\"\u001b[39m\u001b[39mhls_palette\u001b[39m\u001b[39m\"\u001b[39m, \u001b[39m\"\u001b[39m\u001b[39mhusl_palette\u001b[39m\u001b[39m\"\u001b[39m, \u001b[39m\"\u001b[39m\u001b[39mmpl_palette\u001b[39m\u001b[39m\"\u001b[39m,\n\u001b[0;32m     14\u001b[0m            \u001b[39m\"\u001b[39m\u001b[39mdark_palette\u001b[39m\u001b[39m\"\u001b[39m, \u001b[39m\"\u001b[39m\u001b[39mlight_palette\u001b[39m\u001b[39m\"\u001b[39m, \u001b[39m\"\u001b[39m\u001b[39mdiverging_palette\u001b[39m\u001b[39m\"\u001b[39m,\n\u001b[0;32m     15\u001b[0m            \u001b[39m\"\u001b[39m\u001b[39mblend_palette\u001b[39m\u001b[39m\"\u001b[39m, \u001b[39m\"\u001b[39m\u001b[39mxkcd_palette\u001b[39m\u001b[39m\"\u001b[39m, \u001b[39m\"\u001b[39m\u001b[39mcrayon_palette\u001b[39m\u001b[39m\"\u001b[39m,\n\u001b[0;32m     16\u001b[0m            \u001b[39m\"\u001b[39m\u001b[39mcubehelix_palette\u001b[39m\u001b[39m\"\u001b[39m, \u001b[39m\"\u001b[39m\u001b[39mset_color_codes\u001b[39m\u001b[39m\"\u001b[39m]\n",
      "File \u001b[1;32mc:\\Users\\Mayypeeya\\Anaconda3\\envs\\deeplearning\\lib\\site-packages\\seaborn\\utils.py:10\u001b[0m, in \u001b[0;36m<module>\u001b[1;34m\u001b[0m\n\u001b[0;32m      7\u001b[0m \u001b[39mfrom\u001b[39;00m \u001b[39murllib\u001b[39;00m\u001b[39m.\u001b[39;00m\u001b[39mrequest\u001b[39;00m \u001b[39mimport\u001b[39;00m urlopen, urlretrieve\n\u001b[0;32m      9\u001b[0m \u001b[39mimport\u001b[39;00m \u001b[39mnumpy\u001b[39;00m \u001b[39mas\u001b[39;00m \u001b[39mnp\u001b[39;00m\n\u001b[1;32m---> 10\u001b[0m \u001b[39mfrom\u001b[39;00m \u001b[39mscipy\u001b[39;00m \u001b[39mimport\u001b[39;00m stats\n\u001b[0;32m     11\u001b[0m \u001b[39mimport\u001b[39;00m \u001b[39mpandas\u001b[39;00m \u001b[39mas\u001b[39;00m \u001b[39mpd\u001b[39;00m\n\u001b[0;32m     12\u001b[0m \u001b[39mimport\u001b[39;00m \u001b[39mmatplotlib\u001b[39;00m \u001b[39mas\u001b[39;00m \u001b[39mmpl\u001b[39;00m\n",
      "File \u001b[1;32mc:\\Users\\Mayypeeya\\Anaconda3\\envs\\deeplearning\\lib\\site-packages\\scipy\\__init__.py:144\u001b[0m, in \u001b[0;36m<module>\u001b[1;34m\u001b[0m\n\u001b[0;32m    141\u001b[0m \u001b[39mfrom\u001b[39;00m \u001b[39mscipy\u001b[39;00m\u001b[39m.\u001b[39;00m\u001b[39mversion\u001b[39;00m \u001b[39mimport\u001b[39;00m version \u001b[39mas\u001b[39;00m __version__\n\u001b[0;32m    143\u001b[0m \u001b[39m# Allow distributors to run custom init code\u001b[39;00m\n\u001b[1;32m--> 144\u001b[0m \u001b[39mfrom\u001b[39;00m \u001b[39m.\u001b[39;00m \u001b[39mimport\u001b[39;00m _distributor_init\n\u001b[0;32m    145\u001b[0m \u001b[39mdel\u001b[39;00m _distributor_init\n\u001b[0;32m    147\u001b[0m \u001b[39mfrom\u001b[39;00m \u001b[39mscipy\u001b[39;00m\u001b[39m.\u001b[39;00m\u001b[39m_lib\u001b[39;00m \u001b[39mimport\u001b[39;00m _pep440\n",
      "File \u001b[1;32mc:\\Users\\Mayypeeya\\Anaconda3\\envs\\deeplearning\\lib\\site-packages\\scipy\\_distributor_init.py:64\u001b[0m, in \u001b[0;36m<module>\u001b[1;34m\u001b[0m\n\u001b[0;32m     62\u001b[0m     os\u001b[39m.\u001b[39mchdir(libs_path)\n\u001b[0;32m     63\u001b[0m     \u001b[39mfor\u001b[39;00m filename \u001b[39min\u001b[39;00m glob\u001b[39m.\u001b[39mglob(os\u001b[39m.\u001b[39mpath\u001b[39m.\u001b[39mjoin(libs_path, \u001b[39m'\u001b[39m\u001b[39m*dll\u001b[39m\u001b[39m'\u001b[39m)):\n\u001b[1;32m---> 64\u001b[0m         WinDLL(os\u001b[39m.\u001b[39;49mpath\u001b[39m.\u001b[39;49mabspath(filename))\n\u001b[0;32m     65\u001b[0m \u001b[39mfinally\u001b[39;00m:\n\u001b[0;32m     66\u001b[0m     os\u001b[39m.\u001b[39mchdir(owd)\n",
      "File \u001b[1;32mc:\\Users\\Mayypeeya\\Anaconda3\\envs\\deeplearning\\lib\\ctypes\\__init__.py:373\u001b[0m, in \u001b[0;36mCDLL.__init__\u001b[1;34m(self, name, mode, handle, use_errno, use_last_error, winmode)\u001b[0m\n\u001b[0;32m    370\u001b[0m \u001b[39mself\u001b[39m\u001b[39m.\u001b[39m_FuncPtr \u001b[39m=\u001b[39m _FuncPtr\n\u001b[0;32m    372\u001b[0m \u001b[39mif\u001b[39;00m handle \u001b[39mis\u001b[39;00m \u001b[39mNone\u001b[39;00m:\n\u001b[1;32m--> 373\u001b[0m     \u001b[39mself\u001b[39m\u001b[39m.\u001b[39m_handle \u001b[39m=\u001b[39m _dlopen(\u001b[39mself\u001b[39;49m\u001b[39m.\u001b[39;49m_name, mode)\n\u001b[0;32m    374\u001b[0m \u001b[39melse\u001b[39;00m:\n\u001b[0;32m    375\u001b[0m     \u001b[39mself\u001b[39m\u001b[39m.\u001b[39m_handle \u001b[39m=\u001b[39m handle\n",
      "\u001b[1;31mKeyboardInterrupt\u001b[0m: "
     ]
    }
   ],
   "source": [
    "import pandas as pd\n",
    "import numpy as np\n",
    "import seaborn as sns\n",
    "import matplotlib.pyplot as plt\n",
    "from sklearn.metrics import confusion_matrix,plot_confusion_matrix\n",
    "from sklearn.model_selection import train_test_split\n",
    "from sklearn.compose import ColumnTransformer\n",
    "from sklearn.datasets import fetch_openml\n",
    "from sklearn.pipeline import Pipeline\n",
    "from sklearn.preprocessing import StandardScaler, OneHotEncoder, OrdinalEncoder\n",
    "from imblearn.over_sampling import SMOTE\n",
    "from numpy import mean\n",
    "from numpy import isnan\n",
    "from numpy import asarray\n",
    "from numpy import polyfit\n",
    "from scipy.stats import pearsonr\n",
    "from matplotlib import pyplot\n",
    "from sklearn.datasets import make_classification\n",
    "from sklearn.model_selection import KFold\n",
    "from sklearn.model_selection import LeaveOneOut\n",
    "from sklearn.model_selection import cross_val_score\n",
    "#Model\n",
    "from sklearn.linear_model import LogisticRegression\n",
    "from sklearn.linear_model import RidgeClassifier\n",
    "from sklearn.linear_model import SGDClassifier\n",
    "from sklearn.neighbors import KNeighborsClassifier\n",
    "from sklearn.tree import DecisionTreeClassifier\n",
    "from sklearn.tree import ExtraTreeClassifier\n",
    "from sklearn.svm import LinearSVC\n",
    "from sklearn.svm import SVC\n",
    "from sklearn.naive_bayes import GaussianNB\n",
    "from sklearn.ensemble import RandomForestClassifier\n",
    "from sklearn.ensemble import ExtraTreesClassifier\n",
    "from xgboost import XGBClassifier\n",
    "from sklearn.model_selection import GridSearchCV\n",
    "from sklearn.linear_model import LogisticRegression\n",
    "from sklearn.model_selection import cross_val_score\n",
    "from sklearn.metrics import classification_report"
   ]
  },
  {
   "cell_type": "code",
   "execution_count": null,
   "metadata": {
    "colab": {
     "base_uri": "https://localhost:8080/",
     "height": 206
    },
    "executionInfo": {
     "elapsed": 30,
     "status": "ok",
     "timestamp": 1662223462737,
     "user": {
      "displayName": "Anyamanee",
      "userId": "12687195745778250975"
     },
     "user_tz": -420
    },
    "id": "IVoZHlwycjVx",
    "outputId": "1078ca4b-5689-4d04-c0c6-a25fb0a78a10"
   },
   "outputs": [
    {
     "data": {
      "text/html": [
       "<div>\n",
       "<style scoped>\n",
       "    .dataframe tbody tr th:only-of-type {\n",
       "        vertical-align: middle;\n",
       "    }\n",
       "\n",
       "    .dataframe tbody tr th {\n",
       "        vertical-align: top;\n",
       "    }\n",
       "\n",
       "    .dataframe thead th {\n",
       "        text-align: right;\n",
       "    }\n",
       "</style>\n",
       "<table border=\"1\" class=\"dataframe\">\n",
       "  <thead>\n",
       "    <tr style=\"text-align: right;\">\n",
       "      <th></th>\n",
       "      <th>id</th>\n",
       "      <th>gender</th>\n",
       "      <th>age</th>\n",
       "      <th>hypertension</th>\n",
       "      <th>heart_disease</th>\n",
       "      <th>ever_married</th>\n",
       "      <th>work_type</th>\n",
       "      <th>Residence_type</th>\n",
       "      <th>avg_glucose_level</th>\n",
       "      <th>bm</th>\n",
       "      <th>smoking_status</th>\n",
       "      <th>stroke</th>\n",
       "    </tr>\n",
       "  </thead>\n",
       "  <tbody>\n",
       "    <tr>\n",
       "      <th>0</th>\n",
       "      <td>9046</td>\n",
       "      <td>Male</td>\n",
       "      <td>67.0</td>\n",
       "      <td>0</td>\n",
       "      <td>1</td>\n",
       "      <td>Yes</td>\n",
       "      <td>Private</td>\n",
       "      <td>Urban</td>\n",
       "      <td>228.69</td>\n",
       "      <td>36.6</td>\n",
       "      <td>formerly smoked</td>\n",
       "      <td>1</td>\n",
       "    </tr>\n",
       "    <tr>\n",
       "      <th>1</th>\n",
       "      <td>51676</td>\n",
       "      <td>Female</td>\n",
       "      <td>61.0</td>\n",
       "      <td>0</td>\n",
       "      <td>0</td>\n",
       "      <td>Yes</td>\n",
       "      <td>Self-employed</td>\n",
       "      <td>Rural</td>\n",
       "      <td>202.21</td>\n",
       "      <td>NaN</td>\n",
       "      <td>never smoked</td>\n",
       "      <td>1</td>\n",
       "    </tr>\n",
       "    <tr>\n",
       "      <th>2</th>\n",
       "      <td>31112</td>\n",
       "      <td>Male</td>\n",
       "      <td>80.0</td>\n",
       "      <td>0</td>\n",
       "      <td>1</td>\n",
       "      <td>Yes</td>\n",
       "      <td>Private</td>\n",
       "      <td>Rural</td>\n",
       "      <td>105.92</td>\n",
       "      <td>32.5</td>\n",
       "      <td>never smoked</td>\n",
       "      <td>1</td>\n",
       "    </tr>\n",
       "    <tr>\n",
       "      <th>3</th>\n",
       "      <td>60182</td>\n",
       "      <td>Female</td>\n",
       "      <td>49.0</td>\n",
       "      <td>0</td>\n",
       "      <td>0</td>\n",
       "      <td>Yes</td>\n",
       "      <td>Private</td>\n",
       "      <td>Urban</td>\n",
       "      <td>171.23</td>\n",
       "      <td>34.4</td>\n",
       "      <td>smokes</td>\n",
       "      <td>1</td>\n",
       "    </tr>\n",
       "    <tr>\n",
       "      <th>4</th>\n",
       "      <td>1665</td>\n",
       "      <td>Female</td>\n",
       "      <td>79.0</td>\n",
       "      <td>1</td>\n",
       "      <td>0</td>\n",
       "      <td>Yes</td>\n",
       "      <td>Self-employed</td>\n",
       "      <td>Rural</td>\n",
       "      <td>174.12</td>\n",
       "      <td>24.0</td>\n",
       "      <td>never smoked</td>\n",
       "      <td>1</td>\n",
       "    </tr>\n",
       "  </tbody>\n",
       "</table>\n",
       "</div>"
      ],
      "text/plain": [
       "      id  gender   age  hypertension  heart_disease ever_married  \\\n",
       "0   9046    Male  67.0             0              1          Yes   \n",
       "1  51676  Female  61.0             0              0          Yes   \n",
       "2  31112    Male  80.0             0              1          Yes   \n",
       "3  60182  Female  49.0             0              0          Yes   \n",
       "4   1665  Female  79.0             1              0          Yes   \n",
       "\n",
       "       work_type Residence_type  avg_glucose_level    bm   smoking_status  \\\n",
       "0        Private          Urban             228.69  36.6  formerly smoked   \n",
       "1  Self-employed          Rural             202.21   NaN     never smoked   \n",
       "2        Private          Rural             105.92  32.5     never smoked   \n",
       "3        Private          Urban             171.23  34.4           smokes   \n",
       "4  Self-employed          Rural             174.12  24.0     never smoked   \n",
       "\n",
       "   stroke  \n",
       "0       1  \n",
       "1       1  \n",
       "2       1  \n",
       "3       1  \n",
       "4       1  "
      ]
     },
     "execution_count": 139,
     "metadata": {},
     "output_type": "execute_result"
    }
   ],
   "source": [
    "df = pd.read_csv(\"https://raw.githubusercontent.com/anyamanee/stroke_prediction/main/healthcare-dataset-stroke-data.csv\")\n",
    "df.head()"
   ]
  },
  {
   "cell_type": "markdown",
   "metadata": {
    "id": "XHxJqr4P74-Q"
   },
   "source": [
    "# <font color=\"MidnightBlue\">3. Data cleaning process<a id=\"3\"></a>"
   ]
  },
  {
   "cell_type": "code",
   "execution_count": null,
   "metadata": {
    "colab": {
     "base_uri": "https://localhost:8080/"
    },
    "executionInfo": {
     "elapsed": 28,
     "status": "ok",
     "timestamp": 1662223462738,
     "user": {
      "displayName": "Anyamanee",
      "userId": "12687195745778250975"
     },
     "user_tz": -420
    },
    "id": "h5--HAvfeUas",
    "outputId": "c485ad9e-9d76-44b2-a76d-6b05a5805119"
   },
   "outputs": [
    {
     "name": "stdout",
     "output_type": "stream",
     "text": [
      "<class 'pandas.core.frame.DataFrame'>\n",
      "RangeIndex: 5110 entries, 0 to 5109\n",
      "Data columns (total 12 columns):\n",
      " #   Column             Non-Null Count  Dtype  \n",
      "---  ------             --------------  -----  \n",
      " 0   id                 5110 non-null   int64  \n",
      " 1   gender             5110 non-null   object \n",
      " 2   age                5110 non-null   float64\n",
      " 3   hypertension       5110 non-null   int64  \n",
      " 4   heart_disease      5110 non-null   int64  \n",
      " 5   ever_married       5110 non-null   object \n",
      " 6   work_type          5110 non-null   object \n",
      " 7   Residence_type     5110 non-null   object \n",
      " 8   avg_glucose_level  5110 non-null   float64\n",
      " 9   bm                 4909 non-null   float64\n",
      " 10  smoking_status     5110 non-null   object \n",
      " 11  stroke             5110 non-null   int64  \n",
      "dtypes: float64(3), int64(4), object(5)\n",
      "memory usage: 479.2+ KB\n"
     ]
    }
   ],
   "source": [
    "df.info()"
   ]
  },
  {
   "cell_type": "code",
   "execution_count": null,
   "metadata": {
    "colab": {
     "base_uri": "https://localhost:8080/"
    },
    "executionInfo": {
     "elapsed": 23,
     "status": "ok",
     "timestamp": 1662223462740,
     "user": {
      "displayName": "Anyamanee",
      "userId": "12687195745778250975"
     },
     "user_tz": -420
    },
    "id": "ZwD_8ehC74-T",
    "outputId": "d96de9be-4d76-44c0-b5bd-cf179bee6964"
   },
   "outputs": [
    {
     "data": {
      "text/plain": [
       "id                     0\n",
       "gender                 0\n",
       "age                    0\n",
       "hypertension           0\n",
       "heart_disease          0\n",
       "ever_married           0\n",
       "work_type              0\n",
       "Residence_type         0\n",
       "avg_glucose_level      0\n",
       "bm                   201\n",
       "smoking_status         0\n",
       "stroke                 0\n",
       "dtype: int64"
      ]
     },
     "execution_count": 141,
     "metadata": {},
     "output_type": "execute_result"
    }
   ],
   "source": [
    "df.isnull().sum()"
   ]
  },
  {
   "cell_type": "markdown",
   "metadata": {
    "id": "KKe0CkbB74-U"
   },
   "source": [
    "   > จากข้อมูลทั้งหมดพบ 201 missing values ในคอลัมน์ 'bm'<br>\n",
    "   > เราจึงดูรายละเอียดค่าทางสถิติของข้อมูลในคอลัมน์ 'bm' เพื่อเลือกวิธีจัดการกับ missing value"
   ]
  },
  {
   "cell_type": "code",
   "execution_count": null,
   "metadata": {
    "colab": {
     "base_uri": "https://localhost:8080/",
     "height": 300
    },
    "executionInfo": {
     "elapsed": 746,
     "status": "ok",
     "timestamp": 1662223463470,
     "user": {
      "displayName": "Anyamanee",
      "userId": "12687195745778250975"
     },
     "user_tz": -420
    },
    "id": "hmS-UnTD74-V",
    "outputId": "c31d9164-fac3-43ac-ff41-4ffd7ebea266"
   },
   "outputs": [
    {
     "data": {
      "text/html": [
       "<div>\n",
       "<style scoped>\n",
       "    .dataframe tbody tr th:only-of-type {\n",
       "        vertical-align: middle;\n",
       "    }\n",
       "\n",
       "    .dataframe tbody tr th {\n",
       "        vertical-align: top;\n",
       "    }\n",
       "\n",
       "    .dataframe thead th {\n",
       "        text-align: right;\n",
       "    }\n",
       "</style>\n",
       "<table border=\"1\" class=\"dataframe\">\n",
       "  <thead>\n",
       "    <tr style=\"text-align: right;\">\n",
       "      <th></th>\n",
       "      <th>id</th>\n",
       "      <th>age</th>\n",
       "      <th>hypertension</th>\n",
       "      <th>heart_disease</th>\n",
       "      <th>avg_glucose_level</th>\n",
       "      <th>bm</th>\n",
       "      <th>stroke</th>\n",
       "    </tr>\n",
       "  </thead>\n",
       "  <tbody>\n",
       "    <tr>\n",
       "      <th>count</th>\n",
       "      <td>5110.000000</td>\n",
       "      <td>5110.000000</td>\n",
       "      <td>5110.000000</td>\n",
       "      <td>5110.000000</td>\n",
       "      <td>5110.000000</td>\n",
       "      <td>4909.000000</td>\n",
       "      <td>5110.000000</td>\n",
       "    </tr>\n",
       "    <tr>\n",
       "      <th>mean</th>\n",
       "      <td>36517.829354</td>\n",
       "      <td>43.226614</td>\n",
       "      <td>0.097456</td>\n",
       "      <td>0.054012</td>\n",
       "      <td>106.147677</td>\n",
       "      <td>28.893237</td>\n",
       "      <td>0.048728</td>\n",
       "    </tr>\n",
       "    <tr>\n",
       "      <th>std</th>\n",
       "      <td>21161.721625</td>\n",
       "      <td>22.612647</td>\n",
       "      <td>0.296607</td>\n",
       "      <td>0.226063</td>\n",
       "      <td>45.283560</td>\n",
       "      <td>7.854067</td>\n",
       "      <td>0.215320</td>\n",
       "    </tr>\n",
       "    <tr>\n",
       "      <th>min</th>\n",
       "      <td>67.000000</td>\n",
       "      <td>0.080000</td>\n",
       "      <td>0.000000</td>\n",
       "      <td>0.000000</td>\n",
       "      <td>55.120000</td>\n",
       "      <td>10.300000</td>\n",
       "      <td>0.000000</td>\n",
       "    </tr>\n",
       "    <tr>\n",
       "      <th>25%</th>\n",
       "      <td>17741.250000</td>\n",
       "      <td>25.000000</td>\n",
       "      <td>0.000000</td>\n",
       "      <td>0.000000</td>\n",
       "      <td>77.245000</td>\n",
       "      <td>23.500000</td>\n",
       "      <td>0.000000</td>\n",
       "    </tr>\n",
       "    <tr>\n",
       "      <th>50%</th>\n",
       "      <td>36932.000000</td>\n",
       "      <td>45.000000</td>\n",
       "      <td>0.000000</td>\n",
       "      <td>0.000000</td>\n",
       "      <td>91.885000</td>\n",
       "      <td>28.100000</td>\n",
       "      <td>0.000000</td>\n",
       "    </tr>\n",
       "    <tr>\n",
       "      <th>75%</th>\n",
       "      <td>54682.000000</td>\n",
       "      <td>61.000000</td>\n",
       "      <td>0.000000</td>\n",
       "      <td>0.000000</td>\n",
       "      <td>114.090000</td>\n",
       "      <td>33.100000</td>\n",
       "      <td>0.000000</td>\n",
       "    </tr>\n",
       "    <tr>\n",
       "      <th>max</th>\n",
       "      <td>72940.000000</td>\n",
       "      <td>82.000000</td>\n",
       "      <td>1.000000</td>\n",
       "      <td>1.000000</td>\n",
       "      <td>271.740000</td>\n",
       "      <td>97.600000</td>\n",
       "      <td>1.000000</td>\n",
       "    </tr>\n",
       "  </tbody>\n",
       "</table>\n",
       "</div>"
      ],
      "text/plain": [
       "                 id          age  hypertension  heart_disease  \\\n",
       "count   5110.000000  5110.000000   5110.000000    5110.000000   \n",
       "mean   36517.829354    43.226614      0.097456       0.054012   \n",
       "std    21161.721625    22.612647      0.296607       0.226063   \n",
       "min       67.000000     0.080000      0.000000       0.000000   \n",
       "25%    17741.250000    25.000000      0.000000       0.000000   \n",
       "50%    36932.000000    45.000000      0.000000       0.000000   \n",
       "75%    54682.000000    61.000000      0.000000       0.000000   \n",
       "max    72940.000000    82.000000      1.000000       1.000000   \n",
       "\n",
       "       avg_glucose_level           bm       stroke  \n",
       "count        5110.000000  4909.000000  5110.000000  \n",
       "mean          106.147677    28.893237     0.048728  \n",
       "std            45.283560     7.854067     0.215320  \n",
       "min            55.120000    10.300000     0.000000  \n",
       "25%            77.245000    23.500000     0.000000  \n",
       "50%            91.885000    28.100000     0.000000  \n",
       "75%           114.090000    33.100000     0.000000  \n",
       "max           271.740000    97.600000     1.000000  "
      ]
     },
     "execution_count": 142,
     "metadata": {},
     "output_type": "execute_result"
    }
   ],
   "source": [
    "df.describe()"
   ]
  },
  {
   "cell_type": "markdown",
   "metadata": {
    "id": "clYdOulL74-W"
   },
   "source": [
    "> จากตารางข้อมูลทางสถิติด้านบน ค่าเฉลี่ยและค่ากลางของคอลัมน์ 'bm' มีค่าใกล้เคียงกันที่ 28.89 และ 28.01 ตามลำดับ ดังนั้น จึงอ้างอิงได้ว่าข้อมูลในคอลัมน์ 'bm' มีการแจกแจงแบบปกติ เราจึงเลือกจัดการกับ missing value ด้วยค่าเฉลี่ย"
   ]
  },
  {
   "cell_type": "code",
   "execution_count": null,
   "metadata": {
    "colab": {
     "base_uri": "https://localhost:8080/"
    },
    "executionInfo": {
     "elapsed": 27,
     "status": "ok",
     "timestamp": 1662223463471,
     "user": {
      "displayName": "Anyamanee",
      "userId": "12687195745778250975"
     },
     "user_tz": -420
    },
    "id": "De-ZQxGQ74-X",
    "outputId": "28a36ae3-5916-4429-e9fc-63d9bab8dcfd"
   },
   "outputs": [
    {
     "data": {
      "text/plain": [
       "28.893236911794666"
      ]
     },
     "execution_count": 143,
     "metadata": {},
     "output_type": "execute_result"
    }
   ],
   "source": [
    "df.bm.mean()"
   ]
  },
  {
   "cell_type": "code",
   "execution_count": null,
   "metadata": {
    "colab": {
     "base_uri": "https://localhost:8080/"
    },
    "executionInfo": {
     "elapsed": 23,
     "status": "ok",
     "timestamp": 1662223463471,
     "user": {
      "displayName": "Anyamanee",
      "userId": "12687195745778250975"
     },
     "user_tz": -420
    },
    "id": "djgu79YL74-Y",
    "outputId": "a443b86c-a0ec-4b41-a964-a46b3714b568"
   },
   "outputs": [
    {
     "data": {
      "text/plain": [
       "id                   0\n",
       "gender               0\n",
       "age                  0\n",
       "hypertension         0\n",
       "heart_disease        0\n",
       "ever_married         0\n",
       "work_type            0\n",
       "Residence_type       0\n",
       "avg_glucose_level    0\n",
       "bm                   0\n",
       "smoking_status       0\n",
       "stroke               0\n",
       "dtype: int64"
      ]
     },
     "execution_count": 144,
     "metadata": {},
     "output_type": "execute_result"
    }
   ],
   "source": [
    "df_mod = df\n",
    "df_mod['bm'] = df_mod['bm'].fillna(df.bm.mean())\n",
    "df_mod.isnull().sum()"
   ]
  },
  {
   "cell_type": "markdown",
   "metadata": {
    "id": "sygAl8bA74-Y"
   },
   "source": [
    "> จากรายละเอียดด้านบนไม่พบ missing value แล้ว<br>\n",
    "> หากอ้างอิงจากตารางสถิติด้านบนในคอลัมน์ 'Age' พบว่าค่าน้อยที่สุดในคอลัมน์นั้นมีค่าน้อยกว่า 1"
   ]
  },
  {
   "cell_type": "code",
   "execution_count": null,
   "metadata": {
    "colab": {
     "base_uri": "https://localhost:8080/"
    },
    "executionInfo": {
     "elapsed": 20,
     "status": "ok",
     "timestamp": 1662223463472,
     "user": {
      "displayName": "Anyamanee",
      "userId": "12687195745778250975"
     },
     "user_tz": -420
    },
    "id": "j6Iql7IM74-Z",
    "outputId": "86ccc9f1-acf1-4bcd-cf75-76c97e8afe68",
    "scrolled": true
   },
   "outputs": [
    {
     "name": "stdout",
     "output_type": "stream",
     "text": [
      "number of rows where the age is less than one: 43\n",
      "% of rows where the age is less than one: 0.84%\n"
     ]
    }
   ],
   "source": [
    "df_check = df_mod.age[df_mod.age <1]\n",
    "print(f'number of rows where the age is less than one: {len(df_check)}')\n",
    "print(f'% of rows where the age is less than one: {( len(df_check)/df_mod.shape[0] )*100:.2f}%')"
   ]
  },
  {
   "cell_type": "markdown",
   "metadata": {
    "id": "QwJBZW5774-a"
   },
   "source": [
    "> พบข้อมูล 43 แถวที่มีค่าในคอลัมน์ 'Age' น้อยกว่า 1 หรือคิดเป็นเพียง 0.84% จากข้อมูลทั้งหมดเท่านั้น ดังนั้นเราจึงเปลี่ยนค่าที่น้อยกว่า 1 ในคอลัมน์ 'Age' ให้มีค่าเป็น 1 ทั้งหมด"
   ]
  },
  {
   "cell_type": "code",
   "execution_count": null,
   "metadata": {
    "colab": {
     "base_uri": "https://localhost:8080/",
     "height": 300
    },
    "executionInfo": {
     "elapsed": 17,
     "status": "ok",
     "timestamp": 1662223463473,
     "user": {
      "displayName": "Anyamanee",
      "userId": "12687195745778250975"
     },
     "user_tz": -420
    },
    "id": "SX5RtAYhgagR",
    "outputId": "0f9d2dea-d678-4da0-e9a0-adae06f01d85",
    "scrolled": false
   },
   "outputs": [
    {
     "data": {
      "text/html": [
       "<div>\n",
       "<style scoped>\n",
       "    .dataframe tbody tr th:only-of-type {\n",
       "        vertical-align: middle;\n",
       "    }\n",
       "\n",
       "    .dataframe tbody tr th {\n",
       "        vertical-align: top;\n",
       "    }\n",
       "\n",
       "    .dataframe thead th {\n",
       "        text-align: right;\n",
       "    }\n",
       "</style>\n",
       "<table border=\"1\" class=\"dataframe\">\n",
       "  <thead>\n",
       "    <tr style=\"text-align: right;\">\n",
       "      <th></th>\n",
       "      <th>id</th>\n",
       "      <th>age</th>\n",
       "      <th>hypertension</th>\n",
       "      <th>heart_disease</th>\n",
       "      <th>avg_glucose_level</th>\n",
       "      <th>bm</th>\n",
       "      <th>stroke</th>\n",
       "    </tr>\n",
       "  </thead>\n",
       "  <tbody>\n",
       "    <tr>\n",
       "      <th>count</th>\n",
       "      <td>5110.000000</td>\n",
       "      <td>5110.000000</td>\n",
       "      <td>5110.000000</td>\n",
       "      <td>5110.000000</td>\n",
       "      <td>5110.000000</td>\n",
       "      <td>5110.000000</td>\n",
       "      <td>5110.000000</td>\n",
       "    </tr>\n",
       "    <tr>\n",
       "      <th>mean</th>\n",
       "      <td>36517.829354</td>\n",
       "      <td>43.230677</td>\n",
       "      <td>0.097456</td>\n",
       "      <td>0.054012</td>\n",
       "      <td>106.147677</td>\n",
       "      <td>28.893237</td>\n",
       "      <td>0.048728</td>\n",
       "    </tr>\n",
       "    <tr>\n",
       "      <th>std</th>\n",
       "      <td>21161.721625</td>\n",
       "      <td>22.605002</td>\n",
       "      <td>0.296607</td>\n",
       "      <td>0.226063</td>\n",
       "      <td>45.283560</td>\n",
       "      <td>7.698018</td>\n",
       "      <td>0.215320</td>\n",
       "    </tr>\n",
       "    <tr>\n",
       "      <th>min</th>\n",
       "      <td>67.000000</td>\n",
       "      <td>1.000000</td>\n",
       "      <td>0.000000</td>\n",
       "      <td>0.000000</td>\n",
       "      <td>55.120000</td>\n",
       "      <td>10.300000</td>\n",
       "      <td>0.000000</td>\n",
       "    </tr>\n",
       "    <tr>\n",
       "      <th>25%</th>\n",
       "      <td>17741.250000</td>\n",
       "      <td>25.000000</td>\n",
       "      <td>0.000000</td>\n",
       "      <td>0.000000</td>\n",
       "      <td>77.245000</td>\n",
       "      <td>23.800000</td>\n",
       "      <td>0.000000</td>\n",
       "    </tr>\n",
       "    <tr>\n",
       "      <th>50%</th>\n",
       "      <td>36932.000000</td>\n",
       "      <td>45.000000</td>\n",
       "      <td>0.000000</td>\n",
       "      <td>0.000000</td>\n",
       "      <td>91.885000</td>\n",
       "      <td>28.400000</td>\n",
       "      <td>0.000000</td>\n",
       "    </tr>\n",
       "    <tr>\n",
       "      <th>75%</th>\n",
       "      <td>54682.000000</td>\n",
       "      <td>61.000000</td>\n",
       "      <td>0.000000</td>\n",
       "      <td>0.000000</td>\n",
       "      <td>114.090000</td>\n",
       "      <td>32.800000</td>\n",
       "      <td>0.000000</td>\n",
       "    </tr>\n",
       "    <tr>\n",
       "      <th>max</th>\n",
       "      <td>72940.000000</td>\n",
       "      <td>82.000000</td>\n",
       "      <td>1.000000</td>\n",
       "      <td>1.000000</td>\n",
       "      <td>271.740000</td>\n",
       "      <td>97.600000</td>\n",
       "      <td>1.000000</td>\n",
       "    </tr>\n",
       "  </tbody>\n",
       "</table>\n",
       "</div>"
      ],
      "text/plain": [
       "                 id          age  hypertension  heart_disease  \\\n",
       "count   5110.000000  5110.000000   5110.000000    5110.000000   \n",
       "mean   36517.829354    43.230677      0.097456       0.054012   \n",
       "std    21161.721625    22.605002      0.296607       0.226063   \n",
       "min       67.000000     1.000000      0.000000       0.000000   \n",
       "25%    17741.250000    25.000000      0.000000       0.000000   \n",
       "50%    36932.000000    45.000000      0.000000       0.000000   \n",
       "75%    54682.000000    61.000000      0.000000       0.000000   \n",
       "max    72940.000000    82.000000      1.000000       1.000000   \n",
       "\n",
       "       avg_glucose_level           bm       stroke  \n",
       "count        5110.000000  5110.000000  5110.000000  \n",
       "mean          106.147677    28.893237     0.048728  \n",
       "std            45.283560     7.698018     0.215320  \n",
       "min            55.120000    10.300000     0.000000  \n",
       "25%            77.245000    23.800000     0.000000  \n",
       "50%            91.885000    28.400000     0.000000  \n",
       "75%           114.090000    32.800000     0.000000  \n",
       "max           271.740000    97.600000     1.000000  "
      ]
     },
     "execution_count": 146,
     "metadata": {},
     "output_type": "execute_result"
    }
   ],
   "source": [
    "df_mod.loc[df_mod['age'] < 1,\"age\"] = 1\n",
    "df_mod.describe()"
   ]
  },
  {
   "cell_type": "markdown",
   "metadata": {
    "id": "JaMvNmUt74-f"
   },
   "source": [
    "# <font color=\"MidnightBlue\">4. Exploratory Data Analysis (EDA)<a id=\"4\"></a>"
   ]
  },
  {
   "cell_type": "markdown",
   "metadata": {
    "id": "BAQnTGAL74-f"
   },
   "source": [
    "## <font color=\"MidnightBlue\">4.1 Categories Data <a id=\"4-1\"></a>"
   ]
  },
  {
   "cell_type": "code",
   "execution_count": null,
   "metadata": {
    "executionInfo": {
     "elapsed": 16,
     "status": "ok",
     "timestamp": 1662223463473,
     "user": {
      "displayName": "Anyamanee",
      "userId": "12687195745778250975"
     },
     "user_tz": -420
    },
    "id": "gaPvRWA274-g"
   },
   "outputs": [],
   "source": [
    "header = df_mod.columns\n",
    "\n",
    "sns.set_theme(style=\"darkgrid\")\n",
    "\n",
    "def plot_detail(ax1, records):\n",
    "    total = len(records)\n",
    "    for p in ax1.patches:\n",
    "        value = '({:.0f})'.format(p.get_height())\n",
    "        percentage = '{:.1f}%'.format(100 * p.get_height()/total)\n",
    "        x = p.get_x() + 0.05 + p.get_width() / 2 - 0.05\n",
    "        y = p.get_y() + p.get_height() + 40\n",
    "        ax1.annotate(percentage, (x, y), size = 12, ha = 'right')\n",
    "        ax1.annotate(value, (x,y), size = 12)\n",
    "        \n",
    "\n",
    "def plot_category(col_name):\n",
    "    fig, (ax1,ax2) = plt.subplots(1, 2, figsize=(15, 5))\n",
    "\n",
    "    ax1 = sns.countplot(x=col_name, data = df_mod, ax=ax1)\n",
    "    ax2 = sns.countplot(x=col_name, hue =\"stroke\", data = df_mod, ax=ax2)\n",
    "\n",
    "    plot_detail(ax1, df_mod[col_name])\n",
    "    ax1.set_title(col_name, size = 20)\n",
    "    ax1.set_xlabel(col_name, size = 15)\n",
    "    ax1.set_ylabel(\"Number of Patient\", size = 15)\n",
    "\n",
    "    plot_detail(ax2, df_mod[col_name])\n",
    "    ax2.set_title(f\"{col_name} with stroke\", size = 20)\n",
    "    ax2.set_xlabel(col_name, size = 15)\n",
    "    ax2.set_ylabel(\"Number of Patient\", size = 15)\n",
    "\n",
    "    plt.show()"
   ]
  },
  {
   "cell_type": "markdown",
   "metadata": {
    "id": "-jbdVxk074-h"
   },
   "source": [
    "### <font color=\"MidnightBlue\"> Gender"
   ]
  },
  {
   "cell_type": "code",
   "execution_count": null,
   "metadata": {
    "colab": {
     "base_uri": "https://localhost:8080/",
     "height": 362
    },
    "executionInfo": {
     "elapsed": 713,
     "status": "ok",
     "timestamp": 1662223464170,
     "user": {
      "displayName": "Anyamanee",
      "userId": "12687195745778250975"
     },
     "user_tz": -420
    },
    "id": "UPPr6pGm74-h",
    "outputId": "9cb0e176-f7b6-4eef-9451-b0a758835b14",
    "scrolled": false
   },
   "outputs": [
    {
     "data": {
      "image/png": "[encoded data removed]",
      "text/plain": [
       "<Figure size 1080x360 with 2 Axes>"
      ]
     },
     "metadata": {},
     "output_type": "display_data"
    }
   ],
   "source": [
    "plot_category(\"gender\")"
   ]
  },
  {
   "cell_type": "markdown",
   "metadata": {
    "id": "9xostwf474-i"
   },
   "source": [
    "จากข้อมูลทางการแพทย์ทั้งหมด 5,110 ราย \n",
    "- พบว่ามีผู้หญิง 2,979 (58%) และผู้ชาย 2,087 (41%) โดยมีผู้หญิงมากกว่าผู้ชาย 892 คน\n",
    "- จำนวนผู้ป่วยโรคหลอดเลือดสมองในผู้หญิง และผู้ชายมีจำนวนใกล้เคียงคือ 141 และ 108 คนตามลำดับโดยคิดเป็น 2.8% และ 2.1% จากทั้งหมด"
   ]
  },
  {
   "cell_type": "markdown",
   "metadata": {
    "id": "gYUm4kaD74-l"
   },
   "source": [
    "### <font color=\"MidnightBlue\"> Hypertension"
   ]
  },
  {
   "cell_type": "code",
   "execution_count": null,
   "metadata": {
    "colab": {
     "base_uri": "https://localhost:8080/",
     "height": 362
    },
    "executionInfo": {
     "elapsed": 14,
     "status": "ok",
     "timestamp": 1662223464171,
     "user": {
      "displayName": "Anyamanee",
      "userId": "12687195745778250975"
     },
     "user_tz": -420
    },
    "id": "yysnXKbU74-l",
    "outputId": "300867af-d70b-4e69-97d1-fef4179b7b0b"
   },
   "outputs": [
    {
     "data": {
      "image/png": "[encoded data removed]",
      "text/plain": [
       "<Figure size 1080x360 with 2 Axes>"
      ]
     },
     "metadata": {},
     "output_type": "display_data"
    }
   ],
   "source": [
    "plot_category(\"hypertension\")"
   ]
  },
  {
   "cell_type": "markdown",
   "metadata": {
    "id": "EnQZPsOa74-m"
   },
   "source": [
    "- จำนวนคนที่เป็น Hypertension คิดเป็น 9.7% จากจำนวนคนทั้งหมด\n",
    "- 3.6% เป็นคนที่มีอาการ stroke เพียงอย่างเดียว ในขณะที่ 1.3% เป็นคนที่มีอาการ stroke ร่วมกับ Hypertension"
   ]
  },
  {
   "cell_type": "markdown",
   "metadata": {
    "id": "p2MlpVxF74-m"
   },
   "source": [
    "### <font color=\"MidnightBlue\"> Heart Disease"
   ]
  },
  {
   "cell_type": "code",
   "execution_count": null,
   "metadata": {
    "colab": {
     "base_uri": "https://localhost:8080/",
     "height": 363
    },
    "executionInfo": {
     "elapsed": 995,
     "status": "ok",
     "timestamp": 1662223465154,
     "user": {
      "displayName": "Anyamanee",
      "userId": "12687195745778250975"
     },
     "user_tz": -420
    },
    "id": "UqBc0KTR74-n",
    "outputId": "0dc738a6-b5ec-4709-f5f4-bcd8428abe60",
    "scrolled": true
   },
   "outputs": [
    {
     "data": {
      "image/png": "[encoded data removed]",
      "text/plain": [
       "<Figure size 1080x360 with 2 Axes>"
      ]
     },
     "metadata": {},
     "output_type": "display_data"
    }
   ],
   "source": [
    "plot_category(\"heart_disease\")"
   ]
  },
  {
   "cell_type": "markdown",
   "metadata": {
    "id": "BITNSUgo74-n"
   },
   "source": [
    "- จำนวนคนที่เป็น heart disease คิดเป็น 5.4% จากจำนวนคนทั้งหมด\n",
    "- 4.0% เป็นคนที่มีอาการ stroke เพียงอย่างเดียว ในขณะที่ 0.9% เป็นคนที่มีอาการ stroke ร่วมกับ heart disease"
   ]
  },
  {
   "cell_type": "markdown",
   "metadata": {
    "id": "xsuRxrjR74-n"
   },
   "source": [
    "### <font color=\"MidnightBlue\"> Work Type"
   ]
  },
  {
   "cell_type": "code",
   "execution_count": null,
   "metadata": {
    "colab": {
     "base_uri": "https://localhost:8080/",
     "height": 364
    },
    "executionInfo": {
     "elapsed": 13,
     "status": "ok",
     "timestamp": 1662223465155,
     "user": {
      "displayName": "Anyamanee",
      "userId": "12687195745778250975"
     },
     "user_tz": -420
    },
    "id": "gIMdGZWb74-o",
    "outputId": "bea77e85-4e70-4cc9-e788-c5e4c8ae2cc8"
   },
   "outputs": [
    {
     "data": {
      "image/png": "[encoded data removed]",
      "text/plain": [
       "<Figure size 1080x360 with 2 Axes>"
      ]
     },
     "metadata": {},
     "output_type": "display_data"
    }
   ],
   "source": [
    "plot_category(\"work_type\")"
   ]
  },
  {
   "cell_type": "markdown",
   "metadata": {
    "id": "sX9JoDlG74-o"
   },
   "source": [
    "- ผู้ป่วยส่วนใหญ่กว่า 57.2% มี working type เป็น Private\n",
    "- รองลงมาคือ Self-employed 16%, Government job 12.9% และ เป็นเด็ก 12.6%\n",
    "- ในส่วนของผู้ป่วยที่ไม่ได้ทำงาน และ อื่นๆ มีจำนวนเพียงแค่ประมาณ 65 คน"
   ]
  },
  {
   "cell_type": "markdown",
   "metadata": {
    "id": "WMlG1-C674-p"
   },
   "source": [
    "### <font color=\"MidnightBlue\"> Ever Married"
   ]
  },
  {
   "cell_type": "code",
   "execution_count": null,
   "metadata": {
    "colab": {
     "base_uri": "https://localhost:8080/",
     "height": 363
    },
    "executionInfo": {
     "elapsed": 1171,
     "status": "ok",
     "timestamp": 1662223466315,
     "user": {
      "displayName": "Anyamanee",
      "userId": "12687195745778250975"
     },
     "user_tz": -420
    },
    "id": "sGx5GnrD74-p",
    "outputId": "4cfb82b2-826d-4724-dd9a-58367dfb07d7"
   },
   "outputs": [
    {
     "data": {
      "image/png": "[encoded data removed]",
      "text/plain": [
       "<Figure size 1080x360 with 2 Axes>"
      ]
     },
     "metadata": {},
     "output_type": "display_data"
    }
   ],
   "source": [
    "plot_category(\"ever_married\")"
   ]
  },
  {
   "cell_type": "markdown",
   "metadata": {
    "id": "7Xwf4cbL74-q"
   },
   "source": [
    "- จำนวนคนที่แต่งงานแล้วคิดเป็น 65.6% จากจำนวนคนทั้งหมด โดยมี 4.3% (220 คน) ของคนที่แต่งงานแล้วเป็น stroke"
   ]
  },
  {
   "cell_type": "markdown",
   "metadata": {
    "id": "1miij_qC74-q"
   },
   "source": [
    "### <font color=\"MidnightBlue\"> Residence Type"
   ]
  },
  {
   "cell_type": "code",
   "execution_count": null,
   "metadata": {
    "colab": {
     "base_uri": "https://localhost:8080/",
     "height": 363
    },
    "executionInfo": {
     "elapsed": 37,
     "status": "ok",
     "timestamp": 1662223466316,
     "user": {
      "displayName": "Anyamanee",
      "userId": "12687195745778250975"
     },
     "user_tz": -420
    },
    "id": "a1dr9g-S74-q",
    "outputId": "8cd7d418-7241-47e6-9ccb-847e6c425278"
   },
   "outputs": [
    {
     "data": {
      "image/png": "[encoded data removed]",
      "text/plain": [
       "<Figure size 1080x360 with 2 Axes>"
      ]
     },
     "metadata": {},
     "output_type": "display_data"
    }
   ],
   "source": [
    "plot_category(\"Residence_type\")"
   ]
  },
  {
   "cell_type": "markdown",
   "metadata": {
    "id": "PPUGs4fu74-r"
   },
   "source": [
    "- ในส่วนของประเภทที่อยู่อาศัยของผู้ป่วย หรือ Residence type นั้น แบ่งออกเป็น Urban และ Rural ในปริมาณค่อนข้างใกล้เคียงกัน"
   ]
  },
  {
   "cell_type": "markdown",
   "metadata": {
    "id": "JWJnqdiZ74-r"
   },
   "source": [
    "### <font color=\"MidnightBlue\"> Smoking Satus"
   ]
  },
  {
   "cell_type": "code",
   "execution_count": null,
   "metadata": {
    "colab": {
     "base_uri": "https://localhost:8080/",
     "height": 363
    },
    "executionInfo": {
     "elapsed": 33,
     "status": "ok",
     "timestamp": 1662223466317,
     "user": {
      "displayName": "Anyamanee",
      "userId": "12687195745778250975"
     },
     "user_tz": -420
    },
    "id": "ddRzU8TC74-s",
    "outputId": "c984011f-f5e8-4516-e877-094c8b171a5b"
   },
   "outputs": [
    {
     "data": {
      "image/png": "[encoded data removed]",
      "text/plain": [
       "<Figure size 1080x360 with 2 Axes>"
      ]
     },
     "metadata": {},
     "output_type": "display_data"
    }
   ],
   "source": [
    "plot_category(\"smoking_status\")"
   ]
  },
  {
   "cell_type": "markdown",
   "metadata": {
    "id": "_NQxztpi74-s"
   },
   "source": [
    "- มีจำนวนผู้ป่วยที่เป็น stroke ในปริมาณที่ใก้ลเคียงกันในทุกประเภทของประวัติการสูบบุหรี่"
   ]
  },
  {
   "cell_type": "markdown",
   "metadata": {
    "id": "xF2Rr6hQ74-s"
   },
   "source": [
    "## <font color=\"MidnightBlue\">4.2 Continuous data<a id=\"4-2\"></a>"
   ]
  },
  {
   "cell_type": "code",
   "execution_count": null,
   "metadata": {
    "executionInfo": {
     "elapsed": 32,
     "status": "ok",
     "timestamp": 1662223466319,
     "user": {
      "displayName": "Anyamanee",
      "userId": "12687195745778250975"
     },
     "user_tz": -420
    },
    "id": "GsLi1tSg74-t"
   },
   "outputs": [],
   "source": [
    "def plot_continuous(col_name):\n",
    "    fig, (ax1,ax2) = plt.subplots(2, figsize=(12, 10))\n",
    "    sns.histplot(df_mod[df_mod['stroke'] == 0][col_name],bins=20, ax=ax1) # No Stroke - green\n",
    "    sns.histplot(df_mod[df_mod['stroke'] == 1][col_name], color='chocolate',bins=20, ax=ax1) # Stroke - Red\n",
    "    sns.boxplot(x=col_name, y = 'stroke', data = df_mod, hue_order=[0,1] , ax=ax2, orient='h')\n",
    "\n",
    "    plt.title(f'No Stroke vs Stroke by {col_name}', fontsize=15)\n",
    "    plt.show()"
   ]
  },
  {
   "cell_type": "markdown",
   "metadata": {
    "id": "gf64XiiZ74-t"
   },
   "source": [
    "### <font color=\"MidnightBlue\"> Avg Glucose Level"
   ]
  },
  {
   "cell_type": "code",
   "execution_count": null,
   "metadata": {
    "colab": {
     "base_uri": "https://localhost:8080/",
     "height": 143
    },
    "executionInfo": {
     "elapsed": 33,
     "status": "ok",
     "timestamp": 1662223466320,
     "user": {
      "displayName": "Anyamanee",
      "userId": "12687195745778250975"
     },
     "user_tz": -420
    },
    "id": "5ah8tMAf74-t",
    "outputId": "c575c9b8-0cbe-4097-d624-df116dec0ee4",
    "scrolled": true
   },
   "outputs": [
    {
     "data": {
      "text/html": [
       "<div>\n",
       "<style scoped>\n",
       "    .dataframe tbody tr th:only-of-type {\n",
       "        vertical-align: middle;\n",
       "    }\n",
       "\n",
       "    .dataframe tbody tr th {\n",
       "        vertical-align: top;\n",
       "    }\n",
       "\n",
       "    .dataframe thead th {\n",
       "        text-align: right;\n",
       "    }\n",
       "</style>\n",
       "<table border=\"1\" class=\"dataframe\">\n",
       "  <thead>\n",
       "    <tr style=\"text-align: right;\">\n",
       "      <th></th>\n",
       "      <th>count</th>\n",
       "      <th>mean</th>\n",
       "      <th>std</th>\n",
       "      <th>min</th>\n",
       "      <th>25%</th>\n",
       "      <th>50%</th>\n",
       "      <th>75%</th>\n",
       "      <th>max</th>\n",
       "    </tr>\n",
       "    <tr>\n",
       "      <th>stroke</th>\n",
       "      <th></th>\n",
       "      <th></th>\n",
       "      <th></th>\n",
       "      <th></th>\n",
       "      <th></th>\n",
       "      <th></th>\n",
       "      <th></th>\n",
       "      <th></th>\n",
       "    </tr>\n",
       "  </thead>\n",
       "  <tbody>\n",
       "    <tr>\n",
       "      <th>0</th>\n",
       "      <td>4861.0</td>\n",
       "      <td>104.795513</td>\n",
       "      <td>43.846069</td>\n",
       "      <td>55.12</td>\n",
       "      <td>77.12</td>\n",
       "      <td>91.47</td>\n",
       "      <td>112.83</td>\n",
       "      <td>267.76</td>\n",
       "    </tr>\n",
       "    <tr>\n",
       "      <th>1</th>\n",
       "      <td>249.0</td>\n",
       "      <td>132.544739</td>\n",
       "      <td>61.921056</td>\n",
       "      <td>56.11</td>\n",
       "      <td>79.79</td>\n",
       "      <td>105.22</td>\n",
       "      <td>196.71</td>\n",
       "      <td>271.74</td>\n",
       "    </tr>\n",
       "  </tbody>\n",
       "</table>\n",
       "</div>"
      ],
      "text/plain": [
       "         count        mean        std    min    25%     50%     75%     max\n",
       "stroke                                                                     \n",
       "0       4861.0  104.795513  43.846069  55.12  77.12   91.47  112.83  267.76\n",
       "1        249.0  132.544739  61.921056  56.11  79.79  105.22  196.71  271.74"
      ]
     },
     "execution_count": 156,
     "metadata": {},
     "output_type": "execute_result"
    }
   ],
   "source": [
    "df_mod.groupby(\"stroke\")[\"avg_glucose_level\"].describe()"
   ]
  },
  {
   "cell_type": "code",
   "execution_count": null,
   "metadata": {
    "colab": {
     "base_uri": "https://localhost:8080/",
     "height": 611
    },
    "executionInfo": {
     "elapsed": 681,
     "status": "ok",
     "timestamp": 1662223466970,
     "user": {
      "displayName": "Anyamanee",
      "userId": "12687195745778250975"
     },
     "user_tz": -420
    },
    "id": "msMtkB0x74-u",
    "outputId": "ed3ede17-1fd4-4f0a-b2be-1653c57bb150"
   },
   "outputs": [
    {
     "data": {
      "image/png": "[encoded data removed]",
      "text/plain": [
       "<Figure size 864x720 with 2 Axes>"
      ]
     },
     "metadata": {},
     "output_type": "display_data"
    }
   ],
   "source": [
    "plot_continuous(header[8]) #Glucose"
   ]
  },
  {
   "cell_type": "markdown",
   "metadata": {
    "id": "yk70RIP774-u"
   },
   "source": [
    "- Median ของปริมาณ glucose ในคนที่เป็น และ ไม่เป็น มีปริมาณใกล้เคียงกันที่ 91.47 และ 105.22 ตามลำดับ\n",
    "- แต่ส่วนของคนที่มีอาการเป็น stroke มีการกระจายตัวมากกว่าคนที่ไม่เป็น โดยมีค่าระดับน้ำตาลในเลือดเฉลี่ยอยู่ในช่วงประมาณ 55 ถึง 130 ซึ่งเป็นการกระจายตัวจะมีลักษณะเป็น right skewed"
   ]
  },
  {
   "cell_type": "markdown",
   "metadata": {
    "id": "mj-M1SD874-u"
   },
   "source": [
    "### <font color=\"MidnightBlue\"> BMI"
   ]
  },
  {
   "cell_type": "code",
   "execution_count": null,
   "metadata": {
    "colab": {
     "base_uri": "https://localhost:8080/",
     "height": 143
    },
    "executionInfo": {
     "elapsed": 24,
     "status": "ok",
     "timestamp": 1662223466972,
     "user": {
      "displayName": "Anyamanee",
      "userId": "12687195745778250975"
     },
     "user_tz": -420
    },
    "id": "CJ4cBMyj74-v",
    "outputId": "08f45993-8e23-44b3-82a4-c84cce13abec"
   },
   "outputs": [
    {
     "data": {
      "text/html": [
       "<div>\n",
       "<style scoped>\n",
       "    .dataframe tbody tr th:only-of-type {\n",
       "        vertical-align: middle;\n",
       "    }\n",
       "\n",
       "    .dataframe tbody tr th {\n",
       "        vertical-align: top;\n",
       "    }\n",
       "\n",
       "    .dataframe thead th {\n",
       "        text-align: right;\n",
       "    }\n",
       "</style>\n",
       "<table border=\"1\" class=\"dataframe\">\n",
       "  <thead>\n",
       "    <tr style=\"text-align: right;\">\n",
       "      <th></th>\n",
       "      <th>count</th>\n",
       "      <th>mean</th>\n",
       "      <th>std</th>\n",
       "      <th>min</th>\n",
       "      <th>25%</th>\n",
       "      <th>50%</th>\n",
       "      <th>75%</th>\n",
       "      <th>max</th>\n",
       "    </tr>\n",
       "    <tr>\n",
       "      <th>stroke</th>\n",
       "      <th></th>\n",
       "      <th></th>\n",
       "      <th></th>\n",
       "      <th></th>\n",
       "      <th></th>\n",
       "      <th></th>\n",
       "      <th></th>\n",
       "      <th></th>\n",
       "    </tr>\n",
       "  </thead>\n",
       "  <tbody>\n",
       "    <tr>\n",
       "      <th>0</th>\n",
       "      <td>4861.0</td>\n",
       "      <td>28.825388</td>\n",
       "      <td>7.776203</td>\n",
       "      <td>10.3</td>\n",
       "      <td>23.6</td>\n",
       "      <td>28.300000</td>\n",
       "      <td>32.8</td>\n",
       "      <td>97.6</td>\n",
       "    </tr>\n",
       "    <tr>\n",
       "      <th>1</th>\n",
       "      <td>249.0</td>\n",
       "      <td>30.217789</td>\n",
       "      <td>5.825589</td>\n",
       "      <td>16.9</td>\n",
       "      <td>27.0</td>\n",
       "      <td>28.893237</td>\n",
       "      <td>32.5</td>\n",
       "      <td>56.6</td>\n",
       "    </tr>\n",
       "  </tbody>\n",
       "</table>\n",
       "</div>"
      ],
      "text/plain": [
       "         count       mean       std   min   25%        50%   75%   max\n",
       "stroke                                                                \n",
       "0       4861.0  28.825388  7.776203  10.3  23.6  28.300000  32.8  97.6\n",
       "1        249.0  30.217789  5.825589  16.9  27.0  28.893237  32.5  56.6"
      ]
     },
     "execution_count": 158,
     "metadata": {},
     "output_type": "execute_result"
    }
   ],
   "source": [
    "df_mod.groupby(\"stroke\")[\"bm\"].describe()"
   ]
  },
  {
   "cell_type": "code",
   "execution_count": null,
   "metadata": {
    "colab": {
     "base_uri": "https://localhost:8080/",
     "height": 611
    },
    "executionInfo": {
     "elapsed": 616,
     "status": "ok",
     "timestamp": 1662223467567,
     "user": {
      "displayName": "Anyamanee",
      "userId": "12687195745778250975"
     },
     "user_tz": -420
    },
    "id": "Wxgi3ejB74-v",
    "outputId": "4e3e5b7b-62f5-4e22-86f8-391ce85d70b1"
   },
   "outputs": [
    {
     "data": {
      "image/png": "[encoded data removed]",
      "text/plain": [
       "<Figure size 864x720 with 2 Axes>"
      ]
     },
     "metadata": {},
     "output_type": "display_data"
    }
   ],
   "source": [
    "plot_continuous(header[9]) #BMI"
   ]
  },
  {
   "cell_type": "markdown",
   "metadata": {
    "id": "yq5eDt0j74-v"
   },
   "source": [
    "- ค่า BMI ของคนที่เป็น และ ไม่เป็น มีแนวโน้มไปในทางเดียวกัน"
   ]
  },
  {
   "cell_type": "markdown",
   "metadata": {
    "id": "WVTdsCKO74-w"
   },
   "source": [
    "### <font color=\"MidnightBlue\"> Age"
   ]
  },
  {
   "cell_type": "code",
   "execution_count": null,
   "metadata": {
    "colab": {
     "base_uri": "https://localhost:8080/",
     "height": 143
    },
    "executionInfo": {
     "elapsed": 18,
     "status": "ok",
     "timestamp": 1662223467568,
     "user": {
      "displayName": "Anyamanee",
      "userId": "12687195745778250975"
     },
     "user_tz": -420
    },
    "id": "bUxDZ5gK74-w",
    "outputId": "03d1e783-735d-4d7c-f983-2427ad9570e9"
   },
   "outputs": [
    {
     "data": {
      "text/html": [
       "<div>\n",
       "<style scoped>\n",
       "    .dataframe tbody tr th:only-of-type {\n",
       "        vertical-align: middle;\n",
       "    }\n",
       "\n",
       "    .dataframe tbody tr th {\n",
       "        vertical-align: top;\n",
       "    }\n",
       "\n",
       "    .dataframe thead th {\n",
       "        text-align: right;\n",
       "    }\n",
       "</style>\n",
       "<table border=\"1\" class=\"dataframe\">\n",
       "  <thead>\n",
       "    <tr style=\"text-align: right;\">\n",
       "      <th></th>\n",
       "      <th>count</th>\n",
       "      <th>mean</th>\n",
       "      <th>std</th>\n",
       "      <th>min</th>\n",
       "      <th>25%</th>\n",
       "      <th>50%</th>\n",
       "      <th>75%</th>\n",
       "      <th>max</th>\n",
       "    </tr>\n",
       "    <tr>\n",
       "      <th>stroke</th>\n",
       "      <th></th>\n",
       "      <th></th>\n",
       "      <th></th>\n",
       "      <th></th>\n",
       "      <th></th>\n",
       "      <th></th>\n",
       "      <th></th>\n",
       "      <th></th>\n",
       "    </tr>\n",
       "  </thead>\n",
       "  <tbody>\n",
       "    <tr>\n",
       "      <th>0</th>\n",
       "      <td>4861.0</td>\n",
       "      <td>41.975816</td>\n",
       "      <td>22.284029</td>\n",
       "      <td>1.00</td>\n",
       "      <td>24.0</td>\n",
       "      <td>43.0</td>\n",
       "      <td>59.0</td>\n",
       "      <td>82.0</td>\n",
       "    </tr>\n",
       "    <tr>\n",
       "      <th>1</th>\n",
       "      <td>249.0</td>\n",
       "      <td>67.728193</td>\n",
       "      <td>12.727419</td>\n",
       "      <td>1.32</td>\n",
       "      <td>59.0</td>\n",
       "      <td>71.0</td>\n",
       "      <td>78.0</td>\n",
       "      <td>82.0</td>\n",
       "    </tr>\n",
       "  </tbody>\n",
       "</table>\n",
       "</div>"
      ],
      "text/plain": [
       "         count       mean        std   min   25%   50%   75%   max\n",
       "stroke                                                            \n",
       "0       4861.0  41.975816  22.284029  1.00  24.0  43.0  59.0  82.0\n",
       "1        249.0  67.728193  12.727419  1.32  59.0  71.0  78.0  82.0"
      ]
     },
     "execution_count": 160,
     "metadata": {},
     "output_type": "execute_result"
    }
   ],
   "source": [
    "df_mod.groupby(\"stroke\")[\"age\"].describe()"
   ]
  },
  {
   "cell_type": "code",
   "execution_count": null,
   "metadata": {
    "colab": {
     "base_uri": "https://localhost:8080/",
     "height": 611
    },
    "executionInfo": {
     "elapsed": 1084,
     "status": "ok",
     "timestamp": 1662223468636,
     "user": {
      "displayName": "Anyamanee",
      "userId": "12687195745778250975"
     },
     "user_tz": -420
    },
    "id": "xC0OVEod74-w",
    "outputId": "4815eb75-52a4-46e3-b400-1bd2f1dd4ea1",
    "scrolled": false
   },
   "outputs": [
    {
     "data": {
      "image/png": "[encoded data removed]",
      "text/plain": [
       "<Figure size 864x720 with 2 Axes>"
      ]
     },
     "metadata": {},
     "output_type": "display_data"
    }
   ],
   "source": [
    "plot_continuous(header[2]) #Age"
   ]
  },
  {
   "cell_type": "markdown",
   "metadata": {
    "id": "F_lKfnDc74-x"
   },
   "source": [
    "- ผู้ป่วยโรคหลอดเลือดสมองส่วนใหญ่จะเป็นผู้สูงอายุ หรือหากสังเกตุจากกราฟจะเริ่มพบผู้ป่วยโรคนี้ตั้งแต่อายุ 40 ปีขึ้นไป\n",
    "- จาก boxplot การกระจายตัวของผู้ป่วยที่เป็น stroke อยู่ในช่วงอายุ มากกว่า 60 ปีขึ้นไป"
   ]
  },
  {
   "cell_type": "markdown",
   "metadata": {
    "id": "kV2Immtv74-x"
   },
   "source": [
    "# <font color=\"MidnightBlue\">5. Data Preprocessing (Encoding)<a id=\"5\"></a>"
   ]
  },
  {
   "cell_type": "code",
   "execution_count": null,
   "metadata": {
    "executionInfo": {
     "elapsed": 42,
     "status": "ok",
     "timestamp": 1662223468637,
     "user": {
      "displayName": "Anyamanee",
      "userId": "12687195745778250975"
     },
     "user_tz": -420
    },
    "id": "Kq2h4BCb74-y"
   },
   "outputs": [],
   "source": [
    "df_preProcess = df_mod"
   ]
  },
  {
   "cell_type": "code",
   "execution_count": null,
   "metadata": {
    "colab": {
     "base_uri": "https://localhost:8080/"
    },
    "executionInfo": {
     "elapsed": 42,
     "status": "ok",
     "timestamp": 1662223468637,
     "user": {
      "displayName": "Anyamanee",
      "userId": "12687195745778250975"
     },
     "user_tz": -420
    },
    "id": "D_aZ_b1Y74-y",
    "outputId": "b083861c-aaf9-4bf7-e832-345c8b3c8252",
    "scrolled": true
   },
   "outputs": [
    {
     "name": "stdout",
     "output_type": "stream",
     "text": [
      "number of rows where the age is less than one: 1\n",
      "% of rows where the age is less than one: 0.02%\n"
     ]
    }
   ],
   "source": [
    "df_check = df_preProcess.gender[df_preProcess.gender =='Other']\n",
    "print(f'number of rows where the age is less than one: {len(df_check)}')\n",
    "print(f'% of rows where the age is less than one: {( len(df_check)/df_preProcess.shape[0] )*100:.2f}%')\n",
    "\n",
    "df_preProcess = df_preProcess.loc[df_mod.gender !='Other'] # drop 1 row of gender \"Other\""
   ]
  },
  {
   "cell_type": "markdown",
   "metadata": {
    "id": "ptzIWX2u74-z"
   },
   "source": [
    "## <font color=\"MidnightBlue\">5.1 Binary Categories<a id=\"5-1\"></a>"
   ]
  },
  {
   "cell_type": "code",
   "execution_count": null,
   "metadata": {
    "colab": {
     "base_uri": "https://localhost:8080/"
    },
    "executionInfo": {
     "elapsed": 41,
     "status": "ok",
     "timestamp": 1662223468638,
     "user": {
      "displayName": "Anyamanee",
      "userId": "12687195745778250975"
     },
     "user_tz": -420
    },
    "id": "nGAvMw1J74-z",
    "outputId": "31a4881e-812c-4425-8740-3f68ea3ca2f4",
    "scrolled": true
   },
   "outputs": [
    {
     "name": "stderr",
     "output_type": "stream",
     "text": [
      "C:\\Users\\Mayypeeya\\AppData\\Local\\Temp\\ipykernel_42928\\2666202148.py:2: SettingWithCopyWarning: \n",
      "A value is trying to be set on a copy of a slice from a DataFrame.\n",
      "Try using .loc[row_indexer,col_indexer] = value instead\n",
      "\n",
      "See the caveats in the documentation: https://pandas.pydata.org/pandas-docs/stable/user_guide/indexing.html#returning-a-view-versus-a-copy\n",
      "  df_preProcess.gender = df_preProcess.gender.apply(lambda x:idx_gender[x],)\n"
     ]
    }
   ],
   "source": [
    "idx_gender={\"Female\":0,\"Male\":1} \n",
    "df_preProcess.gender = df_preProcess.gender.apply(lambda x:idx_gender[x],)"
   ]
  },
  {
   "cell_type": "code",
   "execution_count": null,
   "metadata": {
    "executionInfo": {
     "elapsed": 35,
     "status": "ok",
     "timestamp": 1662223468638,
     "user": {
      "displayName": "Anyamanee",
      "userId": "12687195745778250975"
     },
     "user_tz": -420
    },
    "id": "ObMbsVjX74-z"
   },
   "outputs": [
    {
     "name": "stderr",
     "output_type": "stream",
     "text": [
      "C:\\Users\\Mayypeeya\\AppData\\Local\\Temp\\ipykernel_42928\\435846457.py:2: SettingWithCopyWarning: \n",
      "A value is trying to be set on a copy of a slice from a DataFrame.\n",
      "Try using .loc[row_indexer,col_indexer] = value instead\n",
      "\n",
      "See the caveats in the documentation: https://pandas.pydata.org/pandas-docs/stable/user_guide/indexing.html#returning-a-view-versus-a-copy\n",
      "  df_preProcess.ever_married = df_preProcess.ever_married.apply(lambda x:idx_married[x])\n"
     ]
    }
   ],
   "source": [
    "idx_married={\"No\":0,\"Yes\":1}\n",
    "df_preProcess.ever_married = df_preProcess.ever_married.apply(lambda x:idx_married[x])"
   ]
  },
  {
   "cell_type": "code",
   "execution_count": null,
   "metadata": {
    "colab": {
     "base_uri": "https://localhost:8080/"
    },
    "executionInfo": {
     "elapsed": 35,
     "status": "ok",
     "timestamp": 1662223468638,
     "user": {
      "displayName": "Anyamanee",
      "userId": "12687195745778250975"
     },
     "user_tz": -420
    },
    "id": "cpUW-IMwT_tg",
    "outputId": "b60aa834-0d1f-45ce-acc8-edd3d49e89c7"
   },
   "outputs": [
    {
     "data": {
      "text/plain": [
       "{0, 1}"
      ]
     },
     "execution_count": 166,
     "metadata": {},
     "output_type": "execute_result"
    }
   ],
   "source": [
    "set(df_preProcess.gender)"
   ]
  },
  {
   "cell_type": "code",
   "execution_count": null,
   "metadata": {
    "colab": {
     "base_uri": "https://localhost:8080/"
    },
    "executionInfo": {
     "elapsed": 39,
     "status": "ok",
     "timestamp": 1662223468648,
     "user": {
      "displayName": "Anyamanee",
      "userId": "12687195745778250975"
     },
     "user_tz": -420
    },
    "id": "WfFGKWzi74-0",
    "outputId": "167898ab-904a-4cd6-98ad-f6ecb4991901",
    "scrolled": false
   },
   "outputs": [
    {
     "data": {
      "text/plain": [
       "{0, 1}"
      ]
     },
     "execution_count": 167,
     "metadata": {},
     "output_type": "execute_result"
    }
   ],
   "source": [
    "set(df_preProcess.ever_married)"
   ]
  },
  {
   "cell_type": "code",
   "execution_count": null,
   "metadata": {
    "colab": {
     "base_uri": "https://localhost:8080/"
    },
    "executionInfo": {
     "elapsed": 35,
     "status": "ok",
     "timestamp": 1662223468649,
     "user": {
      "displayName": "Anyamanee",
      "userId": "12687195745778250975"
     },
     "user_tz": -420
    },
    "id": "IXAwZmju74-0",
    "outputId": "3c56be28-ac3b-4b18-c3c4-54947eb476e6",
    "scrolled": true
   },
   "outputs": [
    {
     "name": "stdout",
     "output_type": "stream",
     "text": [
      "<class 'pandas.core.frame.DataFrame'>\n",
      "Int64Index: 5109 entries, 0 to 5109\n",
      "Data columns (total 12 columns):\n",
      " #   Column             Non-Null Count  Dtype  \n",
      "---  ------             --------------  -----  \n",
      " 0   id                 5109 non-null   int64  \n",
      " 1   gender             5109 non-null   int64  \n",
      " 2   age                5109 non-null   float64\n",
      " 3   hypertension       5109 non-null   int64  \n",
      " 4   heart_disease      5109 non-null   int64  \n",
      " 5   ever_married       5109 non-null   int64  \n",
      " 6   work_type          5109 non-null   object \n",
      " 7   Residence_type     5109 non-null   object \n",
      " 8   avg_glucose_level  5109 non-null   float64\n",
      " 9   bm                 5109 non-null   float64\n",
      " 10  smoking_status     5109 non-null   object \n",
      " 11  stroke             5109 non-null   int64  \n",
      "dtypes: float64(3), int64(6), object(3)\n",
      "memory usage: 518.9+ KB\n"
     ]
    }
   ],
   "source": [
    "df_preProcess.info()"
   ]
  },
  {
   "cell_type": "markdown",
   "metadata": {
    "id": "dK_db31e74-1"
   },
   "source": [
    "## <font color=\"MidnightBlue\">5.2 Multicategory<a id=\"5-2\"></a>"
   ]
  },
  {
   "cell_type": "code",
   "execution_count": null,
   "metadata": {
    "colab": {
     "base_uri": "https://localhost:8080/"
    },
    "executionInfo": {
     "elapsed": 30,
     "status": "ok",
     "timestamp": 1662223468649,
     "user": {
      "displayName": "Anyamanee",
      "userId": "12687195745778250975"
     },
     "user_tz": -420
    },
    "id": "fS0_PMW-74-1",
    "outputId": "dcc663f2-44d9-4de1-d735-6368a0bc9053"
   },
   "outputs": [
    {
     "name": "stdout",
     "output_type": "stream",
     "text": [
      "   worktype_Govt_job  worktype_Never_worked  worktype_Private  \\\n",
      "0                  0                      0                 1   \n",
      "1                  0                      0                 0   \n",
      "2                  0                      0                 1   \n",
      "3                  0                      0                 1   \n",
      "4                  0                      0                 0   \n",
      "\n",
      "   worktype_Self-employed  worktype_children  Residencetype_Rural  \\\n",
      "0                       0                  0                    0   \n",
      "1                       1                  0                    1   \n",
      "2                       0                  0                    1   \n",
      "3                       0                  0                    0   \n",
      "4                       1                  0                    1   \n",
      "\n",
      "   Residencetype_Urban  smokingstatus_Unknown  smokingstatus_formerly smoked  \\\n",
      "0                    1                      0                              1   \n",
      "1                    0                      0                              0   \n",
      "2                    0                      0                              0   \n",
      "3                    1                      0                              0   \n",
      "4                    0                      0                              0   \n",
      "\n",
      "   smokingstatus_never smoked  smokingstatus_smokes  \n",
      "0                           0                     0  \n",
      "1                           1                     0  \n",
      "2                           1                     0  \n",
      "3                           0                     1  \n",
      "4                           1                     0  \n"
     ]
    }
   ],
   "source": [
    "idx_multiClassData = pd.get_dummies(df_preProcess[[\"work_type\",\"Residence_type\",'smoking_status']], prefix=['worktype','Residencetype','smokingstatus'])\n",
    "print(idx_multiClassData.head())"
   ]
  },
  {
   "cell_type": "markdown",
   "metadata": {
    "id": "mj2FRyaHT_th"
   },
   "source": [
    "## <font color=\"MidnightBlue\">5.3 Assign binany category and  multi-category to new dataframe \"df_preProcess\"<a id=\"5-3\"></a>"
   ]
  },
  {
   "cell_type": "code",
   "execution_count": null,
   "metadata": {
    "executionInfo": {
     "elapsed": 25,
     "status": "ok",
     "timestamp": 1662223468650,
     "user": {
      "displayName": "Anyamanee",
      "userId": "12687195745778250975"
     },
     "user_tz": -420
    },
    "id": "fDE9ua9p74-2"
   },
   "outputs": [],
   "source": [
    "df_preProcess= pd.concat([df_preProcess,idx_multiClassData], axis=1)"
   ]
  },
  {
   "cell_type": "code",
   "execution_count": null,
   "metadata": {
    "colab": {
     "base_uri": "https://localhost:8080/",
     "height": 351
    },
    "executionInfo": {
     "elapsed": 404,
     "status": "ok",
     "timestamp": 1662223469030,
     "user": {
      "displayName": "Anyamanee",
      "userId": "12687195745778250975"
     },
     "user_tz": -420
    },
    "id": "stnMZQz474-2",
    "outputId": "1f001993-a11a-465d-99a9-f2d66393c5e5"
   },
   "outputs": [
    {
     "data": {
      "text/html": [
       "<div>\n",
       "<style scoped>\n",
       "    .dataframe tbody tr th:only-of-type {\n",
       "        vertical-align: middle;\n",
       "    }\n",
       "\n",
       "    .dataframe tbody tr th {\n",
       "        vertical-align: top;\n",
       "    }\n",
       "\n",
       "    .dataframe thead th {\n",
       "        text-align: right;\n",
       "    }\n",
       "</style>\n",
       "<table border=\"1\" class=\"dataframe\">\n",
       "  <thead>\n",
       "    <tr style=\"text-align: right;\">\n",
       "      <th></th>\n",
       "      <th>id</th>\n",
       "      <th>gender</th>\n",
       "      <th>age</th>\n",
       "      <th>hypertension</th>\n",
       "      <th>heart_disease</th>\n",
       "      <th>ever_married</th>\n",
       "      <th>work_type</th>\n",
       "      <th>Residence_type</th>\n",
       "      <th>avg_glucose_level</th>\n",
       "      <th>bm</th>\n",
       "      <th>...</th>\n",
       "      <th>worktype_Never_worked</th>\n",
       "      <th>worktype_Private</th>\n",
       "      <th>worktype_Self-employed</th>\n",
       "      <th>worktype_children</th>\n",
       "      <th>Residencetype_Rural</th>\n",
       "      <th>Residencetype_Urban</th>\n",
       "      <th>smokingstatus_Unknown</th>\n",
       "      <th>smokingstatus_formerly smoked</th>\n",
       "      <th>smokingstatus_never smoked</th>\n",
       "      <th>smokingstatus_smokes</th>\n",
       "    </tr>\n",
       "  </thead>\n",
       "  <tbody>\n",
       "    <tr>\n",
       "      <th>0</th>\n",
       "      <td>9046</td>\n",
       "      <td>1</td>\n",
       "      <td>67.0</td>\n",
       "      <td>0</td>\n",
       "      <td>1</td>\n",
       "      <td>1</td>\n",
       "      <td>Private</td>\n",
       "      <td>Urban</td>\n",
       "      <td>228.69</td>\n",
       "      <td>36.600000</td>\n",
       "      <td>...</td>\n",
       "      <td>0</td>\n",
       "      <td>1</td>\n",
       "      <td>0</td>\n",
       "      <td>0</td>\n",
       "      <td>0</td>\n",
       "      <td>1</td>\n",
       "      <td>0</td>\n",
       "      <td>1</td>\n",
       "      <td>0</td>\n",
       "      <td>0</td>\n",
       "    </tr>\n",
       "    <tr>\n",
       "      <th>1</th>\n",
       "      <td>51676</td>\n",
       "      <td>0</td>\n",
       "      <td>61.0</td>\n",
       "      <td>0</td>\n",
       "      <td>0</td>\n",
       "      <td>1</td>\n",
       "      <td>Self-employed</td>\n",
       "      <td>Rural</td>\n",
       "      <td>202.21</td>\n",
       "      <td>28.893237</td>\n",
       "      <td>...</td>\n",
       "      <td>0</td>\n",
       "      <td>0</td>\n",
       "      <td>1</td>\n",
       "      <td>0</td>\n",
       "      <td>1</td>\n",
       "      <td>0</td>\n",
       "      <td>0</td>\n",
       "      <td>0</td>\n",
       "      <td>1</td>\n",
       "      <td>0</td>\n",
       "    </tr>\n",
       "    <tr>\n",
       "      <th>2</th>\n",
       "      <td>31112</td>\n",
       "      <td>1</td>\n",
       "      <td>80.0</td>\n",
       "      <td>0</td>\n",
       "      <td>1</td>\n",
       "      <td>1</td>\n",
       "      <td>Private</td>\n",
       "      <td>Rural</td>\n",
       "      <td>105.92</td>\n",
       "      <td>32.500000</td>\n",
       "      <td>...</td>\n",
       "      <td>0</td>\n",
       "      <td>1</td>\n",
       "      <td>0</td>\n",
       "      <td>0</td>\n",
       "      <td>1</td>\n",
       "      <td>0</td>\n",
       "      <td>0</td>\n",
       "      <td>0</td>\n",
       "      <td>1</td>\n",
       "      <td>0</td>\n",
       "    </tr>\n",
       "    <tr>\n",
       "      <th>3</th>\n",
       "      <td>60182</td>\n",
       "      <td>0</td>\n",
       "      <td>49.0</td>\n",
       "      <td>0</td>\n",
       "      <td>0</td>\n",
       "      <td>1</td>\n",
       "      <td>Private</td>\n",
       "      <td>Urban</td>\n",
       "      <td>171.23</td>\n",
       "      <td>34.400000</td>\n",
       "      <td>...</td>\n",
       "      <td>0</td>\n",
       "      <td>1</td>\n",
       "      <td>0</td>\n",
       "      <td>0</td>\n",
       "      <td>0</td>\n",
       "      <td>1</td>\n",
       "      <td>0</td>\n",
       "      <td>0</td>\n",
       "      <td>0</td>\n",
       "      <td>1</td>\n",
       "    </tr>\n",
       "    <tr>\n",
       "      <th>4</th>\n",
       "      <td>1665</td>\n",
       "      <td>0</td>\n",
       "      <td>79.0</td>\n",
       "      <td>1</td>\n",
       "      <td>0</td>\n",
       "      <td>1</td>\n",
       "      <td>Self-employed</td>\n",
       "      <td>Rural</td>\n",
       "      <td>174.12</td>\n",
       "      <td>24.000000</td>\n",
       "      <td>...</td>\n",
       "      <td>0</td>\n",
       "      <td>0</td>\n",
       "      <td>1</td>\n",
       "      <td>0</td>\n",
       "      <td>1</td>\n",
       "      <td>0</td>\n",
       "      <td>0</td>\n",
       "      <td>0</td>\n",
       "      <td>1</td>\n",
       "      <td>0</td>\n",
       "    </tr>\n",
       "  </tbody>\n",
       "</table>\n",
       "<p>5 rows × 23 columns</p>\n",
       "</div>"
      ],
      "text/plain": [
       "      id  gender   age  hypertension  heart_disease  ever_married  \\\n",
       "0   9046       1  67.0             0              1             1   \n",
       "1  51676       0  61.0             0              0             1   \n",
       "2  31112       1  80.0             0              1             1   \n",
       "3  60182       0  49.0             0              0             1   \n",
       "4   1665       0  79.0             1              0             1   \n",
       "\n",
       "       work_type Residence_type  avg_glucose_level         bm  ...  \\\n",
       "0        Private          Urban             228.69  36.600000  ...   \n",
       "1  Self-employed          Rural             202.21  28.893237  ...   \n",
       "2        Private          Rural             105.92  32.500000  ...   \n",
       "3        Private          Urban             171.23  34.400000  ...   \n",
       "4  Self-employed          Rural             174.12  24.000000  ...   \n",
       "\n",
       "  worktype_Never_worked  worktype_Private  worktype_Self-employed  \\\n",
       "0                     0                 1                       0   \n",
       "1                     0                 0                       1   \n",
       "2                     0                 1                       0   \n",
       "3                     0                 1                       0   \n",
       "4                     0                 0                       1   \n",
       "\n",
       "   worktype_children  Residencetype_Rural  Residencetype_Urban  \\\n",
       "0                  0                    0                    1   \n",
       "1                  0                    1                    0   \n",
       "2                  0                    1                    0   \n",
       "3                  0                    0                    1   \n",
       "4                  0                    1                    0   \n",
       "\n",
       "   smokingstatus_Unknown  smokingstatus_formerly smoked  \\\n",
       "0                      0                              1   \n",
       "1                      0                              0   \n",
       "2                      0                              0   \n",
       "3                      0                              0   \n",
       "4                      0                              0   \n",
       "\n",
       "   smokingstatus_never smoked  smokingstatus_smokes  \n",
       "0                           0                     0  \n",
       "1                           1                     0  \n",
       "2                           1                     0  \n",
       "3                           0                     1  \n",
       "4                           1                     0  \n",
       "\n",
       "[5 rows x 23 columns]"
      ]
     },
     "execution_count": 171,
     "metadata": {},
     "output_type": "execute_result"
    }
   ],
   "source": [
    "df_preProcess.head()"
   ]
  },
  {
   "cell_type": "code",
   "execution_count": null,
   "metadata": {
    "executionInfo": {
     "elapsed": 11,
     "status": "ok",
     "timestamp": 1662223469032,
     "user": {
      "displayName": "Anyamanee",
      "userId": "12687195745778250975"
     },
     "user_tz": -420
    },
    "id": "p43S47ZX74-2"
   },
   "outputs": [],
   "source": [
    "# Write Dataframe After pre process\n",
    "df_Final = df_preProcess.drop(columns=['work_type', 'Residence_type', 'smoking_status'])\n",
    "df_Final.head()\n",
    "\n",
    "df_Final.to_csv(\"StrokeData_Final.csv\", index=False)"
   ]
  },
  {
   "cell_type": "markdown",
   "metadata": {
    "id": "4LmV2b3jT_ti"
   },
   "source": [
    "# <font color=\"MidnightBlue\">6. Feature selection<a id=\"6\"></a>"
   ]
  },
  {
   "cell_type": "code",
   "execution_count": null,
   "metadata": {
    "executionInfo": {
     "elapsed": 10,
     "status": "ok",
     "timestamp": 1662223469032,
     "user": {
      "displayName": "Anyamanee",
      "userId": "12687195745778250975"
     },
     "user_tz": -420
    },
    "id": "vdIB6HwL74-5"
   },
   "outputs": [],
   "source": [
    "# Change column position\n",
    "old_cols = df_Final.columns.values \n",
    "new_cols= ['id', 'gender', 'hypertension', 'heart_disease',\n",
    "       'ever_married', 'avg_glucose_level', 'bm', \n",
    "       'worktype_Govt_job', 'worktype_Never_worked', 'worktype_Private',\n",
    "       'worktype_Self-employed', 'worktype_children',\n",
    "       'Residencetype_Rural', 'Residencetype_Urban',\n",
    "       'smokingstatus_Unknown', 'smokingstatus_formerly smoked',\n",
    "       'smokingstatus_never smoked', 'smokingstatus_smokes', 'age', 'stroke']\n",
    "df_Final = df_Final.reindex(columns=new_cols)\n",
    "cols = df_Final.columns.values \n"
   ]
  },
  {
   "cell_type": "markdown",
   "metadata": {
    "id": "LC2WZMF3T_tj"
   },
   "source": [
    "## <font color=\"MidnightBlue\">6.1 Pearson Correlation<a id=\"6-1\"></a>"
   ]
  },
  {
   "cell_type": "code",
   "execution_count": null,
   "metadata": {
    "colab": {
     "base_uri": "https://localhost:8080/",
     "height": 801
    },
    "executionInfo": {
     "elapsed": 3167,
     "status": "ok",
     "timestamp": 1662223472189,
     "user": {
      "displayName": "Anyamanee",
      "userId": "12687195745778250975"
     },
     "user_tz": -420
    },
    "id": "X-cw2V1Q74-5",
    "outputId": "4214e0bd-3816-42d5-ebc2-53a5502d279b",
    "scrolled": false
   },
   "outputs": [
    {
     "data": {
      "image/png": "[encoded data removed]",
      "text/plain": [
       "<Figure size 1080x576 with 2 Axes>"
      ]
     },
     "metadata": {},
     "output_type": "display_data"
    },
    {
     "name": "stdout",
     "output_type": "stream",
     "text": [
      "correlated features > 0.1 :\n",
      "hypertension         0.127891\n",
      "heart_disease        0.134905\n",
      "ever_married         0.108299\n",
      "avg_glucose_level    0.131991\n",
      "age                  0.245281\n",
      "stroke               1.000000\n",
      "Name: stroke, dtype: float64\n"
     ]
    }
   ],
   "source": [
    "#Using Pearson Correlation\n",
    "# Compute the correlation matrix\n",
    "plt.figure(figsize=(15,8))\n",
    "cor = df_Final.corr()\n",
    "\n",
    "mask = np.zeros_like(cor)\n",
    "mask[np.triu_indices_from(mask)] = True\n",
    "\n",
    "sns.heatmap(cor,mask =mask, annot=True, cmap=plt.cm.Reds)\n",
    "plt.show()\n",
    "\n",
    "#Correlation with output variable\n",
    "cor_target = abs(cor[\"stroke\"])\n",
    "#Selecting highly correlated features\n",
    "relevant_features = cor_target[cor_target>0.1]\n",
    "print(f'correlated features > 0.1 :\\n{relevant_features}')"
   ]
  },
  {
   "cell_type": "markdown",
   "metadata": {
    "id": "RLjGCiCkT_tj"
   },
   "source": [
    "> เมื่อทำ Pearson correlated พบว่ามี 5 columns ที่มีค่า correlation กับการเป็น stroke มากกว่า 0.1 คือ age, heart_disease, avg_glucose_level, hypertension และ ever_married ตามลำดับ<br><br>\n",
    "> และ Feature ที่มีค่า correlation กับการเป็น stroke สูงที่สุดคือ 'age' ที่ 0.245 โดย Features อื่นๆทีมี่ค่า correlation กับการเป็น stroke น้อยกว่า 1 นั้นส่วนใหญ่จะมี correlated กับ age ด้วย"
   ]
  },
  {
   "cell_type": "code",
   "execution_count": null,
   "metadata": {
    "colab": {
     "base_uri": "https://localhost:8080/",
     "height": 363
    },
    "executionInfo": {
     "elapsed": 74,
     "status": "ok",
     "timestamp": 1662223472190,
     "user": {
      "displayName": "Anyamanee",
      "userId": "12687195745778250975"
     },
     "user_tz": -420
    },
    "id": "zTchmFL-T_tk",
    "outputId": "4abeef33-1764-48f6-c349-ea1b3bf81ebe",
    "scrolled": true
   },
   "outputs": [
    {
     "data": {
      "text/html": [
       "<div>\n",
       "<style scoped>\n",
       "    .dataframe tbody tr th:only-of-type {\n",
       "        vertical-align: middle;\n",
       "    }\n",
       "\n",
       "    .dataframe tbody tr th {\n",
       "        vertical-align: top;\n",
       "    }\n",
       "\n",
       "    .dataframe thead th {\n",
       "        text-align: right;\n",
       "    }\n",
       "</style>\n",
       "<table border=\"1\" class=\"dataframe\">\n",
       "  <thead>\n",
       "    <tr style=\"text-align: right;\">\n",
       "      <th></th>\n",
       "      <th>stroke</th>\n",
       "    </tr>\n",
       "  </thead>\n",
       "  <tbody>\n",
       "    <tr>\n",
       "      <th>stroke</th>\n",
       "      <td>1.000000</td>\n",
       "    </tr>\n",
       "    <tr>\n",
       "      <th>age</th>\n",
       "      <td>0.245281</td>\n",
       "    </tr>\n",
       "    <tr>\n",
       "      <th>heart_disease</th>\n",
       "      <td>0.134905</td>\n",
       "    </tr>\n",
       "    <tr>\n",
       "      <th>avg_glucose_level</th>\n",
       "      <td>0.131991</td>\n",
       "    </tr>\n",
       "    <tr>\n",
       "      <th>hypertension</th>\n",
       "      <td>0.127891</td>\n",
       "    </tr>\n",
       "    <tr>\n",
       "      <th>ever_married</th>\n",
       "      <td>0.108299</td>\n",
       "    </tr>\n",
       "    <tr>\n",
       "      <th>worktype_children</th>\n",
       "      <td>0.083888</td>\n",
       "    </tr>\n",
       "    <tr>\n",
       "      <th>smokingstatus_formerly smoked</th>\n",
       "      <td>0.064683</td>\n",
       "    </tr>\n",
       "    <tr>\n",
       "      <th>worktype_Self-employed</th>\n",
       "      <td>0.062150</td>\n",
       "    </tr>\n",
       "    <tr>\n",
       "      <th>smokingstatus_Unknown</th>\n",
       "      <td>0.055924</td>\n",
       "    </tr>\n",
       "  </tbody>\n",
       "</table>\n",
       "</div>"
      ],
      "text/plain": [
       "                                 stroke\n",
       "stroke                         1.000000\n",
       "age                            0.245281\n",
       "heart_disease                  0.134905\n",
       "avg_glucose_level              0.131991\n",
       "hypertension                   0.127891\n",
       "ever_married                   0.108299\n",
       "worktype_children              0.083888\n",
       "smokingstatus_formerly smoked  0.064683\n",
       "worktype_Self-employed         0.062150\n",
       "smokingstatus_Unknown          0.055924"
      ]
     },
     "execution_count": 175,
     "metadata": {},
     "output_type": "execute_result"
    }
   ],
   "source": [
    "cols_Select = pd.DataFrame(cor_target)\n",
    "cols_SelectShow =  cols_Select.sort_values(by=['stroke'], ascending=False)\n",
    "cols_SelectShow.head(10)"
   ]
  },
  {
   "cell_type": "markdown",
   "metadata": {
    "id": "rvwwnib6T_tk"
   },
   "source": [
    "> จากตารางคือ Top 10 Featrures ที่มีค่า correlation กับหารเป็น stroke สูงที่สุด\n",
    "> ดังนั้นเราจึงเลือกใช้เฉพาะ Features ที่มีค่า correlation กับหารเป็น stroke มากกว่า 0.05 เพื่อใช้ในการทำ Model ต่อไป"
   ]
  },
  {
   "cell_type": "markdown",
   "metadata": {
    "id": "kDgK8tbnT_tl"
   },
   "source": [
    "## <font color=\"MidnightBlue\">6.2 Final Dateset<a id=\"6-2\"></a>"
   ]
  },
  {
   "cell_type": "code",
   "execution_count": null,
   "metadata": {
    "executionInfo": {
     "elapsed": 71,
     "status": "ok",
     "timestamp": 1662223472191,
     "user": {
      "displayName": "Anyamanee",
      "userId": "12687195745778250975"
     },
     "user_tz": -420
    },
    "id": "HnQP_ZwBT_tl"
   },
   "outputs": [],
   "source": [
    "cols_Select = pd.DataFrame(cor_target)\n",
    "cols_Select = cols_Select[cols_Select.stroke > 0.1]"
   ]
  },
  {
   "cell_type": "code",
   "execution_count": null,
   "metadata": {
    "colab": {
     "base_uri": "https://localhost:8080/",
     "height": 237
    },
    "executionInfo": {
     "elapsed": 71,
     "status": "ok",
     "timestamp": 1662223472193,
     "user": {
      "displayName": "Anyamanee",
      "userId": "12687195745778250975"
     },
     "user_tz": -420
    },
    "id": "GEezDbNbT_tl",
    "outputId": "3dcfc062-7a75-42c9-e047-06066838d9be"
   },
   "outputs": [
    {
     "data": {
      "text/html": [
       "<div>\n",
       "<style scoped>\n",
       "    .dataframe tbody tr th:only-of-type {\n",
       "        vertical-align: middle;\n",
       "    }\n",
       "\n",
       "    .dataframe tbody tr th {\n",
       "        vertical-align: top;\n",
       "    }\n",
       "\n",
       "    .dataframe thead th {\n",
       "        text-align: right;\n",
       "    }\n",
       "</style>\n",
       "<table border=\"1\" class=\"dataframe\">\n",
       "  <thead>\n",
       "    <tr style=\"text-align: right;\">\n",
       "      <th></th>\n",
       "      <th>stroke</th>\n",
       "    </tr>\n",
       "  </thead>\n",
       "  <tbody>\n",
       "    <tr>\n",
       "      <th>hypertension</th>\n",
       "      <td>0.127891</td>\n",
       "    </tr>\n",
       "    <tr>\n",
       "      <th>heart_disease</th>\n",
       "      <td>0.134905</td>\n",
       "    </tr>\n",
       "    <tr>\n",
       "      <th>ever_married</th>\n",
       "      <td>0.108299</td>\n",
       "    </tr>\n",
       "    <tr>\n",
       "      <th>avg_glucose_level</th>\n",
       "      <td>0.131991</td>\n",
       "    </tr>\n",
       "    <tr>\n",
       "      <th>age</th>\n",
       "      <td>0.245281</td>\n",
       "    </tr>\n",
       "    <tr>\n",
       "      <th>stroke</th>\n",
       "      <td>1.000000</td>\n",
       "    </tr>\n",
       "  </tbody>\n",
       "</table>\n",
       "</div>"
      ],
      "text/plain": [
       "                     stroke\n",
       "hypertension       0.127891\n",
       "heart_disease      0.134905\n",
       "ever_married       0.108299\n",
       "avg_glucose_level  0.131991\n",
       "age                0.245281\n",
       "stroke             1.000000"
      ]
     },
     "execution_count": 177,
     "metadata": {},
     "output_type": "execute_result"
    }
   ],
   "source": [
    "cols_Select"
   ]
  },
  {
   "cell_type": "code",
   "execution_count": null,
   "metadata": {
    "executionInfo": {
     "elapsed": 70,
     "status": "ok",
     "timestamp": 1662223472194,
     "user": {
      "displayName": "Anyamanee",
      "userId": "12687195745778250975"
     },
     "user_tz": -420
    },
    "id": "XnUy1o1ST_tl",
    "scrolled": true
   },
   "outputs": [],
   "source": [
    "cols_Select = cols_Select.reset_index(col_fill= \"Parameters\")"
   ]
  },
  {
   "cell_type": "code",
   "execution_count": null,
   "metadata": {
    "executionInfo": {
     "elapsed": 70,
     "status": "ok",
     "timestamp": 1662223472195,
     "user": {
      "displayName": "Anyamanee",
      "userId": "12687195745778250975"
     },
     "user_tz": -420
    },
    "id": "_9oBLcJj74-6",
    "scrolled": true
   },
   "outputs": [],
   "source": [
    "x = df_Final[list(cols_Select[\"index\"])[0:-1]]\n",
    "y = df_Final[list(cols_Select[\"index\"])[-1]]"
   ]
  },
  {
   "cell_type": "code",
   "execution_count": null,
   "metadata": {
    "colab": {
     "base_uri": "https://localhost:8080/",
     "height": 206
    },
    "executionInfo": {
     "elapsed": 70,
     "status": "ok",
     "timestamp": 1662223472196,
     "user": {
      "displayName": "Anyamanee",
      "userId": "12687195745778250975"
     },
     "user_tz": -420
    },
    "id": "v0t7ThFs74-6",
    "outputId": "03dd534f-af1a-4fc7-8df9-c2f600f99265",
    "scrolled": false
   },
   "outputs": [
    {
     "data": {
      "text/html": [
       "<div>\n",
       "<style scoped>\n",
       "    .dataframe tbody tr th:only-of-type {\n",
       "        vertical-align: middle;\n",
       "    }\n",
       "\n",
       "    .dataframe tbody tr th {\n",
       "        vertical-align: top;\n",
       "    }\n",
       "\n",
       "    .dataframe thead th {\n",
       "        text-align: right;\n",
       "    }\n",
       "</style>\n",
       "<table border=\"1\" class=\"dataframe\">\n",
       "  <thead>\n",
       "    <tr style=\"text-align: right;\">\n",
       "      <th></th>\n",
       "      <th>hypertension</th>\n",
       "      <th>heart_disease</th>\n",
       "      <th>ever_married</th>\n",
       "      <th>avg_glucose_level</th>\n",
       "      <th>age</th>\n",
       "    </tr>\n",
       "  </thead>\n",
       "  <tbody>\n",
       "    <tr>\n",
       "      <th>0</th>\n",
       "      <td>0</td>\n",
       "      <td>1</td>\n",
       "      <td>1</td>\n",
       "      <td>228.69</td>\n",
       "      <td>67.0</td>\n",
       "    </tr>\n",
       "    <tr>\n",
       "      <th>1</th>\n",
       "      <td>0</td>\n",
       "      <td>0</td>\n",
       "      <td>1</td>\n",
       "      <td>202.21</td>\n",
       "      <td>61.0</td>\n",
       "    </tr>\n",
       "    <tr>\n",
       "      <th>2</th>\n",
       "      <td>0</td>\n",
       "      <td>1</td>\n",
       "      <td>1</td>\n",
       "      <td>105.92</td>\n",
       "      <td>80.0</td>\n",
       "    </tr>\n",
       "    <tr>\n",
       "      <th>3</th>\n",
       "      <td>0</td>\n",
       "      <td>0</td>\n",
       "      <td>1</td>\n",
       "      <td>171.23</td>\n",
       "      <td>49.0</td>\n",
       "    </tr>\n",
       "    <tr>\n",
       "      <th>4</th>\n",
       "      <td>1</td>\n",
       "      <td>0</td>\n",
       "      <td>1</td>\n",
       "      <td>174.12</td>\n",
       "      <td>79.0</td>\n",
       "    </tr>\n",
       "  </tbody>\n",
       "</table>\n",
       "</div>"
      ],
      "text/plain": [
       "   hypertension  heart_disease  ever_married  avg_glucose_level   age\n",
       "0             0              1             1             228.69  67.0\n",
       "1             0              0             1             202.21  61.0\n",
       "2             0              1             1             105.92  80.0\n",
       "3             0              0             1             171.23  49.0\n",
       "4             1              0             1             174.12  79.0"
      ]
     },
     "execution_count": 180,
     "metadata": {},
     "output_type": "execute_result"
    }
   ],
   "source": [
    "x.head()"
   ]
  },
  {
   "cell_type": "code",
   "execution_count": null,
   "metadata": {
    "colab": {
     "base_uri": "https://localhost:8080/"
    },
    "executionInfo": {
     "elapsed": 67,
     "status": "ok",
     "timestamp": 1662223472197,
     "user": {
      "displayName": "Anyamanee",
      "userId": "12687195745778250975"
     },
     "user_tz": -420
    },
    "id": "GdSEpyw474-6",
    "outputId": "7700a480-ba44-413a-df93-087ab24f1578"
   },
   "outputs": [
    {
     "data": {
      "text/plain": [
       "0    1\n",
       "1    1\n",
       "2    1\n",
       "3    1\n",
       "4    1\n",
       "Name: stroke, dtype: int64"
      ]
     },
     "execution_count": 181,
     "metadata": {},
     "output_type": "execute_result"
    }
   ],
   "source": [
    "y.head()"
   ]
  },
  {
   "cell_type": "markdown",
   "metadata": {
    "id": "QKepKqBDT_tn"
   },
   "source": [
    "# <font color=\"MidnightBlue\">7. Splitting the dataset into the Training set (80%) and Test set (20%)<a id=\"7\"></a>"
   ]
  },
  {
   "cell_type": "code",
   "execution_count": null,
   "metadata": {
    "colab": {
     "base_uri": "https://localhost:8080/"
    },
    "executionInfo": {
     "elapsed": 57,
     "status": "ok",
     "timestamp": 1662223472199,
     "user": {
      "displayName": "Anyamanee",
      "userId": "12687195745778250975"
     },
     "user_tz": -420
    },
    "id": "Ai-l_wYp74-7",
    "outputId": "88c8978d-85ee-426d-ce27-ea6067ad4b03",
    "scrolled": true
   },
   "outputs": [
    {
     "name": "stdout",
     "output_type": "stream",
     "text": [
      "Train Dataset:\n",
      "Number x_train dataset: (4087, 5)\n",
      "Number y_train dataset: (4087,)\n",
      "\n",
      "Test Dataset:\n",
      "Number x_test dataset: (1022, 5)\n",
      "Number y_test dataset: (1022,)\n"
     ]
    }
   ],
   "source": [
    "# Train 80: Test 20\n",
    "x_train, x_test, y_train, y_test = train_test_split(x, y, test_size= 0.2, random_state= 0)\n",
    "\n",
    "print(f'''Train Dataset:\n",
    "Number x_train dataset: {x_train.shape}\n",
    "Number y_train dataset: {y_train.shape}\n",
    "\n",
    "Test Dataset:\n",
    "Number x_test dataset: {x_test.shape}\n",
    "Number y_test dataset: {y_test.shape}''')"
   ]
  },
  {
   "cell_type": "markdown",
   "metadata": {
    "id": "ogVBLGBzT_tn"
   },
   "source": [
    "# <font color=\"MidnightBlue\">8. Feature Scaling with StandardScaler<a id=\"8\"></a>"
   ]
  },
  {
   "cell_type": "code",
   "execution_count": null,
   "metadata": {
    "executionInfo": {
     "elapsed": 51,
     "status": "ok",
     "timestamp": 1662223472200,
     "user": {
      "displayName": "Anyamanee",
      "userId": "12687195745778250975"
     },
     "user_tz": -420
    },
    "id": "5W-lEmQgT_to"
   },
   "outputs": [],
   "source": [
    "numeric_features = list(x.select_dtypes('float64').columns)\n",
    "numeric_transformer = Pipeline(steps=[(\"scaler\", StandardScaler())])\n",
    "\n",
    "categorical_features = list(x.select_dtypes('int64').columns)\n",
    "categorical_transformer = OneHotEncoder(handle_unknown=\"ignore\")\n",
    "\n",
    "preprocessor = ColumnTransformer(\n",
    "    transformers=[\n",
    "        (\"num\", numeric_transformer, numeric_features),\n",
    "        (\"cat\", categorical_transformer, categorical_features),])"
   ]
  },
  {
   "cell_type": "code",
   "execution_count": null,
   "metadata": {
    "executionInfo": {
     "elapsed": 606,
     "status": "ok",
     "timestamp": 1662223472756,
     "user": {
      "displayName": "Anyamanee",
      "userId": "12687195745778250975"
     },
     "user_tz": -420
    },
    "id": "1riuztM674-8"
   },
   "outputs": [],
   "source": [
    "x_train = preprocessor.fit_transform(x_train)\n",
    "x_test = preprocessor.transform(x_test)"
   ]
  },
  {
   "cell_type": "code",
   "execution_count": null,
   "metadata": {
    "colab": {
     "base_uri": "https://localhost:8080/"
    },
    "executionInfo": {
     "elapsed": 44,
     "status": "ok",
     "timestamp": 1662223472756,
     "user": {
      "displayName": "Anyamanee",
      "userId": "12687195745778250975"
     },
     "user_tz": -420
    },
    "id": "pXds2lXsT_to",
    "outputId": "2ae46c18-3b2d-413d-d9a6-3846862c62a8",
    "scrolled": false
   },
   "outputs": [
    {
     "data": {
      "text/plain": [
       "array([[ 1.94917668,  0.68793278,  1.        , ...,  1.        ,\n",
       "         0.        ,  1.        ],\n",
       "       [-0.09498732, -1.12888266,  1.        , ...,  0.        ,\n",
       "         1.        ,  0.        ],\n",
       "       [-0.60366621,  1.39693393,  1.        , ...,  0.        ,\n",
       "         0.        ,  1.        ],\n",
       "       ...,\n",
       "       [-0.25407307,  0.0232442 ,  1.        , ...,  0.        ,\n",
       "         0.        ,  1.        ],\n",
       "       [ 0.32228318, -0.99594495,  1.        , ...,  0.        ,\n",
       "         1.        ,  0.        ],\n",
       "       [-1.02730892,  0.64362021,  0.        , ...,  0.        ,\n",
       "         0.        ,  1.        ]])"
      ]
     },
     "execution_count": 185,
     "metadata": {},
     "output_type": "execute_result"
    }
   ],
   "source": [
    "x_train"
   ]
  },
  {
   "cell_type": "code",
   "execution_count": null,
   "metadata": {
    "colab": {
     "base_uri": "https://localhost:8080/"
    },
    "executionInfo": {
     "elapsed": 39,
     "status": "ok",
     "timestamp": 1662223472757,
     "user": {
      "displayName": "Anyamanee",
      "userId": "12687195745778250975"
     },
     "user_tz": -420
    },
    "id": "ag2iDQulT_tp",
    "outputId": "afa491aa-f637-429a-e1c0-441828e050aa",
    "scrolled": true
   },
   "outputs": [
    {
     "data": {
      "text/plain": [
       "array([[ 8.48760330e-01,  1.70712194e+00,  1.00000000e+00, ...,\n",
       "         1.00000000e+00,  0.00000000e+00,  1.00000000e+00],\n",
       "       [-1.16188445e-03, -1.74925867e+00,  1.00000000e+00, ...,\n",
       "         0.00000000e+00,  1.00000000e+00,  0.00000000e+00],\n",
       "       [-7.39240664e-01,  4.22057352e-01,  1.00000000e+00, ...,\n",
       "         0.00000000e+00,  0.00000000e+00,  1.00000000e+00],\n",
       "       ...,\n",
       "       [ 2.88896916e+00,  1.52987165e+00,  1.00000000e+00, ...,\n",
       "         0.00000000e+00,  0.00000000e+00,  1.00000000e+00],\n",
       "       [ 2.99431081e-01, -3.31256371e-01,  1.00000000e+00, ...,\n",
       "         0.00000000e+00,  0.00000000e+00,  1.00000000e+00],\n",
       "       [-5.82571962e-01, -1.79357124e+00,  1.00000000e+00, ...,\n",
       "         0.00000000e+00,  1.00000000e+00,  0.00000000e+00]])"
      ]
     },
     "execution_count": 186,
     "metadata": {},
     "output_type": "execute_result"
    }
   ],
   "source": [
    "x_test"
   ]
  },
  {
   "cell_type": "markdown",
   "metadata": {
    "id": "Q_XEZbF-T_tp"
   },
   "source": [
    "# <font color=\"MidnightBlue\">9. Handling Imbalance data using SMOTE<a id=\"9\"></a>"
   ]
  },
  {
   "cell_type": "code",
   "execution_count": null,
   "metadata": {
    "colab": {
     "base_uri": "https://localhost:8080/"
    },
    "executionInfo": {
     "elapsed": 33,
     "status": "ok",
     "timestamp": 1662223472757,
     "user": {
      "displayName": "Anyamanee",
      "userId": "12687195745778250975"
     },
     "user_tz": -420
    },
    "id": "hYACF3dP74-8",
    "outputId": "5e06ac4a-92bc-426b-f9e1-f002467d54c9",
    "scrolled": false
   },
   "outputs": [
    {
     "name": "stdout",
     "output_type": "stream",
     "text": [
      "Before OverSampling, counts of label '1': 195\n",
      "Before OverSampling, counts of label '0': 3892 \n",
      "\n",
      "After OverSampling, the shape of train_X: (7784, 8)\n",
      "After OverSampling, the shape of train_y: (7784,) \n",
      "\n",
      "After OverSampling, counts of label '1': 3892\n",
      "After OverSampling, counts of label '0': 3892\n"
     ]
    }
   ],
   "source": [
    "from imblearn.over_sampling import SMOTE\n",
    "\n",
    "print(\"Before OverSampling, counts of label '1': {}\".format(sum(y_train==1)))\n",
    "print(\"Before OverSampling, counts of label '0': {} \\n\".format(sum(y_train==0)))\n",
    "\n",
    "sm = SMOTE(random_state=2)\n",
    "x_train_smote, y_train_smote = sm.fit_resample(x_train, y_train.ravel())\n",
    "\n",
    "print('After OverSampling, the shape of train_X: {}'.format(x_train_smote.shape))\n",
    "print('After OverSampling, the shape of train_y: {} \\n'.format(y_train_smote.shape))\n",
    "\n",
    "print(\"After OverSampling, counts of label '1': {}\".format(sum(y_train_smote==1)))\n",
    "print(\"After OverSampling, counts of label '0': {}\".format(sum(y_train_smote==0)))"
   ]
  },
  {
   "cell_type": "code",
   "execution_count": null,
   "metadata": {
    "colab": {
     "base_uri": "https://localhost:8080/"
    },
    "executionInfo": {
     "elapsed": 25,
     "status": "ok",
     "timestamp": 1662223472757,
     "user": {
      "displayName": "Anyamanee",
      "userId": "12687195745778250975"
     },
     "user_tz": -420
    },
    "id": "U5_TwalUT_tq",
    "outputId": "ab6c8585-d3d0-41b1-ecc2-f2db6cceae3e",
    "scrolled": true
   },
   "outputs": [
    {
     "data": {
      "text/plain": [
       "array([[ 1.94917668,  0.68793278,  1.        , ...,  1.        ,\n",
       "         0.        ,  1.        ],\n",
       "       [-0.09498732, -1.12888266,  1.        , ...,  0.        ,\n",
       "         1.        ,  0.        ],\n",
       "       [-0.60366621,  1.39693393,  1.        , ...,  0.        ,\n",
       "         0.        ,  1.        ],\n",
       "       ...,\n",
       "       [-0.00510745,  0.76370402,  1.        , ...,  1.        ,\n",
       "         0.        ,  1.        ],\n",
       "       [ 1.90453383,  0.67702446,  1.        , ...,  0.        ,\n",
       "         0.        ,  1.        ],\n",
       "       [ 1.81289741,  0.62346461,  1.        , ...,  0.        ,\n",
       "         0.        ,  1.        ]])"
      ]
     },
     "execution_count": 188,
     "metadata": {},
     "output_type": "execute_result"
    }
   ],
   "source": [
    "x_train_smote"
   ]
  },
  {
   "cell_type": "code",
   "execution_count": null,
   "metadata": {
    "colab": {
     "base_uri": "https://localhost:8080/"
    },
    "executionInfo": {
     "elapsed": 20,
     "status": "ok",
     "timestamp": 1662223472758,
     "user": {
      "displayName": "Anyamanee",
      "userId": "12687195745778250975"
     },
     "user_tz": -420
    },
    "id": "kd41Miq0T_tq",
    "outputId": "cd1ee49f-707f-4a03-d82b-1661c26033c2"
   },
   "outputs": [
    {
     "data": {
      "text/plain": [
       "array([0, 0, 1, ..., 1, 1, 1], dtype=int64)"
      ]
     },
     "execution_count": 189,
     "metadata": {},
     "output_type": "execute_result"
    }
   ],
   "source": [
    "y_train_smote"
   ]
  },
  {
   "cell_type": "markdown",
   "metadata": {
    "id": "0C9WImQXT_tr"
   },
   "source": [
    "# <font color=\"MidnightBlue\">10. Model Selection<a id=\"10\"></a>"
   ]
  },
  {
   "cell_type": "markdown",
   "metadata": {
    "id": "pqfYat1MT_tr"
   },
   "source": [
    "## <font color=\"MidnightBlue\">10.1 K-Fold Cross Validation<a id=\"10-1\"></a>"
   ]
  },
  {
   "cell_type": "code",
   "execution_count": null,
   "metadata": {
    "executionInfo": {
     "elapsed": 15,
     "status": "ok",
     "timestamp": 1662223472759,
     "user": {
      "displayName": "Anyamanee",
      "userId": "12687195745778250975"
     },
     "user_tz": -420
    },
    "id": "8Zn2Elya74--"
   },
   "outputs": [],
   "source": [
    "# get a list of models to evaluate\n",
    "def get_models():\n",
    "    models = list()\n",
    "    models.append({'LogisticRegression':LogisticRegression()})\n",
    "    models.append({'RidgeClassifier':RidgeClassifier()})\n",
    "    models.append({'KNeighborsClassifier':KNeighborsClassifier()})\n",
    "    models.append({'DecisionTreeClassifier':DecisionTreeClassifier()})\n",
    "    models.append({'LinearSVC':LinearSVC()})\n",
    "    models.append({'SVC':SVC()})\n",
    "    models.append({'RandomForestClassifier':RandomForestClassifier()})\n",
    "    models.append({'XGBoost':XGBClassifier(eval_metric= 'error')})\n",
    "    return models\n",
    " \n",
    "# evaluate the model using a given test condition\n",
    "def evaluate_model(cv, model, x_data, y_data):\n",
    "    # evaluate the model\n",
    "    scores = cross_val_score(model, x_data, y_data, scoring='accuracy', cv=cv, n_jobs=-1)\n",
    "    # return scores\n",
    "    return mean(scores)\n",
    " "
   ]
  },
  {
   "cell_type": "code",
   "execution_count": null,
   "metadata": {
    "colab": {
     "base_uri": "https://localhost:8080/",
     "height": 350
    },
    "executionInfo": {
     "elapsed": 30066,
     "status": "ok",
     "timestamp": 1662223502811,
     "user": {
      "displayName": "Anyamanee",
      "userId": "12687195745778250975"
     },
     "user_tz": -420
    },
    "id": "ENFN7h6z74-_",
    "outputId": "d6e21062-a51b-459b-ea2c-2040d6c3b5c4",
    "scrolled": false
   },
   "outputs": [
    {
     "name": "stdout",
     "output_type": "stream",
     "text": [
      "Done !!! \n"
     ]
    },
    {
     "data": {
      "text/html": [
       "<div>\n",
       "<style scoped>\n",
       "    .dataframe tbody tr th:only-of-type {\n",
       "        vertical-align: middle;\n",
       "    }\n",
       "\n",
       "    .dataframe tbody tr th {\n",
       "        vertical-align: top;\n",
       "    }\n",
       "\n",
       "    .dataframe thead th {\n",
       "        text-align: right;\n",
       "    }\n",
       "</style>\n",
       "<table border=\"1\" class=\"dataframe\">\n",
       "  <thead>\n",
       "    <tr style=\"text-align: right;\">\n",
       "      <th></th>\n",
       "      <th>Model</th>\n",
       "      <th>ACC_results</th>\n",
       "    </tr>\n",
       "  </thead>\n",
       "  <tbody>\n",
       "    <tr>\n",
       "      <th>7</th>\n",
       "      <td>XGBoost</td>\n",
       "      <td>0.947584</td>\n",
       "    </tr>\n",
       "    <tr>\n",
       "      <th>3</th>\n",
       "      <td>DecisionTreeClassifier</td>\n",
       "      <td>0.920732</td>\n",
       "    </tr>\n",
       "    <tr>\n",
       "      <th>6</th>\n",
       "      <td>RandomForestClassifier</td>\n",
       "      <td>0.904291</td>\n",
       "    </tr>\n",
       "    <tr>\n",
       "      <th>2</th>\n",
       "      <td>KNeighborsClassifier</td>\n",
       "      <td>0.855473</td>\n",
       "    </tr>\n",
       "    <tr>\n",
       "      <th>5</th>\n",
       "      <td>SVC</td>\n",
       "      <td>0.787641</td>\n",
       "    </tr>\n",
       "    <tr>\n",
       "      <th>1</th>\n",
       "      <td>RidgeClassifier</td>\n",
       "      <td>0.778647</td>\n",
       "    </tr>\n",
       "    <tr>\n",
       "      <th>4</th>\n",
       "      <td>LinearSVC</td>\n",
       "      <td>0.776207</td>\n",
       "    </tr>\n",
       "    <tr>\n",
       "      <th>0</th>\n",
       "      <td>LogisticRegression</td>\n",
       "      <td>0.774923</td>\n",
       "    </tr>\n",
       "  </tbody>\n",
       "</table>\n",
       "</div>"
      ],
      "text/plain": [
       "                    Model  ACC_results\n",
       "7                 XGBoost     0.947584\n",
       "3  DecisionTreeClassifier     0.920732\n",
       "6  RandomForestClassifier     0.904291\n",
       "2    KNeighborsClassifier     0.855473\n",
       "5                     SVC     0.787641\n",
       "1         RidgeClassifier     0.778647\n",
       "4               LinearSVC     0.776207\n",
       "0      LogisticRegression     0.774923"
      ]
     },
     "execution_count": 191,
     "metadata": {},
     "output_type": "execute_result"
    }
   ],
   "source": [
    "# define test conditions\n",
    "cv = KFold(n_splits=5, shuffle=True, random_state=17)\n",
    "\n",
    "# get the list of models to consider\n",
    "models = get_models()\n",
    "\n",
    "# collect results\n",
    "cv_results = list()\n",
    "model_results = list()\n",
    "\n",
    "# evaluate each model\n",
    "for idx, model in enumerate(models):\n",
    "    s_model =  list(model.values())\n",
    "    name_model = list(model.keys())\n",
    "    # evaluate model using each test condition\n",
    "    cv_mean = evaluate_model(cv, s_model[0], x_train_smote, y_train_smote)\n",
    "    # check for invalid results\n",
    "    if isnan(cv_mean):\n",
    "        continue\n",
    "    # store results\n",
    "    cv_results.append(cv_mean)\n",
    "    model_results.append(name_model[0])\n",
    "    # summarize progress\n",
    "    #print('>%s:, cv=%.3f' % (type(model).__name__, cv_mean))\n",
    "\n",
    "print(\"Done !!! \")\n",
    "\n",
    "CVresults_df = pd.DataFrame()\n",
    "CVresults_df['Model'] = model_results\n",
    "CVresults_df['ACC_results'] = cv_results\n",
    "CVresults_df = CVresults_df.sort_values(by=['ACC_results'], ascending=False)\n",
    "CVresults_df"
   ]
  },
  {
   "cell_type": "markdown",
   "metadata": {
    "id": "tAlnJKgLT_ts"
   },
   "source": [
    "> จากตารางคือค่า mean accuracy จากการทำ valuate model ด้วย K-Fold Cross Validation ที่จำนวน K-Fold = 5"
   ]
  },
  {
   "cell_type": "markdown",
   "metadata": {
    "id": "FxXZLQuIT_ts"
   },
   "source": [
    "## <font color=\"MidnightBlue\">10.2 Confusion matrix<a id=\"10-2\"></a>"
   ]
  },
  {
   "cell_type": "code",
   "execution_count": null,
   "metadata": {
    "executionInfo": {
     "elapsed": 10270,
     "status": "ok",
     "timestamp": 1662223513061,
     "user": {
      "displayName": "Anyamanee",
      "userId": "12687195745778250975"
     },
     "user_tz": -420
    },
    "id": "bHJT4pF1LgxF"
   },
   "outputs": [],
   "source": [
    "from sklearn.metrics import accuracy_score, precision_score, recall_score, f1_score\n",
    "from sklearn.pipeline import Pipeline\n",
    "\n",
    "accuracy, precision, recall, f1 = {}, {}, {}, {}\n",
    "\n",
    "for idx, model in enumerate(models):\n",
    "    \n",
    "    s_model =  list(model.values())\n",
    "    name_model = list(model.keys())\n",
    "    \n",
    "    key = Pipeline([('clf',s_model[0])])\n",
    "    # Fit the classifier model\n",
    "    key.fit(x_train_smote, y_train_smote)\n",
    "\n",
    "    # Prediction \n",
    "    predictions = key.predict(x_test)\n",
    "\n",
    "    # Calculate Accuracy, Precision and Recall Metrics\n",
    "    accuracy[key] = accuracy_score(predictions,y_test)\n",
    "    precision[key] = precision_score(predictions,y_test)\n",
    "    recall[key] = recall_score(predictions, y_test)\n",
    "    f1[key] = f1_score(predictions, y_test)"
   ]
  },
  {
   "cell_type": "markdown",
   "metadata": {
    "id": "6yIU8OyHT_ts"
   },
   "source": [
    "## <font color=\"MidnightBlue\">10.3 Summary Model Selection<a id=\"10-3\"></a>"
   ]
  },
  {
   "cell_type": "code",
   "execution_count": null,
   "metadata": {
    "colab": {
     "base_uri": "https://localhost:8080/",
     "height": 331
    },
    "executionInfo": {
     "elapsed": 57,
     "status": "ok",
     "timestamp": 1662223513072,
     "user": {
      "displayName": "Anyamanee",
      "userId": "12687195745778250975"
     },
     "user_tz": -420
    },
    "id": "iSi86vjTT_ts",
    "outputId": "bef713b3-9d6f-4bf7-9006-4932a9604438"
   },
   "outputs": [
    {
     "data": {
      "text/html": [
       "<div>\n",
       "<style scoped>\n",
       "    .dataframe tbody tr th:only-of-type {\n",
       "        vertical-align: middle;\n",
       "    }\n",
       "\n",
       "    .dataframe tbody tr th {\n",
       "        vertical-align: top;\n",
       "    }\n",
       "\n",
       "    .dataframe thead th {\n",
       "        text-align: right;\n",
       "    }\n",
       "</style>\n",
       "<table border=\"1\" class=\"dataframe\">\n",
       "  <thead>\n",
       "    <tr style=\"text-align: right;\">\n",
       "      <th></th>\n",
       "      <th>Accuracy</th>\n",
       "      <th>Precision</th>\n",
       "      <th>Recall</th>\n",
       "      <th>F1</th>\n",
       "    </tr>\n",
       "  </thead>\n",
       "  <tbody>\n",
       "    <tr>\n",
       "      <th>RidgeClassifier</th>\n",
       "      <td>0.737769</td>\n",
       "      <td>0.722222</td>\n",
       "      <td>0.133562</td>\n",
       "      <td>0.225434</td>\n",
       "    </tr>\n",
       "    <tr>\n",
       "      <th>LinearSVC</th>\n",
       "      <td>0.751468</td>\n",
       "      <td>0.722222</td>\n",
       "      <td>0.140288</td>\n",
       "      <td>0.234940</td>\n",
       "    </tr>\n",
       "    <tr>\n",
       "      <th>SVC</th>\n",
       "      <td>0.751468</td>\n",
       "      <td>0.722222</td>\n",
       "      <td>0.140288</td>\n",
       "      <td>0.234940</td>\n",
       "    </tr>\n",
       "    <tr>\n",
       "      <th>LogisticRegression</th>\n",
       "      <td>0.758317</td>\n",
       "      <td>0.703704</td>\n",
       "      <td>0.141264</td>\n",
       "      <td>0.235294</td>\n",
       "    </tr>\n",
       "    <tr>\n",
       "      <th>KNeighborsClassifier</th>\n",
       "      <td>0.808219</td>\n",
       "      <td>0.462963</td>\n",
       "      <td>0.130208</td>\n",
       "      <td>0.203252</td>\n",
       "    </tr>\n",
       "    <tr>\n",
       "      <th>RandomForestClassifier</th>\n",
       "      <td>0.878669</td>\n",
       "      <td>0.240741</td>\n",
       "      <td>0.135417</td>\n",
       "      <td>0.173333</td>\n",
       "    </tr>\n",
       "    <tr>\n",
       "      <th>DecisionTreeClassifier</th>\n",
       "      <td>0.895303</td>\n",
       "      <td>0.148148</td>\n",
       "      <td>0.115942</td>\n",
       "      <td>0.130081</td>\n",
       "    </tr>\n",
       "    <tr>\n",
       "      <th>XGBoost</th>\n",
       "      <td>0.928571</td>\n",
       "      <td>0.111111</td>\n",
       "      <td>0.193548</td>\n",
       "      <td>0.141176</td>\n",
       "    </tr>\n",
       "  </tbody>\n",
       "</table>\n",
       "</div>"
      ],
      "text/plain": [
       "                        Accuracy  Precision    Recall        F1\n",
       "RidgeClassifier         0.737769   0.722222  0.133562  0.225434\n",
       "LinearSVC               0.751468   0.722222  0.140288  0.234940\n",
       "SVC                     0.751468   0.722222  0.140288  0.234940\n",
       "LogisticRegression      0.758317   0.703704  0.141264  0.235294\n",
       "KNeighborsClassifier    0.808219   0.462963  0.130208  0.203252\n",
       "RandomForestClassifier  0.878669   0.240741  0.135417  0.173333\n",
       "DecisionTreeClassifier  0.895303   0.148148  0.115942  0.130081\n",
       "XGBoost                 0.928571   0.111111  0.193548  0.141176"
      ]
     },
     "execution_count": 193,
     "metadata": {},
     "output_type": "execute_result"
    }
   ],
   "source": [
    "name_model = [ list(x.keys())[0] for i, x in enumerate(models)]\n",
    "\n",
    "df_model = pd.DataFrame(index=name_model, columns=['Accuracy', 'Precision', 'Recall', 'F1'])\n",
    "df_model['Accuracy'] = accuracy.values()\n",
    "df_model['Precision'] = precision.values()\n",
    "df_model['Recall'] = recall.values()\n",
    "df_model['F1'] = f1.values()\n",
    "\n",
    "df_model = df_model.sort_values(by=['Precision'], ascending=False)\n",
    "df_model"
   ]
  },
  {
   "cell_type": "markdown",
   "metadata": {
    "id": "Q6hdwHsbT_tt"
   },
   "source": [
    "# <font color=\"MidnightBlue\">11. Tuning the Models<a id=\"11\"></a>"
   ]
  },
  {
   "cell_type": "code",
   "execution_count": null,
   "metadata": {},
   "outputs": [],
   "source": [
    "models_select = {}"
   ]
  },
  {
   "cell_type": "markdown",
   "metadata": {
    "id": "cUavjil3SIU3"
   },
   "source": [
    "## <font color=\"MidnightBlue\">11.1 RidgeClassifier<a id=\"11-1\"></a>"
   ]
  },
  {
   "cell_type": "code",
   "execution_count": null,
   "metadata": {
    "executionInfo": {
     "elapsed": 55,
     "status": "ok",
     "timestamp": 1662223513075,
     "user": {
      "displayName": "Anyamanee",
      "userId": "12687195745778250975"
     },
     "user_tz": -420
    },
    "id": "qZ1vTJltT_tt"
   },
   "outputs": [
    {
     "data": {
      "text/plain": [
       "\"\\n#Grid\\nfrom sklearn.linear_model import RidgeClassifier\\nparameter_grid = {'alpha': [0.0001, 0.001, 0.1, 1.0, 1.25, 1.5,],\\n                  'fit_intercept': [True, False],\\n                  'solver': ['auto', 'svd', 'cholesky', 'lsqr', 'sparse_cg', 'sag', 'saga']}\\n\\nRidgeClassifier = RidgeClassifier()\\n\\nRidgeClassifier_cv = GridSearchCV(estimator = RidgeClassifier,\\n                                  param_grid = parameter_grid, scoring = 'accuracy', cv = 5, verbose=0)\\n\\nRidgeClassifier_cv.fit(x_train_smote, y_train_smote)\\n\\nbest_accuracy = RidgeClassifier_cv.best_score_\\nbest_param = RidgeClassifier_cv.best_params_\\nprint(f'best_accuracy: {best_accuracy}')\\nprint(f'best_param: {best_param}')\\n\""
      ]
     },
     "execution_count": 195,
     "metadata": {},
     "output_type": "execute_result"
    }
   ],
   "source": [
    "'''\n",
    "#Grid\n",
    "from sklearn.linear_model import RidgeClassifier\n",
    "parameter_grid = {'alpha': [0.0001, 0.001, 0.1, 1.0, 1.25, 1.5,],\n",
    "                  'fit_intercept': [True, False],\n",
    "                  'solver': ['auto', 'svd', 'cholesky', 'lsqr', 'sparse_cg', 'sag', 'saga']}\n",
    "\n",
    "RidgeClassifier = RidgeClassifier()\n",
    "\n",
    "RidgeClassifier_cv = GridSearchCV(estimator = RidgeClassifier,\n",
    "                                  param_grid = parameter_grid, scoring = 'accuracy', cv = 5, verbose=0)\n",
    "\n",
    "RidgeClassifier_cv.fit(x_train_smote, y_train_smote)\n",
    "\n",
    "best_accuracy = RidgeClassifier_cv.best_score_\n",
    "best_param = RidgeClassifier_cv.best_params_\n",
    "print(f'best_accuracy: {best_accuracy}')\n",
    "print(f'best_param: {best_param}')\n",
    "'''"
   ]
  },
  {
   "cell_type": "code",
   "execution_count": null,
   "metadata": {},
   "outputs": [],
   "source": [
    "from sklearn.linear_model import RidgeClassifier\n",
    "models_select['RidgeClassifier'] = RidgeClassifier(alpha = 0.0001, solver = 'lsqr')"
   ]
  },
  {
   "cell_type": "code",
   "execution_count": null,
   "metadata": {},
   "outputs": [
    {
     "name": "stdout",
     "output_type": "stream",
     "text": [
      "Training:0.7791623843782117\n",
      "Test:0.7377690802348337\n",
      "Train Set:\n",
      "               precision    recall  f1-score   support\n",
      "\n",
      "           0       0.82      0.72      0.77      3892\n",
      "           1       0.75      0.84      0.79      3892\n",
      "\n",
      "    accuracy                           0.78      7784\n",
      "   macro avg       0.78      0.78      0.78      7784\n",
      "weighted avg       0.78      0.78      0.78      7784\n",
      "\n",
      "Test Set:\n",
      "               precision    recall  f1-score   support\n",
      "\n",
      "           0       0.98      0.74      0.84       968\n",
      "           1       0.13      0.72      0.23        54\n",
      "\n",
      "    accuracy                           0.74      1022\n",
      "   macro avg       0.56      0.73      0.53      1022\n",
      "weighted avg       0.93      0.74      0.81      1022\n",
      "\n"
     ]
    }
   ],
   "source": [
    "clf = models_select['RidgeClassifier']\n",
    "clf.fit(x_train_smote,y_train_smote)\n",
    "\n",
    "print(\"Training:\"+str(clf.score(x_train_smote, y_train_smote)))\n",
    "print(\"Test:\"+str(clf.score(x_test,y_test)))\n",
    "\n",
    "clf_pred = clf.predict(x_train_smote)\n",
    "print('Train Set:\\n', classification_report(y_train_smote, clf_pred))\n",
    "\n",
    "clf_pred = clf.predict(x_test)\n",
    "print('Test Set:\\n', classification_report(y_test, clf_pred))"
   ]
  },
  {
   "cell_type": "markdown",
   "metadata": {
    "id": "aCNs06pET_tt"
   },
   "source": [
    "## <font color=\"MidnightBlue\">11.2 LinearSVC<a id=\"11-2\"></a>"
   ]
  },
  {
   "cell_type": "code",
   "execution_count": null,
   "metadata": {
    "executionInfo": {
     "elapsed": 58,
     "status": "ok",
     "timestamp": 1662223513078,
     "user": {
      "displayName": "Anyamanee",
      "userId": "12687195745778250975"
     },
     "user_tz": -420
    },
    "id": "f_qRwHJ-T_tt"
   },
   "outputs": [
    {
     "data": {
      "text/plain": [
       "\"\\n#Grid\\nparameter_grid = {'penalty': ['l2'],\\n                  'C': [0.0001, 0.001, 0.01, 0.1, 1, 1.25, 1.5],\\n                  'loss': ['hinge', 'squared_hinge'],\\n                  'multi_class': ['ovr', 'crammer_singer'],\\n                  'max_iter': [200000, 100000]}\\n\\nlinearsvc = LinearSVC()\\n\\nlinearsvc_cv=GridSearchCV(estimator = linearsvc, param_grid = parameter_grid, scoring = 'accuracy', cv = 5, verbose=0)\\n\\nlinearsvc_cv.fit(x_train_smote, y_train_smote)\\n\\nbest_accuracy = linearsvc_cv.best_score_\\nbest_param = linearsvc_cv.best_params_\\nprint(f'best_accuracy: {best_accuracy}')\\nprint(f'best_param: {best_param}')\\n\\n\""
      ]
     },
     "execution_count": 198,
     "metadata": {},
     "output_type": "execute_result"
    }
   ],
   "source": [
    "'''\n",
    "#Grid\n",
    "parameter_grid = {'penalty': ['l2'],\n",
    "                  'C': [0.0001, 0.001, 0.01, 0.1, 1, 1.25, 1.5],\n",
    "                  'loss': ['hinge', 'squared_hinge'],\n",
    "                  'multi_class': ['ovr', 'crammer_singer'],\n",
    "                  'max_iter': [200000, 100000]}\n",
    "\n",
    "linearsvc = LinearSVC()\n",
    "\n",
    "linearsvc_cv=GridSearchCV(estimator = linearsvc, param_grid = parameter_grid, scoring = 'accuracy', cv = 5, verbose=0)\n",
    "\n",
    "linearsvc_cv.fit(x_train_smote, y_train_smote)\n",
    "\n",
    "best_accuracy = linearsvc_cv.best_score_\n",
    "best_param = linearsvc_cv.best_params_\n",
    "print(f'best_accuracy: {best_accuracy}')\n",
    "print(f'best_param: {best_param}')\n",
    "\n",
    "'''"
   ]
  },
  {
   "cell_type": "code",
   "execution_count": null,
   "metadata": {},
   "outputs": [],
   "source": [
    "models_select['LinearSVC'] = LinearSVC(C= 0.001,multi_class = 'crammer_singer',penalty = 'l2',loss='hinge')"
   ]
  },
  {
   "cell_type": "code",
   "execution_count": null,
   "metadata": {},
   "outputs": [
    {
     "name": "stdout",
     "output_type": "stream",
     "text": [
      "Training:0.7818602261048304\n",
      "Test:0.723091976516634\n",
      "\n",
      "Train Set:\n",
      "              precision    recall  f1-score   support\n",
      "\n",
      "           0       0.84      0.70      0.76      3892\n",
      "           1       0.74      0.86      0.80      3892\n",
      "\n",
      "    accuracy                           0.78      7784\n",
      "   macro avg       0.79      0.78      0.78      7784\n",
      "weighted avg       0.79      0.78      0.78      7784\n",
      "\n",
      "Test Set:\n",
      "              precision    recall  f1-score   support\n",
      "\n",
      "           0       0.98      0.72      0.83       968\n",
      "           1       0.13      0.78      0.23        54\n",
      "\n",
      "    accuracy                           0.72      1022\n",
      "   macro avg       0.56      0.75      0.53      1022\n",
      "weighted avg       0.94      0.72      0.80      1022\n",
      "\n"
     ]
    }
   ],
   "source": [
    "clf = models_select['LinearSVC']\n",
    "scores = cross_val_score(clf, x_train_smote, y_train_smote, cv=5, scoring='accuracy')\n",
    "\n",
    "#Train set 80%\n",
    "clf = clf.fit(x_train_smote, y_train_smote)\n",
    "\n",
    "print(\"Training:\"+str(clf.score(x_train_smote, y_train_smote)))\n",
    "print(\"Test:\"+str(clf.score(x_test,y_test)))\n",
    "\n",
    "pred_train80 = clf.predict(x_train_smote)\n",
    "\n",
    "pred_test20 = clf.predict(x_test)\n",
    "\n",
    "print(f'\\nTrain Set:\\n{classification_report(y_train_smote, pred_train80)}')\n",
    "print(f'Test Set:\\n{classification_report(y_test, pred_test20)}')"
   ]
  },
  {
   "cell_type": "markdown",
   "metadata": {
    "id": "xzBMRJyYSMeJ"
   },
   "source": [
    "## <font color=\"MidnightBlue\">11.3 SVC<a id=\"11-3\"></a>"
   ]
  },
  {
   "cell_type": "code",
   "execution_count": null,
   "metadata": {},
   "outputs": [
    {
     "data": {
      "text/plain": [
       "\"\\n#Grid\\nparameter_grid = {'C': [0.25,0.5,0.75,1,1.25,1.5],\\n                  'kernel': ['linear', 'rbf', 'sigmoid', 'poly'],\\n                  'gamma': ['scale', 'auto'],'random_state':[0]}\\n\\nsvm = SVC()\\n\\nsvm_cv=GridSearchCV(estimator = svm, param_grid = parameter_grid, scoring = 'accuracy', cv = 5, verbose=0)\\n\\nsvm_cv.fit(x_train_smote, y_train_smote)\\n\\nbest_accuracy = svm_cv.best_score_\\nbest_param = svm_cv.best_params_\\nprint(f'best_accuracy: {best_accuracy}')\\nprint(f'best_param: {best_param}')\\n\\n\""
      ]
     },
     "execution_count": 201,
     "metadata": {},
     "output_type": "execute_result"
    }
   ],
   "source": [
    "'''\n",
    "#Grid\n",
    "parameter_grid = {'C': [0.25,0.5,0.75,1,1.25,1.5],\n",
    "                  'kernel': ['linear', 'rbf', 'sigmoid', 'poly'],\n",
    "                  'gamma': ['scale', 'auto'],'random_state':[0]}\n",
    "\n",
    "svm = SVC()\n",
    "\n",
    "svm_cv=GridSearchCV(estimator = svm, param_grid = parameter_grid, scoring = 'accuracy', cv = 5, verbose=0)\n",
    "\n",
    "svm_cv.fit(x_train_smote, y_train_smote)\n",
    "\n",
    "best_accuracy = svm_cv.best_score_\n",
    "best_param = svm_cv.best_params_\n",
    "print(f'best_accuracy: {best_accuracy}')\n",
    "print(f'best_param: {best_param}')\n",
    "\n",
    "'''"
   ]
  },
  {
   "cell_type": "code",
   "execution_count": null,
   "metadata": {
    "executionInfo": {
     "elapsed": 59,
     "status": "ok",
     "timestamp": 1662223513080,
     "user": {
      "displayName": "Anyamanee",
      "userId": "12687195745778250975"
     },
     "user_tz": -420
    },
    "id": "7d7Hjs2hT_tu"
   },
   "outputs": [],
   "source": [
    "models_select['SVC'] = SVC(C= 1.5, gamma = 'scale', kernel = 'rbf', random_state = 0)"
   ]
  },
  {
   "cell_type": "code",
   "execution_count": null,
   "metadata": {},
   "outputs": [
    {
     "name": "stdout",
     "output_type": "stream",
     "text": [
      "Training:0.7920092497430626\n",
      "Test:0.7524461839530333\n",
      "\n",
      "Train Set:\n",
      "              precision    recall  f1-score   support\n",
      "\n",
      "           0       0.83      0.74      0.78      3892\n",
      "           1       0.76      0.84      0.80      3892\n",
      "\n",
      "    accuracy                           0.79      7784\n",
      "   macro avg       0.80      0.79      0.79      7784\n",
      "weighted avg       0.80      0.79      0.79      7784\n",
      "\n",
      "Test Set:\n",
      "              precision    recall  f1-score   support\n",
      "\n",
      "           0       0.98      0.75      0.85       968\n",
      "           1       0.14      0.72      0.24        54\n",
      "\n",
      "    accuracy                           0.75      1022\n",
      "   macro avg       0.56      0.74      0.54      1022\n",
      "weighted avg       0.94      0.75      0.82      1022\n",
      "\n"
     ]
    }
   ],
   "source": [
    "clf = models_select['SVC']\n",
    "scores = cross_val_score(clf, x_train_smote, y_train_smote, cv=5, scoring='accuracy')\n",
    "\n",
    "#print(scores)\n",
    "#print(scores.mean())\n",
    "\n",
    "#Train set 80%\n",
    "clf = clf.fit(x_train_smote, y_train_smote)\n",
    "\n",
    "print(\"Training:\"+str(clf.score(x_train_smote, y_train_smote)))\n",
    "print(\"Test:\"+str(clf.score(x_test,y_test)))\n",
    "\n",
    "pred_train80 = clf.predict(x_train_smote)\n",
    "pred_test20 = clf.predict(x_test)\n",
    "\n",
    "print(f'\\nTrain Set:\\n{classification_report(y_train_smote, pred_train80)}')\n",
    "print(f'Test Set:\\n{classification_report(y_test, pred_test20)}')"
   ]
  },
  {
   "cell_type": "markdown",
   "metadata": {
    "id": "wRC1ZWNLT_tv"
   },
   "source": [
    "## <font color=\"MidnightBlue\">11.4 LogisticRegression<a id=\"11-4\"></a>"
   ]
  },
  {
   "cell_type": "code",
   "execution_count": null,
   "metadata": {
    "colab": {
     "base_uri": "https://localhost:8080/"
    },
    "executionInfo": {
     "elapsed": 235024,
     "status": "ok",
     "timestamp": 1662224328899,
     "user": {
      "displayName": "Anyamanee",
      "userId": "12687195745778250975"
     },
     "user_tz": -420
    },
    "id": "TZlHBQX3T_tv",
    "outputId": "665f25b5-2fb8-49af-ada6-68ab288b0b1d"
   },
   "outputs": [
    {
     "data": {
      "text/plain": [
       "'\\nfrom sklearn.model_selection import GridSearchCV\\nfrom sklearn.linear_model import LogisticRegression\\n\\n#Grid\\nparameter_grid = {\\'solver\\': [\\'newton-cg\\', \\'lbfgs\\', \\'liblinear\\', \\'sag\\', \\'saga\\'],\\n              \\'penalty\\':[\\'l1\\',\\'l2\\',\\'elasticnet\\'],\\n              \\'C\\':[0.0001, 0.001, 0.01, 0.1, 1, 10, 100],\\n              \\'max_iter\\': list(range(10,200,10)),\\n              }\\n\\nlogreg=LogisticRegression()\\n\\nlogreg_cv=GridSearchCV(estimator = logreg,  \\n                           param_grid = parameter_grid,\\n                           scoring = \\'precision\\',\\n                           cv = 5,\\n                           verbose=0)\\n\\nlogreg_cv.fit(x_train_smote, y_train_smote)\\n\\nprint(\"tuned hpyerparameters :(best parameters) \",logreg_cv.best_params_)\\nprint(\"best score :\",logreg_cv.best_score_)\\n\\n'"
      ]
     },
     "execution_count": 204,
     "metadata": {},
     "output_type": "execute_result"
    }
   ],
   "source": [
    "'''\n",
    "from sklearn.model_selection import GridSearchCV\n",
    "from sklearn.linear_model import LogisticRegression\n",
    "\n",
    "#Grid\n",
    "parameter_grid = {'solver': ['newton-cg', 'lbfgs', 'liblinear', 'sag', 'saga'],\n",
    "              'penalty':['l1','l2','elasticnet'],\n",
    "              'C':[0.0001, 0.001, 0.01, 0.1, 1, 10, 100],\n",
    "              'max_iter': list(range(10,200,10)),\n",
    "              }\n",
    "\n",
    "logreg=LogisticRegression()\n",
    "\n",
    "logreg_cv=GridSearchCV(estimator = logreg,  \n",
    "                           param_grid = parameter_grid,\n",
    "                           scoring = 'precision',\n",
    "                           cv = 5,\n",
    "                           verbose=0)\n",
    "\n",
    "logreg_cv.fit(x_train_smote, y_train_smote)\n",
    "\n",
    "print(\"tuned hpyerparameters :(best parameters) \",logreg_cv.best_params_)\n",
    "print(\"best score :\",logreg_cv.best_score_)\n",
    "\n",
    "'''"
   ]
  },
  {
   "cell_type": "code",
   "execution_count": null,
   "metadata": {
    "executionInfo": {
     "elapsed": 417,
     "status": "ok",
     "timestamp": 1662224637262,
     "user": {
      "displayName": "Anyamanee",
      "userId": "12687195745778250975"
     },
     "user_tz": -420
    },
    "id": "_pt5tO7bnVlJ"
   },
   "outputs": [],
   "source": [
    "models_select['LogisticRegression'] = LogisticRegression(C= 1, max_iter= 100,solver = 'sag', penalty = 'l2')"
   ]
  },
  {
   "cell_type": "code",
   "execution_count": null,
   "metadata": {
    "colab": {
     "base_uri": "https://localhost:8080/"
    },
    "executionInfo": {
     "elapsed": 402,
     "status": "ok",
     "timestamp": 1662224645716,
     "user": {
      "displayName": "Anyamanee",
      "userId": "12687195745778250975"
     },
     "user_tz": -420
    },
    "id": "k9J3lEromiJ0",
    "outputId": "ee4b2bf4-f81d-4468-c7a8-1c7508dd1489"
   },
   "outputs": [
    {
     "name": "stdout",
     "output_type": "stream",
     "text": [
      "Training:0.774922918807811\n",
      "Test:0.7583170254403131\n",
      "\n",
      "Train Set:\n",
      "              precision    recall  f1-score   support\n",
      "\n",
      "           0       0.79      0.75      0.77      3892\n",
      "           1       0.76      0.80      0.78      3892\n",
      "\n",
      "    accuracy                           0.77      7784\n",
      "   macro avg       0.78      0.77      0.77      7784\n",
      "weighted avg       0.78      0.77      0.77      7784\n",
      "\n",
      "Test Set:\n",
      "              precision    recall  f1-score   support\n",
      "\n",
      "           0       0.98      0.76      0.86       968\n",
      "           1       0.14      0.70      0.24        54\n",
      "\n",
      "    accuracy                           0.76      1022\n",
      "   macro avg       0.56      0.73      0.55      1022\n",
      "weighted avg       0.93      0.76      0.82      1022\n",
      "\n"
     ]
    }
   ],
   "source": [
    "clf = models_select['LogisticRegression']\n",
    "scores = cross_val_score(clf, x_train_smote, y_train_smote, cv=5, scoring='accuracy')\n",
    "\n",
    "#Train set 80%\n",
    "clf = clf.fit(x_train_smote, y_train_smote)\n",
    "\n",
    "print(\"Training:\"+str(clf.score(x_train_smote, y_train_smote)))\n",
    "print(\"Test:\"+str(clf.score(x_test,y_test)))\n",
    "\n",
    "pred_train80 = clf.predict(x_train_smote)\n",
    "pred_test20 = clf.predict(x_test)\n",
    "\n",
    "print(f'\\nTrain Set:\\n{classification_report(y_train_smote, pred_train80)}')\n",
    "print(f'Test Set:\\n{classification_report(y_test, pred_test20)}')"
   ]
  },
  {
   "cell_type": "markdown",
   "metadata": {
    "id": "OSMPqmUnSHB8"
   },
   "source": [
    "## <font color=\"MidnightBlue\">11.5 KNeighborsClassifier<a id=\"11-5\"></a>"
   ]
  },
  {
   "cell_type": "code",
   "execution_count": null,
   "metadata": {
    "colab": {
     "base_uri": "https://localhost:8080/"
    },
    "executionInfo": {
     "elapsed": 67424,
     "status": "ok",
     "timestamp": 1662225854808,
     "user": {
      "displayName": "Anyamanee",
      "userId": "12687195745778250975"
     },
     "user_tz": -420
    },
    "id": "HyfVJSdmSGHy",
    "outputId": "b8149957-2001-4728-cfcf-98e4b6ea534d"
   },
   "outputs": [
    {
     "data": {
      "text/plain": [
       "'\\nfrom sklearn.neighbors import KNeighborsClassifier\\n\\n#Grid\\nparameter_grid = {\\'weights\\': [\\'uniform\\', \\'distance\\'],\\n              \\'algorithm\\':[\\'auto\\',\\'ball_tree\\',\\'kd_tree\\'],\\n              \\'leaf_size\\':list(range(10,101,10)),\\n              \\'n_neighbors\\': list(range(1,5,1)),\\n              }\\n\\nknn = KNeighborsClassifier()\\n\\nknn_cv=GridSearchCV(estimator = knn,  \\n                           param_grid = parameter_grid,\\n                           scoring = \\'precision\\',\\n                           cv = 5,\\n                           verbose=0)\\nknn_cv.fit(x_train_smote, y_train_smote)\\n\\n#knn = KNeighborsClassifier)\\n\\nprint(\"tuned hpyerparameters :(best parameters) \",knn_cv.best_params_)\\nprint(\"best score :\",knn_cv.best_score_)\\n\\n'"
      ]
     },
     "execution_count": 207,
     "metadata": {},
     "output_type": "execute_result"
    }
   ],
   "source": [
    "'''\n",
    "from sklearn.neighbors import KNeighborsClassifier\n",
    "\n",
    "#Grid\n",
    "parameter_grid = {'weights': ['uniform', 'distance'],\n",
    "              'algorithm':['auto','ball_tree','kd_tree'],\n",
    "              'leaf_size':list(range(10,101,10)),\n",
    "              'n_neighbors': list(range(1,5,1)),\n",
    "              }\n",
    "\n",
    "knn = KNeighborsClassifier()\n",
    "\n",
    "knn_cv=GridSearchCV(estimator = knn,  \n",
    "                           param_grid = parameter_grid,\n",
    "                           scoring = 'precision',\n",
    "                           cv = 5,\n",
    "                           verbose=0)\n",
    "knn_cv.fit(x_train_smote, y_train_smote)\n",
    "\n",
    "#knn = KNeighborsClassifier)\n",
    "\n",
    "print(\"tuned hpyerparameters :(best parameters) \",knn_cv.best_params_)\n",
    "print(\"best score :\",knn_cv.best_score_)\n",
    "\n",
    "'''"
   ]
  },
  {
   "cell_type": "code",
   "execution_count": null,
   "metadata": {
    "executionInfo": {
     "elapsed": 4,
     "status": "ok",
     "timestamp": 1662225854809,
     "user": {
      "displayName": "Anyamanee",
      "userId": "12687195745778250975"
     },
     "user_tz": -420
    },
    "id": "iARSfZo9Ujd7"
   },
   "outputs": [],
   "source": [
    "models_select['KNeighborsClassifier'] = KNeighborsClassifier(n_neighbors=5, leaf_size = 10, weights='distance')"
   ]
  },
  {
   "cell_type": "code",
   "execution_count": null,
   "metadata": {
    "colab": {
     "base_uri": "https://localhost:8080/"
    },
    "executionInfo": {
     "elapsed": 577,
     "status": "ok",
     "timestamp": 1662225855947,
     "user": {
      "displayName": "Anyamanee",
      "userId": "12687195745778250975"
     },
     "user_tz": -420
    },
    "id": "kltP3jVLVxHm",
    "outputId": "9c5ca920-67ac-4475-9298-896339584ac0"
   },
   "outputs": [
    {
     "name": "stdout",
     "output_type": "stream",
     "text": [
      "Training:1.0\n",
      "Test:0.8268101761252447\n",
      "\n",
      "Train Set:\n",
      "              precision    recall  f1-score   support\n",
      "\n",
      "           0       1.00      1.00      1.00      3892\n",
      "           1       1.00      1.00      1.00      3892\n",
      "\n",
      "    accuracy                           1.00      7784\n",
      "   macro avg       1.00      1.00      1.00      7784\n",
      "weighted avg       1.00      1.00      1.00      7784\n",
      "\n",
      "Test Set:\n",
      "              precision    recall  f1-score   support\n",
      "\n",
      "           0       0.96      0.85      0.90       968\n",
      "           1       0.13      0.41      0.20        54\n",
      "\n",
      "    accuracy                           0.83      1022\n",
      "   macro avg       0.55      0.63      0.55      1022\n",
      "weighted avg       0.92      0.83      0.87      1022\n",
      "\n"
     ]
    }
   ],
   "source": [
    "clf = models_select['KNeighborsClassifier']\n",
    "scores = cross_val_score(clf, x_train_smote, y_train_smote, cv=5, scoring='accuracy')\n",
    "\n",
    "#Train set 80%\n",
    "clf = clf.fit(x_train_smote, y_train_smote)\n",
    "\n",
    "print(\"Training:\"+str(clf.score(x_train_smote, y_train_smote)))\n",
    "print(\"Test:\"+str(clf.score(x_test,y_test)))\n",
    "\n",
    "pred_train80 = clf.predict(x_train_smote)\n",
    "pred_test20 = clf.predict(x_test)\n",
    "\n",
    "print(f'\\nTrain Set:\\n{classification_report(y_train_smote, pred_train80)}')\n",
    "print(f'Test Set:\\n{classification_report(y_test, pred_test20)}')"
   ]
  },
  {
   "cell_type": "markdown",
   "metadata": {},
   "source": [
    "## <font color=\"MidnightBlue\">11.6 RandomForestClassifier<a id=\"11-6\"></a>"
   ]
  },
  {
   "cell_type": "code",
   "execution_count": null,
   "metadata": {},
   "outputs": [
    {
     "data": {
      "text/plain": [
       "\"#Grid\\nparam_grid = { \\n    'n_estimators': list(range(100,500,100)),\\n    'max_features': ['auto', 'sqrt', 'log2'],\\n    'max_depth' : list(range(2,11,1)),\\n    'criterion' :['gini', 'entropy']\\n}\\n\\nrfc=RandomForestClassifier(random_state=42)\\n\\ncv_rfc = GridSearchCV(estimator=rfc, param_grid=param_grid, cv= 5)\\n\\ncv_rfc.fit(x_train_smote, y_train_smote)\\n\\ncv_rfc.best_params_\""
      ]
     },
     "execution_count": 210,
     "metadata": {},
     "output_type": "execute_result"
    }
   ],
   "source": [
    "\"\"\"#Grid\n",
    "param_grid = { \n",
    "    'n_estimators': list(range(100,500,100)),\n",
    "    'max_features': ['auto', 'sqrt', 'log2'],\n",
    "    'max_depth' : list(range(2,11,1)),\n",
    "    'criterion' :['gini', 'entropy']\n",
    "}\n",
    "\n",
    "rfc=RandomForestClassifier(random_state=42)\n",
    "\n",
    "cv_rfc = GridSearchCV(estimator=rfc, param_grid=param_grid, cv= 5)\n",
    "\n",
    "cv_rfc.fit(x_train_smote, y_train_smote)\n",
    "\n",
    "cv_rfc.best_params_\"\"\""
   ]
  },
  {
   "cell_type": "code",
   "execution_count": null,
   "metadata": {},
   "outputs": [],
   "source": [
    "models_select['RandomForestClassifier'] = RandomForestClassifier(criterion= 'log_loss',  max_depth = 3, max_features = 'log2', n_estimators= 400)"
   ]
  },
  {
   "cell_type": "code",
   "execution_count": null,
   "metadata": {},
   "outputs": [
    {
     "name": "stdout",
     "output_type": "stream",
     "text": [
      "Training:0.7979188078108942\n",
      "Test:0.726027397260274\n",
      "\n",
      "Train Set:\n",
      "              precision    recall  f1-score   support\n",
      "\n",
      "           0       0.86      0.71      0.78      3892\n",
      "           1       0.75      0.88      0.81      3892\n",
      "\n",
      "    accuracy                           0.80      7784\n",
      "   macro avg       0.81      0.80      0.80      7784\n",
      "weighted avg       0.81      0.80      0.80      7784\n",
      "\n",
      "Test Set:\n",
      "              precision    recall  f1-score   support\n",
      "\n",
      "           0       0.98      0.72      0.83       968\n",
      "           1       0.13      0.76      0.23        54\n",
      "\n",
      "    accuracy                           0.73      1022\n",
      "   macro avg       0.56      0.74      0.53      1022\n",
      "weighted avg       0.94      0.73      0.80      1022\n",
      "\n"
     ]
    }
   ],
   "source": [
    "clf = models_select['RandomForestClassifier']\n",
    "scores = cross_val_score(clf, x_train_smote, y_train_smote, cv=5, scoring='accuracy')\n",
    "\n",
    "#Train set 80%\n",
    "clf = clf.fit(x_train_smote, y_train_smote)\n",
    "\n",
    "print(\"Training:\"+str(clf.score(x_train_smote, y_train_smote)))\n",
    "print(\"Test:\"+str(clf.score(x_test,y_test)))\n",
    "\n",
    "pred_train80 = clf.predict(x_train_smote)\n",
    "pred_test20 = clf.predict(x_test)\n",
    "\n",
    "print(f'\\nTrain Set:\\n{classification_report(y_train_smote, pred_train80)}')\n",
    "print(f'Test Set:\\n{classification_report(y_test, pred_test20)}')"
   ]
  },
  {
   "cell_type": "markdown",
   "metadata": {},
   "source": [
    "## <font color=\"MidnightBlue\">11.7 Summary Model Accuracy<a id=\"11-7\"></a>"
   ]
  },
  {
   "cell_type": "code",
   "execution_count": null,
   "metadata": {},
   "outputs": [
    {
     "data": {
      "text/html": [
       "<div>\n",
       "<style scoped>\n",
       "    .dataframe tbody tr th:only-of-type {\n",
       "        vertical-align: middle;\n",
       "    }\n",
       "\n",
       "    .dataframe tbody tr th {\n",
       "        vertical-align: top;\n",
       "    }\n",
       "\n",
       "    .dataframe thead th {\n",
       "        text-align: right;\n",
       "    }\n",
       "</style>\n",
       "<table border=\"1\" class=\"dataframe\">\n",
       "  <thead>\n",
       "    <tr style=\"text-align: right;\">\n",
       "      <th></th>\n",
       "      <th>Accuracy</th>\n",
       "      <th>Precision</th>\n",
       "      <th>Recall</th>\n",
       "      <th>F1</th>\n",
       "    </tr>\n",
       "  </thead>\n",
       "  <tbody>\n",
       "    <tr>\n",
       "      <th>RidgeClassifier</th>\n",
       "      <td>0.737769</td>\n",
       "      <td>0.722222</td>\n",
       "      <td>0.133562</td>\n",
       "      <td>0.225434</td>\n",
       "    </tr>\n",
       "    <tr>\n",
       "      <th>LinearSVC</th>\n",
       "      <td>0.723092</td>\n",
       "      <td>0.777778</td>\n",
       "      <td>0.134185</td>\n",
       "      <td>0.228883</td>\n",
       "    </tr>\n",
       "    <tr>\n",
       "      <th>SVC</th>\n",
       "      <td>0.752446</td>\n",
       "      <td>0.722222</td>\n",
       "      <td>0.140794</td>\n",
       "      <td>0.235650</td>\n",
       "    </tr>\n",
       "    <tr>\n",
       "      <th>LogisticRegression</th>\n",
       "      <td>0.758317</td>\n",
       "      <td>0.703704</td>\n",
       "      <td>0.141264</td>\n",
       "      <td>0.235294</td>\n",
       "    </tr>\n",
       "    <tr>\n",
       "      <th>KNeighborsClassifier</th>\n",
       "      <td>0.826810</td>\n",
       "      <td>0.407407</td>\n",
       "      <td>0.131737</td>\n",
       "      <td>0.199095</td>\n",
       "    </tr>\n",
       "    <tr>\n",
       "      <th>RandomForestClassifier</th>\n",
       "      <td>0.718200</td>\n",
       "      <td>0.759259</td>\n",
       "      <td>0.129747</td>\n",
       "      <td>0.221622</td>\n",
       "    </tr>\n",
       "  </tbody>\n",
       "</table>\n",
       "</div>"
      ],
      "text/plain": [
       "                        Accuracy  Precision    Recall        F1\n",
       "RidgeClassifier         0.737769   0.722222  0.133562  0.225434\n",
       "LinearSVC               0.723092   0.777778  0.134185  0.228883\n",
       "SVC                     0.752446   0.722222  0.140794  0.235650\n",
       "LogisticRegression      0.758317   0.703704  0.141264  0.235294\n",
       "KNeighborsClassifier    0.826810   0.407407  0.131737  0.199095\n",
       "RandomForestClassifier  0.718200   0.759259  0.129747  0.221622"
      ]
     },
     "execution_count": 213,
     "metadata": {},
     "output_type": "execute_result"
    }
   ],
   "source": [
    "accuracy_01, precision_01, recall_01, f1_01 = {}, {}, {}, {}\n",
    "\n",
    "for key in models_select.keys():\n",
    "  # Fit the classifier model\n",
    "    models_select[key].fit(x_train_smote, y_train_smote)\n",
    "  # Prediction \n",
    "    predictions = models_select[key].predict(x_test)\n",
    "  # Calculate Accuracy, Precision and Recall Metrics\n",
    "    accuracy_01[key] = accuracy_score(predictions,y_test)\n",
    "    precision_01[key] = precision_score(predictions, y_test)\n",
    "    recall_01[key] = recall_score(predictions, y_test)\n",
    "    f1_01[key] = f1_score(predictions, y_test)\n",
    "    \n",
    "df_model = pd.DataFrame(index=models_select.keys(), columns=['Accuracy', 'Precision', 'Recall', 'F1'])\n",
    "df_model['Accuracy'] = list(accuracy_01.values())\n",
    "df_model['Precision'] = list(precision_01.values())\n",
    "df_model['Recall'] = list(recall_01.values())\n",
    "df_model['F1'] = list(f1_01.values())\n",
    "df_model"
   ]
  },
  {
   "cell_type": "markdown",
   "metadata": {
    "id": "wqTK4AyKrR1m"
   },
   "source": [
    "# <font color=\"MidnightBlue\">12. Keras<a id=\"12\"></a>"
   ]
  },
  {
   "cell_type": "code",
   "execution_count": null,
   "metadata": {},
   "outputs": [],
   "source": [
    "from sklearn import metrics\n",
    "from sklearn.metrics import roc_curve, roc_auc_score\n",
    "from sklearn.metrics import accuracy_score\n",
    "from sklearn.metrics import precision_recall_fscore_support\n",
    "import tensorflow as tf\n",
    "from sklearn.metrics import confusion_matrix\n",
    "from sklearn.metrics import ConfusionMatrixDisplay\n",
    "from sklearn.metrics import classification_report\n",
    "import pandas as pd\n",
    "from tensorflow import keras\n",
    "from tensorflow.keras import layers\n",
    "import keras_tuner as kt"
   ]
  },
  {
   "cell_type": "markdown",
   "metadata": {},
   "source": [
    "## <font color=\"MidnightBlue\">12.1 Prepare the environment<a id=\"12-1\"></a>"
   ]
  },
  {
   "cell_type": "code",
   "execution_count": null,
   "metadata": {},
   "outputs": [
    {
     "name": "stdout",
     "output_type": "stream",
     "text": [
      "TensorFlow 2.9.2\n",
      "tf.keras.backend.image_data_format() = channels_last\n",
      "TensorFlow detected 0 GPU(s):\n"
     ]
    }
   ],
   "source": [
    "print( f\"TensorFlow {tf.__version__}\" )\n",
    "print( f\"tf.keras.backend.image_data_format() = {tf.keras.backend.image_data_format()}\" )\n",
    "\n",
    "# Count the number of GPUs as detected by tensorflow\n",
    "gpus = tf.config.list_physical_devices('GPU')\n",
    "print( f\"TensorFlow detected { len(gpus) } GPU(s):\" )\n",
    "for i, gpu in enumerate(gpus):\n",
    "    print( f\".... GPU No. {i}: Name = {gpu.name} , Type = {gpu.device_type}\" )"
   ]
  },
  {
   "cell_type": "markdown",
   "metadata": {},
   "source": [
    "## <font color=\"MidnightBlue\">12.2 Tuning hyperparameter find the best model (KerasTuner)<a id=\"12-2\"></a>"
   ]
  },
  {
   "cell_type": "code",
   "execution_count": null,
   "metadata": {},
   "outputs": [],
   "source": [
    "# build the network\n",
    "\n",
    "def model_select_keras(hp):\n",
    "  model = keras.Sequential()\n",
    "  model.add(layers.Flatten())\n",
    "\n",
    "  ################################################ Hidden layer #############################################\n",
    "  # Tune the number of layers.\n",
    "  for i in range(hp.Int('num_layers', 1, 3)):\n",
    "    model.add(\n",
    "        layers.Dense(\n",
    "        # Tune number of units.\n",
    "        units=hp.Choice(f\"units_{i}\", [8, 16, 32, 64, 128, 256, 512, 1024]),\n",
    "        # Tune the activation function to use.\n",
    "        activation=hp.Choice(\"activation\", [\"relu\", \"tanh\", 'sigmoid']),\n",
    "        )\n",
    "    )\n",
    "  if hp.Boolean(\"dropout\"):\n",
    "    model.add(layers.Dropout(rate=0.3))\n",
    "  ################################################ Output layer #############################################\n",
    "  model.add(layers.Dense(1, activation=\"sigmoid\"))\n",
    "  # Define the optimizer learning rate as a hyperparameter.\n",
    "  learning_rate = hp.Choice(\"lr\", [0.001, 0.0001, 0.00001])\n",
    "  model.compile(\n",
    "      optimizer=keras.optimizers.Adam(learning_rate=learning_rate),\n",
    "      loss='binary_crossentropy',\n",
    "      metrics = ['accuracy'])\n",
    "\n",
    "  return model\n",
    "\n",
    "model_select_keras(kt.HyperParameters())"
   ]
  },
  {
   "cell_type": "code",
   "execution_count": null,
   "metadata": {},
   "outputs": [],
   "source": [
    "# test the build networt model completeeeed!\n",
    "model_select_keras(kt.HyperParameters())"
   ]
  },
  {
   "cell_type": "code",
   "execution_count": null,
   "metadata": {},
   "outputs": [],
   "source": [
    "# start the search\n",
    "tuner = kt.RandomSearch(\n",
    "    hypermodel=model_select_keras,\n",
    "    objective=\"val_accuracy\",\n",
    "    max_trials=10,\n",
    "    executions_per_trial=2,\n",
    "    overwrite=True,\n",
    "    directory=\"/model_select_keras/\",\n",
    "    project_name=\"keras\")"
   ]
  },
  {
   "cell_type": "code",
   "execution_count": null,
   "metadata": {},
   "outputs": [],
   "source": [
    "tuner.search_space_summary()"
   ]
  },
  {
   "cell_type": "code",
   "execution_count": null,
   "metadata": {},
   "outputs": [],
   "source": [
    "tuner.search(x_train_smote, y_train_smote, epochs=2, validation_split= 0.2)"
   ]
  },
  {
   "cell_type": "code",
   "execution_count": null,
   "metadata": {},
   "outputs": [],
   "source": [
    "# Get the top 10 models.\n",
    "models = tuner.get_best_models(num_models=10)\n",
    "best_model = models[0]\n",
    "# Build the model.\n",
    "# Needed for `Sequential` without specified `input_shape`.\n",
    "best_model.build(input_shape=(None, 1, x_train_smote.shape[1] ))\n",
    "best_model.summary()"
   ]
  },
  {
   "cell_type": "code",
   "execution_count": null,
   "metadata": {},
   "outputs": [],
   "source": [
    "for i in range(len(models)):\n",
    "  model = models[i]\n",
    "  model.build(input_shape=(None, 1, x_train_smote.shape[1]))\n",
    "  model.summary()"
   ]
  },
  {
   "cell_type": "code",
   "execution_count": null,
   "metadata": {},
   "outputs": [],
   "source": [
    "tuner.results_summary()"
   ]
  },
  {
   "cell_type": "code",
   "execution_count": null,
   "metadata": {},
   "outputs": [],
   "source": [
    "i_round, accuracy_keras_train = [],[]\n",
    "accuracy_keras_test = []\n",
    "\n",
    "for i in range(3):\n",
    "\n",
    "  print(f'#################################################### Model{i} Start !!! ########################################################')\n",
    "\n",
    "  np.random.seed(i)\n",
    "  tf.random.set_seed(i)\n",
    "\n",
    "  best_model.build(input_shape=(None, 1, x_train_smote.shape[1] ))\n",
    "  #model.build(input_shape=(None, 1, x_train_smote.shape[1]))\n",
    "  history = best_model.fit(x_train_smote, y_train_smote, batch_size= 32, epochs = 100, verbose = 2, validation_split= 0.2)\n",
    "\n",
    "  #train_acc = best_model.evaluate(x_train_smote, y_train_smote, verbose=0)\n",
    "  #test_acc = best_model.evaluate(x_test, y_test, verbose=0)\n",
    "\n",
    "  y_pred = best_model.predict(x_test)\n",
    "  y_pred = np.round(y_pred)\n",
    "  y_pred = np.nan_to_num(y_pred)\n",
    "\n",
    "  y_train = best_model.predict(x_train_smote)\n",
    "  y_train = np.round(y_train)\n",
    "  y_train = np.nan_to_num(y_train)\n",
    "\n",
    "  accuracy_keras_train.append(accuracy_score(y_pred,y_test))\n",
    "  accuracy_keras_test.append(accuracy_score(y_train_smote,y_train))\n",
    "\n",
    "  i_round.append(i)\n",
    "\n",
    "  df_accuracy_keras = pd.DataFrame()\n",
    "  df_accuracy_keras['i_round'] = i_round\n",
    "  df_accuracy_keras['accuracy_keras_train'] = accuracy_keras_train\n",
    "  df_accuracy_keras['accuracy_keras_test'] = accuracy_keras_test\n",
    "\n",
    "  print(f'#################################################### Model{i} Done !!! ########################################################\\n\\n')\n"
   ]
  },
  {
   "cell_type": "code",
   "execution_count": null,
   "metadata": {},
   "outputs": [],
   "source": [
    "df_accuracy_keras"
   ]
  },
  {
   "cell_type": "markdown",
   "metadata": {},
   "source": [
    "## <font color=\"MidnightBlue\">12.3 Create the network architecture from best model "
   ]
  },
  {
   "cell_type": "code",
   "execution_count": null,
   "metadata": {},
   "outputs": [
    {
     "name": "stdout",
     "output_type": "stream",
     "text": [
      "Model: \"sequential_4\"\n",
      "_________________________________________________________________\n",
      " Layer (type)                Output Shape              Param #   \n",
      "=================================================================\n",
      " hidden1 (Dense)             (None, 512)               4608      \n",
      "                                                                 \n",
      " hidden2 (Dense)             (None, 256)               131328    \n",
      "                                                                 \n",
      " hidden3 (Dense)             (None, 128)               32896     \n",
      "                                                                 \n",
      " hidden4 (Dense)             (None, 64)                8256      \n",
      "                                                                 \n",
      " hidden5 (Dense)             (None, 32)                2080      \n",
      "                                                                 \n",
      " output (Dense)              (None, 1)                 33        \n",
      "                                                                 \n",
      "=================================================================\n",
      "Total params: 179,201\n",
      "Trainable params: 179,201\n",
      "Non-trainable params: 0\n",
      "_________________________________________________________________\n"
     ]
    }
   ],
   "source": [
    "tf.random.set_seed(1)\n",
    "initializer = tf.keras.initializers.GlorotNormal(seed=9999) #initial weight ที่แตกต่างกัน 3-5 ?????????????????????\n",
    "model = tf.keras.models.Sequential()\n",
    "\n",
    "model.add(tf.keras.Input(shape = x_train_smote.shape[1],))  #input\n",
    "model.add(tf.keras.layers.Dense(512, activation = \"sigmoid\", name = \"hidden1\", kernel_initializer=initializer))\n",
    "model.add(tf.keras.layers.Dense(256, activation = \"sigmoid\", name = \"hidden2\", kernel_initializer=initializer))\n",
    "model.add(tf.keras.layers.Dense(128, activation = \"sigmoid\", name = \"hidden3\", kernel_initializer=initializer))\n",
    "model.add(tf.keras.layers.Dense(64, activation = \"sigmoid\", name = \"hidden4\", kernel_initializer=initializer))\n",
    "model.add(tf.keras.layers.Dense(32, activation = \"sigmoid\", name = \"hidden5\", kernel_initializer=initializer))\n",
    "#model.add(tf.keras.layers.Dropout(0.3))\n",
    "\n",
    "#Output layer\n",
    "model.add(tf.keras.layers.Dense(1,activation = \"sigmoid\", name = \"output\"))\n",
    "model.summary()"
   ]
  },
  {
   "cell_type": "markdown",
   "metadata": {},
   "source": [
    "## <font color=\"MidnightBlue\">12.3 Compile the model<a id=\"12-3\"></a>"
   ]
  },
  {
   "cell_type": "code",
   "execution_count": null,
   "metadata": {},
   "outputs": [],
   "source": [
    "optimize = tf.keras.optimizers.Adam(learning_rate=0.001)\n",
    "\n",
    "model.compile(optimizer = optimize, loss = \"binary_crossentropy\", metrics = ['acc',tf.keras.metrics.Precision(), tf.keras.metrics.Recall()])"
   ]
  },
  {
   "cell_type": "markdown",
   "metadata": {},
   "source": [
    "## <font color=\"MidnightBlue\">12.4 Train the model on train set<a id=\"12-4\"></a>"
   ]
  },
  {
   "cell_type": "code",
   "execution_count": null,
   "metadata": {},
   "outputs": [],
   "source": [
    "checkpoint_filepath = \"bestmodel_epoch{epoch:02d}_valloss{val_loss:.4f}_acc{val_acc: .4f}.hdf5\"\n",
    "model_check_point_callback = tf.keras.callbacks.ModelCheckpoint(filepath = checkpoint_filepath,\n",
    "                                                                save_weight_only = True,\n",
    "                                                                monitor = \"val_acc\",\n",
    "                                                                mode = \"max\",\n",
    "                                                                save_best_only = True,\n",
    "                                                                verbose=1)"
   ]
  },
  {
   "cell_type": "markdown",
   "metadata": {},
   "source": [
    "### <font color=\"MidnightBlue\">Test model for tuning (1 round)<a id=\"12-4\"></a>"
   ]
  },
  {
   "cell_type": "code",
   "execution_count": null,
   "metadata": {},
   "outputs": [
    {
     "name": "stdout",
     "output_type": "stream",
     "text": [
      "Epoch 1/100\n",
      "\n",
      "Epoch 1: val_acc did not improve from 0.82787\n",
      "195/195 - 1s - loss: 0.4041 - acc: 0.8066 - precision_3: 0.7424 - recall_3: 0.7418 - val_loss: 0.5745 - val_acc: 0.7026 - val_precision_3: 1.0000 - val_recall_3: 0.7026 - 714ms/epoch - 4ms/step\n",
      "Epoch 2/100\n",
      "\n",
      "Epoch 2: val_acc did not improve from 0.82787\n",
      "195/195 - 1s - loss: 0.4038 - acc: 0.8070 - precision_3: 0.7462 - recall_3: 0.7353 - val_loss: 0.5844 - val_acc: 0.7013 - val_precision_3: 1.0000 - val_recall_3: 0.7013 - 698ms/epoch - 4ms/step\n",
      "Epoch 3/100\n",
      "\n",
      "Epoch 3: val_acc did not improve from 0.82787\n",
      "195/195 - 1s - loss: 0.4038 - acc: 0.8062 - precision_3: 0.7431 - recall_3: 0.7383 - val_loss: 0.6293 - val_acc: 0.6737 - val_precision_3: 1.0000 - val_recall_3: 0.6737 - 652ms/epoch - 3ms/step\n",
      "Epoch 4/100\n",
      "\n",
      "Epoch 4: val_acc did not improve from 0.82787\n",
      "195/195 - 1s - loss: 0.4006 - acc: 0.8084 - precision_3: 0.7487 - recall_3: 0.7362 - val_loss: 0.5396 - val_acc: 0.7116 - val_precision_3: 1.0000 - val_recall_3: 0.7116 - 670ms/epoch - 3ms/step\n",
      "Epoch 5/100\n",
      "\n",
      "Epoch 5: val_acc did not improve from 0.82787\n",
      "195/195 - 1s - loss: 0.4023 - acc: 0.8055 - precision_3: 0.7425 - recall_3: 0.7370 - val_loss: 0.4516 - val_acc: 0.7412 - val_precision_3: 1.0000 - val_recall_3: 0.7412 - 659ms/epoch - 3ms/step\n",
      "Epoch 6/100\n",
      "\n",
      "Epoch 6: val_acc did not improve from 0.82787\n",
      "195/195 - 1s - loss: 0.4028 - acc: 0.8052 - precision_3: 0.7480 - recall_3: 0.7246 - val_loss: 0.5031 - val_acc: 0.7225 - val_precision_3: 1.0000 - val_recall_3: 0.7225 - 676ms/epoch - 3ms/step\n",
      "Epoch 7/100\n",
      "\n",
      "Epoch 7: val_acc did not improve from 0.82787\n",
      "195/195 - 1s - loss: 0.4011 - acc: 0.8071 - precision_3: 0.7455 - recall_3: 0.7375 - val_loss: 0.5455 - val_acc: 0.7200 - val_precision_3: 1.0000 - val_recall_3: 0.7200 - 682ms/epoch - 3ms/step\n",
      "Epoch 8/100\n",
      "\n",
      "Epoch 8: val_acc did not improve from 0.82787\n",
      "195/195 - 1s - loss: 0.4001 - acc: 0.8084 - precision_3: 0.7480 - recall_3: 0.7375 - val_loss: 0.5838 - val_acc: 0.7020 - val_precision_3: 1.0000 - val_recall_3: 0.7020 - 646ms/epoch - 3ms/step\n",
      "Epoch 9/100\n",
      "\n",
      "Epoch 9: val_acc did not improve from 0.82787\n",
      "195/195 - 1s - loss: 0.4021 - acc: 0.8086 - precision_3: 0.7471 - recall_3: 0.7400 - val_loss: 0.5437 - val_acc: 0.7013 - val_precision_3: 1.0000 - val_recall_3: 0.7013 - 640ms/epoch - 3ms/step\n",
      "Epoch 10/100\n",
      "\n",
      "Epoch 10: val_acc did not improve from 0.82787\n",
      "195/195 - 1s - loss: 0.3992 - acc: 0.8073 - precision_3: 0.7479 - recall_3: 0.7332 - val_loss: 0.5595 - val_acc: 0.6936 - val_precision_3: 1.0000 - val_recall_3: 0.6936 - 629ms/epoch - 3ms/step\n",
      "Epoch 11/100\n",
      "\n",
      "Epoch 11: val_acc did not improve from 0.82787\n",
      "195/195 - 1s - loss: 0.4005 - acc: 0.8060 - precision_3: 0.7455 - recall_3: 0.7328 - val_loss: 0.5163 - val_acc: 0.7071 - val_precision_3: 1.0000 - val_recall_3: 0.7071 - 626ms/epoch - 3ms/step\n",
      "Epoch 12/100\n",
      "\n",
      "Epoch 12: val_acc did not improve from 0.82787\n",
      "195/195 - 1s - loss: 0.3981 - acc: 0.8076 - precision_3: 0.7477 - recall_3: 0.7349 - val_loss: 0.5295 - val_acc: 0.7110 - val_precision_3: 1.0000 - val_recall_3: 0.7110 - 660ms/epoch - 3ms/step\n",
      "Epoch 13/100\n",
      "\n",
      "Epoch 13: val_acc did not improve from 0.82787\n",
      "195/195 - 1s - loss: 0.3973 - acc: 0.8081 - precision_3: 0.7463 - recall_3: 0.7396 - val_loss: 0.5568 - val_acc: 0.6962 - val_precision_3: 1.0000 - val_recall_3: 0.6962 - 664ms/epoch - 3ms/step\n",
      "Epoch 14/100\n",
      "\n",
      "Epoch 14: val_acc did not improve from 0.82787\n",
      "195/195 - 1s - loss: 0.3971 - acc: 0.8110 - precision_3: 0.7498 - recall_3: 0.7443 - val_loss: 0.5684 - val_acc: 0.7033 - val_precision_3: 1.0000 - val_recall_3: 0.7033 - 702ms/epoch - 4ms/step\n",
      "Epoch 15/100\n",
      "\n",
      "Epoch 15: val_acc did not improve from 0.82787\n",
      "195/195 - 1s - loss: 0.3974 - acc: 0.8095 - precision_3: 0.7488 - recall_3: 0.7405 - val_loss: 0.5911 - val_acc: 0.6808 - val_precision_3: 1.0000 - val_recall_3: 0.6808 - 696ms/epoch - 4ms/step\n",
      "Epoch 16/100\n",
      "\n",
      "Epoch 16: val_acc did not improve from 0.82787\n",
      "195/195 - 1s - loss: 0.3955 - acc: 0.8111 - precision_3: 0.7523 - recall_3: 0.7400 - val_loss: 0.5026 - val_acc: 0.7225 - val_precision_3: 1.0000 - val_recall_3: 0.7225 - 709ms/epoch - 4ms/step\n",
      "Epoch 17/100\n",
      "\n",
      "Epoch 17: val_acc did not improve from 0.82787\n",
      "195/195 - 1s - loss: 0.3978 - acc: 0.8094 - precision_3: 0.7498 - recall_3: 0.7379 - val_loss: 0.5937 - val_acc: 0.6885 - val_precision_3: 1.0000 - val_recall_3: 0.6885 - 707ms/epoch - 4ms/step\n",
      "Epoch 18/100\n",
      "\n",
      "Epoch 18: val_acc did not improve from 0.82787\n",
      "195/195 - 1s - loss: 0.3946 - acc: 0.8100 - precision_3: 0.7502 - recall_3: 0.7396 - val_loss: 0.5188 - val_acc: 0.7078 - val_precision_3: 1.0000 - val_recall_3: 0.7078 - 703ms/epoch - 4ms/step\n",
      "Epoch 19/100\n",
      "\n",
      "Epoch 19: val_acc did not improve from 0.82787\n",
      "195/195 - 1s - loss: 0.3963 - acc: 0.8099 - precision_3: 0.7523 - recall_3: 0.7349 - val_loss: 0.5841 - val_acc: 0.6988 - val_precision_3: 1.0000 - val_recall_3: 0.6988 - 684ms/epoch - 4ms/step\n",
      "Epoch 20/100\n",
      "\n",
      "Epoch 20: val_acc did not improve from 0.82787\n",
      "195/195 - 1s - loss: 0.3977 - acc: 0.8078 - precision_3: 0.7459 - recall_3: 0.7392 - val_loss: 0.5677 - val_acc: 0.7007 - val_precision_3: 1.0000 - val_recall_3: 0.7007 - 628ms/epoch - 3ms/step\n",
      "Epoch 21/100\n",
      "\n",
      "Epoch 21: val_acc did not improve from 0.82787\n",
      "195/195 - 1s - loss: 0.3965 - acc: 0.8087 - precision_3: 0.7485 - recall_3: 0.7379 - val_loss: 0.5533 - val_acc: 0.7026 - val_precision_3: 1.0000 - val_recall_3: 0.7026 - 661ms/epoch - 3ms/step\n",
      "Epoch 22/100\n",
      "\n",
      "Epoch 22: val_acc did not improve from 0.82787\n",
      "195/195 - 1s - loss: 0.3950 - acc: 0.8113 - precision_3: 0.7502 - recall_3: 0.7448 - val_loss: 0.5794 - val_acc: 0.7026 - val_precision_3: 1.0000 - val_recall_3: 0.7026 - 649ms/epoch - 3ms/step\n",
      "Epoch 23/100\n",
      "\n",
      "Epoch 23: val_acc did not improve from 0.82787\n",
      "195/195 - 1s - loss: 0.3950 - acc: 0.8121 - precision_3: 0.7529 - recall_3: 0.7426 - val_loss: 0.5792 - val_acc: 0.7078 - val_precision_3: 1.0000 - val_recall_3: 0.7078 - 649ms/epoch - 3ms/step\n",
      "Epoch 24/100\n",
      "\n",
      "Epoch 24: val_acc did not improve from 0.82787\n",
      "195/195 - 1s - loss: 0.3936 - acc: 0.8119 - precision_3: 0.7513 - recall_3: 0.7452 - val_loss: 0.5317 - val_acc: 0.7020 - val_precision_3: 1.0000 - val_recall_3: 0.7020 - 620ms/epoch - 3ms/step\n",
      "Epoch 25/100\n",
      "\n",
      "Epoch 25: val_acc did not improve from 0.82787\n",
      "195/195 - 1s - loss: 0.3940 - acc: 0.8097 - precision_3: 0.7493 - recall_3: 0.7400 - val_loss: 0.5948 - val_acc: 0.6879 - val_precision_3: 1.0000 - val_recall_3: 0.6879 - 627ms/epoch - 3ms/step\n",
      "Epoch 26/100\n",
      "\n",
      "Epoch 26: val_acc did not improve from 0.82787\n",
      "195/195 - 1s - loss: 0.3922 - acc: 0.8103 - precision_3: 0.7515 - recall_3: 0.7383 - val_loss: 0.4903 - val_acc: 0.7258 - val_precision_3: 1.0000 - val_recall_3: 0.7258 - 634ms/epoch - 3ms/step\n",
      "Epoch 27/100\n",
      "\n",
      "Epoch 27: val_acc did not improve from 0.82787\n",
      "195/195 - 1s - loss: 0.3936 - acc: 0.8103 - precision_3: 0.7500 - recall_3: 0.7413 - val_loss: 0.5502 - val_acc: 0.7097 - val_precision_3: 1.0000 - val_recall_3: 0.7097 - 624ms/epoch - 3ms/step\n",
      "Epoch 28/100\n",
      "\n",
      "Epoch 28: val_acc did not improve from 0.82787\n",
      "195/195 - 1s - loss: 0.3921 - acc: 0.8107 - precision_3: 0.7522 - recall_3: 0.7383 - val_loss: 0.4671 - val_acc: 0.7315 - val_precision_3: 1.0000 - val_recall_3: 0.7315 - 621ms/epoch - 3ms/step\n",
      "Epoch 29/100\n",
      "\n",
      "Epoch 29: val_acc did not improve from 0.82787\n",
      "195/195 - 1s - loss: 0.3915 - acc: 0.8111 - precision_3: 0.7527 - recall_3: 0.7392 - val_loss: 0.5602 - val_acc: 0.7123 - val_precision_3: 1.0000 - val_recall_3: 0.7123 - 665ms/epoch - 3ms/step\n",
      "Epoch 30/100\n",
      "\n",
      "Epoch 30: val_acc did not improve from 0.82787\n",
      "195/195 - 1s - loss: 0.3927 - acc: 0.8099 - precision_3: 0.7486 - recall_3: 0.7422 - val_loss: 0.5331 - val_acc: 0.7084 - val_precision_3: 1.0000 - val_recall_3: 0.7084 - 635ms/epoch - 3ms/step\n",
      "Epoch 31/100\n",
      "\n",
      "Epoch 31: val_acc did not improve from 0.82787\n",
      "195/195 - 1s - loss: 0.3918 - acc: 0.8100 - precision_3: 0.7517 - recall_3: 0.7366 - val_loss: 0.5226 - val_acc: 0.7161 - val_precision_3: 1.0000 - val_recall_3: 0.7161 - 643ms/epoch - 3ms/step\n",
      "Epoch 32/100\n",
      "\n",
      "Epoch 32: val_acc did not improve from 0.82787\n",
      "195/195 - 1s - loss: 0.3910 - acc: 0.8121 - precision_3: 0.7547 - recall_3: 0.7392 - val_loss: 0.4875 - val_acc: 0.7213 - val_precision_3: 1.0000 - val_recall_3: 0.7213 - 626ms/epoch - 3ms/step\n",
      "Epoch 33/100\n",
      "\n",
      "Epoch 33: val_acc did not improve from 0.82787\n"
     ]
    },
    {
     "name": "stdout",
     "output_type": "stream",
     "text": [
      "195/195 - 1s - loss: 0.3911 - acc: 0.8107 - precision_3: 0.7504 - recall_3: 0.7418 - val_loss: 0.5064 - val_acc: 0.7084 - val_precision_3: 1.0000 - val_recall_3: 0.7084 - 622ms/epoch - 3ms/step\n",
      "Epoch 34/100\n",
      "\n",
      "Epoch 34: val_acc did not improve from 0.82787\n",
      "195/195 - 1s - loss: 0.3914 - acc: 0.8113 - precision_3: 0.7500 - recall_3: 0.7452 - val_loss: 0.4953 - val_acc: 0.7103 - val_precision_3: 1.0000 - val_recall_3: 0.7103 - 626ms/epoch - 3ms/step\n",
      "Epoch 35/100\n",
      "\n",
      "Epoch 35: val_acc did not improve from 0.82787\n",
      "195/195 - 1s - loss: 0.3895 - acc: 0.8131 - precision_3: 0.7562 - recall_3: 0.7400 - val_loss: 0.5078 - val_acc: 0.7155 - val_precision_3: 1.0000 - val_recall_3: 0.7155 - 614ms/epoch - 3ms/step\n",
      "Epoch 36/100\n",
      "\n",
      "Epoch 36: val_acc did not improve from 0.82787\n",
      "195/195 - 1s - loss: 0.3897 - acc: 0.8147 - precision_3: 0.7542 - recall_3: 0.7503 - val_loss: 0.4900 - val_acc: 0.7425 - val_precision_3: 1.0000 - val_recall_3: 0.7425 - 619ms/epoch - 3ms/step\n",
      "Epoch 37/100\n",
      "\n",
      "Epoch 37: val_acc did not improve from 0.82787\n",
      "195/195 - 1s - loss: 0.3888 - acc: 0.8139 - precision_3: 0.7534 - recall_3: 0.7486 - val_loss: 0.5011 - val_acc: 0.7232 - val_precision_3: 1.0000 - val_recall_3: 0.7232 - 626ms/epoch - 3ms/step\n",
      "Epoch 38/100\n",
      "\n",
      "Epoch 38: val_acc did not improve from 0.82787\n",
      "195/195 - 1s - loss: 0.3891 - acc: 0.8137 - precision_3: 0.7510 - recall_3: 0.7529 - val_loss: 0.5607 - val_acc: 0.6956 - val_precision_3: 1.0000 - val_recall_3: 0.6956 - 623ms/epoch - 3ms/step\n",
      "Epoch 39/100\n",
      "\n",
      "Epoch 39: val_acc did not improve from 0.82787\n",
      "195/195 - 1s - loss: 0.3883 - acc: 0.8102 - precision_3: 0.7484 - recall_3: 0.7439 - val_loss: 0.4888 - val_acc: 0.7277 - val_precision_3: 1.0000 - val_recall_3: 0.7277 - 620ms/epoch - 3ms/step\n",
      "Epoch 40/100\n",
      "\n",
      "Epoch 40: val_acc did not improve from 0.82787\n",
      "195/195 - 1s - loss: 0.3874 - acc: 0.8116 - precision_3: 0.7535 - recall_3: 0.7396 - val_loss: 0.5701 - val_acc: 0.6891 - val_precision_3: 1.0000 - val_recall_3: 0.6891 - 623ms/epoch - 3ms/step\n",
      "Epoch 41/100\n",
      "\n",
      "Epoch 41: val_acc did not improve from 0.82787\n",
      "195/195 - 1s - loss: 0.3886 - acc: 0.8132 - precision_3: 0.7509 - recall_3: 0.7512 - val_loss: 0.5244 - val_acc: 0.7232 - val_precision_3: 1.0000 - val_recall_3: 0.7232 - 621ms/epoch - 3ms/step\n",
      "Epoch 42/100\n",
      "\n",
      "Epoch 42: val_acc did not improve from 0.82787\n",
      "195/195 - 1s - loss: 0.3865 - acc: 0.8136 - precision_3: 0.7539 - recall_3: 0.7465 - val_loss: 0.4602 - val_acc: 0.7431 - val_precision_3: 1.0000 - val_recall_3: 0.7431 - 620ms/epoch - 3ms/step\n",
      "Epoch 43/100\n",
      "\n",
      "Epoch 43: val_acc did not improve from 0.82787\n",
      "195/195 - 1s - loss: 0.3891 - acc: 0.8118 - precision_3: 0.7508 - recall_3: 0.7456 - val_loss: 0.5256 - val_acc: 0.7309 - val_precision_3: 1.0000 - val_recall_3: 0.7309 - 623ms/epoch - 3ms/step\n",
      "Epoch 44/100\n",
      "\n",
      "Epoch 44: val_acc did not improve from 0.82787\n",
      "195/195 - 1s - loss: 0.3869 - acc: 0.8107 - precision_3: 0.7466 - recall_3: 0.7495 - val_loss: 0.6196 - val_acc: 0.6789 - val_precision_3: 1.0000 - val_recall_3: 0.6789 - 620ms/epoch - 3ms/step\n",
      "Epoch 45/100\n",
      "\n",
      "Epoch 45: val_acc did not improve from 0.82787\n",
      "195/195 - 1s - loss: 0.3867 - acc: 0.8147 - precision_3: 0.7525 - recall_3: 0.7537 - val_loss: 0.5700 - val_acc: 0.6769 - val_precision_3: 1.0000 - val_recall_3: 0.6769 - 636ms/epoch - 3ms/step\n",
      "Epoch 46/100\n",
      "\n",
      "Epoch 46: val_acc did not improve from 0.82787\n",
      "195/195 - 1s - loss: 0.3874 - acc: 0.8132 - precision_3: 0.7526 - recall_3: 0.7478 - val_loss: 0.5072 - val_acc: 0.7450 - val_precision_3: 1.0000 - val_recall_3: 0.7450 - 615ms/epoch - 3ms/step\n",
      "Epoch 47/100\n",
      "\n",
      "Epoch 47: val_acc did not improve from 0.82787\n",
      "195/195 - 1s - loss: 0.3868 - acc: 0.8131 - precision_3: 0.7490 - recall_3: 0.7542 - val_loss: 0.5039 - val_acc: 0.7405 - val_precision_3: 1.0000 - val_recall_3: 0.7405 - 619ms/epoch - 3ms/step\n",
      "Epoch 48/100\n",
      "\n",
      "Epoch 48: val_acc did not improve from 0.82787\n",
      "195/195 - 1s - loss: 0.3856 - acc: 0.8121 - precision_3: 0.7471 - recall_3: 0.7542 - val_loss: 0.5044 - val_acc: 0.7489 - val_precision_3: 1.0000 - val_recall_3: 0.7489 - 619ms/epoch - 3ms/step\n",
      "Epoch 49/100\n",
      "\n",
      "Epoch 49: val_acc did not improve from 0.82787\n",
      "195/195 - 1s - loss: 0.3852 - acc: 0.8103 - precision_3: 0.7455 - recall_3: 0.7503 - val_loss: 0.5193 - val_acc: 0.7412 - val_precision_3: 1.0000 - val_recall_3: 0.7412 - 614ms/epoch - 3ms/step\n",
      "Epoch 50/100\n",
      "\n",
      "Epoch 50: val_acc did not improve from 0.82787\n",
      "195/195 - 1s - loss: 0.3850 - acc: 0.8147 - precision_3: 0.7518 - recall_3: 0.7550 - val_loss: 0.5448 - val_acc: 0.7347 - val_precision_3: 1.0000 - val_recall_3: 0.7347 - 613ms/epoch - 3ms/step\n",
      "Epoch 51/100\n",
      "\n",
      "Epoch 51: val_acc did not improve from 0.82787\n",
      "195/195 - 1s - loss: 0.3853 - acc: 0.8150 - precision_3: 0.7531 - recall_3: 0.7537 - val_loss: 0.5075 - val_acc: 0.7495 - val_precision_3: 1.0000 - val_recall_3: 0.7495 - 618ms/epoch - 3ms/step\n",
      "Epoch 52/100\n",
      "\n",
      "Epoch 52: val_acc did not improve from 0.82787\n",
      "195/195 - 1s - loss: 0.3841 - acc: 0.8150 - precision_3: 0.7499 - recall_3: 0.7602 - val_loss: 0.5449 - val_acc: 0.7110 - val_precision_3: 1.0000 - val_recall_3: 0.7110 - 619ms/epoch - 3ms/step\n",
      "Epoch 53/100\n",
      "\n",
      "Epoch 53: val_acc did not improve from 0.82787\n",
      "195/195 - 1s - loss: 0.3834 - acc: 0.8147 - precision_3: 0.7516 - recall_3: 0.7555 - val_loss: 0.5703 - val_acc: 0.7508 - val_precision_3: 1.0000 - val_recall_3: 0.7508 - 623ms/epoch - 3ms/step\n",
      "Epoch 54/100\n",
      "\n",
      "Epoch 54: val_acc did not improve from 0.82787\n",
      "195/195 - 1s - loss: 0.3841 - acc: 0.8118 - precision_3: 0.7484 - recall_3: 0.7503 - val_loss: 0.5392 - val_acc: 0.7373 - val_precision_3: 1.0000 - val_recall_3: 0.7373 - 620ms/epoch - 3ms/step\n",
      "Epoch 55/100\n",
      "\n",
      "Epoch 55: val_acc did not improve from 0.82787\n",
      "195/195 - 1s - loss: 0.3842 - acc: 0.8152 - precision_3: 0.7487 - recall_3: 0.7632 - val_loss: 0.4916 - val_acc: 0.7367 - val_precision_3: 1.0000 - val_recall_3: 0.7367 - 622ms/epoch - 3ms/step\n",
      "Epoch 56/100\n",
      "\n",
      "Epoch 56: val_acc did not improve from 0.82787\n",
      "195/195 - 1s - loss: 0.3814 - acc: 0.8160 - precision_3: 0.7518 - recall_3: 0.7602 - val_loss: 0.5133 - val_acc: 0.7534 - val_precision_3: 1.0000 - val_recall_3: 0.7534 - 611ms/epoch - 3ms/step\n",
      "Epoch 57/100\n",
      "\n",
      "Epoch 57: val_acc did not improve from 0.82787\n",
      "195/195 - 1s - loss: 0.3834 - acc: 0.8147 - precision_3: 0.7466 - recall_3: 0.7657 - val_loss: 0.5682 - val_acc: 0.7213 - val_precision_3: 1.0000 - val_recall_3: 0.7213 - 623ms/epoch - 3ms/step\n",
      "Epoch 58/100\n",
      "\n",
      "Epoch 58: val_acc did not improve from 0.82787\n",
      "195/195 - 1s - loss: 0.3833 - acc: 0.8161 - precision_3: 0.7504 - recall_3: 0.7636 - val_loss: 0.4889 - val_acc: 0.7598 - val_precision_3: 1.0000 - val_recall_3: 0.7598 - 623ms/epoch - 3ms/step\n",
      "Epoch 59/100\n",
      "\n",
      "Epoch 59: val_acc did not improve from 0.82787\n",
      "195/195 - 1s - loss: 0.3821 - acc: 0.8142 - precision_3: 0.7502 - recall_3: 0.7563 - val_loss: 0.5317 - val_acc: 0.7168 - val_precision_3: 1.0000 - val_recall_3: 0.7168 - 621ms/epoch - 3ms/step\n",
      "Epoch 60/100\n",
      "\n",
      "Epoch 60: val_acc did not improve from 0.82787\n",
      "195/195 - 1s - loss: 0.3821 - acc: 0.8148 - precision_3: 0.7471 - recall_3: 0.7653 - val_loss: 0.5576 - val_acc: 0.7123 - val_precision_3: 1.0000 - val_recall_3: 0.7123 - 618ms/epoch - 3ms/step\n",
      "Epoch 61/100\n",
      "\n",
      "Epoch 61: val_acc did not improve from 0.82787\n",
      "195/195 - 1s - loss: 0.3824 - acc: 0.8155 - precision_3: 0.7496 - recall_3: 0.7627 - val_loss: 0.5211 - val_acc: 0.7341 - val_precision_3: 1.0000 - val_recall_3: 0.7341 - 619ms/epoch - 3ms/step\n",
      "Epoch 62/100\n",
      "\n",
      "Epoch 62: val_acc did not improve from 0.82787\n",
      "195/195 - 1s - loss: 0.3815 - acc: 0.8144 - precision_3: 0.7510 - recall_3: 0.7555 - val_loss: 0.6346 - val_acc: 0.6660 - val_precision_3: 1.0000 - val_recall_3: 0.6660 - 625ms/epoch - 3ms/step\n",
      "Epoch 63/100\n",
      "\n",
      "Epoch 63: val_acc did not improve from 0.82787\n",
      "195/195 - 1s - loss: 0.3819 - acc: 0.8156 - precision_3: 0.7497 - recall_3: 0.7632 - val_loss: 0.6106 - val_acc: 0.6789 - val_precision_3: 1.0000 - val_recall_3: 0.6789 - 624ms/epoch - 3ms/step\n",
      "Epoch 64/100\n",
      "\n",
      "Epoch 64: val_acc did not improve from 0.82787\n",
      "195/195 - 1s - loss: 0.3802 - acc: 0.8163 - precision_3: 0.7537 - recall_3: 0.7576 - val_loss: 0.5407 - val_acc: 0.7238 - val_precision_3: 1.0000 - val_recall_3: 0.7238 - 622ms/epoch - 3ms/step\n",
      "Epoch 65/100\n",
      "\n",
      "Epoch 65: val_acc did not improve from 0.82787\n",
      "195/195 - 1s - loss: 0.3791 - acc: 0.8203 - precision_3: 0.7572 - recall_3: 0.7666 - val_loss: 0.5799 - val_acc: 0.7277 - val_precision_3: 1.0000 - val_recall_3: 0.7277 - 623ms/epoch - 3ms/step\n"
     ]
    },
    {
     "name": "stdout",
     "output_type": "stream",
     "text": [
      "Epoch 66/100\n",
      "\n",
      "Epoch 66: val_acc did not improve from 0.82787\n",
      "195/195 - 1s - loss: 0.3790 - acc: 0.8176 - precision_3: 0.7524 - recall_3: 0.7653 - val_loss: 0.5108 - val_acc: 0.7611 - val_precision_3: 1.0000 - val_recall_3: 0.7611 - 624ms/epoch - 3ms/step\n",
      "Epoch 67/100\n",
      "\n",
      "Epoch 67: val_acc did not improve from 0.82787\n",
      "195/195 - 1s - loss: 0.3783 - acc: 0.8169 - precision_3: 0.7501 - recall_3: 0.7675 - val_loss: 0.5564 - val_acc: 0.7213 - val_precision_3: 1.0000 - val_recall_3: 0.7213 - 622ms/epoch - 3ms/step\n",
      "Epoch 68/100\n",
      "\n",
      "Epoch 68: val_acc did not improve from 0.82787\n",
      "195/195 - 1s - loss: 0.3769 - acc: 0.8164 - precision_3: 0.7540 - recall_3: 0.7576 - val_loss: 0.4159 - val_acc: 0.7836 - val_precision_3: 1.0000 - val_recall_3: 0.7836 - 619ms/epoch - 3ms/step\n",
      "Epoch 69/100\n",
      "\n",
      "Epoch 69: val_acc did not improve from 0.82787\n",
      "195/195 - 1s - loss: 0.3782 - acc: 0.8174 - precision_3: 0.7485 - recall_3: 0.7726 - val_loss: 0.5800 - val_acc: 0.6936 - val_precision_3: 1.0000 - val_recall_3: 0.6936 - 631ms/epoch - 3ms/step\n",
      "Epoch 70/100\n",
      "\n",
      "Epoch 70: val_acc did not improve from 0.82787\n",
      "195/195 - 1s - loss: 0.3810 - acc: 0.8155 - precision_3: 0.7508 - recall_3: 0.7602 - val_loss: 0.5236 - val_acc: 0.7579 - val_precision_3: 1.0000 - val_recall_3: 0.7579 - 645ms/epoch - 3ms/step\n",
      "Epoch 71/100\n",
      "\n",
      "Epoch 71: val_acc did not improve from 0.82787\n",
      "195/195 - 1s - loss: 0.3749 - acc: 0.8185 - precision_3: 0.7505 - recall_3: 0.7730 - val_loss: 0.4207 - val_acc: 0.7887 - val_precision_3: 1.0000 - val_recall_3: 0.7887 - 630ms/epoch - 3ms/step\n",
      "Epoch 72/100\n",
      "\n",
      "Epoch 72: val_acc did not improve from 0.82787\n",
      "195/195 - 1s - loss: 0.3795 - acc: 0.8164 - precision_3: 0.7492 - recall_3: 0.7675 - val_loss: 0.4426 - val_acc: 0.7803 - val_precision_3: 1.0000 - val_recall_3: 0.7803 - 626ms/epoch - 3ms/step\n",
      "Epoch 73/100\n",
      "\n",
      "Epoch 73: val_acc did not improve from 0.82787\n",
      "195/195 - 1s - loss: 0.3762 - acc: 0.8161 - precision_3: 0.7494 - recall_3: 0.7657 - val_loss: 0.5444 - val_acc: 0.7303 - val_precision_3: 1.0000 - val_recall_3: 0.7303 - 619ms/epoch - 3ms/step\n",
      "Epoch 74/100\n",
      "\n",
      "Epoch 74: val_acc did not improve from 0.82787\n",
      "195/195 - 1s - loss: 0.3760 - acc: 0.8169 - precision_3: 0.7512 - recall_3: 0.7653 - val_loss: 0.4772 - val_acc: 0.7553 - val_precision_3: 1.0000 - val_recall_3: 0.7553 - 620ms/epoch - 3ms/step\n",
      "Epoch 75/100\n",
      "\n",
      "Epoch 75: val_acc did not improve from 0.82787\n",
      "195/195 - 1s - loss: 0.3759 - acc: 0.8187 - precision_3: 0.7531 - recall_3: 0.7683 - val_loss: 0.4957 - val_acc: 0.7643 - val_precision_3: 1.0000 - val_recall_3: 0.7643 - 624ms/epoch - 3ms/step\n",
      "Epoch 76/100\n",
      "\n",
      "Epoch 76: val_acc did not improve from 0.82787\n",
      "195/195 - 1s - loss: 0.3728 - acc: 0.8195 - precision_3: 0.7537 - recall_3: 0.7704 - val_loss: 0.5189 - val_acc: 0.7585 - val_precision_3: 1.0000 - val_recall_3: 0.7585 - 642ms/epoch - 3ms/step\n",
      "Epoch 77/100\n",
      "\n",
      "Epoch 77: val_acc did not improve from 0.82787\n",
      "195/195 - 1s - loss: 0.3721 - acc: 0.8193 - precision_3: 0.7527 - recall_3: 0.7717 - val_loss: 0.5022 - val_acc: 0.7553 - val_precision_3: 1.0000 - val_recall_3: 0.7553 - 676ms/epoch - 3ms/step\n",
      "Epoch 78/100\n",
      "\n",
      "Epoch 78: val_acc did not improve from 0.82787\n",
      "195/195 - 1s - loss: 0.3713 - acc: 0.8209 - precision_3: 0.7521 - recall_3: 0.7794 - val_loss: 0.4804 - val_acc: 0.7681 - val_precision_3: 1.0000 - val_recall_3: 0.7681 - 636ms/epoch - 3ms/step\n",
      "Epoch 79/100\n",
      "\n",
      "Epoch 79: val_acc did not improve from 0.82787\n",
      "195/195 - 1s - loss: 0.3743 - acc: 0.8164 - precision_3: 0.7487 - recall_3: 0.7683 - val_loss: 0.5004 - val_acc: 0.7739 - val_precision_3: 1.0000 - val_recall_3: 0.7739 - 651ms/epoch - 3ms/step\n",
      "Epoch 80/100\n",
      "\n",
      "Epoch 80: val_acc did not improve from 0.82787\n",
      "195/195 - 1s - loss: 0.3739 - acc: 0.8198 - precision_3: 0.7518 - recall_3: 0.7756 - val_loss: 0.5008 - val_acc: 0.7521 - val_precision_3: 1.0000 - val_recall_3: 0.7521 - 624ms/epoch - 3ms/step\n",
      "Epoch 81/100\n",
      "\n",
      "Epoch 81: val_acc did not improve from 0.82787\n",
      "195/195 - 1s - loss: 0.3713 - acc: 0.8197 - precision_3: 0.7531 - recall_3: 0.7722 - val_loss: 0.3916 - val_acc: 0.8227 - val_precision_3: 1.0000 - val_recall_3: 0.8227 - 620ms/epoch - 3ms/step\n",
      "Epoch 82/100\n",
      "\n",
      "Epoch 82: val_acc did not improve from 0.82787\n",
      "195/195 - 1s - loss: 0.3737 - acc: 0.8155 - precision_3: 0.7459 - recall_3: 0.7704 - val_loss: 0.5527 - val_acc: 0.7328 - val_precision_3: 1.0000 - val_recall_3: 0.7328 - 623ms/epoch - 3ms/step\n",
      "Epoch 83/100\n",
      "\n",
      "Epoch 83: val_acc did not improve from 0.82787\n",
      "195/195 - 1s - loss: 0.3696 - acc: 0.8192 - precision_3: 0.7543 - recall_3: 0.7679 - val_loss: 0.5313 - val_acc: 0.7624 - val_precision_3: 1.0000 - val_recall_3: 0.7624 - 625ms/epoch - 3ms/step\n",
      "Epoch 84/100\n",
      "\n",
      "Epoch 84: val_acc did not improve from 0.82787\n",
      "195/195 - 1s - loss: 0.3693 - acc: 0.8219 - precision_3: 0.7541 - recall_3: 0.7790 - val_loss: 0.4978 - val_acc: 0.7592 - val_precision_3: 1.0000 - val_recall_3: 0.7592 - 733ms/epoch - 4ms/step\n",
      "Epoch 85/100\n",
      "\n",
      "Epoch 85: val_acc did not improve from 0.82787\n",
      "195/195 - 1s - loss: 0.3703 - acc: 0.8189 - precision_3: 0.7516 - recall_3: 0.7722 - val_loss: 0.5468 - val_acc: 0.7425 - val_precision_3: 1.0000 - val_recall_3: 0.7425 - 634ms/epoch - 3ms/step\n",
      "Epoch 86/100\n",
      "\n",
      "Epoch 86: val_acc did not improve from 0.82787\n",
      "195/195 - 1s - loss: 0.3678 - acc: 0.8206 - precision_3: 0.7521 - recall_3: 0.7782 - val_loss: 0.4668 - val_acc: 0.7656 - val_precision_3: 1.0000 - val_recall_3: 0.7656 - 646ms/epoch - 3ms/step\n",
      "Epoch 87/100\n",
      "\n",
      "Epoch 87: val_acc did not improve from 0.82787\n",
      "195/195 - 1s - loss: 0.3670 - acc: 0.8184 - precision_3: 0.7486 - recall_3: 0.7764 - val_loss: 0.4483 - val_acc: 0.7951 - val_precision_3: 1.0000 - val_recall_3: 0.7951 - 628ms/epoch - 3ms/step\n",
      "Epoch 88/100\n",
      "\n",
      "Epoch 88: val_acc did not improve from 0.82787\n",
      "195/195 - 1s - loss: 0.3654 - acc: 0.8182 - precision_3: 0.7520 - recall_3: 0.7687 - val_loss: 0.5393 - val_acc: 0.7392 - val_precision_3: 1.0000 - val_recall_3: 0.7392 - 683ms/epoch - 4ms/step\n",
      "Epoch 89/100\n",
      "\n",
      "Epoch 89: val_acc did not improve from 0.82787\n",
      "195/195 - 1s - loss: 0.3676 - acc: 0.8187 - precision_3: 0.7477 - recall_3: 0.7794 - val_loss: 0.4812 - val_acc: 0.7643 - val_precision_3: 1.0000 - val_recall_3: 0.7643 - 663ms/epoch - 3ms/step\n",
      "Epoch 90/100\n",
      "\n",
      "Epoch 90: val_acc improved from 0.82787 to 0.83365, saving model to bestmodel_epoch90_valloss0.4373_acc 0.8337.hdf5\n",
      "195/195 - 1s - loss: 0.3671 - acc: 0.8217 - precision_3: 0.7528 - recall_3: 0.7812 - val_loss: 0.4373 - val_acc: 0.8337 - val_precision_3: 1.0000 - val_recall_3: 0.8337 - 711ms/epoch - 4ms/step\n",
      "Epoch 91/100\n",
      "\n",
      "Epoch 91: val_acc did not improve from 0.83365\n",
      "195/195 - 1s - loss: 0.3664 - acc: 0.8205 - precision_3: 0.7481 - recall_3: 0.7859 - val_loss: 0.4763 - val_acc: 0.7624 - val_precision_3: 1.0000 - val_recall_3: 0.7624 - 647ms/epoch - 3ms/step\n",
      "Epoch 92/100\n",
      "\n",
      "Epoch 92: val_acc did not improve from 0.83365\n",
      "195/195 - 1s - loss: 0.3652 - acc: 0.8211 - precision_3: 0.7520 - recall_3: 0.7803 - val_loss: 0.5283 - val_acc: 0.7335 - val_precision_3: 1.0000 - val_recall_3: 0.7335 - 720ms/epoch - 4ms/step\n",
      "Epoch 93/100\n",
      "\n",
      "Epoch 93: val_acc improved from 0.83365 to 0.83494, saving model to bestmodel_epoch93_valloss0.3874_acc 0.8349.hdf5\n",
      "195/195 - 1s - loss: 0.3637 - acc: 0.8248 - precision_3: 0.7600 - recall_3: 0.7786 - val_loss: 0.3874 - val_acc: 0.8349 - val_precision_3: 1.0000 - val_recall_3: 0.8349 - 854ms/epoch - 4ms/step\n",
      "Epoch 94/100\n",
      "\n",
      "Epoch 94: val_acc did not improve from 0.83494\n",
      "195/195 - 1s - loss: 0.3645 - acc: 0.8222 - precision_3: 0.7550 - recall_3: 0.7786 - val_loss: 0.4789 - val_acc: 0.7572 - val_precision_3: 1.0000 - val_recall_3: 0.7572 - 867ms/epoch - 4ms/step\n",
      "Epoch 95/100\n",
      "\n",
      "Epoch 95: val_acc did not improve from 0.83494\n",
      "195/195 - 1s - loss: 0.3658 - acc: 0.8235 - precision_3: 0.7564 - recall_3: 0.7807 - val_loss: 0.5145 - val_acc: 0.7502 - val_precision_3: 1.0000 - val_recall_3: 0.7502 - 792ms/epoch - 4ms/step\n",
      "Epoch 96/100\n",
      "\n",
      "Epoch 96: val_acc did not improve from 0.83494\n",
      "195/195 - 1s - loss: 0.3617 - acc: 0.8213 - precision_3: 0.7537 - recall_3: 0.7773 - val_loss: 0.5092 - val_acc: 0.7630 - val_precision_3: 1.0000 - val_recall_3: 0.7630 - 759ms/epoch - 4ms/step\n",
      "Epoch 97/100\n",
      "\n",
      "Epoch 97: val_acc did not improve from 0.83494\n",
      "195/195 - 1s - loss: 0.3626 - acc: 0.8238 - precision_3: 0.7524 - recall_3: 0.7901 - val_loss: 0.4963 - val_acc: 0.7553 - val_precision_3: 1.0000 - val_recall_3: 0.7553 - 740ms/epoch - 4ms/step\n"
     ]
    },
    {
     "name": "stdout",
     "output_type": "stream",
     "text": [
      "Epoch 98/100\n",
      "\n",
      "Epoch 98: val_acc did not improve from 0.83494\n",
      "195/195 - 1s - loss: 0.3623 - acc: 0.8219 - precision_3: 0.7589 - recall_3: 0.7696 - val_loss: 0.5648 - val_acc: 0.7322 - val_precision_3: 1.0000 - val_recall_3: 0.7322 - 639ms/epoch - 3ms/step\n",
      "Epoch 99/100\n",
      "\n",
      "Epoch 99: val_acc did not improve from 0.83494\n",
      "195/195 - 1s - loss: 0.3638 - acc: 0.8222 - precision_3: 0.7546 - recall_3: 0.7794 - val_loss: 0.4716 - val_acc: 0.7791 - val_precision_3: 1.0000 - val_recall_3: 0.7791 - 618ms/epoch - 3ms/step\n",
      "Epoch 100/100\n",
      "\n",
      "Epoch 100: val_acc did not improve from 0.83494\n",
      "195/195 - 1s - loss: 0.3619 - acc: 0.8233 - precision_3: 0.7572 - recall_3: 0.7786 - val_loss: 0.4730 - val_acc: 0.7887 - val_precision_3: 1.0000 - val_recall_3: 0.7887 - 659ms/epoch - 3ms/step\n"
     ]
    }
   ],
   "source": [
    "#test model for tuning (1 round)\n",
    "\n",
    "history = model.fit(x_train_smote, y_train_smote, batch_size= 32, epochs = 300, verbose = 2, validation_split= 0.2, callbacks=[model_check_point_callback])"
   ]
  },
  {
   "cell_type": "markdown",
   "metadata": {},
   "source": [
    "### <font color=\"MidnightBlue\">Train model for mean accuracy (3 round)<a id=\"12-4\"></a>"
   ]
  },
  {
   "cell_type": "code",
   "execution_count": null,
   "metadata": {},
   "outputs": [
    {
     "name": "stdout",
     "output_type": "stream",
     "text": [
      "Epoch 1/100\n",
      "\n",
      "Epoch 1: val_acc improved from -inf to 0.39949, saving model to bestmodel_epoch01_valloss0.7624_acc 0.3995.hdf5\n",
      "195/195 - 2s - loss: 0.6620 - acc: 0.6213 - precision_3: 0.3883 - recall_3: 0.0171 - val_loss: 0.7624 - val_acc: 0.3995 - val_precision_3: 1.0000 - val_recall_3: 0.3995 - 2s/epoch - 10ms/step\n",
      "Epoch 2/100\n",
      "\n",
      "Epoch 2: val_acc improved from 0.39949 to 0.68337, saving model to bestmodel_epoch02_valloss0.7162_acc 0.6834.hdf5\n",
      "195/195 - 1s - loss: 0.4817 - acc: 0.7659 - precision_3: 0.6621 - recall_3: 0.7670 - val_loss: 0.7162 - val_acc: 0.6834 - val_precision_3: 1.0000 - val_recall_3: 0.6834 - 721ms/epoch - 4ms/step\n",
      "Epoch 3/100\n",
      "\n",
      "Epoch 3: val_acc did not improve from 0.68337\n",
      "195/195 - 1s - loss: 0.4598 - acc: 0.7771 - precision_3: 0.6779 - recall_3: 0.7726 - val_loss: 0.7295 - val_acc: 0.6513 - val_precision_3: 1.0000 - val_recall_3: 0.6513 - 632ms/epoch - 3ms/step\n",
      "Epoch 4/100\n",
      "\n",
      "Epoch 4: val_acc did not improve from 0.68337\n",
      "195/195 - 1s - loss: 0.4558 - acc: 0.7755 - precision_3: 0.6800 - recall_3: 0.7580 - val_loss: 0.7281 - val_acc: 0.6808 - val_precision_3: 1.0000 - val_recall_3: 0.6808 - 656ms/epoch - 3ms/step\n",
      "Epoch 5/100\n",
      "\n",
      "Epoch 5: val_acc improved from 0.68337 to 0.72254, saving model to bestmodel_epoch05_valloss0.5804_acc 0.7225.hdf5\n",
      "195/195 - 1s - loss: 0.4469 - acc: 0.7803 - precision_3: 0.6891 - recall_3: 0.7546 - val_loss: 0.5804 - val_acc: 0.7225 - val_precision_3: 1.0000 - val_recall_3: 0.7225 - 702ms/epoch - 4ms/step\n",
      "Epoch 6/100\n",
      "\n",
      "Epoch 6: val_acc improved from 0.72254 to 0.82787, saving model to bestmodel_epoch06_valloss0.4399_acc 0.8279.hdf5\n",
      "195/195 - 1s - loss: 0.4439 - acc: 0.7871 - precision_3: 0.7048 - recall_3: 0.7435 - val_loss: 0.4399 - val_acc: 0.8279 - val_precision_3: 1.0000 - val_recall_3: 0.8279 - 693ms/epoch - 4ms/step\n",
      "Epoch 7/100\n",
      "\n",
      "Epoch 7: val_acc did not improve from 0.82787\n",
      "195/195 - 1s - loss: 0.4435 - acc: 0.7800 - precision_3: 0.6945 - recall_3: 0.7379 - val_loss: 0.5989 - val_acc: 0.7052 - val_precision_3: 1.0000 - val_recall_3: 0.7052 - 621ms/epoch - 3ms/step\n",
      "Epoch 8/100\n",
      "\n",
      "Epoch 8: val_acc did not improve from 0.82787\n",
      "195/195 - 1s - loss: 0.4428 - acc: 0.7874 - precision_3: 0.7049 - recall_3: 0.7448 - val_loss: 0.6465 - val_acc: 0.7039 - val_precision_3: 1.0000 - val_recall_3: 0.7039 - 612ms/epoch - 3ms/step\n",
      "Epoch 9/100\n",
      "\n",
      "Epoch 9: val_acc did not improve from 0.82787\n",
      "195/195 - 1s - loss: 0.4375 - acc: 0.7887 - precision_3: 0.7077 - recall_3: 0.7435 - val_loss: 0.5646 - val_acc: 0.7341 - val_precision_3: 1.0000 - val_recall_3: 0.7341 - 631ms/epoch - 3ms/step\n",
      "Epoch 10/100\n",
      "\n",
      "Epoch 10: val_acc did not improve from 0.82787\n",
      "195/195 - 1s - loss: 0.4390 - acc: 0.7872 - precision_3: 0.7094 - recall_3: 0.7328 - val_loss: 0.5749 - val_acc: 0.7103 - val_precision_3: 1.0000 - val_recall_3: 0.7103 - 622ms/epoch - 3ms/step\n",
      "Epoch 11/100\n",
      "\n",
      "Epoch 11: val_acc did not improve from 0.82787\n",
      "195/195 - 1s - loss: 0.4365 - acc: 0.7903 - precision_3: 0.7150 - recall_3: 0.7328 - val_loss: 0.5330 - val_acc: 0.7296 - val_precision_3: 1.0000 - val_recall_3: 0.7296 - 618ms/epoch - 3ms/step\n",
      "Epoch 12/100\n",
      "\n",
      "Epoch 12: val_acc did not improve from 0.82787\n",
      "195/195 - 1s - loss: 0.4393 - acc: 0.7885 - precision_3: 0.7095 - recall_3: 0.7383 - val_loss: 0.6342 - val_acc: 0.6872 - val_precision_3: 1.0000 - val_recall_3: 0.6872 - 648ms/epoch - 3ms/step\n",
      "Epoch 13/100\n",
      "\n",
      "Epoch 13: val_acc did not improve from 0.82787\n",
      "195/195 - 1s - loss: 0.4357 - acc: 0.7880 - precision_3: 0.7112 - recall_3: 0.7319 - val_loss: 0.7334 - val_acc: 0.6390 - val_precision_3: 1.0000 - val_recall_3: 0.6390 - 607ms/epoch - 3ms/step\n",
      "Epoch 14/100\n",
      "\n",
      "Epoch 14: val_acc did not improve from 0.82787\n",
      "195/195 - 1s - loss: 0.4371 - acc: 0.7903 - precision_3: 0.7141 - recall_3: 0.7349 - val_loss: 0.5727 - val_acc: 0.7091 - val_precision_3: 1.0000 - val_recall_3: 0.7091 - 625ms/epoch - 3ms/step\n",
      "Epoch 15/100\n",
      "\n",
      "Epoch 15: val_acc did not improve from 0.82787\n",
      "195/195 - 1s - loss: 0.4351 - acc: 0.7935 - precision_3: 0.7229 - recall_3: 0.7285 - val_loss: 0.6408 - val_acc: 0.7148 - val_precision_3: 1.0000 - val_recall_3: 0.7148 - 625ms/epoch - 3ms/step\n",
      "Epoch 16/100\n",
      "\n",
      "Epoch 16: val_acc did not improve from 0.82787\n",
      "195/195 - 1s - loss: 0.4362 - acc: 0.7925 - precision_3: 0.7185 - recall_3: 0.7345 - val_loss: 0.5269 - val_acc: 0.7553 - val_precision_3: 1.0000 - val_recall_3: 0.7553 - 635ms/epoch - 3ms/step\n",
      "Epoch 17/100\n",
      "\n",
      "Epoch 17: val_acc did not improve from 0.82787\n",
      "195/195 - 1s - loss: 0.4363 - acc: 0.7909 - precision_3: 0.7155 - recall_3: 0.7345 - val_loss: 0.6393 - val_acc: 0.6911 - val_precision_3: 1.0000 - val_recall_3: 0.6911 - 663ms/epoch - 3ms/step\n",
      "Epoch 18/100\n",
      "\n",
      "Epoch 18: val_acc did not improve from 0.82787\n",
      "195/195 - 1s - loss: 0.4352 - acc: 0.7896 - precision_3: 0.7101 - recall_3: 0.7418 - val_loss: 0.5699 - val_acc: 0.7277 - val_precision_3: 1.0000 - val_recall_3: 0.7277 - 638ms/epoch - 3ms/step\n",
      "Epoch 19/100\n",
      "\n",
      "Epoch 19: val_acc did not improve from 0.82787\n",
      "195/195 - 1s - loss: 0.4349 - acc: 0.7893 - precision_3: 0.7145 - recall_3: 0.7298 - val_loss: 0.6744 - val_acc: 0.6667 - val_precision_3: 1.0000 - val_recall_3: 0.6667 - 620ms/epoch - 3ms/step\n",
      "Epoch 20/100\n",
      "\n",
      "Epoch 20: val_acc did not improve from 0.82787\n",
      "195/195 - 1s - loss: 0.4365 - acc: 0.7907 - precision_3: 0.7141 - recall_3: 0.7370 - val_loss: 0.6247 - val_acc: 0.6956 - val_precision_3: 1.0000 - val_recall_3: 0.6956 - 691ms/epoch - 4ms/step\n",
      "Epoch 21/100\n",
      "\n",
      "Epoch 21: val_acc did not improve from 0.82787\n",
      "195/195 - 1s - loss: 0.4344 - acc: 0.7932 - precision_3: 0.7184 - recall_3: 0.7375 - val_loss: 0.7019 - val_acc: 0.6776 - val_precision_3: 1.0000 - val_recall_3: 0.6776 - 677ms/epoch - 3ms/step\n",
      "Epoch 22/100\n",
      "\n",
      "Epoch 22: val_acc did not improve from 0.82787\n",
      "195/195 - 1s - loss: 0.4341 - acc: 0.7911 - precision_3: 0.7180 - recall_3: 0.7293 - val_loss: 0.7420 - val_acc: 0.6288 - val_precision_3: 1.0000 - val_recall_3: 0.6288 - 659ms/epoch - 3ms/step\n",
      "Epoch 23/100\n",
      "\n",
      "Epoch 23: val_acc did not improve from 0.82787\n",
      "195/195 - 1s - loss: 0.4345 - acc: 0.7927 - precision_3: 0.7204 - recall_3: 0.7306 - val_loss: 0.6526 - val_acc: 0.6660 - val_precision_3: 1.0000 - val_recall_3: 0.6660 - 660ms/epoch - 3ms/step\n",
      "Epoch 24/100\n",
      "\n",
      "Epoch 24: val_acc did not improve from 0.82787\n",
      "195/195 - 1s - loss: 0.4332 - acc: 0.7919 - precision_3: 0.7204 - recall_3: 0.7272 - val_loss: 0.6491 - val_acc: 0.6577 - val_precision_3: 1.0000 - val_recall_3: 0.6577 - 623ms/epoch - 3ms/step\n",
      "Epoch 25/100\n",
      "\n",
      "Epoch 25: val_acc did not improve from 0.82787\n",
      "195/195 - 1s - loss: 0.4347 - acc: 0.7898 - precision_3: 0.7176 - recall_3: 0.7246 - val_loss: 0.6070 - val_acc: 0.6859 - val_precision_3: 1.0000 - val_recall_3: 0.6859 - 615ms/epoch - 3ms/step\n",
      "Epoch 26/100\n",
      "\n",
      "Epoch 26: val_acc did not improve from 0.82787\n",
      "195/195 - 1s - loss: 0.4336 - acc: 0.7874 - precision_3: 0.7172 - recall_3: 0.7148 - val_loss: 0.5217 - val_acc: 0.7482 - val_precision_3: 1.0000 - val_recall_3: 0.7482 - 644ms/epoch - 3ms/step\n",
      "Epoch 27/100\n",
      "\n",
      "Epoch 27: val_acc did not improve from 0.82787\n",
      "195/195 - 1s - loss: 0.4336 - acc: 0.7890 - precision_3: 0.7175 - recall_3: 0.7212 - val_loss: 0.6017 - val_acc: 0.6975 - val_precision_3: 1.0000 - val_recall_3: 0.6975 - 624ms/epoch - 3ms/step\n",
      "Epoch 28/100\n",
      "\n",
      "Epoch 28: val_acc did not improve from 0.82787\n",
      "195/195 - 1s - loss: 0.4340 - acc: 0.7888 - precision_3: 0.7154 - recall_3: 0.7255 - val_loss: 0.5484 - val_acc: 0.7347 - val_precision_3: 1.0000 - val_recall_3: 0.7347 - 641ms/epoch - 3ms/step\n",
      "Epoch 29/100\n",
      "\n",
      "Epoch 29: val_acc did not improve from 0.82787\n",
      "195/195 - 1s - loss: 0.4316 - acc: 0.7916 - precision_3: 0.7198 - recall_3: 0.7272 - val_loss: 0.6403 - val_acc: 0.6924 - val_precision_3: 1.0000 - val_recall_3: 0.6924 - 619ms/epoch - 3ms/step\n",
      "Epoch 30/100\n",
      "\n",
      "Epoch 30: val_acc did not improve from 0.82787\n",
      "195/195 - 1s - loss: 0.4322 - acc: 0.7919 - precision_3: 0.7180 - recall_3: 0.7328 - val_loss: 0.6134 - val_acc: 0.6885 - val_precision_3: 1.0000 - val_recall_3: 0.6885 - 618ms/epoch - 3ms/step\n",
      "Epoch 31/100\n",
      "\n",
      "Epoch 31: val_acc did not improve from 0.82787\n",
      "195/195 - 1s - loss: 0.4325 - acc: 0.7914 - precision_3: 0.7248 - recall_3: 0.7152 - val_loss: 0.4641 - val_acc: 0.7778 - val_precision_3: 1.0000 - val_recall_3: 0.7778 - 623ms/epoch - 3ms/step\n",
      "Epoch 32/100\n",
      "\n",
      "Epoch 32: val_acc did not improve from 0.82787\n"
     ]
    },
    {
     "name": "stdout",
     "output_type": "stream",
     "text": [
      "195/195 - 1s - loss: 0.4340 - acc: 0.7907 - precision_3: 0.7205 - recall_3: 0.7221 - val_loss: 0.5747 - val_acc: 0.7213 - val_precision_3: 1.0000 - val_recall_3: 0.7213 - 621ms/epoch - 3ms/step\n",
      "Epoch 33/100\n",
      "\n",
      "Epoch 33: val_acc did not improve from 0.82787\n",
      "195/195 - 1s - loss: 0.4317 - acc: 0.7928 - precision_3: 0.7249 - recall_3: 0.7212 - val_loss: 0.5451 - val_acc: 0.7084 - val_precision_3: 1.0000 - val_recall_3: 0.7084 - 627ms/epoch - 3ms/step\n",
      "Epoch 34/100\n",
      "\n",
      "Epoch 34: val_acc did not improve from 0.82787\n",
      "195/195 - 1s - loss: 0.4303 - acc: 0.7948 - precision_3: 0.7254 - recall_3: 0.7285 - val_loss: 0.5518 - val_acc: 0.7039 - val_precision_3: 1.0000 - val_recall_3: 0.7039 - 710ms/epoch - 4ms/step\n",
      "Epoch 35/100\n",
      "\n",
      "Epoch 35: val_acc did not improve from 0.82787\n",
      "195/195 - 1s - loss: 0.4310 - acc: 0.7898 - precision_3: 0.7194 - recall_3: 0.7203 - val_loss: 0.5513 - val_acc: 0.7354 - val_precision_3: 1.0000 - val_recall_3: 0.7354 - 755ms/epoch - 4ms/step\n",
      "Epoch 36/100\n",
      "\n",
      "Epoch 36: val_acc did not improve from 0.82787\n",
      "195/195 - 1s - loss: 0.4310 - acc: 0.7932 - precision_3: 0.7238 - recall_3: 0.7251 - val_loss: 0.5324 - val_acc: 0.7187 - val_precision_3: 1.0000 - val_recall_3: 0.7187 - 740ms/epoch - 4ms/step\n",
      "Epoch 37/100\n",
      "\n",
      "Epoch 37: val_acc did not improve from 0.82787\n",
      "195/195 - 1s - loss: 0.4301 - acc: 0.7940 - precision_3: 0.7269 - recall_3: 0.7216 - val_loss: 0.5470 - val_acc: 0.7026 - val_precision_3: 1.0000 - val_recall_3: 0.7026 - 688ms/epoch - 4ms/step\n",
      "Epoch 38/100\n",
      "\n",
      "Epoch 38: val_acc did not improve from 0.82787\n",
      "195/195 - 1s - loss: 0.4320 - acc: 0.7909 - precision_3: 0.7210 - recall_3: 0.7216 - val_loss: 0.6968 - val_acc: 0.5960 - val_precision_3: 1.0000 - val_recall_3: 0.5960 - 694ms/epoch - 4ms/step\n",
      "Epoch 39/100\n",
      "\n",
      "Epoch 39: val_acc did not improve from 0.82787\n",
      "195/195 - 1s - loss: 0.4312 - acc: 0.7898 - precision_3: 0.7227 - recall_3: 0.7131 - val_loss: 0.6129 - val_acc: 0.6692 - val_precision_3: 1.0000 - val_recall_3: 0.6692 - 744ms/epoch - 4ms/step\n",
      "Epoch 40/100\n",
      "\n",
      "Epoch 40: val_acc did not improve from 0.82787\n",
      "195/195 - 1s - loss: 0.4290 - acc: 0.7909 - precision_3: 0.7266 - recall_3: 0.7092 - val_loss: 0.5815 - val_acc: 0.7084 - val_precision_3: 1.0000 - val_recall_3: 0.7084 - 652ms/epoch - 3ms/step\n",
      "Epoch 41/100\n",
      "\n",
      "Epoch 41: val_acc did not improve from 0.82787\n",
      "195/195 - 1s - loss: 0.4300 - acc: 0.7927 - precision_3: 0.7233 - recall_3: 0.7242 - val_loss: 0.6351 - val_acc: 0.6667 - val_precision_3: 1.0000 - val_recall_3: 0.6667 - 694ms/epoch - 4ms/step\n",
      "Epoch 42/100\n",
      "\n",
      "Epoch 42: val_acc did not improve from 0.82787\n",
      "195/195 - 1s - loss: 0.4290 - acc: 0.7924 - precision_3: 0.7248 - recall_3: 0.7195 - val_loss: 0.5295 - val_acc: 0.7046 - val_precision_3: 1.0000 - val_recall_3: 0.7046 - 744ms/epoch - 4ms/step\n",
      "Epoch 43/100\n",
      "\n",
      "Epoch 43: val_acc did not improve from 0.82787\n",
      "195/195 - 1s - loss: 0.4289 - acc: 0.7936 - precision_3: 0.7255 - recall_3: 0.7233 - val_loss: 0.5704 - val_acc: 0.6898 - val_precision_3: 1.0000 - val_recall_3: 0.6898 - 682ms/epoch - 3ms/step\n",
      "Epoch 44/100\n",
      "\n",
      "Epoch 44: val_acc did not improve from 0.82787\n",
      "195/195 - 1s - loss: 0.4278 - acc: 0.7935 - precision_3: 0.7295 - recall_3: 0.7139 - val_loss: 0.6796 - val_acc: 0.6872 - val_precision_3: 1.0000 - val_recall_3: 0.6872 - 675ms/epoch - 3ms/step\n",
      "Epoch 45/100\n",
      "\n",
      "Epoch 45: val_acc did not improve from 0.82787\n",
      "195/195 - 1s - loss: 0.4291 - acc: 0.7938 - precision_3: 0.7228 - recall_3: 0.7302 - val_loss: 0.6404 - val_acc: 0.6628 - val_precision_3: 1.0000 - val_recall_3: 0.6628 - 670ms/epoch - 3ms/step\n",
      "Epoch 46/100\n",
      "\n",
      "Epoch 46: val_acc did not improve from 0.82787\n",
      "195/195 - 1s - loss: 0.4270 - acc: 0.7922 - precision_3: 0.7290 - recall_3: 0.7096 - val_loss: 0.6033 - val_acc: 0.7193 - val_precision_3: 1.0000 - val_recall_3: 0.7193 - 626ms/epoch - 3ms/step\n",
      "Epoch 47/100\n",
      "\n",
      "Epoch 47: val_acc did not improve from 0.82787\n",
      "195/195 - 1s - loss: 0.4282 - acc: 0.7925 - precision_3: 0.7243 - recall_3: 0.7212 - val_loss: 0.5232 - val_acc: 0.7219 - val_precision_3: 1.0000 - val_recall_3: 0.7219 - 609ms/epoch - 3ms/step\n",
      "Epoch 48/100\n",
      "\n",
      "Epoch 48: val_acc did not improve from 0.82787\n",
      "195/195 - 1s - loss: 0.4252 - acc: 0.7938 - precision_3: 0.7300 - recall_3: 0.7143 - val_loss: 0.5489 - val_acc: 0.7001 - val_precision_3: 1.0000 - val_recall_3: 0.7001 - 649ms/epoch - 3ms/step\n",
      "Epoch 49/100\n",
      "\n",
      "Epoch 49: val_acc did not improve from 0.82787\n",
      "195/195 - 1s - loss: 0.4266 - acc: 0.7917 - precision_3: 0.7266 - recall_3: 0.7126 - val_loss: 0.6006 - val_acc: 0.7020 - val_precision_3: 1.0000 - val_recall_3: 0.7020 - 713ms/epoch - 4ms/step\n",
      "Epoch 50/100\n",
      "\n",
      "Epoch 50: val_acc did not improve from 0.82787\n",
      "195/195 - 1s - loss: 0.4258 - acc: 0.7938 - precision_3: 0.7272 - recall_3: 0.7203 - val_loss: 0.5757 - val_acc: 0.7001 - val_precision_3: 1.0000 - val_recall_3: 0.7001 - 697ms/epoch - 4ms/step\n",
      "Epoch 51/100\n",
      "\n",
      "Epoch 51: val_acc did not improve from 0.82787\n",
      "195/195 - 1s - loss: 0.4266 - acc: 0.7917 - precision_3: 0.7301 - recall_3: 0.7054 - val_loss: 0.4825 - val_acc: 0.7739 - val_precision_3: 1.0000 - val_recall_3: 0.7739 - 728ms/epoch - 4ms/step\n",
      "Epoch 52/100\n",
      "\n",
      "Epoch 52: val_acc did not improve from 0.82787\n",
      "195/195 - 1s - loss: 0.4268 - acc: 0.7911 - precision_3: 0.7232 - recall_3: 0.7173 - val_loss: 0.5668 - val_acc: 0.6583 - val_precision_3: 1.0000 - val_recall_3: 0.6583 - 658ms/epoch - 3ms/step\n",
      "Epoch 53/100\n",
      "\n",
      "Epoch 53: val_acc did not improve from 0.82787\n",
      "195/195 - 1s - loss: 0.4256 - acc: 0.7925 - precision_3: 0.7329 - recall_3: 0.7028 - val_loss: 0.5610 - val_acc: 0.7187 - val_precision_3: 1.0000 - val_recall_3: 0.7187 - 672ms/epoch - 3ms/step\n",
      "Epoch 54/100\n",
      "\n",
      "Epoch 54: val_acc did not improve from 0.82787\n",
      "195/195 - 1s - loss: 0.4249 - acc: 0.7930 - precision_3: 0.7278 - recall_3: 0.7156 - val_loss: 0.6091 - val_acc: 0.6994 - val_precision_3: 1.0000 - val_recall_3: 0.6994 - 629ms/epoch - 3ms/step\n",
      "Epoch 55/100\n",
      "\n",
      "Epoch 55: val_acc did not improve from 0.82787\n",
      "195/195 - 1s - loss: 0.4256 - acc: 0.7925 - precision_3: 0.7245 - recall_3: 0.7208 - val_loss: 0.5883 - val_acc: 0.6827 - val_precision_3: 1.0000 - val_recall_3: 0.6827 - 627ms/epoch - 3ms/step\n",
      "Epoch 56/100\n",
      "\n",
      "Epoch 56: val_acc did not improve from 0.82787\n",
      "195/195 - 1s - loss: 0.4246 - acc: 0.7919 - precision_3: 0.7264 - recall_3: 0.7139 - val_loss: 0.5516 - val_acc: 0.7007 - val_precision_3: 1.0000 - val_recall_3: 0.7007 - 619ms/epoch - 3ms/step\n",
      "Epoch 57/100\n",
      "\n",
      "Epoch 57: val_acc did not improve from 0.82787\n",
      "195/195 - 1s - loss: 0.4252 - acc: 0.7935 - precision_3: 0.7240 - recall_3: 0.7259 - val_loss: 0.5878 - val_acc: 0.7116 - val_precision_3: 1.0000 - val_recall_3: 0.7116 - 617ms/epoch - 3ms/step\n",
      "Epoch 58/100\n",
      "\n",
      "Epoch 58: val_acc did not improve from 0.82787\n",
      "195/195 - 1s - loss: 0.4293 - acc: 0.7916 - precision_3: 0.7236 - recall_3: 0.7186 - val_loss: 0.5751 - val_acc: 0.7084 - val_precision_3: 1.0000 - val_recall_3: 0.7084 - 615ms/epoch - 3ms/step\n",
      "Epoch 59/100\n",
      "\n",
      "Epoch 59: val_acc did not improve from 0.82787\n",
      "195/195 - 1s - loss: 0.4238 - acc: 0.7922 - precision_3: 0.7266 - recall_3: 0.7148 - val_loss: 0.5514 - val_acc: 0.7033 - val_precision_3: 1.0000 - val_recall_3: 0.7033 - 613ms/epoch - 3ms/step\n",
      "Epoch 60/100\n",
      "\n",
      "Epoch 60: val_acc did not improve from 0.82787\n",
      "195/195 - 1s - loss: 0.4241 - acc: 0.7919 - precision_3: 0.7238 - recall_3: 0.7195 - val_loss: 0.6059 - val_acc: 0.6699 - val_precision_3: 1.0000 - val_recall_3: 0.6699 - 611ms/epoch - 3ms/step\n",
      "Epoch 61/100\n",
      "\n",
      "Epoch 61: val_acc did not improve from 0.82787\n",
      "195/195 - 1s - loss: 0.4237 - acc: 0.7930 - precision_3: 0.7310 - recall_3: 0.7088 - val_loss: 0.5897 - val_acc: 0.6795 - val_precision_3: 1.0000 - val_recall_3: 0.6795 - 625ms/epoch - 3ms/step\n",
      "Epoch 62/100\n",
      "\n",
      "Epoch 62: val_acc did not improve from 0.82787\n",
      "195/195 - 1s - loss: 0.4215 - acc: 0.7960 - precision_3: 0.7314 - recall_3: 0.7208 - val_loss: 0.6509 - val_acc: 0.6307 - val_precision_3: 1.0000 - val_recall_3: 0.6307 - 680ms/epoch - 3ms/step\n",
      "Epoch 63/100\n",
      "\n",
      "Epoch 63: val_acc did not improve from 0.82787\n",
      "195/195 - 1s - loss: 0.4226 - acc: 0.7944 - precision_3: 0.7259 - recall_3: 0.7259 - val_loss: 0.6319 - val_acc: 0.6301 - val_precision_3: 1.0000 - val_recall_3: 0.6301 - 675ms/epoch - 3ms/step\n",
      "Epoch 64/100\n",
      "\n",
      "Epoch 64: val_acc did not improve from 0.82787\n",
      "195/195 - 1s - loss: 0.4254 - acc: 0.7933 - precision_3: 0.7286 - recall_3: 0.7152 - val_loss: 0.6105 - val_acc: 0.6564 - val_precision_3: 1.0000 - val_recall_3: 0.6564 - 646ms/epoch - 3ms/step\n"
     ]
    },
    {
     "name": "stdout",
     "output_type": "stream",
     "text": [
      "Epoch 65/100\n",
      "\n",
      "Epoch 65: val_acc did not improve from 0.82787\n",
      "195/195 - 1s - loss: 0.4230 - acc: 0.7954 - precision_3: 0.7268 - recall_3: 0.7281 - val_loss: 0.6286 - val_acc: 0.6962 - val_precision_3: 1.0000 - val_recall_3: 0.6962 - 610ms/epoch - 3ms/step\n",
      "Epoch 66/100\n",
      "\n",
      "Epoch 66: val_acc did not improve from 0.82787\n",
      "195/195 - 1s - loss: 0.4209 - acc: 0.7959 - precision_3: 0.7252 - recall_3: 0.7336 - val_loss: 0.5273 - val_acc: 0.7373 - val_precision_3: 1.0000 - val_recall_3: 0.7373 - 606ms/epoch - 3ms/step\n",
      "Epoch 67/100\n",
      "\n",
      "Epoch 67: val_acc did not improve from 0.82787\n",
      "195/195 - 1s - loss: 0.4200 - acc: 0.7980 - precision_3: 0.7245 - recall_3: 0.7443 - val_loss: 0.6422 - val_acc: 0.6660 - val_precision_3: 1.0000 - val_recall_3: 0.6660 - 602ms/epoch - 3ms/step\n",
      "Epoch 68/100\n",
      "\n",
      "Epoch 68: val_acc did not improve from 0.82787\n",
      "195/195 - 1s - loss: 0.4195 - acc: 0.7954 - precision_3: 0.7258 - recall_3: 0.7302 - val_loss: 0.4823 - val_acc: 0.7592 - val_precision_3: 1.0000 - val_recall_3: 0.7592 - 626ms/epoch - 3ms/step\n",
      "Epoch 69/100\n",
      "\n",
      "Epoch 69: val_acc did not improve from 0.82787\n",
      "195/195 - 1s - loss: 0.4194 - acc: 0.7980 - precision_3: 0.7269 - recall_3: 0.7388 - val_loss: 0.6258 - val_acc: 0.6435 - val_precision_3: 1.0000 - val_recall_3: 0.6435 - 696ms/epoch - 4ms/step\n",
      "Epoch 70/100\n",
      "\n",
      "Epoch 70: val_acc did not improve from 0.82787\n",
      "195/195 - 1s - loss: 0.4221 - acc: 0.7927 - precision_3: 0.7223 - recall_3: 0.7263 - val_loss: 0.5554 - val_acc: 0.7322 - val_precision_3: 1.0000 - val_recall_3: 0.7322 - 662ms/epoch - 3ms/step\n",
      "Epoch 71/100\n",
      "\n",
      "Epoch 71: val_acc did not improve from 0.82787\n",
      "195/195 - 1s - loss: 0.4186 - acc: 0.7980 - precision_3: 0.7262 - recall_3: 0.7405 - val_loss: 0.4907 - val_acc: 0.7547 - val_precision_3: 1.0000 - val_recall_3: 0.7547 - 650ms/epoch - 3ms/step\n",
      "Epoch 72/100\n",
      "\n",
      "Epoch 72: val_acc did not improve from 0.82787\n",
      "195/195 - 1s - loss: 0.4166 - acc: 0.7981 - precision_3: 0.7296 - recall_3: 0.7336 - val_loss: 0.5152 - val_acc: 0.7380 - val_precision_3: 1.0000 - val_recall_3: 0.7380 - 648ms/epoch - 3ms/step\n",
      "Epoch 73/100\n",
      "\n",
      "Epoch 73: val_acc did not improve from 0.82787\n",
      "195/195 - 1s - loss: 0.4187 - acc: 0.7972 - precision_3: 0.7235 - recall_3: 0.7430 - val_loss: 0.6521 - val_acc: 0.6654 - val_precision_3: 1.0000 - val_recall_3: 0.6654 - 639ms/epoch - 3ms/step\n",
      "Epoch 74/100\n",
      "\n",
      "Epoch 74: val_acc did not improve from 0.82787\n",
      "195/195 - 1s - loss: 0.4170 - acc: 0.8009 - precision_3: 0.7335 - recall_3: 0.7366 - val_loss: 0.4549 - val_acc: 0.7803 - val_precision_3: 1.0000 - val_recall_3: 0.7803 - 609ms/epoch - 3ms/step\n",
      "Epoch 75/100\n",
      "\n",
      "Epoch 75: val_acc did not improve from 0.82787\n",
      "195/195 - 1s - loss: 0.4183 - acc: 0.7986 - precision_3: 0.7257 - recall_3: 0.7443 - val_loss: 0.5202 - val_acc: 0.7540 - val_precision_3: 1.0000 - val_recall_3: 0.7540 - 616ms/epoch - 3ms/step\n",
      "Epoch 76/100\n",
      "\n",
      "Epoch 76: val_acc did not improve from 0.82787\n",
      "195/195 - 1s - loss: 0.4156 - acc: 0.7985 - precision_3: 0.7258 - recall_3: 0.7435 - val_loss: 0.5696 - val_acc: 0.6988 - val_precision_3: 1.0000 - val_recall_3: 0.6988 - 658ms/epoch - 3ms/step\n",
      "Epoch 77/100\n",
      "\n",
      "Epoch 77: val_acc did not improve from 0.82787\n",
      "195/195 - 1s - loss: 0.4153 - acc: 0.8018 - precision_3: 0.7310 - recall_3: 0.7460 - val_loss: 0.5287 - val_acc: 0.7444 - val_precision_3: 1.0000 - val_recall_3: 0.7444 - 611ms/epoch - 3ms/step\n",
      "Epoch 78/100\n",
      "\n",
      "Epoch 78: val_acc did not improve from 0.82787\n",
      "195/195 - 1s - loss: 0.4156 - acc: 0.8005 - precision_3: 0.7284 - recall_3: 0.7465 - val_loss: 0.5045 - val_acc: 0.7559 - val_precision_3: 1.0000 - val_recall_3: 0.7559 - 616ms/epoch - 3ms/step\n",
      "Epoch 79/100\n",
      "\n",
      "Epoch 79: val_acc did not improve from 0.82787\n",
      "195/195 - 1s - loss: 0.4158 - acc: 0.7983 - precision_3: 0.7272 - recall_3: 0.7396 - val_loss: 0.5202 - val_acc: 0.7540 - val_precision_3: 1.0000 - val_recall_3: 0.7540 - 605ms/epoch - 3ms/step\n",
      "Epoch 80/100\n",
      "\n",
      "Epoch 80: val_acc did not improve from 0.82787\n",
      "195/195 - 1s - loss: 0.4139 - acc: 0.8034 - precision_3: 0.7335 - recall_3: 0.7473 - val_loss: 0.5725 - val_acc: 0.7078 - val_precision_3: 1.0000 - val_recall_3: 0.7078 - 612ms/epoch - 3ms/step\n",
      "Epoch 81/100\n",
      "\n",
      "Epoch 81: val_acc did not improve from 0.82787\n",
      "195/195 - 1s - loss: 0.4121 - acc: 0.8013 - precision_3: 0.7346 - recall_3: 0.7362 - val_loss: 0.4677 - val_acc: 0.7675 - val_precision_3: 1.0000 - val_recall_3: 0.7675 - 614ms/epoch - 3ms/step\n",
      "Epoch 82/100\n",
      "\n",
      "Epoch 82: val_acc did not improve from 0.82787\n",
      "195/195 - 1s - loss: 0.4139 - acc: 0.8031 - precision_3: 0.7333 - recall_3: 0.7465 - val_loss: 0.5376 - val_acc: 0.7328 - val_precision_3: 1.0000 - val_recall_3: 0.7328 - 611ms/epoch - 3ms/step\n",
      "Epoch 83/100\n",
      "\n",
      "Epoch 83: val_acc did not improve from 0.82787\n",
      "195/195 - 1s - loss: 0.4126 - acc: 0.8025 - precision_3: 0.7334 - recall_3: 0.7435 - val_loss: 0.5405 - val_acc: 0.7354 - val_precision_3: 1.0000 - val_recall_3: 0.7354 - 602ms/epoch - 3ms/step\n",
      "Epoch 84/100\n",
      "\n",
      "Epoch 84: val_acc did not improve from 0.82787\n",
      "195/195 - 1s - loss: 0.4124 - acc: 0.8044 - precision_3: 0.7334 - recall_3: 0.7516 - val_loss: 0.5456 - val_acc: 0.7360 - val_precision_3: 1.0000 - val_recall_3: 0.7360 - 610ms/epoch - 3ms/step\n",
      "Epoch 85/100\n",
      "\n",
      "Epoch 85: val_acc did not improve from 0.82787\n",
      "195/195 - 1s - loss: 0.4123 - acc: 0.8042 - precision_3: 0.7356 - recall_3: 0.7460 - val_loss: 0.5133 - val_acc: 0.7495 - val_precision_3: 1.0000 - val_recall_3: 0.7495 - 609ms/epoch - 3ms/step\n",
      "Epoch 86/100\n",
      "\n",
      "Epoch 86: val_acc did not improve from 0.82787\n",
      "195/195 - 1s - loss: 0.4113 - acc: 0.8028 - precision_3: 0.7331 - recall_3: 0.7456 - val_loss: 0.5403 - val_acc: 0.7322 - val_precision_3: 1.0000 - val_recall_3: 0.7322 - 635ms/epoch - 3ms/step\n",
      "Epoch 87/100\n",
      "\n",
      "Epoch 87: val_acc did not improve from 0.82787\n",
      "195/195 - 1s - loss: 0.4097 - acc: 0.8057 - precision_3: 0.7366 - recall_3: 0.7499 - val_loss: 0.5387 - val_acc: 0.7168 - val_precision_3: 1.0000 - val_recall_3: 0.7168 - 615ms/epoch - 3ms/step\n",
      "Epoch 88/100\n",
      "\n",
      "Epoch 88: val_acc did not improve from 0.82787\n",
      "195/195 - 1s - loss: 0.4102 - acc: 0.8044 - precision_3: 0.7362 - recall_3: 0.7456 - val_loss: 0.6572 - val_acc: 0.6962 - val_precision_3: 1.0000 - val_recall_3: 0.6962 - 606ms/epoch - 3ms/step\n",
      "Epoch 89/100\n",
      "\n",
      "Epoch 89: val_acc did not improve from 0.82787\n",
      "195/195 - 1s - loss: 0.4095 - acc: 0.8063 - precision_3: 0.7401 - recall_3: 0.7452 - val_loss: 0.5605 - val_acc: 0.7193 - val_precision_3: 1.0000 - val_recall_3: 0.7193 - 632ms/epoch - 3ms/step\n",
      "Epoch 90/100\n",
      "\n",
      "Epoch 90: val_acc did not improve from 0.82787\n",
      "195/195 - 1s - loss: 0.4096 - acc: 0.8057 - precision_3: 0.7380 - recall_3: 0.7469 - val_loss: 0.5048 - val_acc: 0.7502 - val_precision_3: 1.0000 - val_recall_3: 0.7502 - 629ms/epoch - 3ms/step\n",
      "Epoch 91/100\n",
      "\n",
      "Epoch 91: val_acc did not improve from 0.82787\n",
      "195/195 - 1s - loss: 0.4067 - acc: 0.8062 - precision_3: 0.7380 - recall_3: 0.7490 - val_loss: 0.5951 - val_acc: 0.6866 - val_precision_3: 1.0000 - val_recall_3: 0.6866 - 671ms/epoch - 3ms/step\n",
      "Epoch 92/100\n",
      "\n",
      "Epoch 92: val_acc did not improve from 0.82787\n",
      "195/195 - 1s - loss: 0.4094 - acc: 0.8058 - precision_3: 0.7378 - recall_3: 0.7482 - val_loss: 0.5655 - val_acc: 0.7116 - val_precision_3: 1.0000 - val_recall_3: 0.7116 - 652ms/epoch - 3ms/step\n",
      "Epoch 93/100\n",
      "\n",
      "Epoch 93: val_acc did not improve from 0.82787\n",
      "195/195 - 1s - loss: 0.4051 - acc: 0.8075 - precision_3: 0.7423 - recall_3: 0.7452 - val_loss: 0.4628 - val_acc: 0.7508 - val_precision_3: 1.0000 - val_recall_3: 0.7508 - 649ms/epoch - 3ms/step\n",
      "Epoch 94/100\n",
      "\n",
      "Epoch 94: val_acc did not improve from 0.82787\n",
      "195/195 - 1s - loss: 0.4072 - acc: 0.8052 - precision_3: 0.7424 - recall_3: 0.7358 - val_loss: 0.5242 - val_acc: 0.7380 - val_precision_3: 1.0000 - val_recall_3: 0.7380 - 667ms/epoch - 3ms/step\n",
      "Epoch 95/100\n",
      "\n",
      "Epoch 95: val_acc did not improve from 0.82787\n",
      "195/195 - 1s - loss: 0.4059 - acc: 0.8073 - precision_3: 0.7439 - recall_3: 0.7413 - val_loss: 0.5497 - val_acc: 0.7136 - val_precision_3: 1.0000 - val_recall_3: 0.7136 - 657ms/epoch - 3ms/step\n",
      "Epoch 96/100\n",
      "\n",
      "Epoch 96: val_acc did not improve from 0.82787\n",
      "195/195 - 1s - loss: 0.4063 - acc: 0.8036 - precision_3: 0.7384 - recall_3: 0.7375 - val_loss: 0.5706 - val_acc: 0.7129 - val_precision_3: 1.0000 - val_recall_3: 0.7129 - 611ms/epoch - 3ms/step\n",
      "Epoch 97/100\n",
      "\n",
      "Epoch 97: val_acc did not improve from 0.82787\n"
     ]
    },
    {
     "name": "stdout",
     "output_type": "stream",
     "text": [
      "195/195 - 1s - loss: 0.4049 - acc: 0.8066 - precision_3: 0.7430 - recall_3: 0.7405 - val_loss: 0.5247 - val_acc: 0.7052 - val_precision_3: 1.0000 - val_recall_3: 0.7052 - 615ms/epoch - 3ms/step\n",
      "Epoch 98/100\n",
      "\n",
      "Epoch 98: val_acc did not improve from 0.82787\n",
      "195/195 - 1s - loss: 0.4044 - acc: 0.8091 - precision_3: 0.7498 - recall_3: 0.7366 - val_loss: 0.5314 - val_acc: 0.7283 - val_precision_3: 1.0000 - val_recall_3: 0.7283 - 631ms/epoch - 3ms/step\n",
      "Epoch 99/100\n",
      "\n",
      "Epoch 99: val_acc did not improve from 0.82787\n",
      "195/195 - 1s - loss: 0.4047 - acc: 0.8086 - precision_3: 0.7460 - recall_3: 0.7422 - val_loss: 0.5320 - val_acc: 0.7155 - val_precision_3: 1.0000 - val_recall_3: 0.7155 - 634ms/epoch - 3ms/step\n",
      "Epoch 100/100\n",
      "\n",
      "Epoch 100: val_acc did not improve from 0.82787\n",
      "195/195 - 1s - loss: 0.4029 - acc: 0.8058 - precision_3: 0.7448 - recall_3: 0.7336 - val_loss: 0.5566 - val_acc: 0.7058 - val_precision_3: 1.0000 - val_recall_3: 0.7058 - 622ms/epoch - 3ms/step\n"
     ]
    }
   ],
   "source": [
    "# train model for mean accuracy (3 round)\n",
    "\n",
    "i_round, accuracy_keras = [],[]\n",
    "\n",
    "for i in range(1,4):\n",
    "    print(f'##################################################### Round{i} #########################################################\\n')\n",
    "    history = model.fit(x_train_smote, y_train_smote, batch_size= 32, epochs = 500,\n",
    "                        verbose = 2, validation_split= 0.2, callbacks=[model_check_point_callback])\n",
    "\n",
    "    y_pred = model.predict(x_test)\n",
    "    y_pred = np.round(y_pred)\n",
    "    y_pred = np.nan_to_num(y_pred)\n",
    "\n",
    "    i_round.append(i)\n",
    "    accuracy_keras.append(accuracy_score(y_pred,y_test))\n",
    "\n",
    "    print(f'################################################## End Round{i} #######################################################\\n\\n\\n\\n')\n",
    "print(f'finish!!!!!!')"
   ]
  },
  {
   "cell_type": "code",
   "execution_count": null,
   "metadata": {},
   "outputs": [],
   "source": [
    "df_accuracy_keras = pd.DataFrame()\n",
    "df_accuracy_keras['i_round'] = i_round\n",
    "df_accuracy_keras['accuracy_keras'] = accuracy_keras\n",
    "describe = df_accuracy_keras.describe()\n",
    "mean = describe.loc['mean','accuracy_keras']\n",
    "std = describe.loc['std','accuracy_keras']\n",
    "\n",
    "print(mean)\n",
    "print(std)\n",
    "print(f'mean+sd:{mean+std}\\nmean-sd:{mean-std}')"
   ]
  },
  {
   "cell_type": "code",
   "execution_count": null,
   "metadata": {},
   "outputs": [],
   "source": [
    "df_accuracy_keras"
   ]
  },
  {
   "cell_type": "markdown",
   "metadata": {},
   "source": [
    "## <font color=\"MidnightBlue\">12.5 Summarize history for accuracy and loss<a id=\"12-4\"></a>"
   ]
  },
  {
   "cell_type": "code",
   "execution_count": null,
   "metadata": {},
   "outputs": [
    {
     "data": {
      "image/png": "[encoded data removed]",
      "text/plain": [
       "<Figure size 1080x360 with 1 Axes>"
      ]
     },
     "metadata": {
      "needs_background": "light"
     },
     "output_type": "display_data"
    },
    {
     "data": {
      "image/png": "[encoded data removed]",
      "text/plain": [
       "<Figure size 1080x360 with 1 Axes>"
      ]
     },
     "metadata": {
      "needs_background": "light"
     },
     "output_type": "display_data"
    }
   ],
   "source": [
    "# Summarize history for accuracy\n",
    "plt.figure(figsize=(15,5))\n",
    "plt.plot(history.history['acc'])\n",
    "plt.plot(history.history['val_acc'])\n",
    "plt.title('Train accuracy')\n",
    "plt.ylabel('accuracy')\n",
    "plt.xlabel('epoch')\n",
    "plt.legend(['train', 'val'], loc='upper left')\n",
    "plt.grid()\n",
    "plt.show()\n",
    "\n",
    "# Summarize history for loss\n",
    "plt.figure(figsize=(15,5))\n",
    "plt.plot(history.history['loss'])\n",
    "plt.plot(history.history['val_loss'])\n",
    "plt.title('Train loss')\n",
    "plt.ylabel('loss')\n",
    "plt.xlabel('epoch')\n",
    "plt.legend(['train', 'val'], loc='upper right')\n",
    "plt.grid()\n",
    "plt.show()"
   ]
  },
  {
   "cell_type": "markdown",
   "metadata": {},
   "source": [
    "## <font color=\"MidnightBlue\">12.6 Evaluate Model<a id=\"12-5\"></a>"
   ]
  },
  {
   "cell_type": "code",
   "execution_count": null,
   "metadata": {},
   "outputs": [
    {
     "name": "stdout",
     "output_type": "stream",
     "text": [
      "32/32 [==============================] - 0s 2ms/step\n",
      "              precision    recall  f1-score   support\n",
      "\n",
      "           0     0.9720    0.8595    0.9123       968\n",
      "           1     0.1807    0.5556    0.2727        54\n",
      "\n",
      "    accuracy                         0.8434      1022\n",
      "   macro avg     0.5763    0.7075    0.5925      1022\n",
      "weighted avg     0.9302    0.8434    0.8785      1022\n",
      "\n"
     ]
    }
   ],
   "source": [
    "#model.load_weights('/content/SaveWeight/bestmodel_epoch51_valloss0.4889_acc 0.7797.hdf5')\n",
    "\n",
    "y_pred = model.predict(x_test)\n",
    "y_pred = np.round(y_pred)\n",
    "y_pred = np.nan_to_num(y_pred)\n",
    "\n",
    "accuracy_keras = accuracy_score(y_pred,y_test)\n",
    "\n",
    "print(classification_report(y_test, y_pred, target_names=['0','1'], digits=4))"
   ]
  },
  {
   "cell_type": "markdown",
   "metadata": {
    "id": "1ueNhBoRrKvv"
   },
   "source": [
    "[1] https://www.kaggle.com/code/siddheshera/stroke-eda-smote-9-models-90-accuracy\n",
    "[2] https://www.kaggle.com/code/joshuaswords/predicting-a-stroke-shap-lime-explainer-eli5\n",
    "[3]https://www.kaggle.com/code/bhuvanchennoju/data-storytelling-auc-focus-on-strokes"
   ]
  },
  {
   "cell_type": "markdown",
   "metadata": {},
   "source": [
    "MAYYYYY"
   ]
  },
  {
   "cell_type": "code",
   "execution_count": null,
   "metadata": {},
   "outputs": [],
   "source": [
    "tf.random.set_seed(1)\n",
    "initializer = tf.keras.initializers.GlorotNormal(seed=9999)\n",
    "model = tf.keras.models.Sequential()\n",
    "\n",
    "#learning_rate=0.001\n",
    "#Epoch = 500\n",
    "model.add(tf.keras.Input(shape = x_train_smote.shape[1],))  #input\n",
    "model.add(tf.keras.layers.Flatten())\n",
    "model.add(tf.keras.layers.Dense(1024, activation = \"relu\", name = \"hidden1\", kernel_initializer=initializer))\n",
    "model.add(tf.keras.layers.Dense(512, activation = \"relu\", name = \"hidden2\", kernel_initializer=initializer))\n",
    "model.add(tf.keras.layers.Dense(64, activation = \"relu\", name = \"hidden3\", kernel_initializer=initializer))\n",
    "model.add(tf.keras.layers.Dropout(0.3))\n",
    "\n",
    "\n",
    "#Output layer\n",
    "model.add(tf.keras.layers.Dense(1,activation = \"sigmoid\", name = \"output\"))\n",
    "model.summary()"
   ]
  },
  {
   "cell_type": "markdown",
   "metadata": {},
   "source": [
    "PATTTT"
   ]
  },
  {
   "cell_type": "code",
   "execution_count": null,
   "metadata": {},
   "outputs": [],
   "source": [
    "# tf.random.set_seed(1)\n",
    "initializer = tf.keras.initializers.GlorotNormal() #initial weight ที่แตกต่างกัน 3-5 ?????????????????????\n",
    "model = tf.keras.models.Sequential()\n",
    "\n",
    "model.add(tf.keras.Input(shape = x_train_smote.shape[1],))  #input\n",
    "model.add(tf.keras.layers.Flatten())\n",
    "model.add(tf.keras.layers.Dense(128, activation = \"relu\", name = \"hidden2\", kernel_initializer=initializer))\n",
    "model.add(tf.keras.layers.Dense(32, activation = \"relu\", name = \"hidden3\", kernel_initializer=initializer))\n",
    "# model.add(tf.keras.layers.Dropout(0.3))\n",
    "model.add(tf.keras.layers.Dense(8, activation = \"relu\", name = \"hidden4\", kernel_initializer=initializer))\n",
    "\n",
    "#Output layer\n",
    "model.add(tf.keras.layers.Dense(1,activation = \"relu\", name = \"output\"))\n",
    "model.summary()"
   ]
  }
 ],
 "metadata": {
  "colab": {
   "collapsed_sections": [],
   "provenance": []
  },
  "kernelspec": {
   "display_name": "Python 3.8.13 ('deeplearning')",
   "language": "python",
   "name": "python3"
  },
  "language_info": {
   "codemirror_mode": {
    "name": "ipython",
    "version": 3
   },
   "file_extension": ".py",
   "mimetype": "text/x-python",
   "name": "python",
   "nbconvert_exporter": "python",
   "pygments_lexer": "ipython3",
   "version": "3.8.13"
  },
  "vscode": {
   "interpreter": {
    "hash": "a010f1b64291cfad396e461740ad1287a9f4ff860fba7fb9a6aa8cc7ba70faf4"
   }
  }
 },
 "nbformat": 4,
 "nbformat_minor": 1
}
